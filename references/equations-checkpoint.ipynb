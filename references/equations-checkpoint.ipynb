{
 "cells": [
  {
   "cell_type": "markdown",
   "id": "8f3e0435-adb0-417f-9105-3054e3603dc6",
   "metadata": {},
   "source": [
    "### 1. Spherical harmonics Ylm(x,y,z) and Ylm(x,y) for unit sphere"
   ]
  },
  {
   "cell_type": "code",
   "execution_count": 1,
   "id": "69b864a1-1a64-4db7-9e5b-fa97202dd183",
   "metadata": {
    "tags": []
   },
   "outputs": [],
   "source": [
    "import numpy as np"
   ]
  },
  {
   "cell_type": "code",
   "execution_count": 2,
   "id": "00e77d64-83da-4493-ac00-370700d40530",
   "metadata": {
    "tags": []
   },
   "outputs": [],
   "source": [
    "import sympy"
   ]
  },
  {
   "cell_type": "code",
   "execution_count": 3,
   "id": "3d2181cd-dbc5-498a-b985-b0f591b22f5f",
   "metadata": {
    "tags": []
   },
   "outputs": [],
   "source": [
    "from IPython.display import display, Math"
   ]
  },
  {
   "cell_type": "code",
   "execution_count": 4,
   "id": "0ff10787-3094-408b-8255-8ffb8bc2b7b7",
   "metadata": {},
   "outputs": [],
   "source": [
    "from sympy import *"
   ]
  },
  {
   "cell_type": "code",
   "execution_count": 6,
   "id": "a9895f8d-0ba9-4f79-89c8-69b623c1f793",
   "metadata": {
    "tags": []
   },
   "outputs": [],
   "source": [
    "from sympy.functions.special.tensor_functions import KroneckerDelta"
   ]
  },
  {
   "cell_type": "code",
   "execution_count": 7,
   "id": "96143f32-559f-4f44-b13a-7befdf627171",
   "metadata": {
    "tags": []
   },
   "outputs": [
    {
     "name": "stdout",
     "output_type": "stream",
     "text": [
      "Using sympy version 1.11.1\n"
     ]
    }
   ],
   "source": [
    "# I am using the dev version of sympy\n",
    "print(\"Using sympy version\", sympy.__version__)"
   ]
  },
  {
   "cell_type": "code",
   "execution_count": 8,
   "id": "f9cb6fe0-8f55-465d-90fa-b3349bce612e",
   "metadata": {
    "tags": []
   },
   "outputs": [],
   "source": [
    "# Define our symbols\n",
    "x, y, z, mu, nu, l, m, j, k, p, q = symbols('x y z mu nu l m j k p q')"
   ]
  },
  {
   "cell_type": "markdown",
   "id": "ac2e6ac6-7f84-4303-917b-9cba2db90dd5",
   "metadata": {},
   "source": [
    "#### Equation (44)"
   ]
  },
  {
   "cell_type": "code",
   "execution_count": 9,
   "id": "540af397-458b-4440-b0f4-e352d915c42b",
   "metadata": {
    "tags": []
   },
   "outputs": [
    {
     "data": {
      "text/latex": [
       "$\\displaystyle \\frac{\\sqrt{\\frac{\\left(2 - \\delta_{0 m}\\right) \\left(2 l + 1\\right) \\left(l - m\\right)!}{\\left(l + m\\right)!}}}{2 \\sqrt{\\pi}}$"
      ],
      "text/plain": [
       "sqrt((2 - KroneckerDelta(0, m))*(2*l + 1)*factorial(l - m)/factorial(l + m))/(2*sqrt(pi))"
      ]
     },
     "execution_count": 9,
     "metadata": {},
     "output_type": "execute_result"
    }
   ],
   "source": [
    "def A(l, m):\n",
    "    \"\"\"A spherical harmonic normalization constant.\"\"\"\n",
    "    return sqrt((2 - KroneckerDelta(m, 0)) * (2 * l + 1) * factorial(l - m) / (4 * pi * factorial(l + m)))\n",
    "\n",
    "# Print it\n",
    "A(l, m)"
   ]
  },
  {
   "cell_type": "markdown",
   "id": "bbe731d5-dc97-4ba2-b667-3a390ab0d11e",
   "metadata": {},
   "source": [
    "#### Equation (47)"
   ]
  },
  {
   "cell_type": "code",
   "execution_count": 10,
   "id": "f8041141-805d-4c97-9259-0de928b8e3bd",
   "metadata": {
    "tags": []
   },
   "outputs": [
    {
     "data": {
      "text/latex": [
       "$\\displaystyle \\frac{2^{l} m! \\left(\\frac{k}{2} + \\frac{l}{2} + \\frac{m}{2} - \\frac{1}{2}\\right)!}{j! k! \\left(- j + m\\right)! \\left(- k + l - m\\right)! \\left(\\frac{k}{2} - \\frac{l}{2} + \\frac{m}{2} - \\frac{1}{2}\\right)!}$"
      ],
      "text/plain": [
       "2**l*factorial(m)*factorial(k/2 + l/2 + m/2 - 1/2)/(factorial(j)*factorial(k)*factorial(-j + m)*factorial(-k + l - m)*factorial(k/2 - l/2 + m/2 - 1/2))"
      ]
     },
     "execution_count": 10,
     "metadata": {},
     "output_type": "execute_result"
    }
   ],
   "source": [
    "def B(l, m, j, k):\n",
    "    \"\"\"Another spherical harmonic normalization constant.\"\"\"\n",
    "    # NOTE: The factorial of a negative integer is +/- infinity. This can happen in the denominator\n",
    "    # of the expression for `B`, so in that case `B = 0` exactly. Let's override the error `sympy`\n",
    "    # throws because the value is undetermined and set the value of `B` to zero directly in this case.\n",
    "    try:\n",
    "        ratio = factorial((l + m + k - 1) / 2) / factorial((-l + m + k - 1) / 2)\n",
    "    except ValueError:\n",
    "        ratio = 0\n",
    "    return 2 ** l * factorial(m) / (factorial(j) * factorial(k) * factorial(m - j) * factorial(l - m - k)) * ratio\n",
    "\n",
    "# Print it\n",
    "B(l, m, j, k)"
   ]
  },
  {
   "cell_type": "markdown",
   "id": "db974372-74c3-4d96-b734-af67e4931d14",
   "metadata": {},
   "source": [
    "#### Equation (46)"
   ]
  },
  {
   "cell_type": "code",
   "execution_count": 11,
   "id": "de6b2b63-cfbe-47a6-bb2f-a2fb3b7729d3",
   "metadata": {
    "tags": []
   },
   "outputs": [],
   "source": [
    "def Yxyz(l, m, x, y, z):\n",
    "    \"\"\"Return the spherical harmonic of degree `l` and order `m` as a function of `x`, `y`, and `z`.\"\"\"\n",
    "    res = 0\n",
    "    if (m >= 0):\n",
    "        for j in range(0, m + 1, 2):\n",
    "            for k in range(0, l - m + 1):\n",
    "                res += (-1) ** (j // 2) * A(l, m) * B(l, m, j, k) * x ** (m - j) * y ** j * z ** k\n",
    "    else:\n",
    "        for j in range(1, abs(m) + 1, 2):\n",
    "            for k in range(0, l - abs(m) + 1):\n",
    "                res += (-1) ** ((j - 1) // 2) * A(l, abs(m)) * B(l, abs(m), j, k) * x ** (abs(m) - j) * y ** j * z ** k\n",
    "    return res"
   ]
  },
  {
   "cell_type": "code",
   "execution_count": 12,
   "id": "6180d1cd-4d81-4f7b-aa01-fa229ce54a17",
   "metadata": {
    "tags": []
   },
   "outputs": [
    {
     "data": {
      "text/plain": [
       "[0.5/sqrt(pi)]"
      ]
     },
     "metadata": {},
     "output_type": "display_data"
    },
    {
     "data": {
      "text/plain": [
       "[0.5*sqrt(3)*y/sqrt(pi), 0.5*sqrt(3)*z/sqrt(pi), 0.5*sqrt(3)*x/sqrt(pi)]"
      ]
     },
     "metadata": {},
     "output_type": "display_data"
    },
    {
     "data": {
      "text/plain": [
       "[0.5*sqrt(15)*x*y/sqrt(pi),\n",
       " 0.5*sqrt(15)*y*z/sqrt(pi),\n",
       " 0.75*sqrt(5)*z**2/sqrt(pi) - 0.25*sqrt(5)/sqrt(pi),\n",
       " 0.5*sqrt(15)*x*z/sqrt(pi),\n",
       " 0.25*sqrt(15)*x**2/sqrt(pi) - 0.25*sqrt(15)*y**2/sqrt(pi)]"
      ]
     },
     "metadata": {},
     "output_type": "display_data"
    },
    {
     "data": {
      "text/plain": [
       "[0.375*sqrt(70)*x**2*y/sqrt(pi) - 0.125*sqrt(70)*y**3/sqrt(pi),\n",
       " 0.5*sqrt(105)*x*y*z/sqrt(pi),\n",
       " 0.625*sqrt(42)*y*z**2/sqrt(pi) - 0.125*sqrt(42)*y/sqrt(pi),\n",
       " 1.25*sqrt(7)*z**3/sqrt(pi) - 0.75*sqrt(7)*z/sqrt(pi),\n",
       " 0.625*sqrt(42)*x*z**2/sqrt(pi) - 0.125*sqrt(42)*x/sqrt(pi),\n",
       " 0.25*sqrt(105)*x**2*z/sqrt(pi) - 0.25*sqrt(105)*y**2*z/sqrt(pi),\n",
       " 0.125*sqrt(70)*x**3/sqrt(pi) - 0.375*sqrt(70)*x*y**2/sqrt(pi)]"
      ]
     },
     "metadata": {},
     "output_type": "display_data"
    }
   ],
   "source": [
    "lmax = 3\n",
    "for l in range(lmax + 1):\n",
    "    display([Yxyz(l, m, x, y, z) for m in range(-l, l + 1)],)"
   ]
  },
  {
   "cell_type": "markdown",
   "id": "7fa1584a-1743-48b4-a826-d51cccf6657e",
   "metadata": {},
   "source": [
    "#### Equation (49)"
   ]
  },
  {
   "cell_type": "code",
   "execution_count": 13,
   "id": "e820c3fe-853b-4c2f-b67b-a8f3e0c1ada3",
   "metadata": {
    "tags": []
   },
   "outputs": [
    {
     "data": {
      "text/latex": [
       "$\\displaystyle \\frac{\\left(\\frac{k}{2}\\right)!}{\\left(\\frac{q}{2}\\right)! \\left(\\frac{k}{2} - \\frac{p}{2}\\right)! \\left(\\frac{p}{2} - \\frac{q}{2}\\right)!}$"
      ],
      "text/plain": [
       "factorial(k/2)/(factorial(q/2)*factorial(k/2 - p/2)*factorial(p/2 - q/2))"
      ]
     },
     "execution_count": 13,
     "metadata": {},
     "output_type": "execute_result"
    }
   ],
   "source": [
    "def C(p, q, k):\n",
    "    \"\"\"Return the binomial theorem coefficient `C`.\"\"\"\n",
    "    return factorial(k / 2) / (factorial(q / 2) * factorial((k - p) / 2) * factorial((p - q) / 2))\n",
    "\n",
    "# Print it\n",
    "C(p, q, k)"
   ]
  },
  {
   "cell_type": "markdown",
   "id": "02d67ead-2cd4-4a62-a609-a536f763b8cd",
   "metadata": {},
   "source": [
    "#### Equation (50)"
   ]
  },
  {
   "cell_type": "code",
   "execution_count": 29,
   "id": "0be03df8-9f76-4561-92a0-ff5d4d32a3b0",
   "metadata": {
    "tags": []
   },
   "outputs": [],
   "source": [
    "def Y(l, m, x, y):\n",
    "    \"\"\"Return the spherical harmonic of degree `l` and order `m`.\"\"\"\n",
    "    res = 0\n",
    "    z = sqrt(1 - x ** 2 - y ** 2)\n",
    "    if (m >= 0):\n",
    "        for j in range(0, m + 1, 2):\n",
    "            for k in range(0, l - m + 1, 2):\n",
    "                for p in range(0, k + 1, 2):\n",
    "                    for q in range(0, p + 1, 2):\n",
    "                        res += (-1) ** ((j + p) // 2) * A(l, m) * B(l, m, j, k) * C(p, q, k) * x ** (m - j + p - q) * y ** (j + q)\n",
    "            for k in range(1, l - m + 1, 2):\n",
    "                for p in range(0, k, 2):\n",
    "                    for q in range(0, p + 1, 2):\n",
    "                        res += (-1) ** ((j + p) // 2) * A(l, m) * B(l, m, j, k) * C(p, q, k - 1) * x ** (m - j + p - q) * y ** (j + q) * z\n",
    "    else:\n",
    "        for j in range(1, abs(m) + 1, 2):\n",
    "            for k in range(0, l - abs(m) + 1, 2):\n",
    "                for p in range(0, k + 1, 2):\n",
    "                    for q in range(0, p + 1, 2):\n",
    "                        res += (-1) ** ((j + p - 1) // 2) * A(l, abs(m)) * B(l, abs(m), j, k) * C(p, q, k) * x ** (abs(m) - j + p - q) * y ** (j + q)\n",
    "            for k in range(1, l - abs(m) + 1, 2):\n",
    "                for p in range(0, k, 2):\n",
    "                    for q in range(0, p + 1, 2):\n",
    "                        res += (-1) ** ((j + p - 1) // 2) * A(l, abs(m)) * B(l, abs(m), j, k) * C(p, q, k - 1) * x ** (abs(m) - j + p - q) * y ** (j + q) * z\n",
    "\n",
    "    return res"
   ]
  },
  {
   "cell_type": "code",
   "execution_count": 31,
   "id": "43e33383-5558-49da-9634-20cdf567a160",
   "metadata": {
    "tags": []
   },
   "outputs": [
    {
     "data": {
      "text/plain": [
       "[0]"
      ]
     },
     "metadata": {},
     "output_type": "display_data"
    },
    {
     "data": {
      "text/plain": [
       "[0, 0, 0]"
      ]
     },
     "metadata": {},
     "output_type": "display_data"
    },
    {
     "data": {
      "text/plain": [
       "[0, 0, 0, 0, 0]"
      ]
     },
     "metadata": {},
     "output_type": "display_data"
    },
    {
     "data": {
      "text/plain": [
       "[0, 0, 0, 0, 0, 0, 0]"
      ]
     },
     "metadata": {},
     "output_type": "display_data"
    }
   ],
   "source": [
    "lmax = 3\n",
    "z = sqrt(1 - x ** 2 - y ** 2)\n",
    "for l in range(lmax + 1):\n",
    "    display([simplify(Yxyz(l, m, x, y, z) - Y(l, m, x, y)) for m in range(-l, l + 1)])"
   ]
  },
  {
   "cell_type": "code",
   "execution_count": 35,
   "id": "c461b530-c675-4b03-af24-4b06d6247b97",
   "metadata": {
    "tags": []
   },
   "outputs": [
    {
     "data": {
      "text/latex": [
       "$\\displaystyle 9.51187967510963 x^{4} y + 19.0237593502193 x^{2} y^{3} - 12.6825062334795 x^{2} y + 9.51187967510963 y^{5} - 12.6825062334795 y^{3} + 3.62357320956557 y$"
      ],
      "text/plain": [
       "9.51187967510963*x**4*y + 19.0237593502193*x**2*y**3 - 12.6825062334795*x**2*y + 9.51187967510963*y**5 - 12.6825062334795*y**3 + 3.62357320956557*y"
      ]
     },
     "execution_count": 35,
     "metadata": {},
     "output_type": "execute_result"
    }
   ],
   "source": [
    "N(Y(5, -1, x, y))"
   ]
  },
  {
   "cell_type": "markdown",
   "id": "4c3323d0-f3fe-48f0-951a-0980ec64835d",
   "metadata": {},
   "source": [
    "### 2. change of basis to represent surface map vector I(x,y)"
   ]
  },
  {
   "cell_type": "code",
   "execution_count": 42,
   "id": "78d6af75-e47b-4efd-a955-1a6390a68442",
   "metadata": {
    "tags": []
   },
   "outputs": [
    {
     "data": {
      "text/latex": [
       "$\\displaystyle \\frac{0.5}{\\sqrt{\\pi}}$"
      ],
      "text/plain": [
       "0.5/sqrt(pi)"
      ]
     },
     "execution_count": 42,
     "metadata": {},
     "output_type": "execute_result"
    }
   ],
   "source": [
    "Y(0,0,x,y)"
   ]
  },
  {
   "cell_type": "markdown",
   "id": "e1c4bad1-9ec2-4cce-b692-e72cd127100a",
   "metadata": {},
   "source": [
    "#### Equation (7)"
   ]
  },
  {
   "cell_type": "code",
   "execution_count": 36,
   "id": "608c1727-bcb7-427b-b001-eca517bd111e",
   "metadata": {
    "tags": []
   },
   "outputs": [],
   "source": [
    "def ptilde(n):\n",
    "    \"\"\"Return the n^th term in the polynomial basis as a string.\"\"\"\n",
    "    if n == 0:\n",
    "        return \"1\"\n",
    "    l = int(np.floor(np.sqrt(n)))\n",
    "    m = n - l * l - l\n",
    "    mu = l - m\n",
    "    nu = l + m\n",
    "    if (nu % 2 == 0):\n",
    "        i = mu // 2\n",
    "        j = nu // 2\n",
    "        k = 0\n",
    "    else:\n",
    "        i = (mu - 1) // 2\n",
    "        j = (nu - 1) // 2\n",
    "        k = 1\n",
    "    res = \"\"\n",
    "    for base, exp in zip([\"x\", \"y\", \"z\"], [i, j, k]):\n",
    "        if exp == 0:\n",
    "            continue\n",
    "        elif exp == 1:\n",
    "            res += \"{%s}\" % (base)\n",
    "        else:\n",
    "            res += \"{%s}^{%d}\" % (base, exp)\n",
    "    return res"
   ]
  },
  {
   "cell_type": "code",
   "execution_count": 49,
   "id": "d4851071-da6c-4752-8850-7e8562f9c639",
   "metadata": {
    "tags": []
   },
   "outputs": [],
   "source": [
    "def print_ptilde(lmax):\n",
    "    \"\"\"Print all the terms in the polynomial basis up to degree l = lmax.\"\"\"\n",
    "    n = 0\n",
    "    res = \"\"\n",
    "    for l in range(lmax + 1):\n",
    "        # res = \"\"\n",
    "        for m in range(-l, l + 1):\n",
    "            res += \"\\\\ \\\\ \" + ptilde(n)\n",
    "\n",
    "            n += 1\n",
    "    display(Math(res))"
   ]
  },
  {
   "cell_type": "code",
   "execution_count": 50,
   "id": "dc9fef15-5e56-49fc-b426-3ec57cca3703",
   "metadata": {
    "tags": []
   },
   "outputs": [
    {
     "data": {
      "text/latex": [
       "$\\displaystyle \\ \\ 1\\ \\ {x}\\ \\ {z}\\ \\ {y}\\ \\ {x}^{2}\\ \\ {x}{z}\\ \\ {x}{y}\\ \\ {y}{z}\\ \\ {y}^{2}\\ \\ {x}^{3}\\ \\ {x}^{2}{z}\\ \\ {x}^{2}{y}\\ \\ {x}{y}{z}\\ \\ {x}{y}^{2}\\ \\ {y}^{2}{z}\\ \\ {y}^{3}\\ \\ {x}^{4}\\ \\ {x}^{3}{z}\\ \\ {x}^{3}{y}\\ \\ {x}^{2}{y}{z}\\ \\ {x}^{2}{y}^{2}\\ \\ {x}{y}^{2}{z}\\ \\ {x}{y}^{3}\\ \\ {y}^{3}{z}\\ \\ {y}^{4}\\ \\ {x}^{5}\\ \\ {x}^{4}{z}\\ \\ {x}^{4}{y}\\ \\ {x}^{3}{y}{z}\\ \\ {x}^{3}{y}^{2}\\ \\ {x}^{2}{y}^{2}{z}\\ \\ {x}^{2}{y}^{3}\\ \\ {x}{y}^{3}{z}\\ \\ {x}{y}^{4}\\ \\ {y}^{4}{z}\\ \\ {y}^{5}$"
      ],
      "text/plain": [
       "<IPython.core.display.Math object>"
      ]
     },
     "metadata": {},
     "output_type": "display_data"
    }
   ],
   "source": [
    "print_ptilde(5)"
   ]
  },
  {
   "cell_type": "code",
   "execution_count": 59,
   "id": "3556014f-b8fc-4edb-8632-8768b850eb39",
   "metadata": {
    "tags": []
   },
   "outputs": [
    {
     "data": {
      "text/latex": [
       "$\\displaystyle \\frac{0.25 \\sqrt{15} x^{2}}{\\sqrt{\\pi}} - \\frac{0.25 \\sqrt{15} y^{2}}{\\sqrt{\\pi}}$"
      ],
      "text/plain": [
       "0.25*sqrt(15)*x**2/sqrt(pi) - 0.25*sqrt(15)*y**2/sqrt(pi)"
      ]
     },
     "execution_count": 59,
     "metadata": {},
     "output_type": "execute_result"
    }
   ],
   "source": [
    "Y(2,2,x,y)"
   ]
  },
  {
   "cell_type": "code",
   "execution_count": 60,
   "id": "56eb9159-78cd-4d66-9586-31b748d39b0e",
   "metadata": {
    "tags": []
   },
   "outputs": [],
   "source": [
    "x, y, z, mu, nu, l, m, j, k, p, q, n = symbols('x y z mu nu l m j k p q n')"
   ]
  },
  {
   "cell_type": "code",
   "execution_count": 61,
   "id": "18912874-94b9-44cf-b25e-9d7963ae0651",
   "metadata": {
    "tags": []
   },
   "outputs": [],
   "source": [
    "def ptilde(n, x, y):\n",
    "    \"\"\"Return the n^th term in the polynomial basis.\"\"\"\n",
    "    l = floor(sqrt(n))\n",
    "    m = n - l * l - l\n",
    "    mu = l - m\n",
    "    nu = l + m\n",
    "    if (nu % 2 == 0):\n",
    "        i = mu // 2\n",
    "        j = nu // 2\n",
    "        k = 0\n",
    "    else:\n",
    "        i = (mu - 1) // 2\n",
    "        j = (nu - 1) // 2\n",
    "        k = 1\n",
    "    return x ** i * y ** j * sqrt(1 - x ** 2 - y ** 2) ** k"
   ]
  },
  {
   "cell_type": "code",
   "execution_count": 64,
   "id": "399d4e65-581f-42ad-9049-371a9babc910",
   "metadata": {
    "tags": []
   },
   "outputs": [
    {
     "data": {
      "text/latex": [
       "$\\displaystyle x y$"
      ],
      "text/plain": [
       "x*y"
      ]
     },
     "metadata": {},
     "output_type": "display_data"
    }
   ],
   "source": [
    "display(ptilde(6,x,y))"
   ]
  },
  {
   "cell_type": "markdown",
   "id": "9a1994d1-8b30-4dfd-92a2-7e043326241e",
   "metadata": {},
   "source": [
    "#### Equation (51)"
   ]
  },
  {
   "cell_type": "code",
   "execution_count": 129,
   "id": "dfde948f-90da-4a52-8821-b848a89485a4",
   "metadata": {
    "tags": []
   },
   "outputs": [],
   "source": [
    "def Coefficient(expression, term):\n",
    "    \"\"\"Return the coefficient multiplying `term` in `expression`.\"\"\"\n",
    "    # Get the coefficient\n",
    "    coeff = expression.coeff(term)\n",
    "    \n",
    "    coeff_str = str(coeff)\n",
    "    if coeff_str != '0':\n",
    "        print(\"expression\", expression)\n",
    "        print(\"coe term\", term)\n",
    "        print(\"coeff\", coeff)\n",
    "\n",
    "    # Set any non-constants in this coefficient to zero. If the coefficient\n",
    "    # is not a constant, this is not the term we are interested in!\n",
    "    coeff = coeff.subs(sqrt(1 - x ** 2 - y ** 2), 0).subs(x, 0).subs(y, 0)\n",
    "    # print(\"coeff2\", type(coeff))\n",
    "    return coeff"
   ]
  },
  {
   "cell_type": "code",
   "execution_count": 131,
   "id": "ae909737-d725-4ace-b0b3-08f647d7ddff",
   "metadata": {
    "tags": []
   },
   "outputs": [],
   "source": [
    "def p_Y(l, m, lmax):\n",
    "    \"\"\"Return the polynomial basis coefficient representation of the spherical harmonic `Y_{lm}`.\"\"\"\n",
    "    ylm = Y(l, m, x, y)\n",
    "    res = [ylm.subs(sqrt(1 - x ** 2 - y ** 2), 0).subs(x, 0).subs(y, 0)]\n",
    "    print(\"ylm\", ylm, res)\n",
    "    for n in range(1, (lmax + 1) ** 2):\n",
    "        res.append(Coefficient(ylm, ptilde(n, x, y)))\n",
    "        # print(\"ptilde\", ptilde(n,x,y))\n",
    "        # print(\"term\", Coefficient(ylm, ptilde(n, x, y)))\n",
    "    return res"
   ]
  },
  {
   "cell_type": "code",
   "execution_count": 132,
   "id": "a0e8e4f7-33e2-4f9b-881a-3dd97d8eac47",
   "metadata": {
    "tags": []
   },
   "outputs": [
    {
     "name": "stdout",
     "output_type": "stream",
     "text": [
      "ylm 0.5*sqrt(3)*sqrt(-x**2 - y**2 + 1)/sqrt(pi) [0]\n",
      "expression 0.5*sqrt(3)*sqrt(-x**2 - y**2 + 1)/sqrt(pi)\n",
      "coe term sqrt(-x**2 - y**2 + 1)\n",
      "coeff 0.5*sqrt(3)/sqrt(pi)\n"
     ]
    },
    {
     "data": {
      "text/plain": [
       "[0, 0, 0.5*sqrt(3)/sqrt(pi), 0, 0, 0, 0, 0, 0]"
      ]
     },
     "metadata": {},
     "output_type": "display_data"
    }
   ],
   "source": [
    "display(p_Y(1,0,2))"
   ]
  },
  {
   "cell_type": "code",
   "execution_count": 71,
   "id": "33d7c916-5ba3-4ce7-9b32-888a4f314768",
   "metadata": {
    "tags": []
   },
   "outputs": [
    {
     "data": {
      "text/plain": [
       "9"
      ]
     },
     "execution_count": 71,
     "metadata": {},
     "output_type": "execute_result"
    }
   ],
   "source": [
    "len(p_Y(0,0,2))"
   ]
  },
  {
   "cell_type": "markdown",
   "id": "42c4a47e-3436-4828-be14-28a310485c7d",
   "metadata": {},
   "source": [
    "#### Equation (52)"
   ]
  },
  {
   "cell_type": "code",
   "execution_count": 85,
   "id": "089dac0d-c21c-4109-9f6b-3275363ac7d9",
   "metadata": {
    "tags": []
   },
   "outputs": [],
   "source": [
    "def A1(lmax):\n",
    "    \"\"\"Return the change of basis matrix A1. The columns of this matrix are given by `p_Y`.\"\"\"\n",
    "    res = zeros((lmax + 1) ** 2, (lmax + 1) ** 2)\n",
    "    n = 0\n",
    "    for l in range(lmax + 1):\n",
    "        for m in range(-l, l + 1):\n",
    "            res[n] = p_Y(l, m, lmax)\n",
    "            print(p_Y(l,m,lmax))\n",
    "            n += 1\n",
    "    print(n)\n",
    "    return res"
   ]
  },
  {
   "cell_type": "code",
   "execution_count": 82,
   "id": "523f8662-a94e-49b7-af1b-1dab0a890a40",
   "metadata": {
    "tags": []
   },
   "outputs": [],
   "source": [
    "tt = np.zeros((9,9))"
   ]
  },
  {
   "cell_type": "code",
   "execution_count": 84,
   "id": "32674ce8-ec6e-44d4-91e2-1be0239b65fc",
   "metadata": {
    "tags": []
   },
   "outputs": [
    {
     "data": {
      "text/plain": [
       "array([0., 0., 0., 0., 0., 0., 0., 0., 0.])"
      ]
     },
     "execution_count": 84,
     "metadata": {},
     "output_type": "execute_result"
    }
   ],
   "source": [
    "tt[0]"
   ]
  },
  {
   "cell_type": "code",
   "execution_count": 76,
   "id": "376f5754-e08d-4bc1-9c32-61c562fad3d7",
   "metadata": {
    "tags": []
   },
   "outputs": [
    {
     "data": {
      "text/latex": [
       "$\\displaystyle \\frac{0.5}{\\sqrt{\\pi}}$"
      ],
      "text/plain": [
       "0.5/sqrt(pi)"
      ]
     },
     "execution_count": 76,
     "metadata": {},
     "output_type": "execute_result"
    }
   ],
   "source": [
    "A1(2)[0]"
   ]
  },
  {
   "cell_type": "code",
   "execution_count": 86,
   "id": "38eeddfe-dfa5-400a-aa8d-3425340429fd",
   "metadata": {
    "tags": []
   },
   "outputs": [
    {
     "name": "stdout",
     "output_type": "stream",
     "text": [
      "[0.5/sqrt(pi), 0, 0, 0, 0, 0, 0, 0, 0]\n",
      "[0, 0, 0, 0.5*sqrt(3)/sqrt(pi), 0, 0, 0, 0, 0]\n",
      "[0, 0, 0.5*sqrt(3)/sqrt(pi), 0, 0, 0, 0, 0, 0]\n",
      "[0, 0.5*sqrt(3)/sqrt(pi), 0, 0, 0, 0, 0, 0, 0]\n",
      "[0, 0, 0, 0, 0, 0, 0.5*sqrt(15)/sqrt(pi), 0, 0]\n",
      "[0, 0, 0, 0, 0, 0, 0, 0.5*sqrt(15)/sqrt(pi), 0]\n",
      "[0.5*sqrt(5)/sqrt(pi), 0, 0, 0, -0.75*sqrt(5)/sqrt(pi), 0, 0, 0, -0.75*sqrt(5)/sqrt(pi)]\n",
      "[0, 0, 0, 0, 0, 0.5*sqrt(15)/sqrt(pi), 0, 0, 0]\n",
      "[0, 0, 0, 0, 0.25*sqrt(15)/sqrt(pi), 0, 0, 0, -0.25*sqrt(15)/sqrt(pi)]\n",
      "9\n"
     ]
    },
    {
     "data": {
      "text/latex": [
       "$\\displaystyle \\left[\\begin{matrix}\\frac{0.5}{\\sqrt{\\pi}} & 0 & 0 & 0 & 0 & 0 & \\frac{0.5 \\sqrt{5}}{\\sqrt{\\pi}} & 0 & 0\\\\0 & 0 & 0 & \\frac{0.5 \\sqrt{3}}{\\sqrt{\\pi}} & 0 & 0 & 0 & 0 & 0\\\\0 & 0 & \\frac{0.5 \\sqrt{3}}{\\sqrt{\\pi}} & 0 & 0 & 0 & 0 & 0 & 0\\\\0 & \\frac{0.5 \\sqrt{3}}{\\sqrt{\\pi}} & 0 & 0 & 0 & 0 & 0 & 0 & 0\\\\0 & 0 & 0 & 0 & 0 & 0 & - \\frac{0.75 \\sqrt{5}}{\\sqrt{\\pi}} & 0 & \\frac{0.25 \\sqrt{15}}{\\sqrt{\\pi}}\\\\0 & 0 & 0 & 0 & 0 & 0 & 0 & \\frac{0.5 \\sqrt{15}}{\\sqrt{\\pi}} & 0\\\\0 & 0 & 0 & 0 & \\frac{0.5 \\sqrt{15}}{\\sqrt{\\pi}} & 0 & 0 & 0 & 0\\\\0 & 0 & 0 & 0 & 0 & \\frac{0.5 \\sqrt{15}}{\\sqrt{\\pi}} & 0 & 0 & 0\\\\0 & 0 & 0 & 0 & 0 & 0 & - \\frac{0.75 \\sqrt{5}}{\\sqrt{\\pi}} & 0 & - \\frac{0.25 \\sqrt{15}}{\\sqrt{\\pi}}\\end{matrix}\\right]$"
      ],
      "text/plain": [
       "Matrix([\n",
       "[0.5/sqrt(pi),                    0,                    0,                    0,                     0,                     0,   0.5*sqrt(5)/sqrt(pi),                     0,                       0],\n",
       "[           0,                    0,                    0, 0.5*sqrt(3)/sqrt(pi),                     0,                     0,                      0,                     0,                       0],\n",
       "[           0,                    0, 0.5*sqrt(3)/sqrt(pi),                    0,                     0,                     0,                      0,                     0,                       0],\n",
       "[           0, 0.5*sqrt(3)/sqrt(pi),                    0,                    0,                     0,                     0,                      0,                     0,                       0],\n",
       "[           0,                    0,                    0,                    0,                     0,                     0, -0.75*sqrt(5)/sqrt(pi),                     0,  0.25*sqrt(15)/sqrt(pi)],\n",
       "[           0,                    0,                    0,                    0,                     0,                     0,                      0, 0.5*sqrt(15)/sqrt(pi),                       0],\n",
       "[           0,                    0,                    0,                    0, 0.5*sqrt(15)/sqrt(pi),                     0,                      0,                     0,                       0],\n",
       "[           0,                    0,                    0,                    0,                     0, 0.5*sqrt(15)/sqrt(pi),                      0,                     0,                       0],\n",
       "[           0,                    0,                    0,                    0,                     0,                     0, -0.75*sqrt(5)/sqrt(pi),                     0, -0.25*sqrt(15)/sqrt(pi)]])"
      ]
     },
     "execution_count": 86,
     "metadata": {},
     "output_type": "execute_result"
    }
   ],
   "source": [
    "A1(2)"
   ]
  },
  {
   "cell_type": "markdown",
   "id": "103c4071-01e4-4c4d-8b85-709be92d7830",
   "metadata": {},
   "source": [
    "#### Equation (11)"
   ]
  },
  {
   "cell_type": "code",
   "execution_count": 97,
   "id": "9a221977-2461-4a79-9e65-2d5773342223",
   "metadata": {
    "tags": []
   },
   "outputs": [],
   "source": [
    "def gtilde(n):\n",
    "    \"\"\"Return the n^th term in the Green's basis as a string.\"\"\"\n",
    "    if n == 0:\n",
    "        return \"1\"\n",
    "    l = int(np.floor(np.sqrt(n)))\n",
    "    m = n - l * l - l\n",
    "    mu = l - m\n",
    "    nu = l + m\n",
    "    if (nu % 2 == 0):\n",
    "        I = [mu // 2]\n",
    "        J = [nu // 2]\n",
    "        K = [0]\n",
    "        C = [(mu + 2) // 2]\n",
    "    elif (l == 1) and (m == 0):\n",
    "        I = [0]\n",
    "        J = [0]\n",
    "        K = [1]\n",
    "        C = [1]\n",
    "    elif (mu == 1) and (l % 2 == 0):\n",
    "        I = [l - 2]\n",
    "        J = [1]\n",
    "        K = [1]\n",
    "        C = [3]\n",
    "    elif (mu == 1):\n",
    "        I = [l - 3, l - 1, l - 3]\n",
    "        J = [0, 0, 2]\n",
    "        K = [1, 1, 1]\n",
    "        C = [-1, 1, 4]\n",
    "    else:\n",
    "        I = [(mu - 5) // 2, (mu - 5) // 2, (mu - 1) // 2]\n",
    "        J = [(nu - 1) // 2, (nu + 3) // 2, (nu - 1) // 2]\n",
    "        K = [1, 1, 1]\n",
    "        C = [(mu - 3) // 2, -(mu - 3) // 2, -(mu + 3) // 2]\n",
    "\n",
    "    res = []\n",
    "    for i, j, k, c in zip(I, J, K, C):\n",
    "        if c == 0:\n",
    "            continue\n",
    "        elif c == 1:\n",
    "            term = \"\"\n",
    "        elif c == -1:\n",
    "            term = \"-\"\n",
    "        else:\n",
    "            term = \"%d\" % c\n",
    "        for base, exp in zip([\"x\", \"y\", \"z\"], [i, j, k]):\n",
    "            if exp == 0:\n",
    "                continue\n",
    "            elif exp == 1:\n",
    "                term += \"{%s}\" % (base)\n",
    "            else:\n",
    "                term += \"{%s}^{%d}\" % (base, exp)\n",
    "        res.append(term)\n",
    "\n",
    "    res = \" + \".join(res)\n",
    "    res = res.replace(\"+ -\", \"-\")\n",
    "    return res"
   ]
  },
  {
   "cell_type": "code",
   "execution_count": 98,
   "id": "b3d5d196-4200-4b9c-a02e-be75a52a3b6a",
   "metadata": {
    "tags": []
   },
   "outputs": [],
   "source": [
    "def print_gtilde(lmax):\n",
    "    \"\"\"Print all the terms in the Green's basis up to degree l = lmax.\"\"\"\n",
    "    n = 0\n",
    "    for l in range(lmax + 1):\n",
    "        res = \"\"\n",
    "        for m in range(-l, l + 1):\n",
    "            res += \"\\\\ \\\\ \\\\ \\\\ \" + gtilde(n)\n",
    "            n += 1\n",
    "        display(Math(res))"
   ]
  },
  {
   "cell_type": "code",
   "execution_count": 99,
   "id": "11006917-288f-4170-8aa5-aff3c13a806e",
   "metadata": {
    "tags": []
   },
   "outputs": [
    {
     "data": {
      "text/latex": [
       "$\\displaystyle \\ \\ \\ \\ 1$"
      ],
      "text/plain": [
       "<IPython.core.display.Math object>"
      ]
     },
     "metadata": {},
     "output_type": "display_data"
    },
    {
     "data": {
      "text/latex": [
       "$\\displaystyle \\ \\ \\ \\ 2{x}\\ \\ \\ \\ {z}\\ \\ \\ \\ {y}$"
      ],
      "text/plain": [
       "<IPython.core.display.Math object>"
      ]
     },
     "metadata": {},
     "output_type": "display_data"
    },
    {
     "data": {
      "text/latex": [
       "$\\displaystyle \\ \\ \\ \\ 3{x}^{2}\\ \\ \\ \\ -3{x}{z}\\ \\ \\ \\ 2{x}{y}\\ \\ \\ \\ 3{y}{z}\\ \\ \\ \\ {y}^{2}$"
      ],
      "text/plain": [
       "<IPython.core.display.Math object>"
      ]
     },
     "metadata": {},
     "output_type": "display_data"
    },
    {
     "data": {
      "text/latex": [
       "$\\displaystyle \\ \\ \\ \\ 4{x}^{3}\\ \\ \\ \\ {z} -{y}^{2}{z} -4{x}^{2}{z}\\ \\ \\ \\ 3{x}^{2}{y}\\ \\ \\ \\ -3{x}{y}{z}\\ \\ \\ \\ 2{x}{y}^{2}\\ \\ \\ \\ -{z} + {x}^{2}{z} + 4{y}^{2}{z}\\ \\ \\ \\ {y}^{3}$"
      ],
      "text/plain": [
       "<IPython.core.display.Math object>"
      ]
     },
     "metadata": {},
     "output_type": "display_data"
    },
    {
     "data": {
      "text/latex": [
       "$\\displaystyle \\ \\ \\ \\ 5{x}^{4}\\ \\ \\ \\ 2{x}{z} -2{x}{y}^{2}{z} -5{x}^{3}{z}\\ \\ \\ \\ 4{x}^{3}{y}\\ \\ \\ \\ {y}{z} -{y}^{3}{z} -4{x}^{2}{y}{z}\\ \\ \\ \\ 3{x}^{2}{y}^{2}\\ \\ \\ \\ -3{x}{y}^{2}{z}\\ \\ \\ \\ 2{x}{y}^{3}\\ \\ \\ \\ 3{x}^{2}{y}{z}\\ \\ \\ \\ {y}^{4}$"
      ],
      "text/plain": [
       "<IPython.core.display.Math object>"
      ]
     },
     "metadata": {},
     "output_type": "display_data"
    }
   ],
   "source": [
    "print_gtilde(4)"
   ]
  },
  {
   "cell_type": "code",
   "execution_count": 100,
   "id": "74b93615-ae73-4026-8ee8-9104f09ab75e",
   "metadata": {
    "tags": []
   },
   "outputs": [],
   "source": [
    "# Definitions from `bp.ipynb`\n",
    "def gtilde(n, x, y):\n",
    "    \"\"\"Return the n^th term in the Green's basis.\"\"\"\n",
    "    l = floor(sqrt(n))\n",
    "    m = n - l * l - l\n",
    "    mu = l - m\n",
    "    nu = l + m\n",
    "    if (nu % 2 == 0):\n",
    "        I = [mu // 2]\n",
    "        J = [nu // 2]\n",
    "        K = [0]\n",
    "        C = [(mu + 2) // 2]\n",
    "    elif (l == 1) and (m == 0):\n",
    "        I = [0]\n",
    "        J = [0]\n",
    "        K = [1]\n",
    "        C = [1]\n",
    "    elif (mu == 1) and (l % 2 == 0):\n",
    "        I = [l - 2]\n",
    "        J = [1]\n",
    "        K = [1]\n",
    "        C = [3]\n",
    "    elif (mu == 1):\n",
    "        I = [l - 3, l - 1, l - 3]\n",
    "        J = [0, 0, 2]\n",
    "        K = [1, 1, 1]\n",
    "        C = [-1, 1, 4]\n",
    "    else:\n",
    "        I = [(mu - 5) // 2, (mu - 5) // 2, (mu - 1) // 2]\n",
    "        J = [(nu - 1) // 2, (nu + 3) // 2, (nu - 1) // 2]\n",
    "        K = [1, 1, 1]\n",
    "        C = [(mu - 3) // 2, -(mu - 3) // 2, -(mu + 3) // 2]\n",
    "\n",
    "    res = 0\n",
    "    for i, j, k, c in zip(I, J, K, C):\n",
    "        res += c * x ** i * y ** j * sqrt(1 - x ** 2 - y ** 2) ** k\n",
    "    return res"
   ]
  },
  {
   "cell_type": "code",
   "execution_count": 103,
   "id": "46d18672-c6c0-4469-92ca-ebc258b85b3c",
   "metadata": {
    "tags": []
   },
   "outputs": [
    {
     "data": {
      "text/latex": [
       "$\\displaystyle 1$"
      ],
      "text/plain": [
       "1"
      ]
     },
     "metadata": {},
     "output_type": "display_data"
    },
    {
     "data": {
      "text/latex": [
       "$\\displaystyle 2 x$"
      ],
      "text/plain": [
       "2*x"
      ]
     },
     "metadata": {},
     "output_type": "display_data"
    },
    {
     "data": {
      "text/latex": [
       "$\\displaystyle \\sqrt{- x^{2} - y^{2} + 1}$"
      ],
      "text/plain": [
       "sqrt(-x**2 - y**2 + 1)"
      ]
     },
     "metadata": {},
     "output_type": "display_data"
    },
    {
     "data": {
      "text/latex": [
       "$\\displaystyle y$"
      ],
      "text/plain": [
       "y"
      ]
     },
     "metadata": {},
     "output_type": "display_data"
    },
    {
     "data": {
      "text/latex": [
       "$\\displaystyle 3 x^{2}$"
      ],
      "text/plain": [
       "3*x**2"
      ]
     },
     "metadata": {},
     "output_type": "display_data"
    },
    {
     "data": {
      "text/latex": [
       "$\\displaystyle - 3 x \\sqrt{- x^{2} - y^{2} + 1}$"
      ],
      "text/plain": [
       "-3*x*sqrt(-x**2 - y**2 + 1)"
      ]
     },
     "metadata": {},
     "output_type": "display_data"
    },
    {
     "data": {
      "text/latex": [
       "$\\displaystyle 2 x y$"
      ],
      "text/plain": [
       "2*x*y"
      ]
     },
     "metadata": {},
     "output_type": "display_data"
    },
    {
     "data": {
      "text/latex": [
       "$\\displaystyle 3 y \\sqrt{- x^{2} - y^{2} + 1}$"
      ],
      "text/plain": [
       "3*y*sqrt(-x**2 - y**2 + 1)"
      ]
     },
     "metadata": {},
     "output_type": "display_data"
    },
    {
     "data": {
      "text/latex": [
       "$\\displaystyle y^{2}$"
      ],
      "text/plain": [
       "y**2"
      ]
     },
     "metadata": {},
     "output_type": "display_data"
    },
    {
     "data": {
      "text/latex": [
       "$\\displaystyle 4 x^{3}$"
      ],
      "text/plain": [
       "4*x**3"
      ]
     },
     "metadata": {},
     "output_type": "display_data"
    },
    {
     "data": {
      "text/latex": [
       "$\\displaystyle - 4 x^{2} \\sqrt{- x^{2} - y^{2} + 1} - y^{2} \\sqrt{- x^{2} - y^{2} + 1} + \\sqrt{- x^{2} - y^{2} + 1}$"
      ],
      "text/plain": [
       "-4*x**2*sqrt(-x**2 - y**2 + 1) - y**2*sqrt(-x**2 - y**2 + 1) + sqrt(-x**2 - y**2 + 1)"
      ]
     },
     "metadata": {},
     "output_type": "display_data"
    },
    {
     "data": {
      "text/latex": [
       "$\\displaystyle 3 x^{2} y$"
      ],
      "text/plain": [
       "3*x**2*y"
      ]
     },
     "metadata": {},
     "output_type": "display_data"
    }
   ],
   "source": [
    "for i in range(12):\n",
    "    display(gtilde(i,x,y))"
   ]
  },
  {
   "cell_type": "markdown",
   "id": "4deb1c12-e715-4dc5-b679-5c85dffea747",
   "metadata": {},
   "source": [
    "#### Equation (53)"
   ]
  },
  {
   "cell_type": "code",
   "execution_count": 134,
   "id": "a8e71571-0a29-44c7-88c7-4fa4472bd42a",
   "metadata": {
    "tags": []
   },
   "outputs": [],
   "source": [
    "def p_G(n, lmax):\n",
    "    \"\"\"Return the polynomial basis representation of the Green's polynomial `g`.\"\"\"\n",
    "    g = gtilde(n, x, y)\n",
    "    print(\"g\", g)\n",
    "    res = [g.subs(sqrt(1 - x ** 2 - y ** 2), 0).subs(x, 0).subs(y, 0)]\n",
    "    for n in range(1, (lmax + 1) ** 2):\n",
    "        res.append(Coefficient(g, ptilde(n, x, y)))\n",
    "    return res"
   ]
  },
  {
   "cell_type": "code",
   "execution_count": 140,
   "id": "3740d843-4c12-430f-8994-4ce0e9305928",
   "metadata": {
    "tags": []
   },
   "outputs": [],
   "source": [
    "def A2(lmax):\n",
    "    \"\"\"Return the change of basis matrix A2. The columns of the **inverse** of this matrix are given by `p_G`.\"\"\"\n",
    "    res = zeros((lmax + 1) ** 2, (lmax + 1) ** 2)\n",
    "    n = 0\n",
    "    for l in range(lmax + 1):\n",
    "        for m in range(-l, l + 1):\n",
    "            res[n] = p_G(n, lmax)\n",
    "            print(\"pg\", p_G(n, lmax))\n",
    "            n += 1\n",
    "    return res.inv()"
   ]
  },
  {
   "cell_type": "code",
   "execution_count": 141,
   "id": "8644fd78-9cd7-4407-951a-d6b7243ae304",
   "metadata": {
    "tags": []
   },
   "outputs": [
    {
     "name": "stdout",
     "output_type": "stream",
     "text": [
      "g 1\n",
      "g 1\n",
      "pg [1, 0, 0, 0, 0, 0, 0, 0, 0]\n",
      "g 2*x\n",
      "expression 2*x\n",
      "coe term x\n",
      "coeff 2\n",
      "g 2*x\n",
      "expression 2*x\n",
      "coe term x\n",
      "coeff 2\n",
      "pg [0, 2, 0, 0, 0, 0, 0, 0, 0]\n",
      "g sqrt(-x**2 - y**2 + 1)\n",
      "expression sqrt(-x**2 - y**2 + 1)\n",
      "coe term sqrt(-x**2 - y**2 + 1)\n",
      "coeff 1\n",
      "g sqrt(-x**2 - y**2 + 1)\n",
      "expression sqrt(-x**2 - y**2 + 1)\n",
      "coe term sqrt(-x**2 - y**2 + 1)\n",
      "coeff 1\n",
      "pg [0, 0, 1, 0, 0, 0, 0, 0, 0]\n",
      "g y\n",
      "expression y\n",
      "coe term y\n",
      "coeff 1\n",
      "g y\n",
      "expression y\n",
      "coe term y\n",
      "coeff 1\n",
      "pg [0, 0, 0, 1, 0, 0, 0, 0, 0]\n",
      "g 3*x**2\n",
      "expression 3*x**2\n",
      "coe term x**2\n",
      "coeff 3\n",
      "g 3*x**2\n",
      "expression 3*x**2\n",
      "coe term x**2\n",
      "coeff 3\n",
      "pg [0, 0, 0, 0, 3, 0, 0, 0, 0]\n",
      "g -3*x*sqrt(-x**2 - y**2 + 1)\n",
      "expression -3*x*sqrt(-x**2 - y**2 + 1)\n",
      "coe term x\n",
      "coeff -3*sqrt(-x**2 - y**2 + 1)\n",
      "expression -3*x*sqrt(-x**2 - y**2 + 1)\n",
      "coe term sqrt(-x**2 - y**2 + 1)\n",
      "coeff -3*x\n",
      "expression -3*x*sqrt(-x**2 - y**2 + 1)\n",
      "coe term x*sqrt(-x**2 - y**2 + 1)\n",
      "coeff -3\n",
      "g -3*x*sqrt(-x**2 - y**2 + 1)\n",
      "expression -3*x*sqrt(-x**2 - y**2 + 1)\n",
      "coe term x\n",
      "coeff -3*sqrt(-x**2 - y**2 + 1)\n",
      "expression -3*x*sqrt(-x**2 - y**2 + 1)\n",
      "coe term sqrt(-x**2 - y**2 + 1)\n",
      "coeff -3*x\n",
      "expression -3*x*sqrt(-x**2 - y**2 + 1)\n",
      "coe term x*sqrt(-x**2 - y**2 + 1)\n",
      "coeff -3\n",
      "pg [0, 0, 0, 0, 0, -3, 0, 0, 0]\n",
      "g 2*x*y\n",
      "expression 2*x*y\n",
      "coe term x\n",
      "coeff 2*y\n",
      "expression 2*x*y\n",
      "coe term y\n",
      "coeff 2*x\n",
      "expression 2*x*y\n",
      "coe term x*y\n",
      "coeff 2\n",
      "g 2*x*y\n",
      "expression 2*x*y\n",
      "coe term x\n",
      "coeff 2*y\n",
      "expression 2*x*y\n",
      "coe term y\n",
      "coeff 2*x\n",
      "expression 2*x*y\n",
      "coe term x*y\n",
      "coeff 2\n",
      "pg [0, 0, 0, 0, 0, 0, 2, 0, 0]\n",
      "g 3*y*sqrt(-x**2 - y**2 + 1)\n",
      "expression 3*y*sqrt(-x**2 - y**2 + 1)\n",
      "coe term sqrt(-x**2 - y**2 + 1)\n",
      "coeff 3*y\n",
      "expression 3*y*sqrt(-x**2 - y**2 + 1)\n",
      "coe term y\n",
      "coeff 3*sqrt(-x**2 - y**2 + 1)\n",
      "expression 3*y*sqrt(-x**2 - y**2 + 1)\n",
      "coe term y*sqrt(-x**2 - y**2 + 1)\n",
      "coeff 3\n",
      "g 3*y*sqrt(-x**2 - y**2 + 1)\n",
      "expression 3*y*sqrt(-x**2 - y**2 + 1)\n",
      "coe term sqrt(-x**2 - y**2 + 1)\n",
      "coeff 3*y\n",
      "expression 3*y*sqrt(-x**2 - y**2 + 1)\n",
      "coe term y\n",
      "coeff 3*sqrt(-x**2 - y**2 + 1)\n",
      "expression 3*y*sqrt(-x**2 - y**2 + 1)\n",
      "coe term y*sqrt(-x**2 - y**2 + 1)\n",
      "coeff 3\n",
      "pg [0, 0, 0, 0, 0, 0, 0, 3, 0]\n",
      "g y**2\n",
      "expression y**2\n",
      "coe term y**2\n",
      "coeff 1\n",
      "g y**2\n",
      "expression y**2\n",
      "coe term y**2\n",
      "coeff 1\n",
      "pg [0, 0, 0, 0, 0, 0, 0, 0, 1]\n"
     ]
    },
    {
     "data": {
      "text/latex": [
       "$\\displaystyle \\left[\\begin{matrix}1 & 0 & 0 & 0 & 0 & 0 & 0 & 0 & 0\\\\0 & \\frac{1}{2} & 0 & 0 & 0 & 0 & 0 & 0 & 0\\\\0 & 0 & 1 & 0 & 0 & 0 & 0 & 0 & 0\\\\0 & 0 & 0 & 1 & 0 & 0 & 0 & 0 & 0\\\\0 & 0 & 0 & 0 & \\frac{1}{3} & 0 & 0 & 0 & 0\\\\0 & 0 & 0 & 0 & 0 & - \\frac{1}{3} & 0 & 0 & 0\\\\0 & 0 & 0 & 0 & 0 & 0 & \\frac{1}{2} & 0 & 0\\\\0 & 0 & 0 & 0 & 0 & 0 & 0 & \\frac{1}{3} & 0\\\\0 & 0 & 0 & 0 & 0 & 0 & 0 & 0 & 1\\end{matrix}\\right]$"
      ],
      "text/plain": [
       "Matrix([\n",
       "[1,   0, 0, 0,   0,    0,   0,   0, 0],\n",
       "[0, 1/2, 0, 0,   0,    0,   0,   0, 0],\n",
       "[0,   0, 1, 0,   0,    0,   0,   0, 0],\n",
       "[0,   0, 0, 1,   0,    0,   0,   0, 0],\n",
       "[0,   0, 0, 0, 1/3,    0,   0,   0, 0],\n",
       "[0,   0, 0, 0,   0, -1/3,   0,   0, 0],\n",
       "[0,   0, 0, 0,   0,    0, 1/2,   0, 0],\n",
       "[0,   0, 0, 0,   0,    0,   0, 1/3, 0],\n",
       "[0,   0, 0, 0,   0,    0,   0,   0, 1]])"
      ]
     },
     "execution_count": 141,
     "metadata": {},
     "output_type": "execute_result"
    }
   ],
   "source": [
    "A2(2)"
   ]
  },
  {
   "cell_type": "markdown",
   "id": "87635dda-6746-4deb-a4a8-d702eedbe06f",
   "metadata": {},
   "source": [
    "#### Equation (14)"
   ]
  },
  {
   "cell_type": "code",
   "execution_count": 142,
   "id": "2085121b-bb73-424f-bab3-2ea6beff4847",
   "metadata": {
    "tags": []
   },
   "outputs": [],
   "source": [
    "def AFull(lmax):\n",
    "    \"\"\"Return the full change of basis matrix.\"\"\"\n",
    "    return A2(lmax) * A1(lmax)"
   ]
  },
  {
   "cell_type": "code",
   "execution_count": 143,
   "id": "04458e70-778c-479c-83f5-3cd0a8fdbc2f",
   "metadata": {
    "tags": []
   },
   "outputs": [
    {
     "name": "stdout",
     "output_type": "stream",
     "text": [
      "g 1\n",
      "g 1\n",
      "pg [1, 0, 0, 0, 0, 0, 0, 0, 0]\n",
      "g 2*x\n",
      "expression 2*x\n",
      "coe term x\n",
      "coeff 2\n",
      "g 2*x\n",
      "expression 2*x\n",
      "coe term x\n",
      "coeff 2\n",
      "pg [0, 2, 0, 0, 0, 0, 0, 0, 0]\n",
      "g sqrt(-x**2 - y**2 + 1)\n",
      "expression sqrt(-x**2 - y**2 + 1)\n",
      "coe term sqrt(-x**2 - y**2 + 1)\n",
      "coeff 1\n",
      "g sqrt(-x**2 - y**2 + 1)\n",
      "expression sqrt(-x**2 - y**2 + 1)\n",
      "coe term sqrt(-x**2 - y**2 + 1)\n",
      "coeff 1\n",
      "pg [0, 0, 1, 0, 0, 0, 0, 0, 0]\n",
      "g y\n",
      "expression y\n",
      "coe term y\n",
      "coeff 1\n",
      "g y\n",
      "expression y\n",
      "coe term y\n",
      "coeff 1\n",
      "pg [0, 0, 0, 1, 0, 0, 0, 0, 0]\n",
      "g 3*x**2\n",
      "expression 3*x**2\n",
      "coe term x**2\n",
      "coeff 3\n",
      "g 3*x**2\n",
      "expression 3*x**2\n",
      "coe term x**2\n",
      "coeff 3\n",
      "pg [0, 0, 0, 0, 3, 0, 0, 0, 0]\n",
      "g -3*x*sqrt(-x**2 - y**2 + 1)\n",
      "expression -3*x*sqrt(-x**2 - y**2 + 1)\n",
      "coe term x\n",
      "coeff -3*sqrt(-x**2 - y**2 + 1)\n",
      "expression -3*x*sqrt(-x**2 - y**2 + 1)\n",
      "coe term sqrt(-x**2 - y**2 + 1)\n",
      "coeff -3*x\n",
      "expression -3*x*sqrt(-x**2 - y**2 + 1)\n",
      "coe term x*sqrt(-x**2 - y**2 + 1)\n",
      "coeff -3\n",
      "g -3*x*sqrt(-x**2 - y**2 + 1)\n",
      "expression -3*x*sqrt(-x**2 - y**2 + 1)\n",
      "coe term x\n",
      "coeff -3*sqrt(-x**2 - y**2 + 1)\n",
      "expression -3*x*sqrt(-x**2 - y**2 + 1)\n",
      "coe term sqrt(-x**2 - y**2 + 1)\n",
      "coeff -3*x\n",
      "expression -3*x*sqrt(-x**2 - y**2 + 1)\n",
      "coe term x*sqrt(-x**2 - y**2 + 1)\n",
      "coeff -3\n",
      "pg [0, 0, 0, 0, 0, -3, 0, 0, 0]\n",
      "g 2*x*y\n",
      "expression 2*x*y\n",
      "coe term x\n",
      "coeff 2*y\n",
      "expression 2*x*y\n",
      "coe term y\n",
      "coeff 2*x\n",
      "expression 2*x*y\n",
      "coe term x*y\n",
      "coeff 2\n",
      "g 2*x*y\n",
      "expression 2*x*y\n",
      "coe term x\n",
      "coeff 2*y\n",
      "expression 2*x*y\n",
      "coe term y\n",
      "coeff 2*x\n",
      "expression 2*x*y\n",
      "coe term x*y\n",
      "coeff 2\n",
      "pg [0, 0, 0, 0, 0, 0, 2, 0, 0]\n",
      "g 3*y*sqrt(-x**2 - y**2 + 1)\n",
      "expression 3*y*sqrt(-x**2 - y**2 + 1)\n",
      "coe term sqrt(-x**2 - y**2 + 1)\n",
      "coeff 3*y\n",
      "expression 3*y*sqrt(-x**2 - y**2 + 1)\n",
      "coe term y\n",
      "coeff 3*sqrt(-x**2 - y**2 + 1)\n",
      "expression 3*y*sqrt(-x**2 - y**2 + 1)\n",
      "coe term y*sqrt(-x**2 - y**2 + 1)\n",
      "coeff 3\n",
      "g 3*y*sqrt(-x**2 - y**2 + 1)\n",
      "expression 3*y*sqrt(-x**2 - y**2 + 1)\n",
      "coe term sqrt(-x**2 - y**2 + 1)\n",
      "coeff 3*y\n",
      "expression 3*y*sqrt(-x**2 - y**2 + 1)\n",
      "coe term y\n",
      "coeff 3*sqrt(-x**2 - y**2 + 1)\n",
      "expression 3*y*sqrt(-x**2 - y**2 + 1)\n",
      "coe term y*sqrt(-x**2 - y**2 + 1)\n",
      "coeff 3\n",
      "pg [0, 0, 0, 0, 0, 0, 0, 3, 0]\n",
      "g y**2\n",
      "expression y**2\n",
      "coe term y**2\n",
      "coeff 1\n",
      "g y**2\n",
      "expression y**2\n",
      "coe term y**2\n",
      "coeff 1\n",
      "pg [0, 0, 0, 0, 0, 0, 0, 0, 1]\n",
      "ylm 0.5/sqrt(pi) [0.5/sqrt(pi)]\n",
      "ylm 0.5/sqrt(pi) [0.5/sqrt(pi)]\n",
      "[0.5/sqrt(pi), 0, 0, 0, 0, 0, 0, 0, 0]\n",
      "ylm 0.5*sqrt(3)*y/sqrt(pi) [0]\n",
      "expression 0.5*sqrt(3)*y/sqrt(pi)\n",
      "coe term y\n",
      "coeff 0.5*sqrt(3)/sqrt(pi)\n",
      "ylm 0.5*sqrt(3)*y/sqrt(pi) [0]\n",
      "expression 0.5*sqrt(3)*y/sqrt(pi)\n",
      "coe term y\n",
      "coeff 0.5*sqrt(3)/sqrt(pi)\n",
      "[0, 0, 0, 0.5*sqrt(3)/sqrt(pi), 0, 0, 0, 0, 0]\n",
      "ylm 0.5*sqrt(3)*sqrt(-x**2 - y**2 + 1)/sqrt(pi) [0]\n",
      "expression 0.5*sqrt(3)*sqrt(-x**2 - y**2 + 1)/sqrt(pi)\n",
      "coe term sqrt(-x**2 - y**2 + 1)\n",
      "coeff 0.5*sqrt(3)/sqrt(pi)\n",
      "ylm 0.5*sqrt(3)*sqrt(-x**2 - y**2 + 1)/sqrt(pi) [0]\n",
      "expression 0.5*sqrt(3)*sqrt(-x**2 - y**2 + 1)/sqrt(pi)\n",
      "coe term sqrt(-x**2 - y**2 + 1)\n",
      "coeff 0.5*sqrt(3)/sqrt(pi)\n",
      "[0, 0, 0.5*sqrt(3)/sqrt(pi), 0, 0, 0, 0, 0, 0]\n",
      "ylm 0.5*sqrt(3)*x/sqrt(pi) [0]\n",
      "expression 0.5*sqrt(3)*x/sqrt(pi)\n",
      "coe term x\n",
      "coeff 0.5*sqrt(3)/sqrt(pi)\n",
      "ylm 0.5*sqrt(3)*x/sqrt(pi) [0]\n",
      "expression 0.5*sqrt(3)*x/sqrt(pi)\n",
      "coe term x\n",
      "coeff 0.5*sqrt(3)/sqrt(pi)\n",
      "[0, 0.5*sqrt(3)/sqrt(pi), 0, 0, 0, 0, 0, 0, 0]\n",
      "ylm 0.5*sqrt(15)*x*y/sqrt(pi) [0]\n",
      "expression 0.5*sqrt(15)*x*y/sqrt(pi)\n",
      "coe term x\n",
      "coeff 0.5*sqrt(15)*y/sqrt(pi)\n",
      "expression 0.5*sqrt(15)*x*y/sqrt(pi)\n",
      "coe term y\n",
      "coeff 0.5*sqrt(15)*x/sqrt(pi)\n",
      "expression 0.5*sqrt(15)*x*y/sqrt(pi)\n",
      "coe term x*y\n",
      "coeff 0.5*sqrt(15)/sqrt(pi)\n",
      "ylm 0.5*sqrt(15)*x*y/sqrt(pi) [0]\n",
      "expression 0.5*sqrt(15)*x*y/sqrt(pi)\n",
      "coe term x\n",
      "coeff 0.5*sqrt(15)*y/sqrt(pi)\n",
      "expression 0.5*sqrt(15)*x*y/sqrt(pi)\n",
      "coe term y\n",
      "coeff 0.5*sqrt(15)*x/sqrt(pi)\n",
      "expression 0.5*sqrt(15)*x*y/sqrt(pi)\n",
      "coe term x*y\n",
      "coeff 0.5*sqrt(15)/sqrt(pi)\n",
      "[0, 0, 0, 0, 0, 0, 0.5*sqrt(15)/sqrt(pi), 0, 0]\n",
      "ylm 0.5*sqrt(15)*y*sqrt(-x**2 - y**2 + 1)/sqrt(pi) [0]\n",
      "expression 0.5*sqrt(15)*y*sqrt(-x**2 - y**2 + 1)/sqrt(pi)\n",
      "coe term sqrt(-x**2 - y**2 + 1)\n",
      "coeff 0.5*sqrt(15)*y/sqrt(pi)\n",
      "expression 0.5*sqrt(15)*y*sqrt(-x**2 - y**2 + 1)/sqrt(pi)\n",
      "coe term y\n",
      "coeff 0.5*sqrt(15)*sqrt(-x**2 - y**2 + 1)/sqrt(pi)\n",
      "expression 0.5*sqrt(15)*y*sqrt(-x**2 - y**2 + 1)/sqrt(pi)\n",
      "coe term y*sqrt(-x**2 - y**2 + 1)\n",
      "coeff 0.5*sqrt(15)/sqrt(pi)\n",
      "ylm 0.5*sqrt(15)*y*sqrt(-x**2 - y**2 + 1)/sqrt(pi) [0]\n",
      "expression 0.5*sqrt(15)*y*sqrt(-x**2 - y**2 + 1)/sqrt(pi)\n",
      "coe term sqrt(-x**2 - y**2 + 1)\n",
      "coeff 0.5*sqrt(15)*y/sqrt(pi)\n",
      "expression 0.5*sqrt(15)*y*sqrt(-x**2 - y**2 + 1)/sqrt(pi)\n",
      "coe term y\n",
      "coeff 0.5*sqrt(15)*sqrt(-x**2 - y**2 + 1)/sqrt(pi)\n",
      "expression 0.5*sqrt(15)*y*sqrt(-x**2 - y**2 + 1)/sqrt(pi)\n",
      "coe term y*sqrt(-x**2 - y**2 + 1)\n",
      "coeff 0.5*sqrt(15)/sqrt(pi)\n",
      "[0, 0, 0, 0, 0, 0, 0, 0.5*sqrt(15)/sqrt(pi), 0]\n",
      "ylm -0.75*sqrt(5)*x**2/sqrt(pi) - 0.75*sqrt(5)*y**2/sqrt(pi) + 0.5*sqrt(5)/sqrt(pi) [0.5*sqrt(5)/sqrt(pi)]\n",
      "expression -0.75*sqrt(5)*x**2/sqrt(pi) - 0.75*sqrt(5)*y**2/sqrt(pi) + 0.5*sqrt(5)/sqrt(pi)\n",
      "coe term x**2\n",
      "coeff -0.75*sqrt(5)/sqrt(pi)\n",
      "expression -0.75*sqrt(5)*x**2/sqrt(pi) - 0.75*sqrt(5)*y**2/sqrt(pi) + 0.5*sqrt(5)/sqrt(pi)\n",
      "coe term y**2\n",
      "coeff -0.75*sqrt(5)/sqrt(pi)\n",
      "ylm -0.75*sqrt(5)*x**2/sqrt(pi) - 0.75*sqrt(5)*y**2/sqrt(pi) + 0.5*sqrt(5)/sqrt(pi) [0.5*sqrt(5)/sqrt(pi)]\n",
      "expression -0.75*sqrt(5)*x**2/sqrt(pi) - 0.75*sqrt(5)*y**2/sqrt(pi) + 0.5*sqrt(5)/sqrt(pi)\n",
      "coe term x**2\n",
      "coeff -0.75*sqrt(5)/sqrt(pi)\n",
      "expression -0.75*sqrt(5)*x**2/sqrt(pi) - 0.75*sqrt(5)*y**2/sqrt(pi) + 0.5*sqrt(5)/sqrt(pi)\n",
      "coe term y**2\n",
      "coeff -0.75*sqrt(5)/sqrt(pi)\n",
      "[0.5*sqrt(5)/sqrt(pi), 0, 0, 0, -0.75*sqrt(5)/sqrt(pi), 0, 0, 0, -0.75*sqrt(5)/sqrt(pi)]\n",
      "ylm 0.5*sqrt(15)*x*sqrt(-x**2 - y**2 + 1)/sqrt(pi) [0]\n",
      "expression 0.5*sqrt(15)*x*sqrt(-x**2 - y**2 + 1)/sqrt(pi)\n",
      "coe term x\n",
      "coeff 0.5*sqrt(15)*sqrt(-x**2 - y**2 + 1)/sqrt(pi)\n",
      "expression 0.5*sqrt(15)*x*sqrt(-x**2 - y**2 + 1)/sqrt(pi)\n",
      "coe term sqrt(-x**2 - y**2 + 1)\n",
      "coeff 0.5*sqrt(15)*x/sqrt(pi)\n",
      "expression 0.5*sqrt(15)*x*sqrt(-x**2 - y**2 + 1)/sqrt(pi)\n",
      "coe term x*sqrt(-x**2 - y**2 + 1)\n",
      "coeff 0.5*sqrt(15)/sqrt(pi)\n",
      "ylm 0.5*sqrt(15)*x*sqrt(-x**2 - y**2 + 1)/sqrt(pi) [0]\n",
      "expression 0.5*sqrt(15)*x*sqrt(-x**2 - y**2 + 1)/sqrt(pi)\n",
      "coe term x\n",
      "coeff 0.5*sqrt(15)*sqrt(-x**2 - y**2 + 1)/sqrt(pi)\n",
      "expression 0.5*sqrt(15)*x*sqrt(-x**2 - y**2 + 1)/sqrt(pi)\n",
      "coe term sqrt(-x**2 - y**2 + 1)\n",
      "coeff 0.5*sqrt(15)*x/sqrt(pi)\n",
      "expression 0.5*sqrt(15)*x*sqrt(-x**2 - y**2 + 1)/sqrt(pi)\n",
      "coe term x*sqrt(-x**2 - y**2 + 1)\n",
      "coeff 0.5*sqrt(15)/sqrt(pi)\n",
      "[0, 0, 0, 0, 0, 0.5*sqrt(15)/sqrt(pi), 0, 0, 0]\n",
      "ylm 0.25*sqrt(15)*x**2/sqrt(pi) - 0.25*sqrt(15)*y**2/sqrt(pi) [0]\n",
      "expression 0.25*sqrt(15)*x**2/sqrt(pi) - 0.25*sqrt(15)*y**2/sqrt(pi)\n",
      "coe term x**2\n",
      "coeff 0.25*sqrt(15)/sqrt(pi)\n",
      "expression 0.25*sqrt(15)*x**2/sqrt(pi) - 0.25*sqrt(15)*y**2/sqrt(pi)\n",
      "coe term y**2\n",
      "coeff -0.25*sqrt(15)/sqrt(pi)\n",
      "ylm 0.25*sqrt(15)*x**2/sqrt(pi) - 0.25*sqrt(15)*y**2/sqrt(pi) [0]\n",
      "expression 0.25*sqrt(15)*x**2/sqrt(pi) - 0.25*sqrt(15)*y**2/sqrt(pi)\n",
      "coe term x**2\n",
      "coeff 0.25*sqrt(15)/sqrt(pi)\n",
      "expression 0.25*sqrt(15)*x**2/sqrt(pi) - 0.25*sqrt(15)*y**2/sqrt(pi)\n",
      "coe term y**2\n",
      "coeff -0.25*sqrt(15)/sqrt(pi)\n",
      "[0, 0, 0, 0, 0.25*sqrt(15)/sqrt(pi), 0, 0, 0, -0.25*sqrt(15)/sqrt(pi)]\n",
      "9\n"
     ]
    },
    {
     "data": {
      "text/latex": [
       "$\\displaystyle \\left[\\begin{matrix}\\frac{0.5}{\\sqrt{\\pi}} & 0 & 0 & 0 & 0 & 0 & \\frac{0.5 \\sqrt{5}}{\\sqrt{\\pi}} & 0 & 0\\\\0 & 0 & 0 & \\frac{0.25 \\sqrt{3}}{\\sqrt{\\pi}} & 0 & 0 & 0 & 0 & 0\\\\0 & 0 & \\frac{0.5 \\sqrt{3}}{\\sqrt{\\pi}} & 0 & 0 & 0 & 0 & 0 & 0\\\\0 & \\frac{0.5 \\sqrt{3}}{\\sqrt{\\pi}} & 0 & 0 & 0 & 0 & 0 & 0 & 0\\\\0 & 0 & 0 & 0 & 0 & 0 & - \\frac{0.25 \\sqrt{5}}{\\sqrt{\\pi}} & 0 & \\frac{0.0833333333333333 \\sqrt{15}}{\\sqrt{\\pi}}\\\\0 & 0 & 0 & 0 & 0 & 0 & 0 & - \\frac{0.166666666666667 \\sqrt{15}}{\\sqrt{\\pi}} & 0\\\\0 & 0 & 0 & 0 & \\frac{0.25 \\sqrt{15}}{\\sqrt{\\pi}} & 0 & 0 & 0 & 0\\\\0 & 0 & 0 & 0 & 0 & \\frac{0.166666666666667 \\sqrt{15}}{\\sqrt{\\pi}} & 0 & 0 & 0\\\\0 & 0 & 0 & 0 & 0 & 0 & - \\frac{0.75 \\sqrt{5}}{\\sqrt{\\pi}} & 0 & - \\frac{0.25 \\sqrt{15}}{\\sqrt{\\pi}}\\end{matrix}\\right]$"
      ],
      "text/plain": [
       "Matrix([\n",
       "[0.5/sqrt(pi),                    0,                    0,                     0,                      0,                                   0,   0.5*sqrt(5)/sqrt(pi),                                    0,                                    0],\n",
       "[           0,                    0,                    0, 0.25*sqrt(3)/sqrt(pi),                      0,                                   0,                      0,                                    0,                                    0],\n",
       "[           0,                    0, 0.5*sqrt(3)/sqrt(pi),                     0,                      0,                                   0,                      0,                                    0,                                    0],\n",
       "[           0, 0.5*sqrt(3)/sqrt(pi),                    0,                     0,                      0,                                   0,                      0,                                    0,                                    0],\n",
       "[           0,                    0,                    0,                     0,                      0,                                   0, -0.25*sqrt(5)/sqrt(pi),                                    0, 0.0833333333333333*sqrt(15)/sqrt(pi)],\n",
       "[           0,                    0,                    0,                     0,                      0,                                   0,                      0, -0.166666666666667*sqrt(15)/sqrt(pi),                                    0],\n",
       "[           0,                    0,                    0,                     0, 0.25*sqrt(15)/sqrt(pi),                                   0,                      0,                                    0,                                    0],\n",
       "[           0,                    0,                    0,                     0,                      0, 0.166666666666667*sqrt(15)/sqrt(pi),                      0,                                    0,                                    0],\n",
       "[           0,                    0,                    0,                     0,                      0,                                   0, -0.75*sqrt(5)/sqrt(pi),                                    0,              -0.25*sqrt(15)/sqrt(pi)]])"
      ]
     },
     "execution_count": 143,
     "metadata": {},
     "output_type": "execute_result"
    }
   ],
   "source": [
    "AFull(2)"
   ]
  },
  {
   "cell_type": "markdown",
   "id": "aea71839-e91f-445d-8704-06cdf5cb1186",
   "metadata": {},
   "source": [
    "### 3. Rotation of spherical harmonics"
   ]
  },
  {
   "cell_type": "code",
   "execution_count": 144,
   "id": "c58f0a4d-19b4-443e-b274-a7ef09206f31",
   "metadata": {
    "tags": []
   },
   "outputs": [],
   "source": [
    "# Define our symbols\n",
    "l, m, n, alpha, beta, gamma, u1, u2, u3, theta = symbols('l m n alpha beta gamma u1 u2 u3 theta')"
   ]
  },
  {
   "cell_type": "markdown",
   "id": "fd8551f4-c68f-497c-8cdb-1d556709fad8",
   "metadata": {},
   "source": [
    "#### Equation (56)"
   ]
  },
  {
   "cell_type": "code",
   "execution_count": 145,
   "id": "04ad2f7e-9702-4390-9e68-8c0c8078a626",
   "metadata": {
    "tags": []
   },
   "outputs": [],
   "source": [
    "def Dmn(l, m, n, alpha, beta, gamma):\n",
    "    \"\"\"Compute the (m, n) term of the Wigner D matrix.\"\"\"\n",
    "    sumterm = 0\n",
    "    # Expression diverges when beta = 0\n",
    "    if beta == 0:\n",
    "        beta = 1e-16\n",
    "    for k in range(l + m + 1):\n",
    "        sumterm += (-1) ** k * cos(beta / 2) ** (2 * l + m - n - 2 * k) * \\\n",
    "                   sin(beta / 2) ** (-m + n + 2 * k) / \\\n",
    "                   (factorial(k) * factorial(l + m - k) * factorial(l - n - k) * factorial(n - m + k))\n",
    "    return sumterm * exp(-I * (alpha * n + gamma * m)) * (-1) ** (n + m) * \\\n",
    "           sqrt(factorial(l - m) * factorial(l + m) * factorial(l - n) * factorial(l + n))"
   ]
  },
  {
   "cell_type": "code",
   "execution_count": 151,
   "id": "ac438a17-ae13-4dde-a554-32af40122970",
   "metadata": {
    "tags": []
   },
   "outputs": [
    {
     "data": {
      "text/latex": [
       "$\\displaystyle \\left[\\begin{matrix}1.0 e^{- i \\left(- \\alpha - \\gamma\\right)} \\cos^{2}{\\left(\\frac{\\beta}{2} \\right)} & - 1.0 \\sqrt{2} e^{i \\gamma} \\sin{\\left(\\frac{\\beta}{2} \\right)} \\cos{\\left(\\frac{\\beta}{2} \\right)} & e^{- i \\left(\\alpha - \\gamma\\right)} \\sin^{2}{\\left(\\frac{\\beta}{2} \\right)}\\\\1.0 \\sqrt{2} e^{i \\alpha} \\sin{\\left(\\frac{\\beta}{2} \\right)} \\cos{\\left(\\frac{\\beta}{2} \\right)} & - \\sin^{2}{\\left(\\frac{\\beta}{2} \\right)} + \\cos^{2}{\\left(\\frac{\\beta}{2} \\right)} & - \\sqrt{2} e^{- i \\alpha} \\sin{\\left(\\frac{\\beta}{2} \\right)} \\cos{\\left(\\frac{\\beta}{2} \\right)}\\\\e^{- i \\left(- \\alpha + \\gamma\\right)} \\sin^{2}{\\left(\\frac{\\beta}{2} \\right)} & \\sqrt{2} e^{- i \\gamma} \\sin{\\left(\\frac{\\beta}{2} \\right)} \\cos{\\left(\\frac{\\beta}{2} \\right)} & e^{- i \\left(\\alpha + \\gamma\\right)} \\cos^{2}{\\left(\\frac{\\beta}{2} \\right)}\\end{matrix}\\right]$"
      ],
      "text/plain": [
       "Matrix([\n",
       "[     1.0*exp(-I*(-alpha - gamma))*cos(beta/2)**2, -1.0*sqrt(2)*exp(I*gamma)*sin(beta/2)*cos(beta/2),         exp(-I*(alpha - gamma))*sin(beta/2)**2],\n",
       "[1.0*sqrt(2)*exp(I*alpha)*sin(beta/2)*cos(beta/2),                  -sin(beta/2)**2 + cos(beta/2)**2, -sqrt(2)*exp(-I*alpha)*sin(beta/2)*cos(beta/2)],\n",
       "[         exp(-I*(-alpha + gamma))*sin(beta/2)**2,     sqrt(2)*exp(-I*gamma)*sin(beta/2)*cos(beta/2),         exp(-I*(alpha + gamma))*cos(beta/2)**2]])"
      ]
     },
     "execution_count": 151,
     "metadata": {},
     "output_type": "execute_result"
    }
   ],
   "source": [
    "def D(l, alpha, beta, gamma):\n",
    "    \"\"\"Compute the Wigner D matrix.\"\"\"\n",
    "    res = zeros(2 * l + 1, 2 * l + 1)\n",
    "    for m in range(-l, l + 1):\n",
    "        for n in range(-l, l + 1):\n",
    "            res[m + l, n + l] = Dmn(l, m, n, alpha, beta, gamma)\n",
    "    return res\n",
    "\n",
    "# Print it for l = 1\n",
    "D(1, alpha, beta, gamma)"
   ]
  },
  {
   "cell_type": "markdown",
   "id": "5447893f-3595-4e28-bc40-c9db30ee2857",
   "metadata": {},
   "source": [
    "#### Equation (57)"
   ]
  },
  {
   "cell_type": "code",
   "execution_count": 150,
   "id": "6f41e8ca-9a35-4eaa-bb50-8c792b659aad",
   "metadata": {
    "tags": []
   },
   "outputs": [],
   "source": [
    "def Umn(l, m, n):\n",
    "    \"\"\"Compute the (m, n) term of the transformation matrix from complex to real Ylms.\"\"\"\n",
    "    if n < 0:\n",
    "        term1 = I\n",
    "    elif n == 0:\n",
    "        term1 = sqrt(2) / 2\n",
    "    else:\n",
    "        term1 = 1\n",
    "    if (m > 0) and (n < 0) and (n % 2 == 0):\n",
    "        term2 = -1\n",
    "    elif (m > 0) and (n > 0) and (n % 2 != 0):\n",
    "        term2 = -1\n",
    "    else:\n",
    "        term2 = 1\n",
    "    return term1 * term2 * 1 / sqrt(2) * (KroneckerDelta(m, n) + KroneckerDelta(m, -n))"
   ]
  },
  {
   "cell_type": "code",
   "execution_count": 152,
   "id": "2bfd063f-eb06-4f4c-ab11-809e46fca8aa",
   "metadata": {
    "tags": []
   },
   "outputs": [
    {
     "data": {
      "text/latex": [
       "$\\displaystyle \\left[\\begin{matrix}\\frac{\\sqrt{2} i}{2} & 0 & \\frac{\\sqrt{2}}{2}\\\\0 & 1 & 0\\\\\\frac{\\sqrt{2} i}{2} & 0 & - \\frac{\\sqrt{2}}{2}\\end{matrix}\\right]$"
      ],
      "text/plain": [
       "Matrix([\n",
       "[sqrt(2)*I/2, 0,  sqrt(2)/2],\n",
       "[          0, 1,          0],\n",
       "[sqrt(2)*I/2, 0, -sqrt(2)/2]])"
      ]
     },
     "execution_count": 152,
     "metadata": {},
     "output_type": "execute_result"
    }
   ],
   "source": [
    "def U(l):\n",
    "    \"\"\"Compute the U transformation matrix.\"\"\"\n",
    "    res = zeros(2 * l + 1, 2 * l + 1)\n",
    "    for m in range(-l, l + 1):\n",
    "        for n in range(-l, l + 1):\n",
    "            res[m + l, n+ l] = Umn(l, m, n)\n",
    "    return res\n",
    "\n",
    "# Print it for l = 1\n",
    "U(1)"
   ]
  },
  {
   "cell_type": "code",
   "execution_count": 153,
   "id": "beee9daf-15f5-4e4e-ab21-0a3b1761c4dc",
   "metadata": {
    "tags": []
   },
   "outputs": [
    {
     "data": {
      "text/latex": [
       "$\\displaystyle \\left[\\begin{matrix}\\frac{\\sqrt{2} i}{2} & 0 & 0 & 0 & \\frac{\\sqrt{2}}{2}\\\\0 & \\frac{\\sqrt{2} i}{2} & 0 & \\frac{\\sqrt{2}}{2} & 0\\\\0 & 0 & 1 & 0 & 0\\\\0 & \\frac{\\sqrt{2} i}{2} & 0 & - \\frac{\\sqrt{2}}{2} & 0\\\\- \\frac{\\sqrt{2} i}{2} & 0 & 0 & 0 & \\frac{\\sqrt{2}}{2}\\end{matrix}\\right]$"
      ],
      "text/plain": [
       "Matrix([\n",
       "[ sqrt(2)*I/2,           0, 0,          0, sqrt(2)/2],\n",
       "[           0, sqrt(2)*I/2, 0,  sqrt(2)/2,         0],\n",
       "[           0,           0, 1,          0,         0],\n",
       "[           0, sqrt(2)*I/2, 0, -sqrt(2)/2,         0],\n",
       "[-sqrt(2)*I/2,           0, 0,          0, sqrt(2)/2]])"
      ]
     },
     "execution_count": 153,
     "metadata": {},
     "output_type": "execute_result"
    }
   ],
   "source": [
    "U(2)"
   ]
  },
  {
   "cell_type": "markdown",
   "id": "aae87b88-eb22-4530-9e51-cd46d8bac2b1",
   "metadata": {},
   "source": [
    "#### Equation (55)"
   ]
  },
  {
   "cell_type": "code",
   "execution_count": 162,
   "id": "5a57f382-563e-4c81-8d0f-8a5c5ce92992",
   "metadata": {
    "tags": []
   },
   "outputs": [],
   "source": [
    "def REuler(l, alpha, beta, gamma):\n",
    "    \"\"\"Return the rotation matrix for a single degree `l`.\"\"\"\n",
    "    res = zeros(2 * l + 1, 2 * l + 1)\n",
    "    if l == 0:\n",
    "        res[0, 0] = 1\n",
    "        return res\n",
    "    foo = re(U(l).inv() * D(l, alpha, beta, gamma) * U(l))\n",
    "    for m in range(2 * l + 1):\n",
    "        for n in range(2 * l + 1):\n",
    "            if abs(foo[m, n]) < 1e-15:\n",
    "                res[m, n] = 0\n",
    "            else:\n",
    "                res[m, n] = foo[m, n]\n",
    "    return res"
   ]
  },
  {
   "cell_type": "code",
   "execution_count": 163,
   "id": "7e9ac932-7b68-4fac-96d0-34379960e570",
   "metadata": {
    "tags": []
   },
   "outputs": [
    {
     "data": {
      "text/latex": [
       "$\\displaystyle \\left[\\begin{matrix}1.0 & 0 & 0\\\\0 & 1.0 & 0\\\\0 & 0 & 1.0\\end{matrix}\\right]$"
      ],
      "text/plain": [
       "Matrix([\n",
       "[1.0,   0,   0],\n",
       "[  0, 1.0,   0],\n",
       "[  0,   0, 1.0]])"
      ]
     },
     "execution_count": 163,
     "metadata": {},
     "output_type": "execute_result"
    }
   ],
   "source": [
    "REuler(1,0, 0, 0)"
   ]
  },
  {
   "cell_type": "markdown",
   "id": "ef9bb19d-d63f-4eab-a811-52cbebc699d1",
   "metadata": {},
   "source": [
    "#### Equation (59), (61)"
   ]
  },
  {
   "cell_type": "code",
   "execution_count": 167,
   "id": "9358f204-3966-4aaf-965e-5950f350aa34",
   "metadata": {
    "tags": []
   },
   "outputs": [],
   "source": [
    "def RAxisAngle(l, u1, u2, u3, theta):\n",
    "    \"\"\"Axis-angle rotation matrix.\n",
    "        u1:ux\n",
    "        u2:uy\n",
    "        u3:uz\n",
    "    \"\"\"\n",
    "    # Numerical tolerance\n",
    "    tol = 1e-16\n",
    "    if theta == 0:\n",
    "        theta = tol\n",
    "    if u1 == 0 and u2 == 0:\n",
    "        u1 = tol\n",
    "        u2 = tol\n",
    "\n",
    "    # Elements of the transformation matrix (Equation 59)\n",
    "    costheta = cos(theta) # c_theta\n",
    "    sintheta = sin(theta) # s_theta\n",
    "    RA01 = u1 * u2 * (1 - costheta) - u3 * sintheta\n",
    "    RA02 = u1 * u3 * (1 - costheta) + u2 * sintheta\n",
    "    RA11 = costheta + u2 * u2 * (1 - costheta)\n",
    "    RA12 = u2 * u3 * (1 - costheta) - u1 * sintheta\n",
    "    RA20 = u3 * u1 * (1 - costheta) - u2 * sintheta\n",
    "    RA21 = u3 * u2 * (1 - costheta) + u1 * sintheta\n",
    "    RA22 = costheta + u3 * u3 * (1 - costheta)\n",
    "\n",
    "    # Determine the Euler angles (Equation 61)\n",
    "    if ((RA22 < -1 + tol) and (RA22 > -1 - tol)):\n",
    "        cosbeta = -1\n",
    "        sinbeta = 0\n",
    "        cosgamma = RA11\n",
    "        singamma = RA01\n",
    "        cosalpha = 1\n",
    "        sinalpha = 0\n",
    "    elif ((RA22 < 1 + tol) and (RA22 > 1 - tol)):\n",
    "        cosbeta = 1\n",
    "        sinbeta = 0\n",
    "        cosgamma = RA11\n",
    "        singamma = -RA01\n",
    "        cosalpha = 1\n",
    "        sinalpha = 0\n",
    "    else:\n",
    "        cosbeta = RA22\n",
    "        sinbeta = sqrt(1 - cosbeta ** 2)\n",
    "        norm1 = sqrt(RA20 * RA20 + RA21 * RA21)\n",
    "        norm2 = sqrt(RA02 * RA02 + RA12 * RA12)\n",
    "        cosgamma = -RA20 / norm1\n",
    "        singamma = RA21 / norm1\n",
    "        cosalpha = RA02 / norm2\n",
    "        sinalpha = RA12 / norm2\n",
    "    alpha = atan2(sinalpha, cosalpha)\n",
    "    beta = atan2(sinbeta, cosbeta)\n",
    "    gamma = atan2(singamma, cosgamma)\n",
    "\n",
    "    return REuler(l, alpha, beta, gamma)"
   ]
  },
  {
   "cell_type": "markdown",
   "id": "7cae36ab-b1a2-4d49-b880-1d73ff44e56b",
   "metadata": {},
   "source": [
    "#### Equation (58)"
   ]
  },
  {
   "cell_type": "code",
   "execution_count": 169,
   "id": "84b47398-0145-4a68-9018-9e29f1448695",
   "metadata": {
    "tags": []
   },
   "outputs": [],
   "source": [
    "def R(lmax, u1, u2, u3, theta):\n",
    "    \"\"\"Return the full axis-angle rotation matrix up to degree `lmax`.\"\"\"\n",
    "    blocks = [RAxisAngle(l, u1, u2, u3, theta) for l in range(lmax + 1)]\n",
    "    return BlockDiagMatrix(*blocks)"
   ]
  },
  {
   "cell_type": "markdown",
   "id": "46ab2a68-96c6-418c-8039-d7f7e6f72771",
   "metadata": {},
   "source": [
    "### 4. Rotational phase of light curves"
   ]
  },
  {
   "cell_type": "code",
   "execution_count": 187,
   "id": "7bcb1ee5-8e96-43ea-9e09-ab5de0e59103",
   "metadata": {
    "tags": []
   },
   "outputs": [],
   "source": [
    "from scipy import integrate\n",
    "from scipy.special import gamma\n",
    "import matplotlib.pyplot as pl"
   ]
  },
  {
   "cell_type": "markdown",
   "id": "943ea92a-5824-4837-adf1-e55268acd6a1",
   "metadata": {},
   "source": [
    "#### Equation (20) [integrate]"
   ]
  },
  {
   "cell_type": "code",
   "execution_count": 184,
   "id": "34642c60-e8cf-4426-af5e-c85de819fb99",
   "metadata": {
    "tags": []
   },
   "outputs": [],
   "source": [
    "def rn_numerical(n):\n",
    "    \"\"\"Compute the n^th term in the rotation solution vector `r` by numerical integration.\"\"\"\n",
    "    f = lambda y, x: ptilde(n, x, y)\n",
    "    y, err = integrate.dblquad(f, -1, 1, lambda x: -np.sqrt(1 - x * x), lambda x: np.sqrt(1 - x * x))\n",
    "    return y"
   ]
  },
  {
   "cell_type": "markdown",
   "id": "a457b43b-2894-4c77-8763-1e0bec3625cf",
   "metadata": {},
   "source": [
    "#### Equation (20) [analytic]"
   ]
  },
  {
   "cell_type": "code",
   "execution_count": 183,
   "id": "0e617c8f-7819-448f-8275-218aedfb3575",
   "metadata": {
    "tags": []
   },
   "outputs": [],
   "source": [
    "def rn(n):\n",
    "    \"\"\"Compute the n^th term in the rotation solution vector `r` analytically.\"\"\"\n",
    "    l = int(np.floor(np.sqrt(n)))\n",
    "    m = n - l * l - l\n",
    "    mu = l - m\n",
    "    nu = l + m\n",
    "    if (mu % 2 == 0) and ((mu / 2) % 2 == 0) and (nu % 2 == 0) and ((nu / 2) % 2 == 0):\n",
    "        return gamma(mu / 4 + 0.5) * gamma(nu / 4 + 0.5) / gamma((mu + nu) / 4 + 2)\n",
    "    elif ((mu - 1) % 2 == 0) and (((mu - 1) / 2) % 2 == 0) and ((nu - 1) % 2 == 0) and (((nu - 1) / 2) % 2 == 0):\n",
    "        return 0.5 * np.sqrt(np.pi) * gamma(mu / 4 + 0.25) * gamma(nu / 4 + 0.25) / gamma((mu + nu) / 4 + 2)\n",
    "    else:\n",
    "        return 0"
   ]
  },
  {
   "cell_type": "code",
   "execution_count": 185,
   "id": "cef2d12d-d606-4bf0-bdac-7ad27ff0ca30",
   "metadata": {
    "tags": []
   },
   "outputs": [],
   "source": [
    "analytical = np.array([rn(n) for n in range(50)])\n",
    "numerical = np.array([rn_numerical(n) for n in range(50)])"
   ]
  },
  {
   "cell_type": "code",
   "execution_count": 188,
   "id": "5d302b6a-8096-45e1-96d0-5bffe0670d59",
   "metadata": {
    "tags": []
   },
   "outputs": [
    {
     "data": {
      "image/png": "[encoded data removed]",
      "text/plain": [
       "<Figure size 1200x400 with 1 Axes>"
      ]
     },
     "metadata": {},
     "output_type": "display_data"
    }
   ],
   "source": [
    "fig, ax = pl.subplots(1, figsize=(12, 4))\n",
    "ax.plot(range(50), analytical, 'o', label='Analytical')\n",
    "ax.plot(range(50), numerical, label='Numerical')\n",
    "ax.legend(loc='upper right');\n",
    "ax.set_ylabel('$r_n$', fontsize=20);\n",
    "ax.set_xlabel('$n$', fontsize=20);"
   ]
  },
  {
   "cell_type": "code",
   "execution_count": 190,
   "id": "c28aac87-3717-4d50-8eee-e622ddc712d2",
   "metadata": {
    "tags": []
   },
   "outputs": [
    {
     "data": {
      "image/png": "[encoded data removed]",
      "text/plain": [
       "<Figure size 1200x400 with 1 Axes>"
      ]
     },
     "metadata": {},
     "output_type": "display_data"
    }
   ],
   "source": [
    "fig, ax = pl.subplots(1, figsize=(12, 4))\n",
    "ax.plot(range(50), np.abs(analytical - numerical))\n",
    "ax.set_ylabel('Difference', fontsize=20);\n",
    "ax.set_xlabel('$n$', fontsize=20);\n",
    "ax.set_yscale('log')\n",
    "\n"
   ]
  },
  {
   "cell_type": "markdown",
   "id": "fed99e7a-9de7-4bde-845c-5b900f6adbc0",
   "metadata": {},
   "source": [
    "### 5. light curves of occulation system"
   ]
  },
  {
   "cell_type": "code",
   "execution_count": 192,
   "id": "d4a6ed26-e382-4f6a-86dc-d6c51d8d6b08",
   "metadata": {
    "tags": []
   },
   "outputs": [],
   "source": [
    "from matplotlib.patches import Circle\n",
    "import matplotlib.pyplot as pl"
   ]
  },
  {
   "cell_type": "markdown",
   "id": "43b6fcb4-bcb4-4661-9dd0-76a48ad01476",
   "metadata": {},
   "source": [
    "#### Equation (24)"
   ]
  },
  {
   "cell_type": "code",
   "execution_count": 205,
   "id": "b2716454-ff3e-49d7-8d8d-74e70d9a1554",
   "metadata": {
    "tags": []
   },
   "outputs": [],
   "source": [
    "def phi(b, r):\n",
    "    if np.abs(1-r) < b and b < 1 + r:\n",
    "        phi = np.arcsin((1-r*r -b*b)/(2*b*r))\n",
    "    if b <= 1 - r:\n",
    "        phi = np.pi/2\n",
    "        \n",
    "    return phi"
   ]
  },
  {
   "cell_type": "markdown",
   "id": "46d517f1-0b2b-44b0-ba0c-3bd936cf8f97",
   "metadata": {},
   "source": [
    "#### Equation (25)"
   ]
  },
  {
   "cell_type": "code",
   "execution_count": 206,
   "id": "bc3fa570-0ae1-4c9f-b4e7-576e3f09dcd1",
   "metadata": {
    "tags": []
   },
   "outputs": [],
   "source": [
    "def lam(b,r):\n",
    "    if np.abs(1 - r) < b and b < 1 + r:\n",
    "            lam = np.arcsin((1 - r * r + b * b) / (2 * b)) \n",
    "            \n",
    "    if b <= 1-r:\n",
    "        lam = np.pi/2\n",
    "        \n",
    "    return lam"
   ]
  },
  {
   "cell_type": "code",
   "execution_count": 193,
   "id": "d0dad755-71d5-4453-97d0-2873909a53c1",
   "metadata": {
    "tags": []
   },
   "outputs": [],
   "source": [
    "def draw(b, r):\n",
    "    # Set up the figure\n",
    "    fig, ax = pl.subplots(1, figsize=(4, 4))\n",
    "    ax.set_xlim(min(-1.01, -r - 0.01), max(1.01, r + 0.01));\n",
    "    ax.set_ylim(-1.01, max(1.01, b + r + 0.01));\n",
    "    ax.set_aspect(1);\n",
    "    ax.axis('off');\n",
    "\n",
    "    # Draw the two bodies\n",
    "    occulted = Circle((0, 0), 1, fill=False, color='k')\n",
    "    ax.add_artist(occulted)\n",
    "    occultor = Circle((0, b), r, fill=False, color='r')\n",
    "    ax.add_artist(occultor)\n",
    "    ax.plot(0, 0, 'ko')\n",
    "    ax.plot(0, b, 'ro')\n",
    "\n",
    "    # Mark the points of intersection if they exist\n",
    "    if np.abs(1 - r) < b and b < 1 + r:\n",
    "\n",
    "        # Lambda\n",
    "        lam = np.arcsin((1 - r * r + b * b) / (2 * b))\n",
    "        x = np.cos(lam)\n",
    "        y = np.sin(lam)\n",
    "        pl.plot([0, x], [0, y], 'k-', alpha=0.3)\n",
    "        pl.plot(x, y, 'ko', ms=5)\n",
    "        pl.plot(-x, y, 'ko', ms=5)\n",
    "        pl.plot([0, -x], [0, y], 'k-', alpha = 0.3)\n",
    "\n",
    "        # Phi\n",
    "        phi = np.arcsin((1 - r * r - b * b) / (2 * b * r))\n",
    "        x = r * np.cos(phi)\n",
    "        y = b + r * np.sin(phi)\n",
    "        pl.plot([0, x], [b, y], 'r-', alpha=0.3)\n",
    "        pl.plot(x, y, 'ro', ms=3)\n",
    "        pl.plot(-x, y, 'ro', ms=3)\n",
    "        pl.plot([0, -x], [b, y], 'r-', alpha = 0.3)"
   ]
  },
  {
   "cell_type": "code",
   "execution_count": 198,
   "id": "abff5f10-7bdd-4528-bcda-380ae6af8986",
   "metadata": {
    "tags": []
   },
   "outputs": [
    {
     "data": {
      "image/png": "[encoded data removed]",
      "text/plain": [
       "<Figure size 400x400 with 1 Axes>"
      ]
     },
     "metadata": {},
     "output_type": "display_data"
    }
   ],
   "source": [
    "draw(0.75, 0.5)"
   ]
  },
  {
   "cell_type": "code",
   "execution_count": 199,
   "id": "68a95760-3036-41e4-b499-cd81dc314a5c",
   "metadata": {
    "tags": []
   },
   "outputs": [
    {
     "data": {
      "image/png": "[encoded data removed]",
      "text/plain": [
       "<Figure size 400x400 with 1 Axes>"
      ]
     },
     "metadata": {},
     "output_type": "display_data"
    }
   ],
   "source": [
    "draw(0.9, 0.2)"
   ]
  },
  {
   "cell_type": "code",
   "execution_count": 200,
   "id": "152f5383-6e6f-4acc-b876-31b02bc4d761",
   "metadata": {
    "tags": []
   },
   "outputs": [
    {
     "data": {
      "image/png": "[encoded data removed]",
      "text/plain": [
       "<Figure size 400x400 with 1 Axes>"
      ]
     },
     "metadata": {},
     "output_type": "display_data"
    }
   ],
   "source": [
    "draw(0.75, 0.9)"
   ]
  },
  {
   "cell_type": "code",
   "execution_count": 201,
   "id": "54366ef6-bde0-4999-b05d-d9d96ec979f0",
   "metadata": {
    "tags": []
   },
   "outputs": [
    {
     "data": {
      "image/png": "[encoded data removed]",
      "text/plain": [
       "<Figure size 400x400 with 1 Axes>"
      ]
     },
     "metadata": {},
     "output_type": "display_data"
    }
   ],
   "source": [
    "draw(0.9, 1.5)"
   ]
  },
  {
   "cell_type": "code",
   "execution_count": 202,
   "id": "0a0d3294-bc60-405b-9ec3-de325a976bbf",
   "metadata": {
    "tags": []
   },
   "outputs": [
    {
     "data": {
      "image/png": "[encoded data removed]",
      "text/plain": [
       "<Figure size 400x400 with 1 Axes>"
      ]
     },
     "metadata": {},
     "output_type": "display_data"
    }
   ],
   "source": [
    "draw(0.5, 0.4)"
   ]
  },
  {
   "cell_type": "markdown",
   "id": "0e5d425f-4a05-4a77-8ff3-725f610c36a6",
   "metadata": {},
   "source": [
    "#### Equation (63)"
   ]
  },
  {
   "cell_type": "code",
   "execution_count": 207,
   "id": "66b32b30-f10c-448d-9478-9e50e3f58df7",
   "metadata": {
    "tags": []
   },
   "outputs": [],
   "source": [
    "from mpmath import ellipe, ellipk, ellippi"
   ]
  },
  {
   "cell_type": "code",
   "execution_count": 208,
   "id": "fa6cefa5-3210-4677-8912-53590e511c97",
   "metadata": {
    "tags": []
   },
   "outputs": [],
   "source": [
    "from scipy.integrate import dblquad"
   ]
  },
  {
   "cell_type": "code",
   "execution_count": 211,
   "id": "f3d1e647-096e-498e-99db-f82fe075a262",
   "metadata": {
    "tags": []
   },
   "outputs": [],
   "source": [
    "def Lambda(b, r):\n",
    "    \"\"\"The Mandel & Agol (2002) Lambda function.\"\"\"\n",
    "    ksq = (1 - r ** 2 - b ** 2 + 2 * b * r) / (4 * b * r)\n",
    "\n",
    "    if ksq < 1:\n",
    "        f1 = 1. / (9 * np.pi * np.sqrt(b * r))\n",
    "        f2 = ((r + b) ** 2 - 1) / (r + b)\n",
    "        f3 = -2 * r * (2 * (r + b) ** 2 + (r + b) * (r - b) - 3)\n",
    "        f4 = 3 * (b - r)\n",
    "        f5 = -4 * b * r * (4 - 7 * r ** 2 - b ** 2)\n",
    "        K = float(ellipk(ksq))\n",
    "        E = float(ellipe(ksq))\n",
    "        PI = float(ellippi(ksq * (b + r) ** 2, ksq))\n",
    "        return f1 * (f2 * (f3 * K + f4 * PI) + f5 * E)\n",
    "    else:\n",
    "        f1 = 2. / (9 * np.pi)\n",
    "        f2 = 1 - (r + b) ** 2\n",
    "        f3 = np.sqrt(1 - (b - r) ** 2)\n",
    "        f4 = 3 * (b - r) / ((b + r) * np.sqrt(1 - (b - r) ** 2))\n",
    "        f5 = -np.sqrt(1 - (b - r) ** 2) * (4 - 7 * r ** 2 - b ** 2)\n",
    "        K = float(ellipk(1 / ksq))\n",
    "        E = float(ellipe(1 / ksq))\n",
    "        PI = float(ellippi(1 / (ksq * (b + r) ** 2), 1 / ksq))\n",
    "        return f1 * (f2 * (f3 * K + f4 * PI) + f5 * E)"
   ]
  },
  {
   "cell_type": "markdown",
   "id": "88f48c32-2991-4730-8597-ec067cba819c",
   "metadata": {},
   "source": [
    "#### Equation (62)"
   ]
  },
  {
   "cell_type": "code",
   "execution_count": 210,
   "id": "d91a9d29-0523-49c8-bddc-5e5b3108f929",
   "metadata": {
    "tags": []
   },
   "outputs": [],
   "source": [
    "def s2(b, r):\n",
    "    \"\"\"The flux during the occultation.\"\"\"\n",
    "    b = np.abs(b)\n",
    "    if b >= 1 + r:\n",
    "        return 2 * np.pi / 3\n",
    "    elif b <= r - 1:\n",
    "        return 0\n",
    "    return 2 * np.pi / 3 * (1 - 3 * Lambda(b, r) / 2 - int(r > b))\n"
   ]
  },
  {
   "cell_type": "code",
   "execution_count": 217,
   "id": "e51b8b5b-105f-42c1-a301-b91ba12a40de",
   "metadata": {
    "tags": []
   },
   "outputs": [
    {
     "data": {
      "text/plain": [
       "0"
      ]
     },
     "execution_count": 217,
     "metadata": {},
     "output_type": "execute_result"
    }
   ],
   "source": [
    "int(4>4)"
   ]
  },
  {
   "cell_type": "code",
   "execution_count": 212,
   "id": "07c4c285-0a8b-4157-831a-a1ba42f08e48",
   "metadata": {
    "tags": []
   },
   "outputs": [],
   "source": [
    "# Numerical evaluation\n",
    "def NumericalFlux(b, r):\n",
    "    \"\"\"Compute the flux by numerical integration of the surface integral.\"\"\"\n",
    "    # I'm only coding up a specific case here\n",
    "    b = np.abs(b)\n",
    "    if b >= 1 + r:\n",
    "        return 2 * np.pi / 3\n",
    "    elif b <= r - 1:\n",
    "        return 0\n",
    "\n",
    "    # Total flux\n",
    "    total = (np.pi / 6) * (6 - 2)\n",
    "    if b >= 1 + r:\n",
    "        return total\n",
    "\n",
    "    # Get points of intersection\n",
    "    if b > 1 - r:\n",
    "        yi = (1. + b ** 2 - r ** 2) / (2. * b)\n",
    "        xi = (1. / (2. * b)) * np.sqrt(4 * b ** 2 - (1 + b ** 2 - r ** 2) ** 2)\n",
    "    else:\n",
    "        yi = np.inf\n",
    "        xi = r\n",
    "\n",
    "    # Specific intensity map\n",
    "    def I(y, x):\n",
    "        return np.sqrt(1 - x ** 2 - y ** 2)\n",
    "\n",
    "    # Lower integration limit\n",
    "    def y1(x):\n",
    "        if yi <= b:\n",
    "            # Lower occultor boundary\n",
    "            return b - np.sqrt(r ** 2 - x ** 2)\n",
    "        elif b <= 1 - r:\n",
    "            # Lower occultor boundary\n",
    "            return b - np.sqrt(r ** 2 - x ** 2)\n",
    "        else:\n",
    "            # Tricky: we need to do this in two parts\n",
    "            return b - np.sqrt(r ** 2 - x ** 2)\n",
    "\n",
    "    # Upper integration limit\n",
    "    def y2(x):\n",
    "        if yi <= b:\n",
    "            # Upper occulted boundary\n",
    "            return np.sqrt(1 - x ** 2)\n",
    "        elif b <= 1 - r:\n",
    "            # Upper occultor boundary\n",
    "            return b + np.sqrt(r ** 2 - x ** 2)\n",
    "        else:\n",
    "            # Tricky: we need to do this in two parts\n",
    "            return np.sqrt(1 - x ** 2)\n",
    "\n",
    "    # Compute the total flux\n",
    "    flux, _ = dblquad(I, -xi, xi, y1, y2, epsabs=1e-14, epsrel=1e-14)\n",
    "\n",
    "    # Do we need to solve an additional integral?\n",
    "    if not (yi <= b) and not (b <= 1 - r):\n",
    "\n",
    "        def y1(x):\n",
    "            return b - np.sqrt(r ** 2 - x ** 2)\n",
    "\n",
    "        def y2(x):\n",
    "            return b + np.sqrt(r ** 2 - x ** 2)\n",
    "\n",
    "        additional_flux, _ = dblquad(I, -r, -xi, y1, y2,\n",
    "                                     epsabs=1e-14, epsrel=1e-14)\n",
    "\n",
    "        flux += 2 * additional_flux\n",
    "\n",
    "    return total - flux"
   ]
  },
  {
   "cell_type": "code",
   "execution_count": 213,
   "id": "0c9e16b9-2eaa-4fe3-89f8-4ec6e9229ee3",
   "metadata": {
    "tags": []
   },
   "outputs": [],
   "source": [
    "r = 0.1\n",
    "b = np.linspace(-1.5, 1.5, 100)\n",
    "sol1 = np.array([NumericalFlux(b[i], r) for i in range(100)])\n",
    "sol2 = np.array([s2(b[i], r) for i in range(100)])"
   ]
  },
  {
   "cell_type": "code",
   "execution_count": 214,
   "id": "ac18d118-1f40-4572-a000-b5c3b2eec65d",
   "metadata": {
    "tags": []
   },
   "outputs": [
    {
     "data": {
      "image/png": "[encoded data removed]",
      "text/plain": [
       "<Figure size 1000x1000 with 2 Axes>"
      ]
     },
     "metadata": {},
     "output_type": "display_data"
    }
   ],
   "source": [
    "fig, ax = pl.subplots(2, figsize=(10, 10))\n",
    "ax[0].plot(b, sol1, lw=4, label='Numerical')\n",
    "ax[0].plot(b, sol2, label='Analytic')\n",
    "ax[1].plot(b, np.abs(sol1 - sol2))\n",
    "ax[1].set_yscale('log')\n",
    "ax[0].legend();\n",
    "ax[1].set_xlabel('Impact parameter', fontsize=18);\n",
    "ax[0].set_ylabel('Flux', fontsize=18);\n",
    "ax[1].set_ylabel('Error', fontsize=18);"
   ]
  },
  {
   "cell_type": "markdown",
   "id": "15c8e9c7-e5aa-4130-90ba-a5d79a46da00",
   "metadata": {},
   "source": [
    "#### Equation (70)"
   ]
  },
  {
   "cell_type": "code",
   "execution_count": 222,
   "id": "d776dd8e-ce67-4a1d-a9f9-2d7bab3738ff",
   "metadata": {
    "tags": []
   },
   "outputs": [],
   "source": [
    "from scipy.integrate import quad"
   ]
  },
  {
   "cell_type": "code",
   "execution_count": 226,
   "id": "8198c62c-367b-4ca2-9bc4-c8f917535579",
   "metadata": {
    "tags": []
   },
   "outputs": [],
   "source": [
    "def HAnalytic(u, v, lam):\n",
    "    \"\"\"Compute the integral analytically.\"\"\"\n",
    "    if (u % 2 != 0):\n",
    "        return 0\n",
    "    elif u == 0 and v == 0:\n",
    "        return 2 * lam + np.pi\n",
    "    elif u == 0 and v == 1:\n",
    "        return -2 * np.cos(lam)\n",
    "    elif u >= 2:\n",
    "        return 2 / (u + v) * np.cos(lam) ** (u - 1) * np.sin(lam) ** (v + 1) + (u - 1) / (u + v) * HAnalytic(u - 2, v, lam)\n",
    "    else:\n",
    "        return -2 / (u + v) * np.cos(lam) ** (u + 1) * np.sin(lam) ** (v - 1) + (v - 1) / (u + v) * HAnalytic(u, v - 2, lam)"
   ]
  },
  {
   "cell_type": "markdown",
   "id": "1d639149-1e41-4744-a3b6-5bea53ba5cc5",
   "metadata": {},
   "source": [
    "#### Equation (68)"
   ]
  },
  {
   "cell_type": "code",
   "execution_count": 219,
   "id": "8b8807a9-aba9-4ae1-b417-1398d83c4ba2",
   "metadata": {
    "tags": []
   },
   "outputs": [],
   "source": [
    "# numerical evaluation\n",
    "def HNumerical(u, v, lam):\n",
    "    \"\"\"Compute the integral numerically.\"\"\"\n",
    "    sol, err = quad(lambda phi: np.cos(phi) ** u * np.sin(phi) ** v, np.pi - lam, 2 * np.pi + lam)\n",
    "    return sol"
   ]
  },
  {
   "cell_type": "code",
   "execution_count": 220,
   "id": "7ef180ca-6e15-41e3-b639-d1befbe588e1",
   "metadata": {
    "tags": []
   },
   "outputs": [],
   "source": [
    "def Plot(u, v):\n",
    "    \"\"\"Plot the numerical and analytic solution for comparison.\"\"\"\n",
    "    lam = np.linspace(0, np.pi / 2, 100)\n",
    "    fig, ax = pl.subplots(1, 2, figsize=(15, 3))\n",
    "    fig.subplots_adjust(wspace=0.25)\n",
    "    sol1 = np.array([HNumerical(u, v, l) for l in lam])\n",
    "    sol2 = np.array([HAnalytic(u, v, l) for l in lam])\n",
    "    ax[0].plot(lam, sol1, lw=4, label='Numerical');\n",
    "    ax[0].plot(lam, sol2, label='Analytic');\n",
    "    ax[0].legend();\n",
    "    ax[1].plot(lam, np.abs(sol1 - sol2))\n",
    "    ax[1].set_yscale('log')\n",
    "    ax[0].set_xlabel(r'$\\lambda$', fontsize=18);\n",
    "    ax[1].set_xlabel(r'$\\lambda$', fontsize=18);\n",
    "    ax[0].set_ylabel(r'$H_{%d,%d}$' % (u, v), fontsize=18);\n",
    "    ax[1].set_ylabel(r'Error', fontsize=18);"
   ]
  },
  {
   "cell_type": "code",
   "execution_count": 223,
   "id": "b8670cf1-ed10-474d-baab-dd3dc73abf7c",
   "metadata": {
    "tags": []
   },
   "outputs": [
    {
     "data": {
      "image/png": "[encoded data removed]",
      "text/plain": [
       "<Figure size 1500x300 with 2 Axes>"
      ]
     },
     "metadata": {},
     "output_type": "display_data"
    }
   ],
   "source": [
    "Plot(0,0)"
   ]
  },
  {
   "cell_type": "code",
   "execution_count": 224,
   "id": "0dac1f21-ebff-449c-8fb8-0dd24a6f579c",
   "metadata": {
    "tags": []
   },
   "outputs": [
    {
     "data": {
      "image/png": "[encoded data removed]",
      "text/plain": [
       "<Figure size 1500x300 with 2 Axes>"
      ]
     },
     "metadata": {},
     "output_type": "display_data"
    }
   ],
   "source": [
    "Plot(0,1)"
   ]
  },
  {
   "cell_type": "code",
   "execution_count": 227,
   "id": "65f79004-6bcf-4e20-a6dc-31b558b68f74",
   "metadata": {
    "tags": []
   },
   "outputs": [
    {
     "data": {
      "image/png": "[encoded data removed]",
      "text/plain": [
       "<Figure size 1500x300 with 2 Axes>"
      ]
     },
     "metadata": {},
     "output_type": "display_data"
    }
   ],
   "source": [
    "Plot(2,0)"
   ]
  },
  {
   "cell_type": "code",
   "execution_count": 228,
   "id": "c66f3278-46a5-4fd2-ac39-b6678f7d92f3",
   "metadata": {
    "tags": []
   },
   "outputs": [
    {
     "data": {
      "image/png": "[encoded data removed]",
      "text/plain": [
       "<Figure size 1500x300 with 2 Axes>"
      ]
     },
     "metadata": {},
     "output_type": "display_data"
    }
   ],
   "source": [
    "Plot(2,1)"
   ]
  },
  {
   "cell_type": "code",
   "execution_count": 229,
   "id": "6143a5ac-ae42-432b-adf8-01d47e961de6",
   "metadata": {
    "tags": []
   },
   "outputs": [
    {
     "data": {
      "image/png": "[encoded data removed]",
      "text/plain": [
       "<Figure size 1500x300 with 2 Axes>"
      ]
     },
     "metadata": {},
     "output_type": "display_data"
    }
   ],
   "source": [
    "Plot(4,1)"
   ]
  },
  {
   "cell_type": "markdown",
   "id": "e5f1eb7d-3b28-441e-927a-6e19bc6678c4",
   "metadata": {},
   "source": [
    "#### Equation (66)"
   ]
  },
  {
   "cell_type": "code",
   "execution_count": 251,
   "id": "e8ca7762-8a2f-4a70-bd87-552dba501e29",
   "metadata": {
    "tags": []
   },
   "outputs": [],
   "source": [
    "def P(l, m, b, r):\n",
    "    \"\"\"Compute the P integral numerically from its original parametrization.\"\"\"\n",
    "    mu = l - m\n",
    "    nu = l + m\n",
    "    if (np.abs(1 - r) < b) and (b < 1 + r):\n",
    "        phi = np.arcsin((1 - r ** 2 - b ** 2) / (2 * b * r))\n",
    "    else:\n",
    "        phi = np.pi / 2\n",
    "    if (mu / 2) % 2 == 0:\n",
    "        func = lambda x, l, mu, nu, b, r: \\\n",
    "                    (r * np.cos(x)) ** (0.5 * (mu + 2)) * \\\n",
    "                    (b + r * np.sin(x)) ** (0.5 * nu) * \\\n",
    "                    r * np.cos(x)\n",
    "    elif (mu == 1) and (l % 2 == 0):\n",
    "        func = lambda x, l, mu, nu, b, r: \\\n",
    "                    -(r * np.cos(x)) ** (l - 2) * \\\n",
    "                    (1 - r ** 2 - b ** 2 - 2 * b * r * np.sin(x)) ** (3. / 2.) * \\\n",
    "                    r * np.sin(x)\n",
    "    elif (mu == 1) and (l >= 3) and (l % 2 != 0):\n",
    "        func = lambda x, l, mu, nu, b, r: \\\n",
    "                    -(r * np.cos(x)) ** (l - 3) * \\\n",
    "                    (b + r * np.sin(x)) * \\\n",
    "                    (1 - r ** 2 - b ** 2 - 2 * b * r * np.sin(x)) ** (3. / 2.) * \\\n",
    "                    r * np.sin(x)\n",
    "    elif ((mu - 1) % 2) == 0 and ((mu - 1) // 2 % 2 == 0) and (l != 1):\n",
    "        func = lambda x, l, mu, nu, b, r: \\\n",
    "                    (r * np.cos(x)) ** (0.5 * (mu - 3)) * \\\n",
    "                    (b + r * np.sin(x)) ** (0.5 * (nu - 1)) * \\\n",
    "                    (1 - r ** 2 - b ** 2 - 2 * b * r * np.sin(x)) ** (3. / 2.) * \\\n",
    "                    r * np.cos(x)\n",
    "    elif (mu == 1) and (l == 1):\n",
    "        raise ValueError(\"This case is treated separately.\")\n",
    "    else:\n",
    "        return 0\n",
    "    res, err = quad(func, np.pi - phi, 2 * np.pi + phi, args=(l, mu, nu, b, r))\n",
    "    return res"
   ]
  },
  {
   "cell_type": "markdown",
   "id": "d6746ae5-b856-43a0-a745-79e545f744a2",
   "metadata": {},
   "source": [
    "#### Equation (73)"
   ]
  },
  {
   "cell_type": "code",
   "execution_count": 231,
   "id": "c5092087-efed-4b87-b1a6-6c386a200bee",
   "metadata": {
    "tags": []
   },
   "outputs": [],
   "source": [
    "def PKappaDelta(l, m, b, r):\n",
    "    \"\"\"Compute the P integral numerically from its new parametrization.\"\"\"\n",
    "    mu = l - m\n",
    "    nu = l + m\n",
    "    if (np.abs(1 - r) < b) and (b < 1 + r):\n",
    "        phi = np.arcsin((1 - r ** 2 - b ** 2) / (2 * b * r))\n",
    "    else:\n",
    "        phi = np.pi / 2\n",
    "    kappa = phi + np.pi / 2\n",
    "    delta = (b - r) / (2 * r)\n",
    "    k2 = (1 - r ** 2 - b ** 2 + 2 * b * r) / (4 * b * r)\n",
    "    if (mu / 2) % 2 == 0:\n",
    "        func = lambda x, l, mu, nu, delta, k2, b, r: \\\n",
    "                    2 * (2 * r) ** (l + 2) * \\\n",
    "                    (np.sin(x) ** 2 - np.sin(x) ** 4) ** (0.25 * (mu + 4)) * \\\n",
    "                    (delta + np.sin(x) ** 2) ** (0.5 * nu)\n",
    "    elif (mu == 1) and (l % 2 == 0):\n",
    "        func = lambda x, l, mu, nu, delta, k2, b, r: \\\n",
    "                    (2 * r) ** (l - 1) * (4 * b * r) ** (3. / 2.) * \\\n",
    "                    (np.sin(x) ** 2 - np.sin(x) ** 4) ** (0.5 * (l - 2)) * \\\n",
    "                    (k2 - np.sin(x) ** 2) ** (3. / 2.) * \\\n",
    "                    (1 - 2 * np.sin(x) ** 2)\n",
    "    elif (mu == 1) and (l != 1) and (l % 2 != 0):\n",
    "        func = lambda x, l, mu, nu, delta, k2, b, r: \\\n",
    "                    (2 * r) ** (l - 1) * (4 * b * r) ** (3. / 2.) * \\\n",
    "                    (np.sin(x) ** 2 - np.sin(x) ** 4) ** (0.5 * (l - 3)) * \\\n",
    "                    (delta + np.sin(x) ** 2) * \\\n",
    "                    (k2 - np.sin(x) ** 2) ** (3. / 2.) * \\\n",
    "                    (1 - 2 * np.sin(x) ** 2)\n",
    "    elif ((mu - 1) % 2) == 0 and ((mu - 1) // 2 % 2 == 0) and (l != 1):\n",
    "        func = lambda x, l, mu, nu, delta, k2, b, r: \\\n",
    "                    2 * (2 * r) ** (l - 1) * (4 * b * r) ** (3. / 2.) * \\\n",
    "                    (np.sin(x) ** 2 - np.sin(x) ** 4) ** (0.25 * (mu - 1)) * \\\n",
    "                    (delta + np.sin(x) ** 2) ** (0.5 * (nu - 1)) * \\\n",
    "                    (k2 - np.sin(x) ** 2) ** (3. / 2.)\n",
    "    elif (mu == 1) and (l == 1):\n",
    "        raise ValueError(\"This case is treated separately.\")\n",
    "    else:\n",
    "        return 0\n",
    "    res, err = quad(func, -kappa / 2, kappa / 2, args=(l, mu, nu, delta, k2, b, r))\n",
    "    return res"
   ]
  },
  {
   "cell_type": "code",
   "execution_count": 232,
   "id": "0dffef64-bd1d-4d5a-aa6e-fe038c84f131",
   "metadata": {
    "tags": []
   },
   "outputs": [
    {
     "name": "stderr",
     "output_type": "stream",
     "text": [
      "/tmp/ipykernel_5120/2900348338.py:41: RuntimeWarning: divide by zero encountered in log10\n",
      "  pl.plot(n, np.log10(err), marker='o', color='C%d' % (case - 1), label=label)\n"
     ]
    },
    {
     "data": {
      "image/png": "[encoded data removed]",
      "text/plain": [
       "<Figure size 1000x500 with 1 Axes>"
      ]
     },
     "metadata": {},
     "output_type": "display_data"
    }
   ],
   "source": [
    "lmax = 6\n",
    "fig, ax = pl.subplots(1, figsize=(10, 5))\n",
    "labels = []\n",
    "b = 0.8\n",
    "r = 0.3\n",
    "\n",
    "n = 0\n",
    "for l in range(lmax + 1):\n",
    "    for m in range(-l, l + 1):\n",
    "        # Figure out which case this is\n",
    "        mu = l - m\n",
    "        nu = l + m\n",
    "        if (mu / 2) % 2 == 0:\n",
    "            case = 1\n",
    "        elif (mu == 1) and (l % 2 == 0):\n",
    "            case = 2\n",
    "        elif (mu == 1) and (l != 1) and (l % 2 != 0):\n",
    "            case = 3\n",
    "        elif ((mu - 1) % 2) == 0 and ((mu - 1) // 2 % 2 == 0) and (l != 1):\n",
    "            case = 4\n",
    "        elif (mu == 1) and (l == 1):\n",
    "            # Skip this case, which we treat separately\n",
    "            n += 1\n",
    "            continue\n",
    "        else:\n",
    "            case = 6\n",
    "\n",
    "        # Compute the P integral using both methods\n",
    "        P1 = P(l, m, b, r)\n",
    "        P2 = PKappaDelta(l, m, b, r)\n",
    "        if P1 == 0 and P2 == 0:\n",
    "            err = 1e-16\n",
    "        else:\n",
    "            err = np.abs((P1 - P2) / P1)\n",
    "\n",
    "        # Let's plot the error\n",
    "        label = \"Case %d\" % case\n",
    "        if label in labels:\n",
    "            label = None\n",
    "        labels.append(label)\n",
    "        pl.plot(n, np.log10(err), marker='o', color='C%d' % (case - 1), label=label)\n",
    "        n += 1\n",
    "\n",
    "ax.set_ylim(-17, 0)\n",
    "ax.set_xlabel('Term number', fontsize=14)\n",
    "ax.set_ylabel('Log fractional error', fontsize=14)\n",
    "ax.legend();"
   ]
  },
  {
   "cell_type": "markdown",
   "id": "8eebae2f-e756-4310-8434-a0dffe6e40ab",
   "metadata": {},
   "source": [
    "#### Equation (75)"
   ]
  },
  {
   "cell_type": "code",
   "execution_count": 238,
   "id": "bd3aecad-14fb-47ff-aa2b-e0263757e4cd",
   "metadata": {
    "tags": []
   },
   "outputs": [],
   "source": [
    "# Define our symbols\n",
    "delta, s = sympy.symbols('delta s')"
   ]
  },
  {
   "cell_type": "code",
   "execution_count": 239,
   "id": "e75730ab-0d61-48e8-898f-39e687cd201c",
   "metadata": {
    "tags": []
   },
   "outputs": [],
   "source": [
    "def A(i, u, v):\n",
    "    \"\"\"Compute the Vieta coefficient A_{i, u, v}.\"\"\"\n",
    "    j1 = max(0, u - i)\n",
    "    j2 = min(u + v - i, u)\n",
    "    return sum([sympy.binomial(u, j) *\n",
    "                sympy.binomial(v, u + v - i - j) *\n",
    "                (-1) ** (u + j) * delta ** (u + v - i - j)\n",
    "                for j in range(j1, j2 + 1)])"
   ]
  },
  {
   "cell_type": "code",
   "execution_count": 240,
   "id": "d4be6eaf-9fae-4a41-ad58-8ba35f947097",
   "metadata": {
    "tags": []
   },
   "outputs": [
    {
     "data": {
      "text/latex": [
       "$\\displaystyle 126$"
      ],
      "text/plain": [
       "126"
      ]
     },
     "execution_count": 240,
     "metadata": {},
     "output_type": "execute_result"
    }
   ],
   "source": [
    "sympy.binomial(9,5)"
   ]
  },
  {
   "cell_type": "markdown",
   "id": "54db9471-572c-4c7b-bb6a-dab7df478618",
   "metadata": {},
   "source": [
    "#### Equation (74)"
   ]
  },
  {
   "cell_type": "code",
   "execution_count": 241,
   "id": "cbd3cad2-8b2b-4061-a03a-9914ddd4d4c3",
   "metadata": {
    "tags": []
   },
   "outputs": [],
   "source": [
    "def LHS(u, v):\n",
    "    return (1 - s ** 2) ** u * (delta + s ** 2) ** v"
   ]
  },
  {
   "cell_type": "code",
   "execution_count": 242,
   "id": "9750d7d4-40c7-4f2f-adac-523900367cbc",
   "metadata": {
    "tags": []
   },
   "outputs": [],
   "source": [
    "def RHS(u, v):\n",
    "    return sum([A(i, u, v) * s ** (2 * i) for i in range(0, u + v + 1)])"
   ]
  },
  {
   "cell_type": "code",
   "execution_count": 243,
   "id": "f0ff906e-d20b-429f-9654-2175317a4b35",
   "metadata": {
    "tags": []
   },
   "outputs": [],
   "source": [
    "for u in range(10):\n",
    "    for v in range(10):\n",
    "        assert factor(LHS(u, v)) == factor(RHS(u, v)), \"Mismatch in expression values!\""
   ]
  },
  {
   "cell_type": "markdown",
   "id": "e9279fb0-dc15-472e-a6a3-563ab04f194c",
   "metadata": {},
   "source": [
    "#### Equation (78)"
   ]
  },
  {
   "cell_type": "code",
   "execution_count": 244,
   "id": "a6bf9241-0d93-44bc-ac79-676c8eb29128",
   "metadata": {
    "tags": []
   },
   "outputs": [],
   "source": [
    "from sympy import binomial\n",
    "epsabs=1e-12\n",
    "epsrel=1e-12"
   ]
  },
  {
   "cell_type": "code",
   "execution_count": 245,
   "id": "1c837817-33f9-4948-a7e4-48e041da3987",
   "metadata": {
    "tags": []
   },
   "outputs": [],
   "source": [
    "def I(v, kappa):\n",
    "    \"\"\"Return the integral I, evaluated numerically.\"\"\"\n",
    "    func = lambda x: np.sin(x) ** (2 * v)\n",
    "    res, err = quad(func, -0.5 * kappa, 0.5 * kappa, epsabs=epsabs, epsrel=epsrel)\n",
    "    return res\n"
   ]
  },
  {
   "cell_type": "markdown",
   "id": "967eda87-8281-4600-b654-7268ed09d586",
   "metadata": {},
   "source": [
    "#### Equation (79)"
   ]
  },
  {
   "cell_type": "code",
   "execution_count": 246,
   "id": "2632e016-2594-4587-a06a-d9db10601aac",
   "metadata": {
    "tags": []
   },
   "outputs": [],
   "source": [
    "def J(v, kappa, k):\n",
    "    \"\"\"Return the integral J, evaluated numerically.\"\"\"\n",
    "    func = lambda x: np.sin(x) ** (2 * v) * (1 - k ** (-2) * np.sin(x) ** 2) ** 1.5\n",
    "    res, err = quad(func, -0.5 * kappa, 0.5 * kappa, epsabs=epsabs, epsrel=epsrel)\n",
    "    return res"
   ]
  },
  {
   "cell_type": "markdown",
   "id": "51ca212d-b29e-44a7-b2e1-d15d2b550a24",
   "metadata": {},
   "source": [
    "#### Equation (75) (evaluation)"
   ]
  },
  {
   "cell_type": "code",
   "execution_count": 247,
   "id": "9a576b55-b43e-4430-a375-5b3e6cc80551",
   "metadata": {
    "tags": []
   },
   "outputs": [],
   "source": [
    "def A(i, u, v, delta):\n",
    "    \"\"\"Compute the Vieta coefficient A_{i, u, v}.\"\"\"\n",
    "    j1 = max(0, u - i)\n",
    "    j2 = min(u + v - i, u)\n",
    "    return sum([float(binomial(u, j)) *\n",
    "                float(binomial(v, u + v - i - j)) *\n",
    "                (-1) ** (u + j) * delta ** (u + v - i - j)\n",
    "                for j in range(j1, j2 + 1)])"
   ]
  },
  {
   "cell_type": "markdown",
   "id": "b6915eb4-db5a-4d8e-8ec8-a85cbc421890",
   "metadata": {},
   "source": [
    "#### Equation (77)"
   ]
  },
  {
   "cell_type": "code",
   "execution_count": 258,
   "id": "8ae764cb-3896-455f-89df-1586ff8cb29a",
   "metadata": {
    "tags": []
   },
   "outputs": [],
   "source": [
    "def K(u, v, kappa, delta):\n",
    "    \"\"\"Return the integral K, evaluated as a sum over I.\"\"\"\n",
    "    return sum([A(i, u, v, delta) * I(i + u, kappa) for i in range(u + v + 1)])\n",
    "\n",
    "def L(u, v, t, kappa, delta, k):\n",
    "    \"\"\"Return the integral L, evaluated as a sum over J.\"\"\"\n",
    "    return k ** 3 * sum([A(i, u, v, delta) * J(i + u + t, kappa, k) for i in range(u + v + 1)])"
   ]
  },
  {
   "cell_type": "markdown",
   "id": "29b406b9-6b17-44ff-94e4-ffd62a68cc48",
   "metadata": {},
   "source": [
    "#### Equation (76)"
   ]
  },
  {
   "cell_type": "code",
   "execution_count": 249,
   "id": "b8c9a08a-7c89-4fdd-b664-bfe7cd2a7205",
   "metadata": {
    "tags": []
   },
   "outputs": [],
   "source": [
    "def PKL(l, m, b, r):\n",
    "    \"\"\"Compute the P integral numerically from its new parametrization in terms of K and L.\"\"\"\n",
    "    mu = l - m\n",
    "    nu = l + m\n",
    "    if (np.abs(1 - r) < b) and (b < 1 + r):\n",
    "        phi = np.arcsin((1 - r ** 2 - b ** 2) / (2 * b * r))\n",
    "    else:\n",
    "        phi = np.pi / 2\n",
    "    kappa = phi + np.pi / 2\n",
    "    delta = (b - r) / (2 * r)\n",
    "    k = np.sqrt((1 - r ** 2 - b ** 2 + 2 * b * r) / (4 * b * r))\n",
    "    if (mu / 2) % 2 == 0:\n",
    "        return 2 * (2 * r) ** (l + 2) * \\\n",
    "               K((mu + 4) // 4, nu // 2, kappa, delta)\n",
    "    elif (mu == 1) and (l % 2 == 0):\n",
    "        return (2 * r) ** (l - 1) * (4 * b * r) ** (3. / 2.) * \\\n",
    "               (L((l - 2) // 2, 0, 0, kappa, delta, k) -\n",
    "                2 * L((l - 2) // 2, 0, 1, kappa, delta, k))\n",
    "    elif (mu == 1) and (l != 1) and (l % 2 != 0):\n",
    "        return (2 * r) ** (l - 1) * (4 * b * r) ** (3. / 2.) * \\\n",
    "               (L((l - 3) // 2, 1, 0, kappa, delta, k) -\n",
    "                2 * L((l - 3) // 2, 1, 1, kappa, delta, k))\n",
    "    elif ((mu - 1) % 2) == 0 and ((mu - 1) // 2 % 2 == 0) and (l != 1):\n",
    "        return 2 * (2 * r) ** (l - 1) * (4 * b * r) ** (3. / 2.) * \\\n",
    "               L((mu - 1) // 4, (nu - 1) // 2, 0, kappa, delta, k)\n",
    "    elif (mu == 1) and (l == 1):\n",
    "        raise ValueError(\"This case is treated separately.\")\n",
    "    else:\n",
    "        return 0"
   ]
  },
  {
   "cell_type": "code",
   "execution_count": 252,
   "id": "cfe5b7a1-4189-4c48-899b-d4da2fa65a56",
   "metadata": {
    "tags": []
   },
   "outputs": [
    {
     "data": {
      "image/png": "[encoded data removed]",
      "text/plain": [
       "<Figure size 1000x500 with 1 Axes>"
      ]
     },
     "metadata": {},
     "output_type": "display_data"
    }
   ],
   "source": [
    "lmax = 6\n",
    "fig, ax = pl.subplots(1, figsize=(10, 5))\n",
    "labels = []\n",
    "b = 0.8\n",
    "r = 0.3\n",
    "\n",
    "n = 0\n",
    "for l in range(lmax + 1):\n",
    "    for m in range(-l, l + 1):\n",
    "        # Figure out which case this is\n",
    "        mu = l - m\n",
    "        nu = l + m\n",
    "        if (mu / 2) % 2 == 0:\n",
    "            case = 1\n",
    "        elif (mu == 1) and (l % 2 == 0):\n",
    "            case = 2\n",
    "        elif (mu == 1) and (l != 1) and (l % 2 != 0):\n",
    "            case = 3\n",
    "        elif ((mu - 1) % 2) == 0 and ((mu - 1) // 2 % 2 == 0) and (l != 1):\n",
    "            case = 4\n",
    "        elif (mu == 1) and (l == 1):\n",
    "            # Skip this case, which we treat separately\n",
    "            n += 1\n",
    "            continue\n",
    "        else:\n",
    "            case = 6\n",
    "\n",
    "        # Compute the P integral using both methods\n",
    "        P1 = P(l, m, b, r)\n",
    "        P2 = PKL(l, m, b, r)\n",
    "        if P1 == 0 and P2 == 0:\n",
    "            err = 1e-16\n",
    "        else:\n",
    "            err = np.abs((P1 - P2) / P1)\n",
    "\n",
    "        # Let's plot the error\n",
    "        label = \"Case %d\" % case\n",
    "        if label in labels:\n",
    "            label = None\n",
    "        labels.append(label)\n",
    "        pl.plot(n, np.log10(err), marker='o', color='C%d' % (case - 1), label=label)\n",
    "        n += 1\n",
    "\n",
    "ax.set_ylim(-17, 0)\n",
    "ax.set_xlabel('Term number', fontsize=14)\n",
    "ax.set_ylabel('Log fractional error', fontsize=14)\n",
    "ax.legend();"
   ]
  },
  {
   "cell_type": "markdown",
   "id": "dc8ca5da-9d36-4e34-b556-98ab3e5f1c72",
   "metadata": {},
   "source": [
    "#### Equation (80)"
   ]
  },
  {
   "cell_type": "code",
   "execution_count": 254,
   "id": "7c4afd50-981d-4817-89bf-eefe8ef6ff8f",
   "metadata": {
    "tags": []
   },
   "outputs": [],
   "source": [
    "from mpmath import hyp2f1, fac2\n",
    "from sympy import factorial"
   ]
  },
  {
   "cell_type": "code",
   "execution_count": 253,
   "id": "a2cda748-ce3a-4ed9-a175-612e21665f45",
   "metadata": {
    "tags": []
   },
   "outputs": [],
   "source": [
    "def IHyper(v, k):\n",
    "    \"\"\"Return the integral I, evaluated analytically from 2F1.\"\"\"\n",
    "    return 2 * k ** (1 + 2 * v) / (1 + 2 * v) * float(hyp2f1(0.5, v + 0.5, v + 1.5, k ** 2))\n",
    "\n",
    "def JHyper(v, k):\n",
    "    \"\"\"Return the integral J, evaluated analytically from 2F1.\"\"\"\n",
    "    return float(k ** (1 + 2 * v) * 3 * np.pi / 4 * \\\n",
    "                 fac2(2 * v - 1) / (2 ** v * factorial(2 + v)) *\n",
    "                 hyp2f1(0.5, v + 0.5, v + 3, k ** 2))"
   ]
  },
  {
   "cell_type": "markdown",
   "id": "958f7dfe-fb55-41e5-ae1c-5dffb3a67e98",
   "metadata": {},
   "source": [
    "#### Equation (78), (79) with substitution"
   ]
  },
  {
   "cell_type": "code",
   "execution_count": 256,
   "id": "bfe7d92c-ab49-44fa-97df-95bcfa97af44",
   "metadata": {
    "tags": []
   },
   "outputs": [],
   "source": [
    "def I(v, k):\n",
    "    \"\"\"Return the integral I, evaluated numerically.\"\"\"\n",
    "    kappa = 2 * np.arcsin(k)\n",
    "    func = lambda x: np.sin(x) ** (2 * v)\n",
    "    res, err = quad(func, -0.5 * kappa, 0.5 * kappa, epsabs=epsabs, epsrel=epsrel)\n",
    "    return res\n",
    "\n",
    "def J(v, k):\n",
    "    \"\"\"Return the integral J, evaluated numerically.\"\"\"\n",
    "    kappa = 2 * np.arcsin(k)\n",
    "    func = lambda x: np.sin(x) ** (2 * v) * (1 - k ** (-2) * np.sin(x) ** 2) ** 1.5\n",
    "    res, err = quad(func, -0.5 * kappa, 0.5 * kappa, epsabs=epsabs, epsrel=epsrel)\n",
    "    return res"
   ]
  },
  {
   "cell_type": "code",
   "execution_count": 257,
   "id": "96121fce-0f11-4511-9bff-448c349b0c8f",
   "metadata": {
    "tags": []
   },
   "outputs": [
    {
     "name": "stdout",
     "output_type": "stream",
     "text": [
      "The maximum relative error on I is 1.1102e-16.\n",
      "The maximum fractional error on I is 2.5677e-15.\n"
     ]
    }
   ],
   "source": [
    "maxrel = 0\n",
    "maxfrac = 0\n",
    "for k in np.logspace(-5, np.log10(0.5), 100):\n",
    "    for v in range(10):\n",
    "        I1 = I(v, k)\n",
    "        I2 = IHyper(v, k)\n",
    "        rel = np.abs(I1 - I2)\n",
    "        frac = np.abs(rel / I1)\n",
    "        if rel > maxrel:\n",
    "            maxrel = rel\n",
    "        if frac > maxfrac:\n",
    "            maxfrac = frac\n",
    "print(\"The maximum relative error on I is %.4e.\" % maxrel)\n",
    "print(\"The maximum fractional error on I is %.4e.\" % maxfrac)"
   ]
  },
  {
   "cell_type": "markdown",
   "id": "3385a99c-34e5-473f-8bb7-317bb2c084c9",
   "metadata": {},
   "source": [
    "#### Equation (82)"
   ]
  },
  {
   "cell_type": "code",
   "execution_count": 261,
   "id": "b920e537-4488-4b54-b206-b32543cb8bb3",
   "metadata": {
    "tags": []
   },
   "outputs": [],
   "source": [
    "def ISeries(v, k, nterms=30):\n",
    "    \"\"\"Return the integral I, evaluated as a series.\"\"\"\n",
    "    res = 0\n",
    "    for j in range(nterms):\n",
    "        res += fac2(2 * j - 1) / (2 ** j * factorial(j) * (2 * j + 2 * v + 1)) * k ** (2 * j)\n",
    "    return 2 * k ** (1 + 2 * v) * float(res)\n",
    "\n",
    "def JSeries(v, k, nterms=30):\n",
    "    \"\"\"Return the integral J, evaluated as a series.\"\"\"\n",
    "    res = 0\n",
    "    for j in range(nterms):\n",
    "        res += fac2(2 * j - 1) * fac2(2 * j + 2 * v - 1) / \\\n",
    "               (2 ** (2 * j + v) * factorial(j) * factorial(j + v + 2)) * k ** (2 * j)\n",
    "    return 3 * np.pi / 4 * k ** (1 + 2 * v) * float(res)"
   ]
  },
  {
   "cell_type": "code",
   "execution_count": 262,
   "id": "9389d1f5-d361-425d-baeb-c9b77edeb41f",
   "metadata": {
    "tags": []
   },
   "outputs": [
    {
     "name": "stdout",
     "output_type": "stream",
     "text": [
      "The maximum relative error on I is 3.3307e-16.\n",
      "The maximum fractional error on I is 2.7652e-15.\n"
     ]
    }
   ],
   "source": [
    "maxrel = 0\n",
    "maxfrac = 0\n",
    "for k in np.logspace(-5, np.log10(0.5), 100):\n",
    "    for v in range(10):\n",
    "        I1 = I(v, k)\n",
    "        I2 = ISeries(v, k)\n",
    "        rel = np.abs(I1 - I2)\n",
    "        frac = np.abs(rel / I1)\n",
    "        if rel > maxrel:\n",
    "            maxrel = rel\n",
    "        if frac > maxfrac:\n",
    "            maxfrac = frac\n",
    "print(\"The maximum relative error on I is %.4e.\" % maxrel)\n",
    "print(\"The maximum fractional error on I is %.4e.\" % maxfrac)"
   ]
  },
  {
   "cell_type": "code",
   "execution_count": 263,
   "id": "fb85bda6-db0d-4fad-89a4-da09fa7c4845",
   "metadata": {
    "tags": []
   },
   "outputs": [
    {
     "name": "stdout",
     "output_type": "stream",
     "text": [
      "The maximum relative error on J is 7.1609e-15.\n",
      "The maximum fractional error on J is 1.0977e-05.\n"
     ]
    }
   ],
   "source": [
    "maxrel = 0\n",
    "maxfrac = 0\n",
    "for k in np.logspace(-5, np.log10(0.5), 100):\n",
    "    for v in range(10):\n",
    "        J1 = J(v, k)\n",
    "        J2 = JSeries(v, k)\n",
    "        rel = np.abs(J1 - J2)\n",
    "        frac = np.abs(rel / J1)\n",
    "        if rel > maxrel:\n",
    "            maxrel = rel\n",
    "        if frac > maxfrac:\n",
    "            maxfrac = frac\n",
    "print(\"The maximum relative error on J is %.4e.\" % maxrel)\n",
    "print(\"The maximum fractional error on J is %.4e.\" % maxfrac)"
   ]
  },
  {
   "cell_type": "markdown",
   "id": "41850cdb-3ec4-4bf4-a638-5d13bd9c1de3",
   "metadata": {},
   "source": [
    "#### Equation (83)"
   ]
  },
  {
   "cell_type": "code",
   "execution_count": 264,
   "id": "13661ba4-d436-4b4c-b01d-a9253cc183f7",
   "metadata": {
    "tags": []
   },
   "outputs": [],
   "source": [
    "def IUpward(v, k, nterms=30):\n",
    "    \"\"\"Return the integral I, evaluated recursively.\"\"\"\n",
    "    if v == 0:\n",
    "        return 2 * np.arcsin(k)\n",
    "    else:\n",
    "        return (1 / v) * ((2 * v - 1) / 2 * IUpward(v - 1, k, nterms=nterms) - k ** (2 * v - 1) * np.sqrt(1 - k ** 2))\n"
   ]
  },
  {
   "cell_type": "markdown",
   "id": "7c28b2b2-6da6-4b5f-8e71-2f7617e7eff2",
   "metadata": {},
   "source": [
    "#### Equation (84)"
   ]
  },
  {
   "cell_type": "code",
   "execution_count": 265,
   "id": "6d1e6e11-0332-4821-9352-2275adfdc53f",
   "metadata": {
    "tags": []
   },
   "outputs": [],
   "source": [
    "def JUpward(v, k, nterms=30):\n",
    "    \"\"\"Return the integral J, evaluated recursively.\"\"\"\n",
    "    if v == 0:\n",
    "        return 2 / (3 * k ** 3) * (2 * (2 * k ** 2 - 1) * ellipe(k ** 2) +\n",
    "                                   (1 - k ** 2) * (2 - 3 * k ** 2) * ellipk(k ** 2))\n",
    "    elif v == 1:\n",
    "        return 2 / (15 * k ** 3) * ((-3 * k ** 4 + 13 * k ** 2 - 8) * ellipe(k ** 2) +\n",
    "                                   (1 - k ** 2) * (8 - 9 * k ** 2) * ellipk(k ** 2))\n",
    "    else:\n",
    "        return (1 / (2 * v + 3)) * (2 * (v + (v - 1) * k ** 2 + 1) * JUpward(v - 1, k, nterms=nterms) -\n",
    "                                    k ** 2 * (2 * v - 3) * JUpward(v - 2, k, nterms=nterms))"
   ]
  },
  {
   "cell_type": "code",
   "execution_count": 266,
   "id": "0c8c640b-3183-4e2c-bf2c-5e649ad1a7bf",
   "metadata": {
    "tags": []
   },
   "outputs": [
    {
     "name": "stdout",
     "output_type": "stream",
     "text": [
      "The maximum relative error on I is 5.5511e-16.\n",
      "The maximum fractional error on I is 1.3654e-10.\n"
     ]
    }
   ],
   "source": [
    "maxrel = 0\n",
    "maxfrac = 0\n",
    "for k in np.linspace(0.5, 1.0, 100):\n",
    "    for v in range(10):\n",
    "        I1 = I(v, k)\n",
    "        I2 = IUpward(v, k)\n",
    "        rel = np.abs(I1 - I2)\n",
    "        frac = np.abs(rel / I1)\n",
    "        if rel > maxrel:\n",
    "            maxrel = rel\n",
    "        if frac > maxfrac:\n",
    "            maxfrac = frac\n",
    "print(\"The maximum relative error on I is %.4e.\" % maxrel)\n",
    "print(\"The maximum fractional error on I is %.4e.\" % maxfrac)"
   ]
  },
  {
   "cell_type": "code",
   "execution_count": 267,
   "id": "816229da-cbae-4d04-b340-4eed455fc488",
   "metadata": {
    "tags": []
   },
   "outputs": [
    {
     "name": "stdout",
     "output_type": "stream",
     "text": [
      "The maximum relative error on J is 3.7073e-14.\n",
      "The maximum fractional error on J is 7.9346e-08.\n"
     ]
    }
   ],
   "source": [
    "maxrel = 0\n",
    "maxfrac = 0\n",
    "for k in np.linspace(0.5, 1.0, 100):\n",
    "    for v in range(10):\n",
    "        J1 = J(v, k)\n",
    "        J2 = JUpward(v, k)\n",
    "        rel = np.abs(J1 - J2)\n",
    "        frac = np.abs(rel / J1)\n",
    "        if rel > maxrel:\n",
    "            maxrel = rel\n",
    "        if frac > maxfrac:\n",
    "            maxfrac = frac\n",
    "print(\"The maximum relative error on J is %.4e.\" % maxrel)\n",
    "print(\"The maximum fractional error on J is %.4e.\" % maxfrac)"
   ]
  },
  {
   "cell_type": "markdown",
   "id": "408c42d0-86af-4a23-82b8-44f7f6c29930",
   "metadata": {},
   "source": [
    "#### Equation (88)"
   ]
  },
  {
   "cell_type": "code",
   "execution_count": 268,
   "id": "48829e29-b274-4568-813d-d14db7488f5f",
   "metadata": {
    "tags": []
   },
   "outputs": [],
   "source": [
    "def IDownward(v, k, vmax=10, nterms=30):\n",
    "    \"\"\"Return the integral I, evaluated recursively.\"\"\"\n",
    "    if v == vmax:\n",
    "        return ISeries(v, k, nterms)\n",
    "    else:\n",
    "        return (2 / (2 * v + 1)) * ((v + 1) * IDownward(v + 1, k, vmax, nterms) + k ** (2 * v + 1) * np.sqrt(1 - k ** 2))\n"
   ]
  },
  {
   "cell_type": "markdown",
   "id": "da20a9d9-0c70-4d66-afc9-b9c679fa55c5",
   "metadata": {},
   "source": [
    "#### Equation (89)"
   ]
  },
  {
   "cell_type": "code",
   "execution_count": 269,
   "id": "104d71ed-152e-49c7-a909-05909e6c072a",
   "metadata": {
    "tags": []
   },
   "outputs": [],
   "source": [
    "def JDownward(v, k, vmax=10, nterms=30):\n",
    "    \"\"\"Return the integral J, evaluated recursively.\"\"\"\n",
    "    if (v == vmax) or (v == vmax - 1):\n",
    "        return JSeries(v, k, nterms)\n",
    "    else:\n",
    "        return 1 / ((2 * v + 1) * k ** 2) * (2 * (3 + v + (1 + v) * k ** 2) * JDownward(v + 1, k, vmax, nterms) -\n",
    "                                             (2 * v + 7) * JDownward(v + 2, k, vmax, nterms))"
   ]
  },
  {
   "cell_type": "code",
   "execution_count": 271,
   "id": "4a02d539-cca2-4cd4-8662-cdf6e5773cbd",
   "metadata": {
    "tags": []
   },
   "outputs": [
    {
     "name": "stdout",
     "output_type": "stream",
     "text": [
      "The maximum relative error on I is 2.2204e-16.\n",
      "The maximum fractional error on I is 2.6404e-15.\n"
     ]
    }
   ],
   "source": [
    "maxrel = 0\n",
    "maxfrac = 0\n",
    "for k in np.logspace(-5, np.log10(0.5), 100):\n",
    "    for v in range(10):\n",
    "        I1 = I(v, k)\n",
    "        I2 = IDownward(v, k)\n",
    "        rel = np.abs(I1 - I2)\n",
    "        frac = np.abs(rel / I1)\n",
    "        if rel > maxrel:\n",
    "            maxrel = rel\n",
    "        if frac > maxfrac:\n",
    "            maxfrac = frac\n",
    "print(\"The maximum relative error on I is %.4e.\" % maxrel)\n",
    "print(\"The maximum fractional error on I is %.4e.\" % maxfrac)\n",
    "\n"
   ]
  },
  {
   "cell_type": "code",
   "execution_count": 272,
   "id": "6ae222b2-c601-481d-a706-91ef5283ed4d",
   "metadata": {
    "tags": []
   },
   "outputs": [
    {
     "name": "stdout",
     "output_type": "stream",
     "text": [
      "The maximum relative error on J is 7.0499e-15.\n",
      "The maximum fractional error on J is 1.0977e-05.\n"
     ]
    }
   ],
   "source": [
    "maxrel = 0\n",
    "maxfrac = 0\n",
    "for k in np.logspace(-5, np.log10(0.5), 100):\n",
    "    for v in range(10):\n",
    "        J1 = J(v, k)\n",
    "        J2 = JDownward(v, k)\n",
    "        rel = np.abs(J1 - J2)\n",
    "        frac = np.abs(rel / J1)\n",
    "        if rel > maxrel:\n",
    "            maxrel = rel\n",
    "        if frac > maxfrac:\n",
    "            maxfrac = frac\n",
    "print(\"The maximum relative error on J is %.4e.\" % maxrel)\n",
    "print(\"The maximum fractional error on J is %.4e.\" % maxfrac)"
   ]
  },
  {
   "cell_type": "markdown",
   "id": "016fcf4b-81e7-468d-936c-bce22164fce2",
   "metadata": {},
   "source": [
    "#### Equation (90)"
   ]
  },
  {
   "cell_type": "code",
   "execution_count": 275,
   "id": "aa0d55a7-f042-4a3e-a320-86b563f0cc44",
   "metadata": {
    "tags": []
   },
   "outputs": [],
   "source": [
    "epsabs=1e-8\n",
    "epsrel=1e-8"
   ]
  },
  {
   "cell_type": "code",
   "execution_count": 273,
   "id": "a3b73675-8bb9-4ec8-9415-4a8279c9bcd1",
   "metadata": {
    "tags": []
   },
   "outputs": [],
   "source": [
    "def IAnalytic(v, k, nterms=30):\n",
    "    \"\"\"Return the integral I, evaluated analytically.\"\"\"\n",
    "    return np.pi * fac2(2 * v - 1) / (2 ** v * factorial(v))"
   ]
  },
  {
   "cell_type": "code",
   "execution_count": 276,
   "id": "4f74f550-40a1-42f7-bd06-94c17a680a22",
   "metadata": {
    "tags": []
   },
   "outputs": [
    {
     "name": "stderr",
     "output_type": "stream",
     "text": [
      "/tmp/ipykernel_5120/1877228690.py:3: RuntimeWarning: invalid value encountered in arcsin\n",
      "  kappa = 2 * np.arcsin(k)\n",
      "/tmp/ipykernel_5120/1877228690.py:5: IntegrationWarning: The occurrence of roundoff error is detected, which prevents \n",
      "  the requested tolerance from being achieved.  The error may be \n",
      "  underestimated.\n",
      "  res, err = quad(func, -0.5 * kappa, 0.5 * kappa, epsabs=epsabs, epsrel=epsrel)\n"
     ]
    },
    {
     "name": "stdout",
     "output_type": "stream",
     "text": [
      "The maximum relative error on I is 2.2204e-16.\n",
      "The maximum fractional error on I is 3.3741e-16.\n"
     ]
    }
   ],
   "source": [
    "maxrel = 0\n",
    "maxfrac = 0\n",
    "for k in np.logspace(0, 5, 100):\n",
    "    for v in range(10):\n",
    "        I1 = I(v, k)\n",
    "        I2 = IAnalytic(v, k)\n",
    "        rel = np.abs(I1 - I2)\n",
    "        frac = np.abs(rel / I1)\n",
    "        if rel > maxrel:\n",
    "            maxrel = rel\n",
    "        if frac > maxfrac:\n",
    "            maxfrac = frac\n",
    "print(\"The maximum relative error on I is %.4e.\" % maxrel)\n",
    "print(\"The maximum fractional error on I is %.4e.\" % maxfrac)"
   ]
  },
  {
   "cell_type": "markdown",
   "id": "2d4f204e-a1e7-47fd-af33-d559d85d7f59",
   "metadata": {},
   "source": [
    "#### Equation (91)"
   ]
  },
  {
   "cell_type": "code",
   "execution_count": 277,
   "id": "6f40e0f8-3bb7-45d6-853b-fd5ff20fe063",
   "metadata": {
    "tags": []
   },
   "outputs": [],
   "source": [
    "def JSeries(v, k, nterms=30):\n",
    "    \"\"\"Return the integral J, evaluated as a series.\"\"\"\n",
    "    res = 0\n",
    "    for j in range(nterms):\n",
    "        res += (-1) ** j * binomial(1.5, j) * fac2(2 * j + 2 * v - 1) / (2 ** (j + v) * factorial(j + v)) * k ** (-2 * j)\n",
    "    return np.pi * float(res)"
   ]
  },
  {
   "cell_type": "code",
   "execution_count": 278,
   "id": "26fc704d-1734-4b7d-8c0f-8461fdf300e0",
   "metadata": {
    "tags": []
   },
   "outputs": [
    {
     "name": "stderr",
     "output_type": "stream",
     "text": [
      "/tmp/ipykernel_5120/1877228690.py:10: RuntimeWarning: invalid value encountered in arcsin\n",
      "  kappa = 2 * np.arcsin(k)\n",
      "/tmp/ipykernel_5120/1877228690.py:12: IntegrationWarning: The occurrence of roundoff error is detected, which prevents \n",
      "  the requested tolerance from being achieved.  The error may be \n",
      "  underestimated.\n",
      "  res, err = quad(func, -0.5 * kappa, 0.5 * kappa, epsabs=epsabs, epsrel=epsrel)\n"
     ]
    },
    {
     "name": "stdout",
     "output_type": "stream",
     "text": [
      "The maximum relative error on J is 0.0000e+00.\n",
      "The maximum fractional error on J is 0.0000e+00.\n"
     ]
    }
   ],
   "source": [
    "maxrel = 0\n",
    "maxfrac = 0\n",
    "for k in np.logspace(np.log10(2), 5, 100):\n",
    "    for v in range(10):\n",
    "        J1 = J(v, k)\n",
    "        J2 = JSeries(v, k)\n",
    "        rel = np.abs(J1 - J2)\n",
    "        frac = np.abs(rel / J1)\n",
    "        if rel > maxrel:\n",
    "            maxrel = rel\n",
    "        if frac > maxfrac:\n",
    "            maxfrac = frac\n",
    "print(\"The maximum relative error on J is %.4e.\" % maxrel)\n",
    "print(\"The maximum fractional error on J is %.4e.\" % maxfrac)"
   ]
  },
  {
   "cell_type": "markdown",
   "id": "109a357a-9d0c-4b56-b8d2-8da9a3152093",
   "metadata": {},
   "source": [
    "#### Equation (92) (plugged into Equation (84))"
   ]
  },
  {
   "cell_type": "code",
   "execution_count": 279,
   "id": "d706e7a1-4ebe-4d45-a271-895876594076",
   "metadata": {
    "tags": []
   },
   "outputs": [],
   "source": [
    "def JUpward(v, k, nterms=30):\n",
    "    \"\"\"Return the integral J, evaluated recursively.\"\"\"\n",
    "    if v == 0:\n",
    "        return (1 / 3) * ((8 - 4 / k ** 2) * ellipe(1 / k ** 2) -\n",
    "                          2 * (1 - 1 / k ** 2) * ellipk(1 / k ** 2))\n",
    "    elif v == 1:\n",
    "        return (1 / 15) * ((-6 * k ** 2 + 26 - 16 / k ** 2) * ellipe(1 / k ** 2) +\n",
    "                          2 * (1 - 1 / k ** 2) * (3 * k ** 2 - 4) * ellipk(1 / k ** 2))\n",
    "    else:\n",
    "        return (1 / (2 * v + 3)) * (2 * (v + (v - 1) * k ** 2 + 1) * JUpward(v - 1, k, nterms=nterms) -\n",
    "                                    k ** 2 * (2 * v - 3) * JUpward(v - 2, k, nterms=nterms))"
   ]
  },
  {
   "cell_type": "code",
   "execution_count": 280,
   "id": "c1d17dda-cf80-4b02-ac82-113889998943",
   "metadata": {
    "tags": []
   },
   "outputs": [
    {
     "name": "stderr",
     "output_type": "stream",
     "text": [
      "/tmp/ipykernel_5120/1877228690.py:10: RuntimeWarning: invalid value encountered in arcsin\n",
      "  kappa = 2 * np.arcsin(k)\n",
      "/tmp/ipykernel_5120/1877228690.py:12: IntegrationWarning: The occurrence of roundoff error is detected, which prevents \n",
      "  the requested tolerance from being achieved.  The error may be \n",
      "  underestimated.\n",
      "  res, err = quad(func, -0.5 * kappa, 0.5 * kappa, epsabs=epsabs, epsrel=epsrel)\n"
     ]
    },
    {
     "name": "stdout",
     "output_type": "stream",
     "text": [
      "The maximum relative error on J is 0.0000e+00.\n",
      "The maximum fractional error on J is 0.0000e+00.\n"
     ]
    }
   ],
   "source": [
    "maxrel = 0\n",
    "maxfrac = 0\n",
    "for k in np.linspace(1.0, 2.0, 100):\n",
    "    for v in range(10):\n",
    "        J1 = J(v, k)\n",
    "        J2 = JUpward(v, k)\n",
    "        rel = np.abs(J1 - J2)\n",
    "        frac = np.abs(rel / J1)\n",
    "        if rel > maxrel:\n",
    "            maxrel = rel\n",
    "        if frac > maxfrac:\n",
    "            maxfrac = frac\n",
    "print(\"The maximum relative error on J is %.4e.\" % maxrel)\n",
    "print(\"The maximum fractional error on J is %.4e.\" % maxfrac)"
   ]
  },
  {
   "cell_type": "code",
   "execution_count": 281,
   "id": "c698e19e-aa25-493d-91b5-1f0b5e9c0f45",
   "metadata": {
    "tags": []
   },
   "outputs": [],
   "source": [
    "# Define our symbols\n",
    "x, y, z, mu, nu, l, m = symbols('x y z mu nu l m')\n",
    "z = sqrt(1 - x ** 2 - y ** 2)\n",
    "from sympy.vector import CoordSys3D\n",
    "N = CoordSys3D('N')"
   ]
  },
  {
   "cell_type": "markdown",
   "id": "95834d5c-60f3-443b-b2aa-98c40814b8d1",
   "metadata": {},
   "source": [
    "#### Equation (29)"
   ]
  },
  {
   "cell_type": "code",
   "execution_count": 282,
   "id": "e9ec27f1-ed6a-421c-8b46-1587e2f470cd",
   "metadata": {
    "tags": []
   },
   "outputs": [],
   "source": [
    "def ExteriorDerivative(F):\n",
    "    \"\"\"Return the exterior derivative of the vector function F.\"\"\"\n",
    "    return simplify(diff(F.dot(N.j), x) - diff(F.dot(N.i), y))"
   ]
  },
  {
   "cell_type": "markdown",
   "id": "72c6b16a-580d-4297-a610-97c4864721f4",
   "metadata": {},
   "source": [
    "#### Equation (34) [comparing exterior derivative with Equation 11]"
   ]
  },
  {
   "cell_type": "code",
   "execution_count": 283,
   "id": "636aa6c0-0be5-4861-9f98-910b67b4b0ef",
   "metadata": {
    "tags": []
   },
   "outputs": [],
   "source": [
    "G = x ** ((mu + 2) / 2) * y ** (nu / 2) * N.j"
   ]
  },
  {
   "cell_type": "code",
   "execution_count": 284,
   "id": "037ea57a-b94b-4201-85c8-1f4e99600bee",
   "metadata": {
    "tags": []
   },
   "outputs": [
    {
     "data": {
      "text/latex": [
       "$\\displaystyle \\left(x^{\\frac{\\mu}{2} + 1} y^{\\frac{\\nu}{2}}\\right)\\mathbf{\\hat{j}_{N}}$"
      ],
      "text/plain": [
       "(x**(mu/2 + 1)*y**(nu/2))*N.j"
      ]
     },
     "execution_count": 284,
     "metadata": {},
     "output_type": "execute_result"
    }
   ],
   "source": [
    "G"
   ]
  },
  {
   "cell_type": "code",
   "execution_count": 285,
   "id": "a8d09bd8-696b-4dc8-8c1d-6f76af8717bd",
   "metadata": {
    "tags": []
   },
   "outputs": [
    {
     "data": {
      "text/latex": [
       "$\\displaystyle \\frac{x^{\\frac{\\mu}{2}} y^{\\frac{\\nu}{2}} \\left(\\mu + 2\\right)}{2}$"
      ],
      "text/plain": [
       "x**(mu/2)*y**(nu/2)*(mu + 2)/2"
      ]
     },
     "execution_count": 285,
     "metadata": {},
     "output_type": "execute_result"
    }
   ],
   "source": [
    "ExteriorDerivative(G)"
   ]
  },
  {
   "cell_type": "code",
   "execution_count": 286,
   "id": "51aea3ea-2208-43b2-97c3-57fc1929ff66",
   "metadata": {
    "tags": []
   },
   "outputs": [],
   "source": [
    "G = (1 - z ** 3) / (3 * (1 - z ** 2)) * (-y * N.i + x * N.j)"
   ]
  },
  {
   "cell_type": "code",
   "execution_count": 287,
   "id": "4826a96c-aba3-47f9-ac95-077b2a525e37",
   "metadata": {
    "tags": []
   },
   "outputs": [
    {
     "data": {
      "text/latex": [
       "$\\displaystyle \\left(- \\frac{y \\left(1 - \\left(- x^{2} - y^{2} + 1\\right)^{\\frac{3}{2}}\\right)}{3 x^{2} + 3 y^{2}}\\right)\\mathbf{\\hat{i}_{N}} + \\left(\\frac{x \\left(1 - \\left(- x^{2} - y^{2} + 1\\right)^{\\frac{3}{2}}\\right)}{3 x^{2} + 3 y^{2}}\\right)\\mathbf{\\hat{j}_{N}}$"
      ],
      "text/plain": [
       "(-y*(1 - (-x**2 - y**2 + 1)**(3/2))/(3*x**2 + 3*y**2))*N.i + (x*(1 - (-x**2 - y**2 + 1)**(3/2))/(3*x**2 + 3*y**2))*N.j"
      ]
     },
     "execution_count": 287,
     "metadata": {},
     "output_type": "execute_result"
    }
   ],
   "source": [
    "G"
   ]
  },
  {
   "cell_type": "code",
   "execution_count": 289,
   "id": "0768c233-ab93-4b31-ae0e-628037b6880b",
   "metadata": {
    "tags": []
   },
   "outputs": [
    {
     "data": {
      "text/latex": [
       "$\\displaystyle \\sqrt{- x^{2} - y^{2} + 1}$"
      ],
      "text/plain": [
       "sqrt(-x**2 - y**2 + 1)"
      ]
     },
     "execution_count": 289,
     "metadata": {},
     "output_type": "execute_result"
    }
   ],
   "source": [
    "ExteriorDerivative(G)\n",
    "\n"
   ]
  },
  {
   "cell_type": "code",
   "execution_count": 290,
   "id": "ccd5bd41-dbab-41f3-aad4-9b01e4a0397d",
   "metadata": {
    "tags": []
   },
   "outputs": [],
   "source": [
    "G = x ** (l - 2) * z ** 3 * N.i"
   ]
  },
  {
   "cell_type": "code",
   "execution_count": 291,
   "id": "262d973a-5a97-4d58-838d-0ea461e61083",
   "metadata": {
    "tags": []
   },
   "outputs": [
    {
     "data": {
      "text/latex": [
       "$\\displaystyle \\left(x^{l - 2} \\left(- x^{2} - y^{2} + 1\\right)^{\\frac{3}{2}}\\right)\\mathbf{\\hat{i}_{N}}$"
      ],
      "text/plain": [
       "(x**(l - 2)*(-x**2 - y**2 + 1)**(3/2))*N.i"
      ]
     },
     "execution_count": 291,
     "metadata": {},
     "output_type": "execute_result"
    }
   ],
   "source": [
    "G"
   ]
  },
  {
   "cell_type": "code",
   "execution_count": 292,
   "id": "1a929e43-5ac4-4b98-9ecd-e30a6daa2c58",
   "metadata": {
    "tags": []
   },
   "outputs": [
    {
     "data": {
      "text/latex": [
       "$\\displaystyle 3 x^{l - 2} y \\sqrt{- x^{2} - y^{2} + 1}$"
      ],
      "text/plain": [
       "3*x**(l - 2)*y*sqrt(-x**2 - y**2 + 1)"
      ]
     },
     "execution_count": 292,
     "metadata": {},
     "output_type": "execute_result"
    }
   ],
   "source": [
    "ExteriorDerivative(G)"
   ]
  },
  {
   "cell_type": "code",
   "execution_count": 294,
   "id": "d36dc50b-43f7-4043-a0b8-aa75a0f2610d",
   "metadata": {
    "tags": []
   },
   "outputs": [],
   "source": [
    "G = x ** (l - 3) * y * z ** 3 * N.i"
   ]
  },
  {
   "cell_type": "code",
   "execution_count": 295,
   "id": "32d0a6f4-54b3-4f65-9526-77896c3e3b14",
   "metadata": {
    "tags": []
   },
   "outputs": [
    {
     "data": {
      "text/latex": [
       "$\\displaystyle \\left(x^{l - 3} y \\left(- x^{2} - y^{2} + 1\\right)^{\\frac{3}{2}}\\right)\\mathbf{\\hat{i}_{N}}$"
      ],
      "text/plain": [
       "(x**(l - 3)*y*(-x**2 - y**2 + 1)**(3/2))*N.i"
      ]
     },
     "execution_count": 295,
     "metadata": {},
     "output_type": "execute_result"
    }
   ],
   "source": [
    "G"
   ]
  },
  {
   "cell_type": "code",
   "execution_count": 296,
   "id": "fe0ddf71-44bb-4d5a-b918-c2f012040afc",
   "metadata": {
    "tags": []
   },
   "outputs": [
    {
     "data": {
      "text/latex": [
       "$\\displaystyle x^{l - 3} \\sqrt{- x^{2} - y^{2} + 1} \\left(x^{2} + 4 y^{2} - 1\\right)$"
      ],
      "text/plain": [
       "x**(l - 3)*sqrt(-x**2 - y**2 + 1)*(x**2 + 4*y**2 - 1)"
      ]
     },
     "execution_count": 296,
     "metadata": {},
     "output_type": "execute_result"
    }
   ],
   "source": [
    "ExteriorDerivative(G)"
   ]
  },
  {
   "cell_type": "code",
   "execution_count": 298,
   "id": "b055d8ef-602e-4638-8606-3066eac09947",
   "metadata": {
    "tags": []
   },
   "outputs": [],
   "source": [
    "G = x ** ((mu - 3) / 2) * y ** ((nu - 1) / 2) * z ** 3 * N.j"
   ]
  },
  {
   "cell_type": "code",
   "execution_count": 299,
   "id": "176c4b0a-1875-4117-9986-11aa8cff66b3",
   "metadata": {
    "tags": []
   },
   "outputs": [
    {
     "data": {
      "text/latex": [
       "$\\displaystyle \\left(x^{\\frac{\\mu}{2} - \\frac{3}{2}} y^{\\frac{\\nu}{2} - \\frac{1}{2}} \\left(- x^{2} - y^{2} + 1\\right)^{\\frac{3}{2}}\\right)\\mathbf{\\hat{j}_{N}}$"
      ],
      "text/plain": [
       "(x**(mu/2 - 3/2)*y**(nu/2 - 1/2)*(-x**2 - y**2 + 1)**(3/2))*N.j"
      ]
     },
     "execution_count": 299,
     "metadata": {},
     "output_type": "execute_result"
    }
   ],
   "source": [
    "G"
   ]
  },
  {
   "cell_type": "code",
   "execution_count": 300,
   "id": "14c8787b-bc5b-4ab2-8b7a-0f0cdbeb3c1b",
   "metadata": {
    "tags": []
   },
   "outputs": [
    {
     "data": {
      "text/latex": [
       "$\\displaystyle \\frac{y^{\\frac{\\nu}{2} - \\frac{1}{2}} \\left(x^{\\frac{\\mu}{2} - \\frac{3}{2}} \\left(\\mu - 3\\right) \\left(- x^{2} - y^{2} + 1\\right) - 6 x^{\\frac{\\mu}{2} + \\frac{1}{2}}\\right) \\sqrt{- x^{2} - y^{2} + 1}}{2 x}$"
      ],
      "text/plain": [
       "y**(nu/2 - 1/2)*(x**(mu/2 - 3/2)*(mu - 3)*(-x**2 - y**2 + 1) - 6*x**(mu/2 + 1/2))*sqrt(-x**2 - y**2 + 1)/(2*x)"
      ]
     },
     "execution_count": 300,
     "metadata": {},
     "output_type": "execute_result"
    }
   ],
   "source": [
    "ExteriorDerivative(G)"
   ]
  },
  {
   "cell_type": "code",
   "execution_count": 301,
   "id": "f0008b9d-3dd3-4dfb-839c-e9bb2719e980",
   "metadata": {
    "tags": []
   },
   "outputs": [
    {
     "data": {
      "text/latex": [
       "$\\displaystyle 0$"
      ],
      "text/plain": [
       "0"
      ]
     },
     "execution_count": 301,
     "metadata": {},
     "output_type": "execute_result"
    }
   ],
   "source": [
    "simplify(ExteriorDerivative(G) - z * ((mu - 3) / 2 * x ** ((mu - 5) / 2) * y ** ((nu - 1) / 2) - (mu - 3) / 2 * x ** ((mu - 5) / 2) * y ** ((nu + 3) / 2) - (mu + 3) / 2 * x ** ((mu - 1) / 2) * y ** ((nu - 1) / 2)))"
   ]
  },
  {
   "cell_type": "markdown",
   "id": "f2ed2a9b-0cca-4f73-b227-7e43a819e70a",
   "metadata": {},
   "source": [
    "### 6. Light curves of Limb-darkened bodies"
   ]
  },
  {
   "cell_type": "code",
   "execution_count": 302,
   "id": "3805da21-7a66-446c-9fe0-8ace2354c53d",
   "metadata": {
    "tags": []
   },
   "outputs": [],
   "source": [
    "# Define our symbols\n",
    "x, y, z, mu, nu, l, m, j, k, p, q, n, u1, u2 = symbols('x y z mu nu l m j k p q n u1 u2')\n",
    "y0 = Symbol('Y_0,0')\n",
    "y1 = Symbol('Y_1,-1')\n",
    "y2 = Symbol('Y_1,0')\n",
    "y3 = Symbol('Y_1,1')\n",
    "y4 = Symbol('Y_2,-2')\n",
    "y5 = Symbol('Y_2,-1')\n",
    "y6 = Symbol('Y_2,0')\n",
    "y7 = Symbol('Y_2,1')\n",
    "y8 = Symbol('Y_2,2')"
   ]
  },
  {
   "cell_type": "code",
   "execution_count": 303,
   "id": "00e51f3e-0bfd-4903-96e7-7b8f41cdc5cf",
   "metadata": {
    "tags": []
   },
   "outputs": [
    {
     "data": {
      "text/latex": [
       "$\\displaystyle \\left[\\begin{matrix}- u_{1} - 2 u_{2} + 1 & 0 & u_{1} + 2 u_{2} & 0 & u_{2} & 0 & 0 & 0 & u_{2}\\end{matrix}\\right]$"
      ],
      "text/plain": [
       "Matrix([[-u1 - 2*u2 + 1, 0, u1 + 2*u2, 0, u2, 0, 0, 0, u2]])"
      ]
     },
     "execution_count": 303,
     "metadata": {},
     "output_type": "execute_result"
    }
   ],
   "source": [
    "pvec = Matrix([1 - u1 - 2 * u2, 0, u1 + 2 * u2, 0, u2, 0, 0, 0, u2])\n",
    "pvec.T"
   ]
  },
  {
   "cell_type": "code",
   "execution_count": 311,
   "id": "cc95615c-29a3-4282-8b8e-9c7d57de7f8a",
   "metadata": {
    "tags": []
   },
   "outputs": [],
   "source": [
    "def A(l, m):\n",
    "    \"\"\"A spherical harmonic normalization constant.\"\"\"\n",
    "    return sqrt((2 - KroneckerDelta(m, 0)) * (2 * l + 1) * factorial(l - m) / (4 * pi * factorial(l + m)))\n",
    "\n",
    "def Y(l, m, x, y):\n",
    "    \"\"\"Return the spherical harmonic of degree `l` and order `m`.\"\"\"\n",
    "    res = 0\n",
    "    z = sqrt(1 - x ** 2 - y ** 2)\n",
    "    if (m >= 0):\n",
    "        for j in range(0, m + 1, 2):\n",
    "            for k in range(0, l - m + 1, 2):\n",
    "                for p in range(0, k + 1, 2):\n",
    "                    for q in range(0, p + 1, 2):\n",
    "                        res += (-1) ** ((j + p) // 2) * A(l, m) * B(l, m, j, k) * C(p, q, k) * x ** (m - j + p - q) * y ** (j + q)\n",
    "            for k in range(1, l - m + 1, 2):\n",
    "                for p in range(0, k, 2):\n",
    "                    for q in range(0, p + 1, 2):\n",
    "                        res += (-1) ** ((j + p) // 2) * A(l, m) * B(l, m, j, k) * C(p, q, k - 1) * x ** (m - j + p - q) * y ** (j + q) * z\n",
    "    else:\n",
    "        for j in range(1, abs(m) + 1, 2):\n",
    "            for k in range(0, l - abs(m) + 1, 2):\n",
    "                for p in range(0, k + 1, 2):\n",
    "                    for q in range(0, p + 1, 2):\n",
    "                        res += (-1) ** ((j + p - 1) // 2) * A(l, abs(m)) * B(l, abs(m), j, k) * C(p, q, k) * x ** (abs(m) - j + p - q) * y ** (j + q)\n",
    "            for k in range(1, l - abs(m) + 1, 2):\n",
    "                for p in range(0, k, 2):\n",
    "                    for q in range(0, p + 1, 2):\n",
    "                        res += (-1) ** ((j + p - 1) // 2) * A(l, abs(m)) * B(l, abs(m), j, k) * C(p, q, k - 1) * x ** (abs(m) - j + p - q) * y ** (j + q) * z\n",
    "\n",
    "    return res\n",
    "\n",
    "def p_Y(l, m, lmax):\n",
    "    \"\"\"Return the polynomial basis representation of the spherical harmonic `Y_{lm}`.\"\"\"\n",
    "    ylm = Y(l, m, x, y)\n",
    "    res = [ylm.subs(sqrt(1 - x ** 2 - y ** 2), 0).subs(x, 0).subs(y, 0)]\n",
    "    for n in range(1, (lmax + 1) ** 2):\n",
    "        res.append(Coefficient(ylm, ptilde(n, x, y)))\n",
    "    return res\n",
    "\n",
    "def A1(lmax):\n",
    "    \"\"\"Return the change of basis matrix A1. The columns of this matrix are given by `p_Y`.\"\"\"\n",
    "    res = zeros((lmax + 1) ** 2, (lmax + 1) ** 2)\n",
    "    n = 0\n",
    "    for l in range(lmax + 1):\n",
    "        for m in range(-l, l + 1):\n",
    "            res[n] = p_Y(l, m, lmax)\n",
    "            n += 1\n",
    "    return res"
   ]
  },
  {
   "cell_type": "code",
   "execution_count": 312,
   "id": "f7b5a9de-80ec-49fb-9679-08d9c6036f60",
   "metadata": {
    "tags": []
   },
   "outputs": [
    {
     "name": "stdout",
     "output_type": "stream",
     "text": [
      "expression 0.5*sqrt(3)*y/sqrt(pi)\n",
      "coe term y\n",
      "coeff 0.5*sqrt(3)/sqrt(pi)\n",
      "expression 0.5*sqrt(3)*sqrt(-x**2 - y**2 + 1)/sqrt(pi)\n",
      "coe term sqrt(-x**2 - y**2 + 1)\n",
      "coeff 0.5*sqrt(3)/sqrt(pi)\n",
      "expression 0.5*sqrt(3)*x/sqrt(pi)\n",
      "coe term x\n",
      "coeff 0.5*sqrt(3)/sqrt(pi)\n",
      "expression 0.5*sqrt(15)*x*y/sqrt(pi)\n",
      "coe term x\n",
      "coeff 0.5*sqrt(15)*y/sqrt(pi)\n",
      "expression 0.5*sqrt(15)*x*y/sqrt(pi)\n",
      "coe term y\n",
      "coeff 0.5*sqrt(15)*x/sqrt(pi)\n",
      "expression 0.5*sqrt(15)*x*y/sqrt(pi)\n",
      "coe term x*y\n",
      "coeff 0.5*sqrt(15)/sqrt(pi)\n",
      "expression 0.5*sqrt(15)*y*sqrt(-x**2 - y**2 + 1)/sqrt(pi)\n",
      "coe term sqrt(-x**2 - y**2 + 1)\n",
      "coeff 0.5*sqrt(15)*y/sqrt(pi)\n",
      "expression 0.5*sqrt(15)*y*sqrt(-x**2 - y**2 + 1)/sqrt(pi)\n",
      "coe term y\n",
      "coeff 0.5*sqrt(15)*sqrt(-x**2 - y**2 + 1)/sqrt(pi)\n",
      "expression 0.5*sqrt(15)*y*sqrt(-x**2 - y**2 + 1)/sqrt(pi)\n",
      "coe term y*sqrt(-x**2 - y**2 + 1)\n",
      "coeff 0.5*sqrt(15)/sqrt(pi)\n",
      "expression -0.75*sqrt(5)*x**2/sqrt(pi) - 0.75*sqrt(5)*y**2/sqrt(pi) + 0.5*sqrt(5)/sqrt(pi)\n",
      "coe term x**2\n",
      "coeff -0.75*sqrt(5)/sqrt(pi)\n",
      "expression -0.75*sqrt(5)*x**2/sqrt(pi) - 0.75*sqrt(5)*y**2/sqrt(pi) + 0.5*sqrt(5)/sqrt(pi)\n",
      "coe term y**2\n",
      "coeff -0.75*sqrt(5)/sqrt(pi)\n",
      "expression 0.5*sqrt(15)*x*sqrt(-x**2 - y**2 + 1)/sqrt(pi)\n",
      "coe term x\n",
      "coeff 0.5*sqrt(15)*sqrt(-x**2 - y**2 + 1)/sqrt(pi)\n",
      "expression 0.5*sqrt(15)*x*sqrt(-x**2 - y**2 + 1)/sqrt(pi)\n",
      "coe term sqrt(-x**2 - y**2 + 1)\n",
      "coeff 0.5*sqrt(15)*x/sqrt(pi)\n",
      "expression 0.5*sqrt(15)*x*sqrt(-x**2 - y**2 + 1)/sqrt(pi)\n",
      "coe term x*sqrt(-x**2 - y**2 + 1)\n",
      "coeff 0.5*sqrt(15)/sqrt(pi)\n",
      "expression 0.25*sqrt(15)*x**2/sqrt(pi) - 0.25*sqrt(15)*y**2/sqrt(pi)\n",
      "coe term x**2\n",
      "coeff 0.25*sqrt(15)/sqrt(pi)\n",
      "expression 0.25*sqrt(15)*x**2/sqrt(pi) - 0.25*sqrt(15)*y**2/sqrt(pi)\n",
      "coe term y**2\n",
      "coeff -0.25*sqrt(15)/sqrt(pi)\n"
     ]
    },
    {
     "data": {
      "text/latex": [
       "$\\displaystyle \\left[\\begin{matrix}1.33333333333333 \\sqrt{\\pi} u_{2} + 2.0 \\sqrt{\\pi} \\left(- u_{1} - 2 u_{2} + 1\\right)\\\\0\\\\0.666666666666667 \\sqrt{3} \\sqrt{\\pi} \\left(u_{1} + 2 u_{2}\\right)\\\\0\\\\0\\\\0\\\\- 0.266666666666667 \\sqrt{5} \\sqrt{\\pi} u_{2}\\\\0\\\\0\\end{matrix}\\right]$"
      ],
      "text/plain": [
       "Matrix([\n",
       "[1.33333333333333*sqrt(pi)*u2 + 2.0*sqrt(pi)*(-u1 - 2*u2 + 1)],\n",
       "[                                                           0],\n",
       "[              0.666666666666667*sqrt(3)*sqrt(pi)*(u1 + 2*u2)],\n",
       "[                                                           0],\n",
       "[                                                           0],\n",
       "[                                                           0],\n",
       "[                      -0.266666666666667*sqrt(5)*sqrt(pi)*u2],\n",
       "[                                                           0],\n",
       "[                                                           0]])"
      ]
     },
     "execution_count": 312,
     "metadata": {},
     "output_type": "execute_result"
    }
   ],
   "source": [
    "yvec = A1(2).inv() * pvec\n",
    "yvec"
   ]
  },
  {
   "cell_type": "code",
   "execution_count": 314,
   "id": "0c16c587-51e0-4d43-af2d-3b8d6ae57cd4",
   "metadata": {
    "tags": []
   },
   "outputs": [
    {
     "data": {
      "text/latex": [
       "$\\displaystyle \\left[\\begin{matrix}Y_{0,0} & Y_{1,-1} & Y_{1,0} & Y_{1,1} & Y_{2,-2} & Y_{2,-1} & Y_{2,0} & Y_{2,1} & Y_{2,2}\\end{matrix}\\right]$"
      ],
      "text/plain": [
       "Matrix([[Y_0,0, Y_1,-1, Y_1,0, Y_1,1, Y_2,-2, Y_2,-1, Y_2,0, Y_2,1, Y_2,2]])"
      ]
     },
     "execution_count": 314,
     "metadata": {},
     "output_type": "execute_result"
    }
   ],
   "source": [
    "ybasis = Matrix([y0, y1, y2, y3, y4, y5, y6, y7, y8])\n",
    "ybasis.T\n",
    "\n"
   ]
  },
  {
   "cell_type": "code",
   "execution_count": 316,
   "id": "c6e06096-30ae-4473-ad3b-73f02b79ab7a",
   "metadata": {
    "tags": []
   },
   "outputs": [
    {
     "data": {
      "text/latex": [
       "$\\displaystyle \\frac{2 \\sqrt{\\pi} \\left(5 Y_{0,0} \\left(- 3 u_{1} - 4 u_{2} + 3\\right) + 5 \\sqrt{3} Y_{1,0} \\left(u_{1} + 2 u_{2}\\right) - 2 \\sqrt{5} Y_{2,0} u_{2}\\right)}{15}$"
      ],
      "text/plain": [
       "2*sqrt(pi)*(5*Y_0,0*(-3*u1 - 4*u2 + 3) + 5*sqrt(3)*Y_1,0*(u1 + 2*u2) - 2*sqrt(5)*Y_2,0*u2)/15"
      ]
     },
     "execution_count": 316,
     "metadata": {},
     "output_type": "execute_result"
    }
   ],
   "source": [
    "simplify(yvec.dot(ybasis), rational=True)\n",
    "\n"
   ]
  },
  {
   "cell_type": "code",
   "execution_count": null,
   "id": "d4628e9a-aa55-462a-a98b-5fbcbd2a9272",
   "metadata": {},
   "outputs": [],
   "source": []
  }
 ],
 "metadata": {
  "kernelspec": {
   "display_name": "bpope",
   "language": "python",
   "name": "bpope"
  },
  "language_info": {
   "codemirror_mode": {
    "name": "ipython",
    "version": 3
   },
   "file_extension": ".py",
   "mimetype": "text/x-python",
   "name": "python",
   "nbconvert_exporter": "python",
   "pygments_lexer": "ipython3",
   "version": "3.7.4"
  },
  "toc": {
   "base_numbering": 1,
   "nav_menu": {},
   "number_sections": true,
   "sideBar": true,
   "skip_h1_title": false,
   "title_cell": "Table of Contents",
   "title_sidebar": "Contents",
   "toc_cell": false,
   "toc_position": {
    "height": "calc(100% - 180px)",
    "left": "10px",
    "top": "150px",
    "width": "160px"
   },
   "toc_section_display": true,
   "toc_window_display": true
  },
  "toc-autonumbering": false,
  "toc-showmarkdowntxt": true
 },
 "nbformat": 4,
 "nbformat_minor": 5
}
