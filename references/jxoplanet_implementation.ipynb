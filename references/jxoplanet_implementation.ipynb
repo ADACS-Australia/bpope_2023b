{
 "cells": [
  {
   "cell_type": "code",
   "execution_count": 1,
   "id": "30b79ea9",
   "metadata": {},
   "outputs": [],
   "source": [
    "import math\n",
    "from collections import defaultdict\n",
    "\n",
    "import numpy as np\n",
    "from scipy.special import gamma"
   ]
  },
  {
   "cell_type": "markdown",
   "id": "0049b0db",
   "metadata": {},
   "source": [
    "### ptilde(n) (equation 7)"
   ]
  },
  {
   "cell_type": "code",
   "execution_count": 6,
   "id": "4a1fe0ab",
   "metadata": {},
   "outputs": [],
   "source": [
    "def ptilde(n):\n",
    "    \"\"\"return the power of x, y, z separately\"\"\"\n",
    "    l = math.floor(math.sqrt(n))\n",
    "    m = n - l * l - l\n",
    "    mu = l - m\n",
    "    nu = l + m\n",
    "    if nu % 2 == 0:\n",
    "        i = mu // 2\n",
    "        j = nu // 2\n",
    "        k = 0\n",
    "    else:\n",
    "        i = (mu - 1) // 2\n",
    "        j = (nu - 1) // 2\n",
    "        k = 1\n",
    "    return (i, j, k)"
   ]
  },
  {
   "cell_type": "code",
   "execution_count": 7,
   "id": "b6a42349",
   "metadata": {},
   "outputs": [
    {
     "data": {
      "text/plain": [
       "(5, 0, 1)"
      ]
     },
     "execution_count": 7,
     "metadata": {},
     "output_type": "execute_result"
    }
   ],
   "source": [
    "ptilde(37)"
   ]
  },
  {
   "cell_type": "markdown",
   "id": "709bc2e4",
   "metadata": {},
   "source": [
    "### Alm (equation 44)"
   ]
  },
  {
   "cell_type": "code",
   "execution_count": 8,
   "id": "87ce6a99",
   "metadata": {},
   "outputs": [],
   "source": [
    "def Alm(l, m):\n",
    "    return math.sqrt(\n",
    "        (2 - int(m == 0))\n",
    "        * (2 * l + 1)\n",
    "        * math.factorial(l - m)\n",
    "        / (4 * math.pi * math.factorial(l + m))\n",
    "    )"
   ]
  },
  {
   "cell_type": "code",
   "execution_count": 11,
   "id": "056e4995",
   "metadata": {},
   "outputs": [
    {
     "data": {
      "text/plain": [
       "0.9356025796273888"
      ]
     },
     "execution_count": 11,
     "metadata": {},
     "output_type": "execute_result"
    }
   ],
   "source": [
    "Alm(5,0)"
   ]
  },
  {
   "cell_type": "markdown",
   "id": "33e6a64c",
   "metadata": {},
   "source": [
    "### Blmjk (equation 47)"
   ]
  },
  {
   "cell_type": "code",
   "execution_count": 21,
   "id": "a80a6248",
   "metadata": {},
   "outputs": [],
   "source": [
    "def Blmjk(l, m, j, k):\n",
    "    a = l + m + k - 1\n",
    "#     print(\"a\", a)\n",
    "    b = -l + m + k - 1\n",
    "#     print(\"b\", b)\n",
    "    if (b < 0) and (b % 2 == 0):\n",
    "        return 0\n",
    "    else:\n",
    "        ratio = gamma(0.5 * a + 1) / gamma(0.5 * b + 1)\n",
    "#         print(\"gamma b\", gamma(0.5*b+1))\n",
    "    return (\n",
    "        2**l\n",
    "        * math.factorial(m)\n",
    "        / (\n",
    "            math.factorial(j)\n",
    "            * math.factorial(k)\n",
    "            * math.factorial(m - j)\n",
    "            * math.factorial(l - m - k)\n",
    "        )\n",
    "        * ratio\n",
    "    )"
   ]
  },
  {
   "cell_type": "code",
   "execution_count": 22,
   "id": "78ca7d0e",
   "metadata": {},
   "outputs": [
    {
     "data": {
      "text/plain": [
       "1.8750000000000002"
      ]
     },
     "execution_count": 22,
     "metadata": {},
     "output_type": "execute_result"
    }
   ],
   "source": [
    "Blmjk(5,0,0,1)"
   ]
  },
  {
   "cell_type": "markdown",
   "id": "14bfcfb8",
   "metadata": {},
   "source": [
    "### Cpqk (equation 49)"
   ]
  },
  {
   "cell_type": "code",
   "execution_count": 23,
   "id": "b07a36b0",
   "metadata": {},
   "outputs": [],
   "source": [
    "def Cpqk(p, q, k):\n",
    "    return math.factorial(k // 2) / (\n",
    "        math.factorial(q // 2)\n",
    "        * math.factorial((k - p) // 2)\n",
    "        * math.factorial((p - q) // 2)\n",
    "    )"
   ]
  },
  {
   "cell_type": "code",
   "execution_count": 25,
   "id": "cc7b0e05",
   "metadata": {},
   "outputs": [
    {
     "data": {
      "text/plain": [
       "1.0"
      ]
     },
     "execution_count": 25,
     "metadata": {},
     "output_type": "execute_result"
    }
   ],
   "source": [
    "Cpqk(1,1,3)"
   ]
  },
  {
   "cell_type": "markdown",
   "id": "1a515de2",
   "metadata": {},
   "source": [
    "### Ylm (equation 50)"
   ]
  },
  {
   "cell_type": "code",
   "execution_count": 75,
   "id": "47897adf",
   "metadata": {},
   "outputs": [],
   "source": [
    "def Ylm(l, m):\n",
    "    \"\"\"the output is a dictionary, where the key (xp,yp,zp) is \n",
    "       the power to x, y, z separately, and the key value is the \n",
    "       coefficient\n",
    "    \"\"\"\n",
    "    res = defaultdict(lambda: 0)\n",
    "#     print(\"res\", res)\n",
    "    A = Alm(l, abs(m))\n",
    "    for j in range(int(m < 0), abs(m) + 1, 2):\n",
    "        for k in range(0, l - abs(m) + 1, 2):\n",
    "            B = Blmjk(l, abs(m), j, k)\n",
    "            if not B:\n",
    "                continue\n",
    "            factor = A * B\n",
    "            for p in range(0, k + 1, 2):\n",
    "                for q in range(0, p + 1, 2):\n",
    "                    ind = (abs(m) - j + p - q, j + q, 0)\n",
    "                    res[ind] += (\n",
    "                        (-1) ** ((j + p - (m < 0)) // 2) * factor * Cpqk(p, q, k)\n",
    "                    )\n",
    "#                     print(\"res_pq\", res)\n",
    "        for k in range(1, l - abs(m) + 1, 2):\n",
    "            B = Blmjk(l, abs(m), j, k)\n",
    "            if not B:\n",
    "                continue\n",
    "            factor = A * B\n",
    "            for p in range(0, k, 2):\n",
    "                for q in range(0, p + 1, 2):\n",
    "                    ind = (abs(m) - j + p - q, j + q, 1)\n",
    "                    res[ind] += (\n",
    "                        (-1) ** ((j + p - (m < 0)) // 2) * factor * Cpqk(p, q, k - 1)\n",
    "                    )\n",
    "#                     print(\"res_pq\", dict(res))\n",
    "\n",
    "    return dict(res)"
   ]
  },
  {
   "cell_type": "code",
   "execution_count": 80,
   "id": "fd7ce45b",
   "metadata": {},
   "outputs": [
    {
     "data": {
      "text/plain": [
       "{(0, 0, 0): 0.28209479177387814}"
      ]
     },
     "execution_count": 80,
     "metadata": {},
     "output_type": "execute_result"
    }
   ],
   "source": [
    "Ylm(0,0)"
   ]
  },
  {
   "cell_type": "code",
   "execution_count": 81,
   "id": "e0992b35",
   "metadata": {},
   "outputs": [
    {
     "data": {
      "text/plain": [
       "{(0, 1, 0): 0.4886025119029199}"
      ]
     },
     "execution_count": 81,
     "metadata": {},
     "output_type": "execute_result"
    }
   ],
   "source": [
    "Ylm(1,-1)"
   ]
  },
  {
   "cell_type": "code",
   "execution_count": 82,
   "id": "ebc5f634",
   "metadata": {},
   "outputs": [
    {
     "data": {
      "text/plain": [
       "{(0, 0, 1): 0.4886025119029199}"
      ]
     },
     "execution_count": 82,
     "metadata": {},
     "output_type": "execute_result"
    }
   ],
   "source": [
    "Ylm(1,0)"
   ]
  },
  {
   "cell_type": "code",
   "execution_count": 83,
   "id": "048f583b",
   "metadata": {},
   "outputs": [
    {
     "data": {
      "text/plain": [
       "{(1, 0, 0): 0.4886025119029199}"
      ]
     },
     "execution_count": 83,
     "metadata": {},
     "output_type": "execute_result"
    }
   ],
   "source": [
    "Ylm(1,1)"
   ]
  },
  {
   "cell_type": "code",
   "execution_count": 67,
   "id": "10d2f412",
   "metadata": {},
   "outputs": [],
   "source": [
    "def p_Y(p, l, m, res):\n",
    "    for k, v in Ylm(l, m).items():\n",
    "        print(k,v)\n",
    "        if k not in p:\n",
    "            continue\n",
    "        res[p[k]] = v\n",
    "    return res"
   ]
  },
  {
   "cell_type": "code",
   "execution_count": 74,
   "id": "88b6d8c8",
   "metadata": {},
   "outputs": [
    {
     "name": "stdout",
     "output_type": "stream",
     "text": [
      "(1, 0, 1) 1.0925484305920792\n"
     ]
    },
    {
     "data": {
      "text/plain": [
       "array([0.        , 0.        , 0.        , 0.        , 0.        ,\n",
       "       1.09254843, 0.        , 0.        , 0.        ])"
      ]
     },
     "execution_count": 74,
     "metadata": {},
     "output_type": "execute_result"
    }
   ],
   "source": [
    "res = np.zeros((9,9))\n",
    "po = {ptilde(i): i for i in range(9)}\n",
    "p_Y(po,2,1,res[:,0])"
   ]
  },
  {
   "cell_type": "markdown",
   "id": "63232858",
   "metadata": {},
   "source": [
    "### A1 (equation 52)"
   ]
  },
  {
   "cell_type": "code",
   "execution_count": 62,
   "id": "5846585a",
   "metadata": {},
   "outputs": [],
   "source": [
    "def A1(lmax):\n",
    "    \"\"\"Note: The normalization here matches the starry paper, but not the\n",
    "    code. To get the code's normalization, multiply the result by 2 /\n",
    "    sqrt(pi).\n",
    "    \"\"\"\n",
    "    n = (lmax + 1) ** 2\n",
    "    res = np.zeros((n, n))\n",
    "    p = {ptilde(i): i for i in range(n)}\n",
    "    print(p)\n",
    "    n = 0\n",
    "    for l in range(lmax + 1):\n",
    "        for m in range(-l, l + 1):\n",
    "            temp = p_Y(p, l, m, res[:, n])\n",
    "#             print(\"py\", temp)\n",
    "            n += 1\n",
    "    return res"
   ]
  },
  {
   "cell_type": "code",
   "execution_count": 65,
   "id": "92261f7f",
   "metadata": {},
   "outputs": [
    {
     "name": "stdout",
     "output_type": "stream",
     "text": [
      "{(0, 0, 0): 0, (1, 0, 0): 1, (0, 0, 1): 2, (0, 1, 0): 3, (2, 0, 0): 4, (1, 0, 1): 5, (1, 1, 0): 6, (0, 1, 1): 7, (0, 2, 0): 8}\n"
     ]
    },
    {
     "data": {
      "text/plain": [
       "array([[ 0.28209479,  0.        ,  0.        ,  0.        ,  0.        ,\n",
       "         0.        ,  0.63078313,  0.        ,  0.        ],\n",
       "       [ 0.        ,  0.        ,  0.        ,  0.48860251,  0.        ,\n",
       "         0.        ,  0.        ,  0.        ,  0.        ],\n",
       "       [ 0.        ,  0.        ,  0.48860251,  0.        ,  0.        ,\n",
       "         0.        ,  0.        ,  0.        ,  0.        ],\n",
       "       [ 0.        ,  0.48860251,  0.        ,  0.        ,  0.        ,\n",
       "         0.        ,  0.        ,  0.        ,  0.        ],\n",
       "       [ 0.        ,  0.        ,  0.        ,  0.        ,  0.        ,\n",
       "         0.        , -0.9461747 ,  0.        ,  0.54627422],\n",
       "       [ 0.        ,  0.        ,  0.        ,  0.        ,  0.        ,\n",
       "         0.        ,  0.        ,  1.09254843,  0.        ],\n",
       "       [ 0.        ,  0.        ,  0.        ,  0.        ,  1.09254843,\n",
       "         0.        ,  0.        ,  0.        ,  0.        ],\n",
       "       [ 0.        ,  0.        ,  0.        ,  0.        ,  0.        ,\n",
       "         1.09254843,  0.        ,  0.        ,  0.        ],\n",
       "       [ 0.        ,  0.        ,  0.        ,  0.        ,  0.        ,\n",
       "         0.        , -0.9461747 ,  0.        , -0.54627422]])"
      ]
     },
     "execution_count": 65,
     "metadata": {},
     "output_type": "execute_result"
    }
   ],
   "source": [
    "A1(2)"
   ]
  },
  {
   "cell_type": "markdown",
   "id": "0035f7e7",
   "metadata": {},
   "source": [
    "### gtilde(n) (equation 11)"
   ]
  },
  {
   "cell_type": "code",
   "execution_count": 87,
   "id": "450566b8",
   "metadata": {},
   "outputs": [],
   "source": [
    "def gtilde(n):\n",
    "    l = math.floor(math.sqrt(n))\n",
    "    m = n - l * l - l\n",
    "    mu = l - m\n",
    "    nu = l + m\n",
    "    if nu % 2 == 0:\n",
    "        I = [mu // 2]\n",
    "        J = [nu // 2]\n",
    "        K = [0]\n",
    "        C = [(mu + 2) // 2]\n",
    "    elif (l == 1) and (m == 0):\n",
    "        I = [0]\n",
    "        J = [0]\n",
    "        K = [1]\n",
    "        C = [1]\n",
    "    elif (mu == 1) and (l % 2 == 0):\n",
    "        I = [l - 2]\n",
    "        J = [1]\n",
    "        K = [1]\n",
    "        C = [3]\n",
    "    elif mu == 1:\n",
    "        I = [l - 3, l - 1, l - 3]\n",
    "        J = [0, 0, 2]\n",
    "        K = [1, 1, 1]\n",
    "        C = [-1, 1, 4]\n",
    "    else:\n",
    "        I = [(mu - 5) // 2, (mu - 5) // 2, (mu - 1) // 2]\n",
    "        J = [(nu - 1) // 2, (nu + 3) // 2, (nu - 1) // 2]\n",
    "        K = [1, 1, 1]\n",
    "        C = [(mu - 3) // 2, -(mu - 3) // 2, -(mu + 3) // 2]\n",
    "    res = {}\n",
    "    for i, j, k, c in zip(I, J, K, C):\n",
    "        res[(i, j, k)] = c\n",
    "    return res\n",
    "\n"
   ]
  },
  {
   "cell_type": "code",
   "execution_count": 95,
   "id": "6434e3f5",
   "metadata": {},
   "outputs": [
    {
     "data": {
      "text/plain": [
       "{(1, 1, 0): 2}"
      ]
     },
     "execution_count": 95,
     "metadata": {},
     "output_type": "execute_result"
    }
   ],
   "source": [
    "gtilde(6)"
   ]
  },
  {
   "cell_type": "markdown",
   "id": "cb9f2c69",
   "metadata": {},
   "source": [
    "### A2 (equation 53)"
   ]
  },
  {
   "cell_type": "code",
   "execution_count": 96,
   "id": "3aa6c288",
   "metadata": {},
   "outputs": [],
   "source": [
    "def p_G(p, n, res):\n",
    "    for k, v in gtilde(n).items():\n",
    "        if k not in p:\n",
    "            continue\n",
    "        res[p[k]] = v\n",
    "    return res"
   ]
  },
  {
   "cell_type": "code",
   "execution_count": 100,
   "id": "baa4336b",
   "metadata": {},
   "outputs": [],
   "source": [
    "def A2_inv(lmax):\n",
    "    n = (lmax + 1) ** 2\n",
    "    res = np.zeros((n, n))\n",
    "    p = {ptilde(m): m for m in range(n)}\n",
    "    n = 0\n",
    "    for l in range(lmax + 1):\n",
    "        for _ in range(-l, l + 1):\n",
    "            p_G(p, n, res[:, n])\n",
    "            n += 1\n",
    "    return res"
   ]
  },
  {
   "cell_type": "code",
   "execution_count": 102,
   "id": "9ad780e9",
   "metadata": {},
   "outputs": [],
   "source": [
    "a2_inv = A2_inv(2)"
   ]
  },
  {
   "cell_type": "code",
   "execution_count": 103,
   "id": "a3e5b375",
   "metadata": {},
   "outputs": [],
   "source": [
    "a2 = np.linalg.inv(a2_inv)"
   ]
  },
  {
   "cell_type": "code",
   "execution_count": 104,
   "id": "72974df4",
   "metadata": {},
   "outputs": [
    {
     "data": {
      "text/plain": [
       "array([[ 1.        ,  0.        ,  0.        ,  0.        ,  0.        ,\n",
       "         0.        ,  0.        ,  0.        ,  0.        ],\n",
       "       [ 0.        ,  0.5       ,  0.        ,  0.        ,  0.        ,\n",
       "         0.        ,  0.        ,  0.        ,  0.        ],\n",
       "       [ 0.        ,  0.        ,  1.        ,  0.        ,  0.        ,\n",
       "         0.        ,  0.        ,  0.        ,  0.        ],\n",
       "       [ 0.        ,  0.        ,  0.        ,  1.        ,  0.        ,\n",
       "         0.        ,  0.        ,  0.        ,  0.        ],\n",
       "       [ 0.        ,  0.        ,  0.        ,  0.        ,  0.33333333,\n",
       "         0.        ,  0.        ,  0.        ,  0.        ],\n",
       "       [-0.        , -0.        , -0.        , -0.        , -0.        ,\n",
       "        -0.33333333, -0.        , -0.        , -0.        ],\n",
       "       [ 0.        ,  0.        ,  0.        ,  0.        ,  0.        ,\n",
       "         0.        ,  0.5       ,  0.        ,  0.        ],\n",
       "       [ 0.        ,  0.        ,  0.        ,  0.        ,  0.        ,\n",
       "         0.        ,  0.        ,  0.33333333,  0.        ],\n",
       "       [ 0.        ,  0.        ,  0.        ,  0.        ,  0.        ,\n",
       "         0.        ,  0.        ,  0.        ,  1.        ]])"
      ]
     },
     "execution_count": 104,
     "metadata": {},
     "output_type": "execute_result"
    }
   ],
   "source": [
    "a2"
   ]
  },
  {
   "cell_type": "markdown",
   "id": "a61eea7e",
   "metadata": {},
   "source": [
    "### A (equation 14)"
   ]
  },
  {
   "cell_type": "code",
   "execution_count": 107,
   "id": "dfb35585",
   "metadata": {},
   "outputs": [],
   "source": [
    "def A(lmax):\n",
    "    a1 = A1(lmax)\n",
    "    a2_inv = A2_inv(lmax)\n",
    "    a2 = np.linalg.inv(a2_inv)\n",
    "    return np.dot(a1,a2)"
   ]
  },
  {
   "cell_type": "code",
   "execution_count": 108,
   "id": "0fec20b8",
   "metadata": {},
   "outputs": [
    {
     "name": "stdout",
     "output_type": "stream",
     "text": [
      "{(0, 0, 0): 0, (1, 0, 0): 1, (0, 0, 1): 2, (0, 1, 0): 3, (2, 0, 0): 4, (1, 0, 1): 5, (1, 1, 0): 6, (0, 1, 1): 7, (0, 2, 0): 8}\n",
      "(0, 0, 0) 0.28209479177387814\n",
      "(0, 1, 0) 0.4886025119029199\n",
      "(0, 0, 1) 0.4886025119029199\n",
      "(1, 0, 0) 0.4886025119029199\n",
      "(1, 1, 0) 1.0925484305920792\n",
      "(0, 1, 1) 1.0925484305920792\n",
      "(0, 0, 0) 0.6307831305050402\n",
      "(2, 0, 0) -0.9461746957575603\n",
      "(0, 2, 0) -0.9461746957575603\n",
      "(1, 0, 1) 1.0925484305920792\n",
      "(2, 0, 0) 0.5462742152960396\n",
      "(0, 2, 0) -0.5462742152960396\n"
     ]
    },
    {
     "data": {
      "text/plain": [
       "array([[ 0.28209479,  0.        ,  0.        ,  0.        ,  0.        ,\n",
       "         0.        ,  0.31539157,  0.        ,  0.        ],\n",
       "       [ 0.        ,  0.        ,  0.        ,  0.48860251,  0.        ,\n",
       "         0.        ,  0.        ,  0.        ,  0.        ],\n",
       "       [ 0.        ,  0.        ,  0.48860251,  0.        ,  0.        ,\n",
       "         0.        ,  0.        ,  0.        ,  0.        ],\n",
       "       [ 0.        ,  0.24430126,  0.        ,  0.        ,  0.        ,\n",
       "         0.        ,  0.        ,  0.        ,  0.        ],\n",
       "       [ 0.        ,  0.        ,  0.        ,  0.        ,  0.        ,\n",
       "         0.        , -0.47308735,  0.        ,  0.54627422],\n",
       "       [ 0.        ,  0.        ,  0.        ,  0.        ,  0.        ,\n",
       "         0.        ,  0.        ,  0.36418281,  0.        ],\n",
       "       [ 0.        ,  0.        ,  0.        ,  0.        ,  0.36418281,\n",
       "         0.        ,  0.        ,  0.        ,  0.        ],\n",
       "       [ 0.        ,  0.        ,  0.        ,  0.        ,  0.        ,\n",
       "        -0.36418281,  0.        ,  0.        ,  0.        ],\n",
       "       [ 0.        ,  0.        ,  0.        ,  0.        ,  0.        ,\n",
       "         0.        , -0.47308735,  0.        , -0.54627422]])"
      ]
     },
     "execution_count": 108,
     "metadata": {},
     "output_type": "execute_result"
    }
   ],
   "source": [
    "A(2)"
   ]
  },
  {
   "cell_type": "markdown",
   "id": "ca20f3a4",
   "metadata": {},
   "source": [
    "### jaxoplanet dependencies"
   ]
  },
  {
   "cell_type": "code",
   "execution_count": 112,
   "id": "0a4f122c",
   "metadata": {},
   "outputs": [],
   "source": [
    "from functools import partial\n",
    "from typing import Callable, Tuple"
   ]
  },
  {
   "cell_type": "code",
   "execution_count": 113,
   "id": "7cfedd3c",
   "metadata": {},
   "outputs": [],
   "source": [
    "import jax\n",
    "import jax.numpy as jnp\n",
    "from scipy.special import roots_legendre"
   ]
  },
  {
   "cell_type": "markdown",
   "id": "f15dd255",
   "metadata": {},
   "source": [
    "#### types"
   ]
  },
  {
   "cell_type": "code",
   "execution_count": 109,
   "id": "eb6831c2",
   "metadata": {},
   "outputs": [],
   "source": [
    "from typing import Any\n",
    "\n",
    "Scalar = Any\n",
    "Array = Any\n",
    "PyTree = Any"
   ]
  },
  {
   "cell_type": "markdown",
   "id": "bfa4dfc7",
   "metadata": {},
   "source": [
    "#### kite area"
   ]
  },
  {
   "cell_type": "code",
   "execution_count": 110,
   "id": "425cb5b5",
   "metadata": {},
   "outputs": [],
   "source": [
    "def kite_area(a: Array, b: Array, c: Array) -> Array:\n",
    "    def sort2(a: Array, b: Array) -> Tuple[Array, Array]:\n",
    "        return jnp.minimum(a, b), jnp.maximum(a, b)\n",
    "\n",
    "    a, b = sort2(a, b)\n",
    "    b, c = sort2(b, c)\n",
    "    a, b = sort2(a, b)\n",
    "\n",
    "    square_area = (a + (b + c)) * (c - (a - b)) * (c + (a - b)) * (a + (b - c))\n",
    "    return jnp.sqrt(jnp.maximum(square_area, 0.0))"
   ]
  },
  {
   "cell_type": "code",
   "execution_count": 114,
   "id": "ecfe354a",
   "metadata": {},
   "outputs": [],
   "source": [
    "def kappas(b: Array, r: Array) -> Tuple[Array, Array]:\n",
    "    b2 = jnp.square(b)\n",
    "    factor = (r - 1) * (r + 1)\n",
    "    b_cond = jnp.logical_and(jnp.greater(b, jnp.abs(1 - r)), jnp.less(b, 1 + r))\n",
    "    b_ = jnp.where(b_cond, b, 1)\n",
    "    area = jnp.where(b_cond, kite_area(r, b_, 1), 0)\n",
    "    return jnp.arctan2(area, b2 + factor), jnp.arctan2(area, b2 - factor)\n"
   ]
  },
  {
   "cell_type": "code",
   "execution_count": 115,
   "id": "06623225",
   "metadata": {},
   "outputs": [],
   "source": [
    "def q_integral(l_max: int, lam: Array) -> Array:\n",
    "    zero = jnp.zeros_like(lam)\n",
    "    c = jnp.cos(lam)\n",
    "    s = jnp.sin(lam)\n",
    "    h = {\n",
    "        (0, 0): 2 * lam + jnp.pi,\n",
    "        (0, 1): -2 * c,\n",
    "    }\n",
    "\n",
    "    def get(u: int, v: int) -> Array:\n",
    "        if (u, v) in h:\n",
    "            return h[(u, v)]\n",
    "        if u >= 2:\n",
    "            comp = 2 * c ** (u - 1) * s ** (v + 1) + (u - 1) * get(u - 2, v)\n",
    "        else:\n",
    "            assert v >= 2\n",
    "            comp = -2 * c ** (u + 1) * s ** (v - 1) + (v - 1) * get(u, v - 2)\n",
    "        comp /= u + v\n",
    "        h[(u, v)] = comp\n",
    "        return comp\n",
    "\n",
    "    U = []\n",
    "    for l in range(l_max + 1):  # noqa\n",
    "        for m in range(-l, l + 1):\n",
    "            if l == 1 and m == 0:\n",
    "                U.append((np.pi + 2 * lam) / 3)\n",
    "                continue\n",
    "            mu = l - m\n",
    "            nu = l + m\n",
    "            if (mu % 2) == 0 and (mu // 2) % 2 == 0:\n",
    "                u = mu // 2 + 2\n",
    "                v = nu // 2\n",
    "                assert u % 2 == 0\n",
    "                U.append(get(u, v))\n",
    "            else:\n",
    "                U.append(zero)\n",
    "\n",
    "    return jnp.stack(U)"
   ]
  },
  {
   "cell_type": "code",
   "execution_count": 116,
   "id": "65769022",
   "metadata": {},
   "outputs": [],
   "source": [
    "b = 1.5\n",
    "r = 1"
   ]
  },
  {
   "cell_type": "code",
   "execution_count": 117,
   "id": "e9e5420d",
   "metadata": {},
   "outputs": [],
   "source": [
    "k0,k1 = kappas(b,r)"
   ]
  },
  {
   "cell_type": "code",
   "execution_count": 118,
   "id": "a4fb2611",
   "metadata": {},
   "outputs": [
    {
     "data": {
      "text/plain": [
       "DeviceArray(0.7227342, dtype=float32, weak_type=True)"
      ]
     },
     "execution_count": 118,
     "metadata": {},
     "output_type": "execute_result"
    }
   ],
   "source": [
    "k0"
   ]
  },
  {
   "cell_type": "code",
   "execution_count": 119,
   "id": "4a111999",
   "metadata": {},
   "outputs": [
    {
     "data": {
      "text/plain": [
       "DeviceArray(0.7227342, dtype=float32, weak_type=True)"
      ]
     },
     "execution_count": 119,
     "metadata": {},
     "output_type": "execute_result"
    }
   ],
   "source": [
    "k1"
   ]
  },
  {
   "cell_type": "code",
   "execution_count": 120,
   "id": "643dc07b",
   "metadata": {},
   "outputs": [],
   "source": [
    "q = q_integral(2, 0.5*jnp.pi - k1)"
   ]
  },
  {
   "cell_type": "code",
   "execution_count": 121,
   "id": "c101e4e7",
   "metadata": {},
   "outputs": [
    {
     "data": {
      "text/plain": [
       "DeviceArray([ 2.9149368,  0.       ,  1.6125723, -0.1929193,  2.2947197,\n",
       "              0.       ,  0.       ,  0.       ,  0.6202171],            dtype=float32, weak_type=True)"
      ]
     },
     "execution_count": 121,
     "metadata": {},
     "output_type": "execute_result"
    }
   ],
   "source": [
    "q"
   ]
  },
  {
   "cell_type": "code",
   "execution_count": 122,
   "id": "365112f1",
   "metadata": {},
   "outputs": [
    {
     "data": {
      "text/plain": [
       "(9,)"
      ]
     },
     "execution_count": 122,
     "metadata": {},
     "output_type": "execute_result"
    }
   ],
   "source": [
    "q.shape"
   ]
  },
  {
   "cell_type": "code",
   "execution_count": 127,
   "id": "be6f5afb",
   "metadata": {},
   "outputs": [],
   "source": [
    "def p_integral(order: int, l_max: int, b: Array, r: Array, kappa0: Array) -> Array:\n",
    "    b2 = jnp.square(b)\n",
    "    r2 = jnp.square(r)\n",
    "\n",
    "    # This is a hack for when r -> 0 or b -> 0, so k2 -> inf\n",
    "    factor = 4 * b * r\n",
    "    k2_cond = jnp.less(factor, 10 * jnp.finfo(factor.dtype).eps)\n",
    "    factor = jnp.where(k2_cond, 1, factor)\n",
    "    k2 = jnp.maximum(0, (1 - r2 - b2 + 2 * b * r) / factor)\n",
    "\n",
    "    # And for when r -> 0\n",
    "    r_cond = jnp.less(r, 10 * jnp.finfo(r.dtype).eps)\n",
    "    delta = (b - r) / (2 * jnp.where(r_cond, 1, r))\n",
    "\n",
    "    roots, weights = roots_legendre(order)\n",
    "    rng = 0.5 * kappa0\n",
    "    phi = rng * roots\n",
    "    c = jnp.cos(phi + 0.5 * kappa0)\n",
    "    s = jnp.sin(phi)\n",
    "    s2 = jnp.square(s)\n",
    "\n",
    "    f0 = jnp.maximum(0, jnp.where(k2_cond, 1 - r2, factor * (k2 - s2))) ** 1.5\n",
    "    a1 = s2 - jnp.square(s2)\n",
    "    a2 = jnp.where(r_cond, 0, delta + s2)\n",
    "    a4 = 1 - 2 * s2\n",
    "\n",
    "    ind = []\n",
    "    arg = []\n",
    "    n = 0\n",
    "    for l in range(l_max + 1):  # noqa\n",
    "        fa3 = (2 * r) ** (l - 1) * f0\n",
    "        for m in range(-l, l + 1):\n",
    "            mu = l - m\n",
    "            nu = l + m\n",
    "\n",
    "            if mu == 1 and l == 1:\n",
    "                omz2 = r2 + b2 - 2 * b * r * c\n",
    "                cond = jnp.less(omz2, 10 * jnp.finfo(omz2.dtype).eps)\n",
    "                omz2 = jnp.where(cond, 1, omz2)\n",
    "                z2 = jnp.maximum(0, 1 - omz2)\n",
    "                result = 2 * r * (r - b * c) * (1 - z2 * jnp.sqrt(z2)) / (3 * omz2)\n",
    "                arg.append(jnp.where(cond, 0, result))\n",
    "\n",
    "            elif mu % 2 == 0 and (mu // 2) % 2 == 0:\n",
    "                arg.append(\n",
    "                    2 * (2 * r) ** (l + 2) * a1 ** (0.25 * (mu + 4)) * a2 ** (0.5 * nu)\n",
    "                )\n",
    "\n",
    "            elif mu == 1 and l % 2 == 0:\n",
    "                arg.append(fa3 * a1 ** (l // 2 - 1) * a4)\n",
    "\n",
    "            elif mu == 1:\n",
    "                arg.append(fa3 * a1 ** ((l - 3) // 2) * a2 * a4)\n",
    "\n",
    "            elif (mu - 1) % 2 == 0 and ((mu - 1) // 2) % 2 == 0:\n",
    "                arg.append(2 * fa3 * a1 ** ((mu - 1) // 4) * a2 ** (0.5 * (nu - 1)))\n",
    "\n",
    "            else:\n",
    "                n += 1\n",
    "                continue\n",
    "\n",
    "            ind.append(n)\n",
    "            n += 1\n",
    "\n",
    "    P0 = rng * jnp.sum(jnp.stack(arg) * weights[None, :], axis=1)\n",
    "    P = jnp.zeros(l_max**2 + 2 * l_max + 1)\n",
    "\n",
    "    # Yes, using np not jnp here: 'ind' is always static.\n",
    "    inds = np.stack(ind)\n",
    "\n",
    "    return P.at[inds].set(P0)"
   ]
  },
  {
   "cell_type": "code",
   "execution_count": 123,
   "id": "1c5d1a3b",
   "metadata": {},
   "outputs": [],
   "source": [
    "def solution_vector(l_max: int, order: int = 20) -> Callable[[Array, Array], Array]:\n",
    "    n_max = l_max**2 + 2 * l_max + 1\n",
    "\n",
    "    @jax.jit\n",
    "    @partial(jnp.vectorize, signature=f\"(),()->({n_max})\")\n",
    "    def impl(b: Array, r: Array) -> Array:\n",
    "        b = jnp.abs(b)\n",
    "        r = jnp.abs(r)\n",
    "        kappa0, kappa1 = kappas(b, r)\n",
    "        P = p_integral(order, l_max, b, r, kappa0)\n",
    "        Q = q_integral(l_max, 0.5 * jnp.pi - kappa1)\n",
    "        return Q - P\n",
    "\n",
    "    return impl"
   ]
  },
  {
   "cell_type": "code",
   "execution_count": 137,
   "id": "7a40ecd6",
   "metadata": {},
   "outputs": [],
   "source": [
    "res = st(np.float32(b),np.float32(r))"
   ]
  },
  {
   "cell_type": "code",
   "execution_count": 138,
   "id": "8e7a253f",
   "metadata": {},
   "outputs": [
    {
     "data": {
      "text/plain": [
       "(9,)"
      ]
     },
     "execution_count": 138,
     "metadata": {},
     "output_type": "execute_result"
    }
   ],
   "source": [
    "res.shape"
   ]
  },
  {
   "cell_type": "code",
   "execution_count": 139,
   "id": "a7d715cd",
   "metadata": {},
   "outputs": [
    {
     "data": {
      "text/plain": [
       "DeviceArray([ 2.6882808 ,  0.        ,  1.8490419 , -0.33998373,\n",
       "              2.233245  ,  0.        ,  0.        , -0.5238213 ,\n",
       "              0.5238184 ], dtype=float32)"
      ]
     },
     "execution_count": 139,
     "metadata": {},
     "output_type": "execute_result"
    }
   ],
   "source": [
    "res"
   ]
  },
  {
   "cell_type": "code",
   "execution_count": null,
   "id": "f1661006",
   "metadata": {},
   "outputs": [],
   "source": []
  }
 ],
 "metadata": {
  "kernelspec": {
   "display_name": "bpope",
   "language": "python",
   "name": "bpope"
  },
  "language_info": {
   "codemirror_mode": {
    "name": "ipython",
    "version": 3
   },
   "file_extension": ".py",
   "mimetype": "text/x-python",
   "name": "python",
   "nbconvert_exporter": "python",
   "pygments_lexer": "ipython3",
   "version": "3.7.4"
  },
  "toc": {
   "base_numbering": 1,
   "nav_menu": {},
   "number_sections": true,
   "sideBar": true,
   "skip_h1_title": false,
   "title_cell": "Table of Contents",
   "title_sidebar": "Contents",
   "toc_cell": false,
   "toc_position": {},
   "toc_section_display": true,
   "toc_window_display": true
  }
 },
 "nbformat": 4,
 "nbformat_minor": 5
}
