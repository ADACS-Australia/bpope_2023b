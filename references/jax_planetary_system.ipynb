{
 "cells": [
  {
   "cell_type": "code",
   "execution_count": 64,
   "id": "538eaa16",
   "metadata": {},
   "outputs": [],
   "source": [
    "import jaxoplanet\n",
    "import numpy as np\n",
    "from numpy.linalg import inv\n",
    "from scipy.sparse import load_npz"
   ]
  },
  {
   "cell_type": "code",
   "execution_count": 65,
   "id": "f31e0fdb",
   "metadata": {},
   "outputs": [],
   "source": [
    "import starry\n",
    "starry.config.lazy = False"
   ]
  },
  {
   "cell_type": "code",
   "execution_count": 66,
   "id": "3f6c9366",
   "metadata": {},
   "outputs": [
    {
     "data": {
      "text/plain": [
       "['/Users/SuperTiger/ADACS/repo/SS2023A-BPope/jaxoplanet/bpope_2023a/src/jaxoplanet']"
      ]
     },
     "execution_count": 66,
     "metadata": {},
     "output_type": "execute_result"
    }
   ],
   "source": [
    "jaxoplanet.__path__"
   ]
  },
  {
   "cell_type": "code",
   "execution_count": 67,
   "id": "6a16f57e",
   "metadata": {},
   "outputs": [],
   "source": [
    "from jaxoplanet.light_curves import LimbDarkLightCurve, QuadLightCurve"
   ]
  },
  {
   "cell_type": "code",
   "execution_count": 68,
   "id": "c4625130",
   "metadata": {},
   "outputs": [],
   "source": [
    "from jaxoplanet.orbits import KeplerianOrbit, TransitOrbit"
   ]
  },
  {
   "cell_type": "code",
   "execution_count": 69,
   "id": "66950137",
   "metadata": {},
   "outputs": [],
   "source": [
    "from jaxoplanet._src.core.limb_dark import light_curve as limb_dark_light_curve\n",
    "from jaxoplanet._src.core.quad import light_curve as quad_light_curve"
   ]
  },
  {
   "cell_type": "code",
   "execution_count": 70,
   "id": "84c64429",
   "metadata": {},
   "outputs": [],
   "source": [
    "from jaxoplanet._src.experimental.starry.rotation import *\n",
    "from jaxoplanet._src.experimental.starry.solution import *\n",
    "from jaxoplanet._src.experimental.starry.basis import *"
   ]
  },
  {
   "cell_type": "code",
   "execution_count": 71,
   "id": "f0ac5895",
   "metadata": {},
   "outputs": [],
   "source": [
    "params = {\n",
    "    \"log_f0\": 0.0,\n",
    "    \"u\": jnp.array([0.3, 0.2]),\n",
    "    \"log_duration\": jnp.log(0.12),\n",
    "    \"t0\": 0.0,\n",
    "    \"b\": 0.1,\n",
    "    \"log_r\": jnp.log(0.1),\n",
    "    \"log_amp\": jnp.log(0.002),\n",
    "    \"log_ell\": jnp.log(0.02),\n",
    "}\n"
   ]
  },
  {
   "cell_type": "code",
   "execution_count": 72,
   "id": "fe79601c",
   "metadata": {},
   "outputs": [],
   "source": [
    "lc = QuadLightCurve.init(u1=params[\"u\"][0], u2=params[\"u\"][1])"
   ]
  },
  {
   "cell_type": "code",
   "execution_count": 73,
   "id": "38fb5573",
   "metadata": {},
   "outputs": [],
   "source": [
    "orbit = TransitOrbit.init(\n",
    "        period=1.0,\n",
    "        duration=jnp.exp(params[\"log_duration\"]),\n",
    "        time_transit=params[\"t0\"],\n",
    "        impact_param=params[\"b\"],\n",
    "        radius=jnp.exp(params[\"log_r\"]),\n",
    "    )"
   ]
  },
  {
   "cell_type": "code",
   "execution_count": 74,
   "id": "816e1088",
   "metadata": {},
   "outputs": [],
   "source": [
    "import jax\n",
    "import jax.numpy as jnp"
   ]
  },
  {
   "cell_type": "code",
   "execution_count": 75,
   "id": "a4e20b3c",
   "metadata": {},
   "outputs": [],
   "source": [
    "@jax.jit\n",
    "def test_light_curve(params, t, period=1.0):\n",
    "    u1=params[\"u\"][0]\n",
    "    u2=params[\"u\"][1]\n",
    "    orbit = TransitOrbit.init(\n",
    "        period=period,\n",
    "        duration=jnp.exp(params[\"log_duration\"]),\n",
    "        time_transit=params[\"t0\"],\n",
    "        impact_param=params[\"b\"],\n",
    "        radius=jnp.exp(params[\"log_r\"]),\n",
    "    )\n",
    "    x, y, z = orbit.relative_position(t)\n",
    "    b = jnp.sqrt(x**2 + y**2)\n",
    "    r_star = orbit.central_radius\n",
    "    r = orbit.radius / r_star\n",
    "    lc_func = partial(quad_light_curve, u1, u2)\n",
    "#     lc_func = quad_light_curve(u1, u2)\n",
    "    if orbit.shape == ():\n",
    "            b /= r_star\n",
    "            lc = lc_func(b, r)\n",
    "    else:\n",
    "        b /= r_star[..., None]\n",
    "        print(\"b\", b.shape)\n",
    "        print(\"r\", r.shape)\n",
    "        \n",
    "        lc = jnp.vectorize(lc_func)(b, r)\n",
    "        print(\"lc\", lc.shape)\n",
    "    return lc\n",
    "#     return jnp.where(z > 0, lc, 0)"
   ]
  },
  {
   "cell_type": "code",
   "execution_count": 76,
   "id": "857bf601",
   "metadata": {},
   "outputs": [],
   "source": [
    "@jax.jit\n",
    "def light_curve(params, t, period=1.0):\n",
    "    lc = QuadLightCurve.init(u1=params[\"u\"][0], u2=params[\"u\"][1])\n",
    "    orbit = TransitOrbit.init(\n",
    "        period=period,\n",
    "        duration=jnp.exp(params[\"log_duration\"]),\n",
    "        time_transit=params[\"t0\"],\n",
    "        impact_param=params[\"b\"],\n",
    "        radius=jnp.exp(params[\"log_r\"]),\n",
    "    )\n",
    "    return lc.light_curve(orbit, t)[0]\n",
    "#     return jnp.exp(params[\"log_f0\"]) * (1 + lc.light_curve(orbit, t)[0])"
   ]
  },
  {
   "cell_type": "code",
   "execution_count": 77,
   "id": "a2cb3e64",
   "metadata": {},
   "outputs": [],
   "source": [
    "t_grid = jnp.linspace(-0.3, 0.3, 1000)\n",
    "t = jnp.linspace(-0.2, 0.2, 75)\n",
    "y_err = 0.001"
   ]
  },
  {
   "cell_type": "code",
   "execution_count": 78,
   "id": "94bebf06",
   "metadata": {},
   "outputs": [
    {
     "name": "stdout",
     "output_type": "stream",
     "text": [
      "b (1, 75)\n",
      "r (1,)\n",
      "lc (1, 75)\n"
     ]
    }
   ],
   "source": [
    "lc = test_light_curve(params, t)"
   ]
  },
  {
   "cell_type": "code",
   "execution_count": 79,
   "id": "abb1afaa",
   "metadata": {},
   "outputs": [
    {
     "data": {
      "text/plain": [
       "(1, 75)"
      ]
     },
     "execution_count": 79,
     "metadata": {},
     "output_type": "execute_result"
    }
   ],
   "source": [
    "lc.shape"
   ]
  },
  {
   "cell_type": "markdown",
   "id": "5904f74b",
   "metadata": {},
   "source": [
    "### input (for testing)"
   ]
  },
  {
   "cell_type": "code",
   "execution_count": 80,
   "id": "b8c9d67b",
   "metadata": {},
   "outputs": [],
   "source": [
    "fixtures = \"/Users/SuperTiger/ADACS/repo/SS2023A-BPope/starry/tests/fixtures/\""
   ]
  },
  {
   "cell_type": "code",
   "execution_count": 81,
   "id": "ef7dcc82",
   "metadata": {},
   "outputs": [],
   "source": [
    "x = np.load(fixtures + \"ylm_x_xo.npy\").flatten()\n",
    "y = np.load(fixtures + \"ylm_x_yo.npy\").flatten()\n",
    "z = np.load(fixtures + \"ylm_x_zo.npy\").flatten()\n",
    "theta = np.load(fixtures + \"ylm_x_theta.npy\")"
   ]
  },
  {
   "cell_type": "code",
   "execution_count": 82,
   "id": "1865f2e2",
   "metadata": {},
   "outputs": [
    {
     "data": {
      "text/plain": [
       "(810,)"
      ]
     },
     "execution_count": 82,
     "metadata": {},
     "output_type": "execute_result"
    }
   ],
   "source": [
    "theta.shape"
   ]
  },
  {
   "cell_type": "code",
   "execution_count": 83,
   "id": "f55e2e2d",
   "metadata": {},
   "outputs": [],
   "source": [
    "ro = 10.\n",
    "inc = 1.57080\n",
    "obl = 0.0"
   ]
  },
  {
   "cell_type": "code",
   "execution_count": 84,
   "id": "5da9b68e",
   "metadata": {},
   "outputs": [],
   "source": [
    "iocc = np.load(fixtures + \"ylm_x_iocc.npy\")\n",
    "rta1_1 = np.load(fixtures + \"ylm_x_rta1_1.npy\")\n",
    "rta1_2 = np.load(fixtures + \"ylm_x_rta1_2.npy\")\n",
    "x_1 = np.load(fixtures + \"ylm_x_X_1.npy\")\n",
    "a = load_npz(fixtures + \"ylm_x_A.npz\")\n",
    "st = np.load(fixtures + \"ylm_st_f.npy\")\n",
    "sta = np.load(fixtures + \"ylm_sta_f.npy\")\n",
    "theta_z = np.load(fixtures + \"ylm_x_theta_z.npy\")\n",
    "star = np.load(fixtures + \"ylm_star.npy\")\n",
    "x_2 = np.load(fixtures + \"ylm_x_X_2.npy\")"
   ]
  },
  {
   "cell_type": "code",
   "execution_count": 85,
   "id": "5306989c",
   "metadata": {},
   "outputs": [
    {
     "data": {
      "text/plain": [
       "(810, 36)"
      ]
     },
     "execution_count": 85,
     "metadata": {},
     "output_type": "execute_result"
    }
   ],
   "source": [
    "x_2.shape"
   ]
  },
  {
   "cell_type": "code",
   "execution_count": 86,
   "id": "6d465338",
   "metadata": {},
   "outputs": [
    {
     "ename": "NameError",
     "evalue": "name 'occ_idx' is not defined",
     "output_type": "error",
     "traceback": [
      "\u001b[0;31m---------------------------------------------------------------------------\u001b[0m",
      "\u001b[0;31mNameError\u001b[0m                                 Traceback (most recent call last)",
      "\u001b[0;32m/var/folders/nb/wym_qb_d4pxc93dj_c7l3wlr0000gn/T/ipykernel_38292/2594359616.py\u001b[0m in \u001b[0;36m<module>\u001b[0;34m\u001b[0m\n\u001b[0;32m----> 1\u001b[0;31m \u001b[0mnp\u001b[0m\u001b[0;34m.\u001b[0m\u001b[0marray_equal\u001b[0m\u001b[0;34m(\u001b[0m\u001b[0mocc_idx\u001b[0m\u001b[0;34m,\u001b[0m \u001b[0miocc\u001b[0m\u001b[0;34m)\u001b[0m\u001b[0;34m\u001b[0m\u001b[0;34m\u001b[0m\u001b[0m\n\u001b[0m",
      "\u001b[0;31mNameError\u001b[0m: name 'occ_idx' is not defined"
     ]
    }
   ],
   "source": [
    "np.array_equal(occ_idx, iocc)"
   ]
  },
  {
   "cell_type": "code",
   "execution_count": 87,
   "id": "8ea67b7d",
   "metadata": {},
   "outputs": [
    {
     "ename": "NameError",
     "evalue": "name 'y_occ' is not defined",
     "output_type": "error",
     "traceback": [
      "\u001b[0;31m---------------------------------------------------------------------------\u001b[0m",
      "\u001b[0;31mNameError\u001b[0m                                 Traceback (most recent call last)",
      "\u001b[0;32m/var/folders/nb/wym_qb_d4pxc93dj_c7l3wlr0000gn/T/ipykernel_38292/3287872319.py\u001b[0m in \u001b[0;36m<module>\u001b[0;34m\u001b[0m\n\u001b[0;32m----> 1\u001b[0;31m \u001b[0mnp\u001b[0m\u001b[0;34m.\u001b[0m\u001b[0marray_equal\u001b[0m\u001b[0;34m(\u001b[0m\u001b[0my\u001b[0m\u001b[0;34m,\u001b[0m \u001b[0my_occ\u001b[0m\u001b[0;34m)\u001b[0m\u001b[0;34m\u001b[0m\u001b[0;34m\u001b[0m\u001b[0m\n\u001b[0m",
      "\u001b[0;31mNameError\u001b[0m: name 'y_occ' is not defined"
     ]
    }
   ],
   "source": [
    "np.array_equal(y, y_occ)"
   ]
  },
  {
   "cell_type": "markdown",
   "id": "d35733bc",
   "metadata": {},
   "source": [
    "### implement calcluations in OpsYlm.X"
   ]
  },
  {
   "cell_type": "code",
   "execution_count": 88,
   "id": "90f4017a",
   "metadata": {},
   "outputs": [],
   "source": [
    "b = np.sqrt(x**2 + y**2)"
   ]
  },
  {
   "cell_type": "code",
   "execution_count": 89,
   "id": "590ab05c",
   "metadata": {},
   "outputs": [],
   "source": [
    "b_iocc = b[iocc]"
   ]
  },
  {
   "cell_type": "markdown",
   "id": "54fb0a1c",
   "metadata": {},
   "source": [
    "#### sT"
   ]
  },
  {
   "cell_type": "code",
   "execution_count": 90,
   "id": "2dc42049",
   "metadata": {},
   "outputs": [],
   "source": [
    "st_func = jax.jit(solution_vector(5))"
   ]
  },
  {
   "cell_type": "code",
   "execution_count": 91,
   "id": "334ae822",
   "metadata": {},
   "outputs": [],
   "source": [
    "st_res = st_func(b_iocc,ro)"
   ]
  },
  {
   "cell_type": "code",
   "execution_count": 92,
   "id": "681b4e46",
   "metadata": {},
   "outputs": [
    {
     "data": {
      "text/plain": [
       "(810, 36)"
      ]
     },
     "execution_count": 92,
     "metadata": {},
     "output_type": "execute_result"
    }
   ],
   "source": [
    "st_res.shape"
   ]
  },
  {
   "cell_type": "code",
   "execution_count": 93,
   "id": "866ab645",
   "metadata": {},
   "outputs": [
    {
     "data": {
      "text/plain": [
       "(810, 36)"
      ]
     },
     "execution_count": 93,
     "metadata": {},
     "output_type": "execute_result"
    }
   ],
   "source": [
    "st.shape"
   ]
  },
  {
   "cell_type": "code",
   "execution_count": 94,
   "id": "c131af2d",
   "metadata": {},
   "outputs": [
    {
     "data": {
      "text/plain": [
       "True"
      ]
     },
     "execution_count": 94,
     "metadata": {},
     "output_type": "execute_result"
    }
   ],
   "source": [
    "np.allclose(np.array(st_res), st, atol=1.e-5)"
   ]
  },
  {
   "cell_type": "markdown",
   "id": "65881615",
   "metadata": {},
   "source": [
    "#### A"
   ]
  },
  {
   "cell_type": "code",
   "execution_count": 95,
   "id": "e9671cd9",
   "metadata": {},
   "outputs": [],
   "source": [
    "a1 = A1(5)"
   ]
  },
  {
   "cell_type": "code",
   "execution_count": 96,
   "id": "62ad7d2c",
   "metadata": {},
   "outputs": [
    {
     "data": {
      "text/plain": [
       "(36, 36)"
      ]
     },
     "execution_count": 96,
     "metadata": {},
     "output_type": "execute_result"
    }
   ],
   "source": [
    "a1.shape"
   ]
  },
  {
   "cell_type": "code",
   "execution_count": 97,
   "id": "3d9900d6",
   "metadata": {},
   "outputs": [],
   "source": [
    "a2_inv = A2_inv(5)"
   ]
  },
  {
   "cell_type": "code",
   "execution_count": 98,
   "id": "a9a47a9b",
   "metadata": {},
   "outputs": [],
   "source": [
    "a2 = inv(a2_inv)"
   ]
  },
  {
   "cell_type": "code",
   "execution_count": 99,
   "id": "2d3deb64",
   "metadata": {},
   "outputs": [],
   "source": [
    "a_res = np.dot(a2, a1)"
   ]
  },
  {
   "cell_type": "code",
   "execution_count": 100,
   "id": "8a0c3abf",
   "metadata": {},
   "outputs": [
    {
     "data": {
      "text/plain": [
       "(36, 36)"
      ]
     },
     "execution_count": 100,
     "metadata": {},
     "output_type": "execute_result"
    }
   ],
   "source": [
    "a.shape"
   ]
  },
  {
   "cell_type": "markdown",
   "id": "afb86116",
   "metadata": {},
   "source": [
    "##### verification"
   ]
  },
  {
   "cell_type": "code",
   "execution_count": 101,
   "id": "e950995e",
   "metadata": {},
   "outputs": [],
   "source": [
    "starry_a = a.toarray()"
   ]
  },
  {
   "cell_type": "code",
   "execution_count": 102,
   "id": "708ebe39",
   "metadata": {},
   "outputs": [
    {
     "data": {
      "text/plain": [
       "True"
      ]
     },
     "execution_count": 102,
     "metadata": {},
     "output_type": "execute_result"
    }
   ],
   "source": [
    "np.allclose(a_res*2/np.sqrt(np.pi), starry_a)"
   ]
  },
  {
   "cell_type": "code",
   "execution_count": 103,
   "id": "d5bd4c23",
   "metadata": {},
   "outputs": [],
   "source": [
    "a_norm = a_res*2/np.sqrt(np.pi)"
   ]
  },
  {
   "cell_type": "markdown",
   "id": "089a5810",
   "metadata": {},
   "source": [
    "#### sTA"
   ]
  },
  {
   "cell_type": "code",
   "execution_count": 104,
   "id": "bf59092e",
   "metadata": {},
   "outputs": [],
   "source": [
    "sta_res = jnp.dot(st_res, a_norm)"
   ]
  },
  {
   "cell_type": "code",
   "execution_count": 105,
   "id": "3ca4228b",
   "metadata": {},
   "outputs": [
    {
     "data": {
      "text/plain": [
       "True"
      ]
     },
     "execution_count": 105,
     "metadata": {},
     "output_type": "execute_result"
    }
   ],
   "source": [
    "np.allclose(np.array(sta_res), sta, atol=1.e-4)"
   ]
  },
  {
   "cell_type": "markdown",
   "id": "34160c68",
   "metadata": {},
   "source": [
    "#### theta_z"
   ]
  },
  {
   "cell_type": "code",
   "execution_count": 106,
   "id": "fc33f9cc",
   "metadata": {},
   "outputs": [],
   "source": [
    "theta_z_res = jnp.arctan2(x[iocc], y[iocc])"
   ]
  },
  {
   "cell_type": "code",
   "execution_count": 107,
   "id": "107f7e6b",
   "metadata": {},
   "outputs": [
    {
     "data": {
      "text/plain": [
       "True"
      ]
     },
     "execution_count": 107,
     "metadata": {},
     "output_type": "execute_result"
    }
   ],
   "source": [
    "np.allclose(np.array(theta_z_res), theta_z)"
   ]
  },
  {
   "cell_type": "markdown",
   "id": "404027f8",
   "metadata": {},
   "source": [
    "#### sTAR"
   ]
  },
  {
   "cell_type": "code",
   "execution_count": 108,
   "id": "d752311b",
   "metadata": {},
   "outputs": [],
   "source": [
    "u_axis = [0,0,1]"
   ]
  },
  {
   "cell_type": "code",
   "execution_count": 109,
   "id": "f1fa7eae",
   "metadata": {},
   "outputs": [],
   "source": [
    "rfull_func = jax.jit(R_full(5, u_axis))"
   ]
  },
  {
   "cell_type": "code",
   "execution_count": 110,
   "id": "ff1bf201",
   "metadata": {},
   "outputs": [],
   "source": [
    "r_time = rfull_func(theta_z_res)"
   ]
  },
  {
   "cell_type": "markdown",
   "id": "b1e2e143",
   "metadata": {},
   "source": [
    "##### computeRz"
   ]
  },
  {
   "cell_type": "code",
   "execution_count": 111,
   "id": "bf23cd80",
   "metadata": {},
   "outputs": [],
   "source": [
    "# @jax.jit\n",
    "def computeRz(theta,deg,N):\n",
    "    # Length of timeseries\n",
    "    npts = theta.size\n",
    "\n",
    "    # Compute sin & cos\n",
    "    costheta = np.cos(theta)\n",
    "    sintheta = np.sin(theta)\n",
    "\n",
    "    # Initialize our z rotation vectors\n",
    "    cosnt = np.zeros((npts, max(2, deg + 1)))\n",
    "    cosnt[:,0] = 1.0\n",
    "    sinnt = np.zeros((npts, max(2, deg + 1)))\n",
    "    cosnt[:,1] = costheta\n",
    "    sinnt[:,1] = sintheta\n",
    "    cosmt = np.zeros((npts, N))\n",
    "    sinmt = np.zeros((npts, N))\n",
    "\n",
    "    # Compute the cos and sin vectors for the z-hat rotation\n",
    "    for n in range(2, deg + 1):\n",
    "        cosnt[:,n] = 2.0 * cosnt[:,n-1] * costheta - cosnt[:,n-2]\n",
    "        sinnt[:,n] = 2.0 * sinnt[:,n-1] * costheta - sinnt[:,n-2]\n",
    "    n = 0\n",
    "    for l in range(deg + 1):\n",
    "        for m in range(-l, 0):\n",
    "            cosmt[:,n] = cosnt[:,-m]\n",
    "            sinmt[:,n] = -sinnt[:,-m]\n",
    "            n += 1\n",
    "        for m in range(l + 1):\n",
    "            cosmt[:,n] = cosnt[:,m]\n",
    "            sinmt[:,n] = sinnt[:,m]\n",
    "            n += 1\n",
    "\n",
    "    # Set output\n",
    "    return (cosmt, sinmt)"
   ]
  },
  {
   "cell_type": "code",
   "execution_count": 112,
   "id": "1e6f0102",
   "metadata": {},
   "outputs": [],
   "source": [
    "def computeRz_j(theta,deg, N):\n",
    "    # Length of timeseries\n",
    "    npts = theta.size\n",
    "    nt_col = max(2, deg + 1)\n",
    "    \n",
    "    \n",
    "    @partial(jnp.vectorize, signature=f\"()->({npts},{N}),({npts},{N})\")\n",
    "    def _computeRz(x):\n",
    "        # Compute sin & cos\n",
    "        costheta = np.cos(theta)\n",
    "        sintheta = np.sin(theta)\n",
    "\n",
    "        # Initialize our z rotation vectors\n",
    "        cosnt = np.zeros((npts, nt_col))\n",
    "        cosnt[:,0] = 1.0\n",
    "        sinnt = np.zeros((npts, nt_col))\n",
    "        cosnt[:,1] = costheta\n",
    "        sinnt[:,1] = sintheta\n",
    "        cosmt = np.zeros((npts, N))\n",
    "        sinmt = np.zeros((npts, N))\n",
    "\n",
    "        # Compute the cos and sin vectors for the z-hat rotation\n",
    "        for n in range(2, deg + 1):\n",
    "            cosnt[:,n] = 2.0 * cosnt[:,n-1] * costheta - cosnt[:,n-2]\n",
    "            sinnt[:,n] = 2.0 * sinnt[:,n-1] * costheta - sinnt[:,n-2]\n",
    "        \n",
    "        n = 0\n",
    "        for l in range(deg + 1):\n",
    "            for m in range(-l, 0):\n",
    "                cosmt[:,n] = cosnt[:,-m]\n",
    "                sinmt[:,n] = -sinnt[:,-m]\n",
    "                n += 1\n",
    "            for m in range(l + 1):\n",
    "                cosmt[:,n] = cosnt[:,m]\n",
    "                sinmt[:,n] = sinnt[:,m]\n",
    "                n += 1\n",
    "        return (cosmt, sinmt)\n",
    "    return _computeRz"
   ]
  },
  {
   "cell_type": "code",
   "execution_count": 113,
   "id": "546b4943",
   "metadata": {},
   "outputs": [],
   "source": [
    "crz_func = jax.jit(computeRz_j(theta_z, 5, 36))"
   ]
  },
  {
   "cell_type": "code",
   "execution_count": 114,
   "id": "e84ee4e4",
   "metadata": {},
   "outputs": [],
   "source": [
    "cm,sm = crz_func(5)"
   ]
  },
  {
   "cell_type": "code",
   "execution_count": 115,
   "id": "d5dcb704",
   "metadata": {},
   "outputs": [
    {
     "data": {
      "text/plain": [
       "(810, 36)"
      ]
     },
     "execution_count": 115,
     "metadata": {},
     "output_type": "execute_result"
    }
   ],
   "source": [
    "cm.shape"
   ]
  },
  {
   "cell_type": "code",
   "execution_count": 116,
   "id": "d384968a",
   "metadata": {},
   "outputs": [],
   "source": [
    "cmt, smt = computeRz(theta_z,5,36)"
   ]
  },
  {
   "cell_type": "code",
   "execution_count": 117,
   "id": "2615fc04",
   "metadata": {},
   "outputs": [
    {
     "data": {
      "text/plain": [
       "True"
      ]
     },
     "execution_count": 117,
     "metadata": {},
     "output_type": "execute_result"
    }
   ],
   "source": [
    "np.allclose(cmt, np.array(cm))"
   ]
  },
  {
   "cell_type": "code",
   "execution_count": 118,
   "id": "3d87f046",
   "metadata": {},
   "outputs": [
    {
     "data": {
      "text/plain": [
       "True"
      ]
     },
     "execution_count": 118,
     "metadata": {},
     "output_type": "execute_result"
    }
   ],
   "source": [
    "np.allclose(smt, np.array(sm))"
   ]
  },
  {
   "cell_type": "markdown",
   "id": "72b1513e",
   "metadata": {},
   "source": [
    "##### tensordotRz"
   ]
  },
  {
   "cell_type": "code",
   "execution_count": 119,
   "id": "d8b70923",
   "metadata": {},
   "outputs": [],
   "source": [
    "def tensordotRz(M, cosmt, sinmt, theta):\n",
    "#     global tensordotRz_result, cosmt, sinmt, deg\n",
    "    # Shape checks\n",
    "    npts = len(theta)\n",
    "    Nr = M.shape[1]\n",
    "    degr = int(np.sqrt(Nr) - 1)\n",
    "\n",
    "    # Compute the sin & cos matrices\n",
    "#     computeRz(theta)\n",
    "\n",
    "    # Init result\n",
    "    tensordotRz_result = np.zeros((npts, Nr))\n",
    "#     if (npts == 0):\n",
    "#         return\n",
    "\n",
    "    # Dot them in\n",
    "    for l in range(degr + 1):\n",
    "        for j in range(2 * l + 1):\n",
    "            if (M.shape[0] == 1):\n",
    "                tensordotRz_result[:, l * l + j] = M[0, l * l + j] * cosmt[:, l * l + j] + M[0, l * l + 2 * l - j] * sinmt[:, l * l + j]\n",
    "            else:\n",
    "                tensordotRz_result[:, l * l + j] = np.multiply(M[:, l * l + j], cosmt[:, l * l + j]) + np.multiply(M[:, l * l + 2 * l - j], sinmt[:, l * l + j])\n",
    "    return tensordotRz_result"
   ]
  },
  {
   "cell_type": "code",
   "execution_count": 120,
   "id": "de77f676",
   "metadata": {},
   "outputs": [],
   "source": [
    "tdrz = tensordotRz(sta, cmt, smt, theta_z)"
   ]
  },
  {
   "cell_type": "code",
   "execution_count": 121,
   "id": "80fc9df6",
   "metadata": {},
   "outputs": [
    {
     "data": {
      "text/plain": [
       "(810, 36)"
      ]
     },
     "execution_count": 121,
     "metadata": {},
     "output_type": "execute_result"
    }
   ],
   "source": [
    "tdrz.shape"
   ]
  },
  {
   "cell_type": "code",
   "execution_count": 122,
   "id": "6325117e",
   "metadata": {},
   "outputs": [
    {
     "data": {
      "text/plain": [
       "True"
      ]
     },
     "execution_count": 122,
     "metadata": {},
     "output_type": "execute_result"
    }
   ],
   "source": [
    "np.allclose(tdrz, star)"
   ]
  },
  {
   "cell_type": "code",
   "execution_count": 123,
   "id": "fadb5bfe",
   "metadata": {},
   "outputs": [
    {
     "data": {
      "text/plain": [
       "(810, 36)"
      ]
     },
     "execution_count": 123,
     "metadata": {},
     "output_type": "execute_result"
    }
   ],
   "source": [
    "cmt.shape"
   ]
  },
  {
   "cell_type": "code",
   "execution_count": 124,
   "id": "37cfe03b",
   "metadata": {},
   "outputs": [],
   "source": [
    "def tensordotRz_j(M, cosmt, sinmt, theta):\n",
    "    # Shape checks\n",
    "    npts = len(theta)\n",
    "    Nr = cosmt.shape[1]\n",
    "    degr = int(np.sqrt(Nr) - 1)\n",
    "    \n",
    "    @partial(jnp.vectorize, signature=f\"()->({npts},{Nr})\")\n",
    "    def _tensordotRz(x):\n",
    "        # Init result\n",
    "        tensordotRz_result = np.zeros((npts, Nr))\n",
    "\n",
    "        # Dot them in\n",
    "        for l in range(degr + 1):\n",
    "            for j in range(2 * l + 1):\n",
    "                if (M.shape[0] == 1):\n",
    "                    tensordotRz_result[:, l * l + j] = M[0, l * l + j] * cosmt[:, l * l + j] + M[0, l * l + 2 * l - j] * sinmt[:, l * l + j]\n",
    "                else:\n",
    "                    tensordotRz_result[:, l * l + j] = M[:, l * l + j] * cosmt[:, l * l + j] + M[:, l * l + 2 * l - j] * sinmt[:, l * l + j]\n",
    "\n",
    "        return tensordotRz_result\n",
    "    return _tensordotRz"
   ]
  },
  {
   "cell_type": "code",
   "execution_count": 125,
   "id": "6e27abfa",
   "metadata": {},
   "outputs": [],
   "source": [
    "def tensordotRz_j(M, l, theta):\n",
    "    # Shape checks\n",
    "    npts = len(theta)\n",
    "    degr = l\n",
    "    Nr = (l + 1)**2\n",
    "#     Nr = cosmt.shape[1]\n",
    "#     degr = int(np.sqrt(Nr) - 1)\n",
    "    @jax.jit\n",
    "    @partial(jnp.vectorize, signature=f\"()->({npts},{Nr})\")\n",
    "    def _tensordotRz(x):\n",
    "        # Init result\n",
    "        tensordotRz_result = jnp.zeros((npts, Nr))\n",
    "        \n",
    "        # calculate Rz\n",
    "        cosmt, sinmt = computeRz(theta, degr, Nr)\n",
    "        \n",
    "        # Dot them in\n",
    "        for l in range(degr + 1):\n",
    "            for j in range(2 * l + 1):\n",
    "                if (M.shape[0] == 1):\n",
    "                    tensordotRz_result = tensordotRz_result.at[:, l * l + j].set(M[0, l * l + j] * cosmt[:, l * l + j] + M[0, l * l + 2 * l - j] * sinmt[:, l * l + j])\n",
    "                else:\n",
    "                    tensordotRz_result = tensordotRz_result.at[:, l * l + j].set(M[:, l * l + j] * cosmt[:, l * l + j] + M[:, l * l + 2 * l - j] * sinmt[:, l * l + j])\n",
    "        return tensordotRz_result\n",
    "    return _tensordotRz"
   ]
  },
  {
   "cell_type": "code",
   "execution_count": 126,
   "id": "37ea3a94",
   "metadata": {},
   "outputs": [],
   "source": [
    "trz_func = tensordotRz_j(sta, 5, theta_z)"
   ]
  },
  {
   "cell_type": "code",
   "execution_count": 127,
   "id": "e97b27d1",
   "metadata": {},
   "outputs": [],
   "source": [
    "srz_j = trz_func(3)"
   ]
  },
  {
   "cell_type": "code",
   "execution_count": 128,
   "id": "68f14c72",
   "metadata": {},
   "outputs": [
    {
     "data": {
      "text/plain": [
       "DeviceArray([[ 9.9054283e-01,  7.8796223e-03,  1.1512566e+00, ...,\n",
       "               3.2623989e-18,  5.3955959e-03, -1.1990021e-02],\n",
       "             [ 9.6892178e-01,  2.4646113e-02,  1.1380664e+00, ...,\n",
       "               2.4031512e-19,  1.7007306e-02, -1.9275181e-02],\n",
       "             [ 9.4061136e-01,  4.4718497e-02,  1.1157191e+00, ...,\n",
       "              -1.0413722e-17,  2.3796119e-02, -1.2194489e-02],\n",
       "             ...,\n",
       "             [ 9.3787611e-01, -4.6560436e-02,  1.1133505e+00, ...,\n",
       "              -1.7290695e-17,  2.3981314e-02,  1.1063970e-02],\n",
       "             [ 9.6639317e-01, -2.6518634e-02,  1.1362591e+00, ...,\n",
       "              -8.2554688e-19,  1.8004864e-02,  1.9156536e-02],\n",
       "             [ 9.8858660e-01, -9.4591742e-03,  1.1502808e+00, ...,\n",
       "               5.1178591e-18,  6.6289399e-03,  1.3507359e-02]],            dtype=float32)"
      ]
     },
     "execution_count": 128,
     "metadata": {},
     "output_type": "execute_result"
    }
   ],
   "source": [
    "srz_j"
   ]
  },
  {
   "cell_type": "code",
   "execution_count": 129,
   "id": "1d6d75f4",
   "metadata": {},
   "outputs": [],
   "source": [
    "tt = jnp.zeros((5,5))"
   ]
  },
  {
   "cell_type": "code",
   "execution_count": 130,
   "id": "db1e26ae",
   "metadata": {},
   "outputs": [],
   "source": [
    "for i in range(5):\n",
    "    tt = tt.at[i,i].add(i**3)"
   ]
  },
  {
   "cell_type": "code",
   "execution_count": 131,
   "id": "e7376272",
   "metadata": {},
   "outputs": [
    {
     "data": {
      "text/plain": [
       "DeviceArray([[ 0.,  0.,  0.,  0.,  0.],\n",
       "             [ 0.,  1.,  0.,  0.,  0.],\n",
       "             [ 0.,  0.,  8.,  0.,  0.],\n",
       "             [ 0.,  0.,  0., 27.,  0.],\n",
       "             [ 0.,  0.,  0.,  0., 64.]], dtype=float32)"
      ]
     },
     "execution_count": 131,
     "metadata": {},
     "output_type": "execute_result"
    }
   ],
   "source": [
    "tt"
   ]
  },
  {
   "cell_type": "code",
   "execution_count": 132,
   "id": "b53a9e97",
   "metadata": {},
   "outputs": [
    {
     "data": {
      "text/plain": [
       "True"
      ]
     },
     "execution_count": 132,
     "metadata": {},
     "output_type": "execute_result"
    }
   ],
   "source": [
    "np.allclose(star, np.array(srz_j))"
   ]
  },
  {
   "cell_type": "markdown",
   "id": "6b1668f9",
   "metadata": {},
   "source": [
    "#### right_project"
   ]
  },
  {
   "cell_type": "code",
   "execution_count": 133,
   "id": "afb5effc",
   "metadata": {},
   "outputs": [],
   "source": [
    "rp = np.load(fixtures + \"ylm_x_right_project_2.npy\")"
   ]
  },
  {
   "cell_type": "markdown",
   "id": "0e155d9f",
   "metadata": {},
   "source": [
    "##### dotR"
   ]
  },
  {
   "cell_type": "code",
   "execution_count": 134,
   "id": "12e6d156",
   "metadata": {},
   "outputs": [],
   "source": [
    "dotr_0 = np.load(fixtures + \"ylm_x_rp_dotR_0.npy\")"
   ]
  },
  {
   "cell_type": "code",
   "execution_count": 135,
   "id": "324e2adc",
   "metadata": {},
   "outputs": [],
   "source": [
    "u_a = [-jnp.cos(obl), -jnp.sin(obl), 0.]\n",
    "theta_a = -(0.5 * jnp.pi - inc)        \n",
    "dotR_func_a = dotR(5, u_a)"
   ]
  },
  {
   "cell_type": "code",
   "execution_count": 136,
   "id": "dba12d50",
   "metadata": {},
   "outputs": [
    {
     "data": {
      "text/plain": [
       "3.673205103416066e-06"
      ]
     },
     "execution_count": 136,
     "metadata": {},
     "output_type": "execute_result"
    }
   ],
   "source": [
    "theta_a"
   ]
  },
  {
   "cell_type": "code",
   "execution_count": 137,
   "id": "5fdfbe2c",
   "metadata": {},
   "outputs": [],
   "source": [
    "a_arr = a.toarray()"
   ]
  },
  {
   "cell_type": "code",
   "execution_count": 138,
   "id": "01e6f6df",
   "metadata": {},
   "outputs": [],
   "source": [
    "from jaxoplanet._src.types import Array\n",
    "from typing import Callable"
   ]
  },
  {
   "cell_type": "code",
   "execution_count": 155,
   "id": "8a66b05f",
   "metadata": {},
   "outputs": [],
   "source": [
    "def new_dotR(l_max: int, u: Array, M: Array) -> Callable[[Array],Array]:\n",
    "    \"\"\"Dot product M@R of a matrix M with the rotation matrix R\n",
    "    Parameters\n",
    "    ----------\n",
    "    l_max : int\n",
    "        maximum order of the spherical harmonics map\n",
    "    u : Array\n",
    "        axis-rotation vector\n",
    "    Returns\n",
    "    -------\n",
    "    Callable[[Array], Array]\n",
    "        a jax.vmap function of (M, theta) returning the product M@R where\n",
    "        - M is a matrix (Array)\n",
    "        - theta is the rotation angle in radians\n",
    "    \"\"\"\n",
    "    Rls = [Rl(l) for l in range(l_max + 1)]\n",
    "    n_max = l_max**2 + 2 * l_max + 1\n",
    "    m_row = M.shape[0]\n",
    "    \n",
    "#     @jax.jit\n",
    "    @partial(jnp.vectorize, signature=f\"()->({m_row},{n_max})\")\n",
    "    def _R(theta: Array) -> Array:\n",
    "        alpha, beta, gamma = axis_to_euler(u[0], u[1], u[2], theta)\n",
    "        return jnp.hstack(\n",
    "            [\n",
    "                M[:, l**2 : (l + 1) ** 2] @ Rls[l](alpha, beta, gamma)\n",
    "                for l in range(l_max + 1)\n",
    "            ]\n",
    "        )\n",
    "\n",
    "    return _R"
   ]
  },
  {
   "cell_type": "code",
   "execution_count": 154,
   "id": "d6701324",
   "metadata": {},
   "outputs": [
    {
     "ename": "TracerIntegerConversionError",
     "evalue": "The __index__() method was called on the JAX Tracer object Traced<ShapedArray(int32[], weak_type=True)>with<DynamicJaxprTrace(level=0/1)>\nSee https://jax.readthedocs.io/en/latest/errors.html#jax.errors.TracerIntegerConversionError",
     "output_type": "error",
     "traceback": [
      "\u001b[0;31m---------------------------------------------------------------------------\u001b[0m",
      "\u001b[0;31mTracerIntegerConversionError\u001b[0m              Traceback (most recent call last)",
      "\u001b[0;32m/var/folders/nb/wym_qb_d4pxc93dj_c7l3wlr0000gn/T/ipykernel_38292/1981001438.py\u001b[0m in \u001b[0;36m<module>\u001b[0;34m\u001b[0m\n\u001b[0;32m----> 1\u001b[0;31m \u001b[0mnew_dotR_func_a\u001b[0m \u001b[0;34m=\u001b[0m \u001b[0mnew_dotR\u001b[0m\u001b[0;34m(\u001b[0m\u001b[0;36m5\u001b[0m\u001b[0;34m,\u001b[0m \u001b[0mu_a\u001b[0m\u001b[0;34m,\u001b[0m \u001b[0mstar\u001b[0m\u001b[0;34m)\u001b[0m\u001b[0;34m\u001b[0m\u001b[0;34m\u001b[0m\u001b[0m\n\u001b[0m",
      "    \u001b[0;31m[... skipping hidden 11 frame]\u001b[0m\n",
      "\u001b[0;32m/var/folders/nb/wym_qb_d4pxc93dj_c7l3wlr0000gn/T/ipykernel_38292/2307716478.py\u001b[0m in \u001b[0;36mnew_dotR\u001b[0;34m(l_max, u, M)\u001b[0m\n\u001b[1;32m     15\u001b[0m         \u001b[0;34m-\u001b[0m \u001b[0mtheta\u001b[0m \u001b[0;32mis\u001b[0m \u001b[0mthe\u001b[0m \u001b[0mrotation\u001b[0m \u001b[0mangle\u001b[0m \u001b[0;32min\u001b[0m \u001b[0mradians\u001b[0m\u001b[0;34m\u001b[0m\u001b[0;34m\u001b[0m\u001b[0m\n\u001b[1;32m     16\u001b[0m     \"\"\"\n\u001b[0;32m---> 17\u001b[0;31m     \u001b[0mRls\u001b[0m \u001b[0;34m=\u001b[0m \u001b[0;34m[\u001b[0m\u001b[0mRl\u001b[0m\u001b[0;34m(\u001b[0m\u001b[0ml\u001b[0m\u001b[0;34m)\u001b[0m \u001b[0;32mfor\u001b[0m \u001b[0ml\u001b[0m \u001b[0;32min\u001b[0m \u001b[0mrange\u001b[0m\u001b[0;34m(\u001b[0m\u001b[0ml_max\u001b[0m \u001b[0;34m+\u001b[0m \u001b[0;36m1\u001b[0m\u001b[0;34m)\u001b[0m\u001b[0;34m]\u001b[0m\u001b[0;34m\u001b[0m\u001b[0;34m\u001b[0m\u001b[0m\n\u001b[0m\u001b[1;32m     18\u001b[0m     \u001b[0mn_max\u001b[0m \u001b[0;34m=\u001b[0m \u001b[0ml_max\u001b[0m\u001b[0;34m**\u001b[0m\u001b[0;36m2\u001b[0m \u001b[0;34m+\u001b[0m \u001b[0;36m2\u001b[0m \u001b[0;34m*\u001b[0m \u001b[0ml_max\u001b[0m \u001b[0;34m+\u001b[0m \u001b[0;36m1\u001b[0m\u001b[0;34m\u001b[0m\u001b[0;34m\u001b[0m\u001b[0m\n\u001b[1;32m     19\u001b[0m     \u001b[0mm_row\u001b[0m \u001b[0;34m=\u001b[0m \u001b[0mM\u001b[0m\u001b[0;34m.\u001b[0m\u001b[0mshape\u001b[0m\u001b[0;34m[\u001b[0m\u001b[0;36m0\u001b[0m\u001b[0;34m]\u001b[0m\u001b[0;34m\u001b[0m\u001b[0;34m\u001b[0m\u001b[0m\n",
      "\u001b[0;32m~/.pyenv/versions/3.7.4/envs/bpope_2023a/lib/python3.7/site-packages/jax/core.py\u001b[0m in \u001b[0;36m__index__\u001b[0;34m(self)\u001b[0m\n\u001b[1;32m    546\u001b[0m \u001b[0;34m\u001b[0m\u001b[0m\n\u001b[1;32m    547\u001b[0m   \u001b[0;32mdef\u001b[0m \u001b[0m__index__\u001b[0m\u001b[0;34m(\u001b[0m\u001b[0mself\u001b[0m\u001b[0;34m)\u001b[0m\u001b[0;34m:\u001b[0m\u001b[0;34m\u001b[0m\u001b[0;34m\u001b[0m\u001b[0m\n\u001b[0;32m--> 548\u001b[0;31m     \u001b[0;32mraise\u001b[0m \u001b[0mTracerIntegerConversionError\u001b[0m\u001b[0;34m(\u001b[0m\u001b[0mself\u001b[0m\u001b[0;34m)\u001b[0m\u001b[0;34m\u001b[0m\u001b[0;34m\u001b[0m\u001b[0m\n\u001b[0m\u001b[1;32m    549\u001b[0m \u001b[0;34m\u001b[0m\u001b[0m\n\u001b[1;32m    550\u001b[0m   \u001b[0;32mdef\u001b[0m \u001b[0m__init__\u001b[0m\u001b[0;34m(\u001b[0m\u001b[0mself\u001b[0m\u001b[0;34m,\u001b[0m \u001b[0mtrace\u001b[0m\u001b[0;34m:\u001b[0m \u001b[0mTrace\u001b[0m\u001b[0;34m)\u001b[0m\u001b[0;34m:\u001b[0m\u001b[0;34m\u001b[0m\u001b[0;34m\u001b[0m\u001b[0m\n",
      "\u001b[0;31mTracerIntegerConversionError\u001b[0m: The __index__() method was called on the JAX Tracer object Traced<ShapedArray(int32[], weak_type=True)>with<DynamicJaxprTrace(level=0/1)>\nSee https://jax.readthedocs.io/en/latest/errors.html#jax.errors.TracerIntegerConversionError"
     ]
    }
   ],
   "source": [
    "new_dotR_func_a = new_dotR(5, u_a, star)"
   ]
  },
  {
   "cell_type": "code",
   "execution_count": 141,
   "id": "be0d5a07",
   "metadata": {},
   "outputs": [],
   "source": [
    "new_res = new_dotR_func_a(theta_a)"
   ]
  },
  {
   "cell_type": "code",
   "execution_count": 142,
   "id": "eef855ce",
   "metadata": {},
   "outputs": [
    {
     "data": {
      "text/plain": [
       "(810, 36)"
      ]
     },
     "execution_count": 142,
     "metadata": {},
     "output_type": "execute_result"
    }
   ],
   "source": [
    "new_res.shape"
   ]
  },
  {
   "cell_type": "code",
   "execution_count": 143,
   "id": "62bd5b0a",
   "metadata": {},
   "outputs": [
    {
     "data": {
      "text/plain": [
       "True"
      ]
     },
     "execution_count": 143,
     "metadata": {},
     "output_type": "execute_result"
    }
   ],
   "source": [
    "np.allclose(np.array(new_res), dotr_0)"
   ]
  },
  {
   "cell_type": "code",
   "execution_count": 144,
   "id": "7a67665a",
   "metadata": {},
   "outputs": [],
   "source": [
    "theta_b = obl"
   ]
  },
  {
   "cell_type": "code",
   "execution_count": 145,
   "id": "6c294fed",
   "metadata": {},
   "outputs": [
    {
     "data": {
      "text/plain": [
       "0.0"
      ]
     },
     "execution_count": 145,
     "metadata": {},
     "output_type": "execute_result"
    }
   ],
   "source": [
    "theta_b"
   ]
  },
  {
   "cell_type": "markdown",
   "id": "cc644e59",
   "metadata": {},
   "source": [
    "##### right_project"
   ]
  },
  {
   "cell_type": "code",
   "execution_count": 156,
   "id": "e3c0e51b",
   "metadata": {},
   "outputs": [],
   "source": [
    "@jax.jit\n",
    "def right_project(l, M, inc, obl, theta):\n",
    "        r\"\"\"Apply the projection operator on the right.\n",
    "\n",
    "        Specifically, this method returns the dot product :math:`M \\cdot R`,\n",
    "        where ``M`` is an input matrix and ``R`` is the Wigner rotation matrix\n",
    "        that transforms a spherical harmonic coefficient vector in the\n",
    "        input frame to a vector in the observer's frame.\n",
    "        \"\"\"\n",
    "        # Rotate to the sky frame\n",
    "        # TODO: Do this in a single compound rotation\n",
    "        u_a = [-jnp.cos(obl), -jnp.sin(obl), 0.]\n",
    "        theta_a = -(0.5 * jnp.pi - inc)   \n",
    "#         dotR_func_a = partial(new_dotR, l, u_a)\n",
    "        dotR_func_a = new_dotR(l, u_a, M)\n",
    "        return dotR_func_a\n",
    "        dotR_a = dotR_func_a(theta_a)\n",
    "        \n",
    "        u_b = [0., 0., 1.]\n",
    "        theta_b = obl\n",
    "        dotR_func_b = new_dotR(l, u_b, dotR_a)\n",
    "        dotR_b = dotR_func_b(theta_b)\n",
    "    \n",
    "        u_c = [1., 0., 0.]\n",
    "        theta_c = -0.5 * jnp.pi\n",
    "        dotR_func_c = new_dotR(l, u_c, dotR_b)\n",
    "        M = dotR_func_c(theta_c)\n",
    "\n",
    "        # Rotate to the correct phase\n",
    "        if theta.ndim > 0:\n",
    "            print(\"ndim > 0\")\n",
    "            trz_j = tensordotRz_j(M,l,theta)\n",
    "            M = trz_j(2)\n",
    "\n",
    "        else:\n",
    "            M_func = new_dotR(l, u_b, M)\n",
    "            M = M_func(theta)\n",
    "\n",
    "\n",
    "        # Rotate to the polar frame\n",
    "        M_func = new_dotR(l, u_c, M)\n",
    "        M = M_func(-theta_c)\n",
    "\n",
    "        return M"
   ]
  },
  {
   "cell_type": "code",
   "execution_count": 157,
   "id": "2fa364cf",
   "metadata": {},
   "outputs": [],
   "source": [
    "theta_j = jnp.array(theta)"
   ]
  },
  {
   "cell_type": "code",
   "execution_count": 158,
   "id": "25a61efd",
   "metadata": {},
   "outputs": [
    {
     "ename": "TracerIntegerConversionError",
     "evalue": "The __index__() method was called on the JAX Tracer object Traced<ShapedArray(int32[], weak_type=True)>with<DynamicJaxprTrace(level=0/1)>\nSee https://jax.readthedocs.io/en/latest/errors.html#jax.errors.TracerIntegerConversionError",
     "output_type": "error",
     "traceback": [
      "\u001b[0;31m---------------------------------------------------------------------------\u001b[0m",
      "\u001b[0;31mTracerIntegerConversionError\u001b[0m              Traceback (most recent call last)",
      "\u001b[0;32m/var/folders/nb/wym_qb_d4pxc93dj_c7l3wlr0000gn/T/ipykernel_38292/3952392521.py\u001b[0m in \u001b[0;36m<module>\u001b[0;34m\u001b[0m\n\u001b[0;32m----> 1\u001b[0;31m \u001b[0mrp_res\u001b[0m \u001b[0;34m=\u001b[0m \u001b[0mright_project\u001b[0m\u001b[0;34m(\u001b[0m\u001b[0;36m5\u001b[0m\u001b[0;34m,\u001b[0m \u001b[0mstar\u001b[0m\u001b[0;34m,\u001b[0m \u001b[0minc\u001b[0m\u001b[0;34m,\u001b[0m \u001b[0mobl\u001b[0m\u001b[0;34m,\u001b[0m \u001b[0mtheta_j\u001b[0m\u001b[0;34m)\u001b[0m\u001b[0;34m\u001b[0m\u001b[0;34m\u001b[0m\u001b[0m\n\u001b[0m",
      "    \u001b[0;31m[... skipping hidden 11 frame]\u001b[0m\n",
      "\u001b[0;32m/var/folders/nb/wym_qb_d4pxc93dj_c7l3wlr0000gn/T/ipykernel_38292/3624891709.py\u001b[0m in \u001b[0;36mright_project\u001b[0;34m(l, M, inc, obl, theta)\u001b[0m\n\u001b[1;32m     13\u001b[0m         \u001b[0mtheta_a\u001b[0m \u001b[0;34m=\u001b[0m \u001b[0;34m-\u001b[0m\u001b[0;34m(\u001b[0m\u001b[0;36m0.5\u001b[0m \u001b[0;34m*\u001b[0m \u001b[0mjnp\u001b[0m\u001b[0;34m.\u001b[0m\u001b[0mpi\u001b[0m \u001b[0;34m-\u001b[0m \u001b[0minc\u001b[0m\u001b[0;34m)\u001b[0m\u001b[0;34m\u001b[0m\u001b[0;34m\u001b[0m\u001b[0m\n\u001b[1;32m     14\u001b[0m \u001b[0;31m#         dotR_func_a = partial(new_dotR, l, u_a)\u001b[0m\u001b[0;34m\u001b[0m\u001b[0;34m\u001b[0m\u001b[0;34m\u001b[0m\u001b[0m\n\u001b[0;32m---> 15\u001b[0;31m         \u001b[0mdotR_func_a\u001b[0m \u001b[0;34m=\u001b[0m \u001b[0mnew_dotR\u001b[0m\u001b[0;34m(\u001b[0m\u001b[0ml\u001b[0m\u001b[0;34m,\u001b[0m \u001b[0mu_a\u001b[0m\u001b[0;34m,\u001b[0m \u001b[0mM\u001b[0m\u001b[0;34m)\u001b[0m\u001b[0;34m\u001b[0m\u001b[0;34m\u001b[0m\u001b[0m\n\u001b[0m\u001b[1;32m     16\u001b[0m         \u001b[0;32mreturn\u001b[0m \u001b[0mdotR_func_a\u001b[0m\u001b[0;34m\u001b[0m\u001b[0;34m\u001b[0m\u001b[0m\n\u001b[1;32m     17\u001b[0m         \u001b[0mdotR_a\u001b[0m \u001b[0;34m=\u001b[0m \u001b[0mdotR_func_a\u001b[0m\u001b[0;34m(\u001b[0m\u001b[0mtheta_a\u001b[0m\u001b[0;34m)\u001b[0m\u001b[0;34m\u001b[0m\u001b[0;34m\u001b[0m\u001b[0m\n",
      "\u001b[0;32m/var/folders/nb/wym_qb_d4pxc93dj_c7l3wlr0000gn/T/ipykernel_38292/617964829.py\u001b[0m in \u001b[0;36mnew_dotR\u001b[0;34m(l_max, u, M)\u001b[0m\n\u001b[1;32m     14\u001b[0m         \u001b[0;34m-\u001b[0m \u001b[0mtheta\u001b[0m \u001b[0;32mis\u001b[0m \u001b[0mthe\u001b[0m \u001b[0mrotation\u001b[0m \u001b[0mangle\u001b[0m \u001b[0;32min\u001b[0m \u001b[0mradians\u001b[0m\u001b[0;34m\u001b[0m\u001b[0;34m\u001b[0m\u001b[0m\n\u001b[1;32m     15\u001b[0m     \"\"\"\n\u001b[0;32m---> 16\u001b[0;31m     \u001b[0mRls\u001b[0m \u001b[0;34m=\u001b[0m \u001b[0;34m[\u001b[0m\u001b[0mRl\u001b[0m\u001b[0;34m(\u001b[0m\u001b[0ml\u001b[0m\u001b[0;34m)\u001b[0m \u001b[0;32mfor\u001b[0m \u001b[0ml\u001b[0m \u001b[0;32min\u001b[0m \u001b[0mrange\u001b[0m\u001b[0;34m(\u001b[0m\u001b[0ml_max\u001b[0m \u001b[0;34m+\u001b[0m \u001b[0;36m1\u001b[0m\u001b[0;34m)\u001b[0m\u001b[0;34m]\u001b[0m\u001b[0;34m\u001b[0m\u001b[0;34m\u001b[0m\u001b[0m\n\u001b[0m\u001b[1;32m     17\u001b[0m     \u001b[0mn_max\u001b[0m \u001b[0;34m=\u001b[0m \u001b[0ml_max\u001b[0m\u001b[0;34m**\u001b[0m\u001b[0;36m2\u001b[0m \u001b[0;34m+\u001b[0m \u001b[0;36m2\u001b[0m \u001b[0;34m*\u001b[0m \u001b[0ml_max\u001b[0m \u001b[0;34m+\u001b[0m \u001b[0;36m1\u001b[0m\u001b[0;34m\u001b[0m\u001b[0;34m\u001b[0m\u001b[0m\n\u001b[1;32m     18\u001b[0m     \u001b[0mm_row\u001b[0m \u001b[0;34m=\u001b[0m \u001b[0mM\u001b[0m\u001b[0;34m.\u001b[0m\u001b[0mshape\u001b[0m\u001b[0;34m[\u001b[0m\u001b[0;36m0\u001b[0m\u001b[0;34m]\u001b[0m\u001b[0;34m\u001b[0m\u001b[0;34m\u001b[0m\u001b[0m\n",
      "\u001b[0;32m~/.pyenv/versions/3.7.4/envs/bpope_2023a/lib/python3.7/site-packages/jax/core.py\u001b[0m in \u001b[0;36m__index__\u001b[0;34m(self)\u001b[0m\n\u001b[1;32m    546\u001b[0m \u001b[0;34m\u001b[0m\u001b[0m\n\u001b[1;32m    547\u001b[0m   \u001b[0;32mdef\u001b[0m \u001b[0m__index__\u001b[0m\u001b[0;34m(\u001b[0m\u001b[0mself\u001b[0m\u001b[0;34m)\u001b[0m\u001b[0;34m:\u001b[0m\u001b[0;34m\u001b[0m\u001b[0;34m\u001b[0m\u001b[0m\n\u001b[0;32m--> 548\u001b[0;31m     \u001b[0;32mraise\u001b[0m \u001b[0mTracerIntegerConversionError\u001b[0m\u001b[0;34m(\u001b[0m\u001b[0mself\u001b[0m\u001b[0;34m)\u001b[0m\u001b[0;34m\u001b[0m\u001b[0;34m\u001b[0m\u001b[0m\n\u001b[0m\u001b[1;32m    549\u001b[0m \u001b[0;34m\u001b[0m\u001b[0m\n\u001b[1;32m    550\u001b[0m   \u001b[0;32mdef\u001b[0m \u001b[0m__init__\u001b[0m\u001b[0;34m(\u001b[0m\u001b[0mself\u001b[0m\u001b[0;34m,\u001b[0m \u001b[0mtrace\u001b[0m\u001b[0;34m:\u001b[0m \u001b[0mTrace\u001b[0m\u001b[0;34m)\u001b[0m\u001b[0;34m:\u001b[0m\u001b[0;34m\u001b[0m\u001b[0;34m\u001b[0m\u001b[0m\n",
      "\u001b[0;31mTracerIntegerConversionError\u001b[0m: The __index__() method was called on the JAX Tracer object Traced<ShapedArray(int32[], weak_type=True)>with<DynamicJaxprTrace(level=0/1)>\nSee https://jax.readthedocs.io/en/latest/errors.html#jax.errors.TracerIntegerConversionError"
     ]
    }
   ],
   "source": [
    "rp_res = right_project(5, star, inc, obl, theta_j)"
   ]
  },
  {
   "cell_type": "code",
   "execution_count": null,
   "id": "1ab2528a",
   "metadata": {},
   "outputs": [],
   "source": [
    "np.allclose(np.array(rp_res), rp, atol=1.e-6)"
   ]
  }
 ],
 "metadata": {
  "kernelspec": {
   "display_name": "bpope",
   "language": "python",
   "name": "bpope"
  },
  "language_info": {
   "codemirror_mode": {
    "name": "ipython",
    "version": 3
   },
   "file_extension": ".py",
   "mimetype": "text/x-python",
   "name": "python",
   "nbconvert_exporter": "python",
   "pygments_lexer": "ipython3",
   "version": "3.7.4"
  },
  "toc": {
   "base_numbering": 1,
   "nav_menu": {},
   "number_sections": true,
   "sideBar": true,
   "skip_h1_title": false,
   "title_cell": "Table of Contents",
   "title_sidebar": "Contents",
   "toc_cell": false,
   "toc_position": {},
   "toc_section_display": true,
   "toc_window_display": true
  }
 },
 "nbformat": 4,
 "nbformat_minor": 5
}
