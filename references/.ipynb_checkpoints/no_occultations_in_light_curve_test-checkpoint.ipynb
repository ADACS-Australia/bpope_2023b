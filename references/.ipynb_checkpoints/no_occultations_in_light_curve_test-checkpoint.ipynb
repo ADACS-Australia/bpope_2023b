{
 "cells": [
  {
   "cell_type": "code",
   "execution_count": null,
   "id": "64841732",
   "metadata": {},
   "outputs": [],
   "source": [
    "import starry\n",
    "import jax\n",
    "import jax.numpy as jnp\n",
    "import numpy as np"
   ]
  },
  {
   "cell_type": "code",
   "execution_count": null,
   "id": "6894b769",
   "metadata": {},
   "outputs": [],
   "source": [
    "from jaxoplanet.experimental.starry.light_curve.ylm import light_curve\n",
    "from jaxoplanet.experimental.starry.light_curve.inference import (\n",
    "    design_matrix,\n",
    "    cast,\n",
    "    set_data,\n",
    "    set_prior,\n",
    "    map_solve,\n",
    "    solve,\n",
    "    get_lnlike,\n",
    "    get_lnlike_woodbury,\n",
    "    lnlike,\n",
    ")\n",
    "from jaxoplanet.test_utils import assert_allclose"
   ]
  },
  {
   "cell_type": "code",
   "execution_count": null,
   "id": "509bab5e",
   "metadata": {},
   "outputs": [],
   "source": [
    "starry.config.lazy = False"
   ]
  },
  {
   "cell_type": "markdown",
   "id": "bedba112",
   "metadata": {},
   "source": [
    "# light_curve() test has no occultations."
   ]
  },
  {
   "cell_type": "markdown",
   "id": "b5231ec4",
   "metadata": {},
   "source": [
    "With the given values of zo, the light curve is invariant for all theta (the condition of zo<=0 results in no occultations being computed). Perhaps we can set zo = xo, giving some occultations for the test."
   ]
  },
  {
   "cell_type": "code",
   "execution_count": null,
   "id": "35eee348",
   "metadata": {},
   "outputs": [],
   "source": [
    "# current test\n",
    "\n",
    "l_max = 5\n",
    "ro = 0.1\n",
    "xo = jnp.linspace(0, ro + 2, 500)\n",
    "yo = jnp.zeros(500)\n",
    "zo = jnp.zeros(500)\n",
    "inc = 0\n",
    "obl = np.pi / 2\n",
    "theta = jnp.linspace(0, np.pi, 500)\n",
    "n_max = (l_max + 1) ** 2\n",
    "y = np.random.uniform(0, 1, n_max)\n",
    "y[0] = 1.0\n",
    "\n",
    "m = starry.Map(l_max)\n",
    "expect = m.ops.flux(theta, xo, yo, zo, ro, inc, obl, y, m._u, m._f) * (\n",
    "    0.5 * np.sqrt(np.pi)\n",
    ")\n",
    "\n",
    "calc = light_curve(l_max, inc, obl, y, xo, yo, zo, ro, theta)\n",
    "\n",
    "assert_allclose(calc, expect)"
   ]
  },
  {
   "cell_type": "code",
   "execution_count": null,
   "id": "abf776eb",
   "metadata": {},
   "outputs": [],
   "source": [
    "calc[0:30]  # All values are the same."
   ]
  },
  {
   "cell_type": "code",
   "execution_count": null,
   "id": "c2ff46c6",
   "metadata": {},
   "outputs": [],
   "source": [
    "# Since all of zo == 0 ...\n",
    "\n",
    "zo[0:30]"
   ]
  },
  {
   "cell_type": "code",
   "execution_count": null,
   "id": "110f8dd4",
   "metadata": {},
   "outputs": [],
   "source": [
    "# all points are masked out, and none are occulted.\n",
    "\n",
    "b = jnp.sqrt(xo**2 + yo**2)\n",
    "\n",
    "# occultation mask\n",
    "cond_rot = (b >= (1.0 + ro)) | (zo <= 0.0) | (ro == 0.0)\n",
    "cond_rot[0:30]"
   ]
  },
  {
   "cell_type": "code",
   "execution_count": null,
   "id": "ee8308e3",
   "metadata": {},
   "outputs": [],
   "source": [
    "# propsed change: (zo == xo)\n",
    "\n",
    "l_max = 5\n",
    "\n",
    "ro = 0.1\n",
    "xo = jnp.linspace(0, ro + 2, 500)\n",
    "yo = jnp.zeros(500)\n",
    "zo = jnp.linspace(0, ro + 2, 500)\n",
    "inc = 0\n",
    "obl = np.pi / 2\n",
    "theta = jnp.linspace(0, np.pi, 500)\n",
    "n_max = (l_max + 1) ** 2\n",
    "y = np.random.uniform(0, 1, n_max)\n",
    "y[0] = 1.0\n",
    "\n",
    "m = starry.Map(l_max)\n",
    "expect = m.ops.flux(theta, xo, yo, zo, ro, inc, obl, y, m._u, m._f) * (\n",
    "    0.5 * np.sqrt(np.pi)\n",
    ")\n",
    "\n",
    "calc = light_curve(l_max, inc, obl, y, xo, yo, zo, ro, theta)\n",
    "\n",
    "assert_allclose(calc, expect)"
   ]
  },
  {
   "cell_type": "code",
   "execution_count": null,
   "id": "1e3550b2",
   "metadata": {},
   "outputs": [],
   "source": [
    "calc[0:30]  # occultations occur"
   ]
  },
  {
   "cell_type": "code",
   "execution_count": null,
   "id": "4125ccb2",
   "metadata": {},
   "outputs": [],
   "source": [
    "# With zo == xo, not all points are masked out -> some occultations computed.\n",
    "\n",
    "b = jnp.sqrt(xo**2 + yo**2)\n",
    "\n",
    "# occultation mask\n",
    "cond_rot = (b >= (1.0 + ro)) | (zo <= 0.0) | (ro == 0.0)\n",
    "cond_rot[0:30]"
   ]
  },
  {
   "cell_type": "code",
   "execution_count": null,
   "id": "9e1b8ec3",
   "metadata": {},
   "outputs": [],
   "source": []
  }
 ],
 "metadata": {
  "kernelspec": {
   "display_name": "bpope",
   "language": "python",
   "name": "bpope"
  },
  "language_info": {
   "codemirror_mode": {
    "name": "ipython",
    "version": 3
   },
   "file_extension": ".py",
   "mimetype": "text/x-python",
   "name": "python",
   "nbconvert_exporter": "python",
   "pygments_lexer": "ipython3",
   "version": "3.10.12"
  }
 },
 "nbformat": 4,
 "nbformat_minor": 5
}
