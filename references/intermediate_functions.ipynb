{
 "cells": [
  {
   "cell_type": "code",
   "execution_count": 2,
   "id": "122038c5",
   "metadata": {},
   "outputs": [],
   "source": [
    "import numpy as np\n",
    "import starry\n",
    "starry.config.lazy = False\n",
    "import exoplanet"
   ]
  },
  {
   "cell_type": "code",
   "execution_count": 3,
   "id": "133e7947",
   "metadata": {},
   "outputs": [],
   "source": [
    "import jax\n",
    "import jax.numpy as jnp\n",
    "from jax import jit"
   ]
  },
  {
   "cell_type": "code",
   "execution_count": 4,
   "id": "dde4f85a",
   "metadata": {},
   "outputs": [],
   "source": [
    "fixtures = \"/Users/SuperTiger/ADACS/repo/SS2023A-BPope/starry/tests/fixtures\""
   ]
  },
  {
   "cell_type": "markdown",
   "id": "2b4c86ec",
   "metadata": {},
   "source": [
    "### general inputs"
   ]
  },
  {
   "cell_type": "code",
   "execution_count": 5,
   "id": "bdb81fab",
   "metadata": {},
   "outputs": [],
   "source": [
    "time = np.linspace(-0.25, 3.25, 10000)"
   ]
  },
  {
   "cell_type": "code",
   "execution_count": 6,
   "id": "70068c08",
   "metadata": {},
   "outputs": [],
   "source": [
    "pri_deg = 0\n",
    "pri_udeg = 2\n",
    "pri_amp = 1.0\n",
    "pri_m = 1.0\n",
    "pri_r = 1.0\n",
    "pri_prot = 1.0\n",
    "sec_deg=5\n",
    "sec_amp = 5e-3\n",
    "sec_m = 0\n",
    "sec_r = 0.1\n",
    "sec_porb = 1.0\n",
    "sec_prot = 1.0\n",
    "sec_omega = 30\n",
    "sec_ecc = 0.3\n",
    "sec_w = 30\n",
    "sec_t0 = 0"
   ]
  },
  {
   "cell_type": "code",
   "execution_count": 7,
   "id": "2f498543",
   "metadata": {},
   "outputs": [],
   "source": [
    "map1 = starry.Map(deg=pri_deg, udeg=pri_udeg, amp=pri_amp)"
   ]
  },
  {
   "cell_type": "code",
   "execution_count": 8,
   "id": "94e1089a",
   "metadata": {},
   "outputs": [],
   "source": [
    "ys = map1._y"
   ]
  },
  {
   "cell_type": "code",
   "execution_count": 9,
   "id": "5457ce46",
   "metadata": {},
   "outputs": [
    {
     "name": "stderr",
     "output_type": "stream",
     "text": [
      "Pre-computing some matrices... INFO:starry.ops:Pre-computing some matrices... \n",
      "Done.\n",
      "INFO:starry.ops:Done.\n"
     ]
    },
    {
     "name": "stdout",
     "output_type": "stream",
     "text": [
      "dotr value:  <bound method PyCapsule.dotR of <starry._c_ops.Ops object at 0x13463af30>>\n"
     ]
    }
   ],
   "source": [
    "map2 = starry.Map(ydeg=sec_deg, amp=sec_amp)"
   ]
  },
  {
   "cell_type": "code",
   "execution_count": 10,
   "id": "2abd036e",
   "metadata": {},
   "outputs": [],
   "source": [
    "yp = map2._y"
   ]
  },
  {
   "cell_type": "markdown",
   "id": "dd598ce1",
   "metadata": {},
   "source": [
    "### system flux function"
   ]
  },
  {
   "cell_type": "code",
   "execution_count": 11,
   "id": "5b9939d9",
   "metadata": {},
   "outputs": [],
   "source": [
    "def _get_ay(y1, amp1, y2, amp2):\n",
    "    ay = [amp1*y1, amp2*y2]\n",
    "    ay = np.concatenate(ay)\n",
    "    return ay"
   ]
  },
  {
   "cell_type": "code",
   "execution_count": 12,
   "id": "b873a979",
   "metadata": {},
   "outputs": [],
   "source": [
    "ay = _get_ay(ys, pri_amp, yp, sec_amp)"
   ]
  },
  {
   "cell_type": "markdown",
   "id": "a0b7c9fc",
   "metadata": {},
   "source": [
    "#### jax version"
   ]
  },
  {
   "cell_type": "code",
   "execution_count": 113,
   "id": "a2a74c60",
   "metadata": {},
   "outputs": [],
   "source": [
    "@jit\n",
    "def _get_ay_j(y1,amp1,y2,amp2):\n",
    "    ay = [amp1*y1, amp2*y2]\n",
    "    ay = jnp.concatenate(ay)\n",
    "    return ay"
   ]
  },
  {
   "cell_type": "code",
   "execution_count": 114,
   "id": "6e3aa1a8",
   "metadata": {},
   "outputs": [
    {
     "name": "stdout",
     "output_type": "stream",
     "text": [
      "{ \u001b[34m\u001b[22m\u001b[1mlambda \u001b[39m\u001b[22m\u001b[22m; a\u001b[35m:f32[1]\u001b[39m b\u001b[35m:f32[]\u001b[39m c\u001b[35m:f32[36]\u001b[39m d\u001b[35m:f32[]\u001b[39m. \u001b[34m\u001b[22m\u001b[1mlet\n",
      "    \u001b[39m\u001b[22m\u001b[22me\u001b[35m:f32[37]\u001b[39m = xla_call[\n",
      "      call_jaxpr={ \u001b[34m\u001b[22m\u001b[1mlambda \u001b[39m\u001b[22m\u001b[22m; f\u001b[35m:f32[1]\u001b[39m g\u001b[35m:f32[]\u001b[39m h\u001b[35m:f32[36]\u001b[39m i\u001b[35m:f32[]\u001b[39m. \u001b[34m\u001b[22m\u001b[1mlet\n",
      "          \u001b[39m\u001b[22m\u001b[22mj\u001b[35m:f32[]\u001b[39m = convert_element_type[new_dtype=float32 weak_type=False] g\n",
      "          k\u001b[35m:f32[1]\u001b[39m = mul j f\n",
      "          l\u001b[35m:f32[]\u001b[39m = convert_element_type[new_dtype=float32 weak_type=False] i\n",
      "          m\u001b[35m:f32[36]\u001b[39m = mul l h\n",
      "          n\u001b[35m:f32[37]\u001b[39m = concatenate[dimension=0] k m\n",
      "        \u001b[34m\u001b[22m\u001b[1min \u001b[39m\u001b[22m\u001b[22m(n,) }\n",
      "      name=_get_ay_j\n",
      "    ] a b c d\n",
      "  \u001b[34m\u001b[22m\u001b[1min \u001b[39m\u001b[22m\u001b[22m(e,) }\n"
     ]
    }
   ],
   "source": [
    "print(jax.make_jaxpr(_get_ay_j)(ys, pri_amp, yp, sec_amp))"
   ]
  },
  {
   "cell_type": "code",
   "execution_count": 115,
   "id": "89c1144e",
   "metadata": {},
   "outputs": [],
   "source": [
    "jay = _get_ay_j(ys, pri_amp, yp, sec_amp)"
   ]
  },
  {
   "cell_type": "code",
   "execution_count": 116,
   "id": "c6921841",
   "metadata": {},
   "outputs": [
    {
     "data": {
      "text/plain": [
       "DeviceArray([1.   , 0.005, 0.   , 0.   , 0.   , 0.   , 0.   , 0.   ,\n",
       "             0.   , 0.   , 0.   , 0.   , 0.   , 0.   , 0.   , 0.   ,\n",
       "             0.   , 0.   , 0.   , 0.   , 0.   , 0.   , 0.   , 0.   ,\n",
       "             0.   , 0.   , 0.   , 0.   , 0.   , 0.   , 0.   , 0.   ,\n",
       "             0.   , 0.   , 0.   , 0.   , 0.   ], dtype=float32)"
      ]
     },
     "execution_count": 116,
     "metadata": {},
     "output_type": "execute_result"
    }
   ],
   "source": [
    "jay"
   ]
  },
  {
   "cell_type": "code",
   "execution_count": 117,
   "id": "eb4ff00a",
   "metadata": {},
   "outputs": [
    {
     "data": {
      "text/plain": [
       "array([1.   , 0.005, 0.   , 0.   , 0.   , 0.   , 0.   , 0.   , 0.   ,\n",
       "       0.   , 0.   , 0.   , 0.   , 0.   , 0.   , 0.   , 0.   , 0.   ,\n",
       "       0.   , 0.   , 0.   , 0.   , 0.   , 0.   , 0.   , 0.   , 0.   ,\n",
       "       0.   , 0.   , 0.   , 0.   , 0.   , 0.   , 0.   , 0.   , 0.   ,\n",
       "       0.   ])"
      ]
     },
     "execution_count": 117,
     "metadata": {},
     "output_type": "execute_result"
    }
   ],
   "source": [
    "ay"
   ]
  },
  {
   "cell_type": "code",
   "execution_count": 118,
   "id": "2cc2243c",
   "metadata": {},
   "outputs": [],
   "source": [
    "def system_flux(x,ay):\n",
    "    return np.dot(x, ay)    "
   ]
  },
  {
   "cell_type": "code",
   "execution_count": 119,
   "id": "0f15f893",
   "metadata": {},
   "outputs": [],
   "source": [
    "x = np.load(fixtures + \"/\" + \"system_X.npy\")"
   ]
  },
  {
   "cell_type": "code",
   "execution_count": 120,
   "id": "65af1160",
   "metadata": {},
   "outputs": [
    {
     "data": {
      "text/plain": [
       "(10000, 37)"
      ]
     },
     "execution_count": 120,
     "metadata": {},
     "output_type": "execute_result"
    }
   ],
   "source": [
    "x.shape"
   ]
  },
  {
   "cell_type": "code",
   "execution_count": 121,
   "id": "61afbb6e",
   "metadata": {},
   "outputs": [],
   "source": [
    "sflux = np.load(fixtures + \"/\" + \"system_flux.npy\")"
   ]
  },
  {
   "cell_type": "code",
   "execution_count": 122,
   "id": "b2e5b0f7",
   "metadata": {},
   "outputs": [
    {
     "name": "stdout",
     "output_type": "stream",
     "text": [
      "289 µs ± 47.6 µs per loop (mean ± std. dev. of 7 runs, 1000 loops each)\n"
     ]
    }
   ],
   "source": [
    "%%timeit\n",
    "res = system_flux(x,ay)"
   ]
  },
  {
   "cell_type": "markdown",
   "id": "78b2d7e1",
   "metadata": {},
   "source": [
    "#### jax version (func 2)"
   ]
  },
  {
   "cell_type": "code",
   "execution_count": 123,
   "id": "2a1a37e1",
   "metadata": {},
   "outputs": [],
   "source": [
    "\n",
    "def system_flux_j(x,ay):\n",
    "    return jnp.dot(x, ay) \n",
    "\n"
   ]
  },
  {
   "cell_type": "code",
   "execution_count": 124,
   "id": "95d3d146",
   "metadata": {},
   "outputs": [
    {
     "data": {
      "text/plain": [
       "DeviceArray([1.005, 1.005, 1.005, ..., 1.005, 1.005, 1.005], dtype=float32)"
      ]
     },
     "execution_count": 124,
     "metadata": {},
     "output_type": "execute_result"
    }
   ],
   "source": [
    "sf_j_jit(x,ay)"
   ]
  },
  {
   "cell_type": "code",
   "execution_count": 125,
   "id": "f1afa862",
   "metadata": {},
   "outputs": [
    {
     "name": "stdout",
     "output_type": "stream",
     "text": [
      "465 µs ± 73.2 µs per loop (mean ± std. dev. of 7 runs, 10000 loops each)\n"
     ]
    },
    {
     "data": {
      "text/plain": [
       "<TimeitResult : 465 µs ± 73.2 µs per loop (mean ± std. dev. of 7 runs, 10000 loops each)>"
      ]
     },
     "execution_count": 125,
     "metadata": {},
     "output_type": "execute_result"
    }
   ],
   "source": [
    "%timeit -o -r 7 -n 10000 system_flux_j(x,ay)"
   ]
  },
  {
   "cell_type": "code",
   "execution_count": 126,
   "id": "925ed949",
   "metadata": {},
   "outputs": [
    {
     "name": "stdout",
     "output_type": "stream",
     "text": [
      "396 µs ± 26.2 µs per loop (mean ± std. dev. of 7 runs, 10000 loops each)\n"
     ]
    },
    {
     "data": {
      "text/plain": [
       "<TimeitResult : 396 µs ± 26.2 µs per loop (mean ± std. dev. of 7 runs, 10000 loops each)>"
      ]
     },
     "execution_count": 126,
     "metadata": {},
     "output_type": "execute_result"
    }
   ],
   "source": [
    "sf_j_jit = jit(system_flux_j)\n",
    "\n",
    "sf_j_jit(x,ay)\n",
    "\n",
    "%timeit -o -r 7 -n 10000 sf_j_jit(x,jay)\n"
   ]
  },
  {
   "cell_type": "code",
   "execution_count": 127,
   "id": "14420d2c",
   "metadata": {},
   "outputs": [
    {
     "data": {
      "text/plain": [
       "DeviceArray([-1.5707964, -1.5685971, -1.5663977, ..., 20.415955 ,\n",
       "             20.418154 , 20.420353 ], dtype=float32)"
      ]
     },
     "execution_count": 127,
     "metadata": {},
     "output_type": "execute_result"
    }
   ],
   "source": [
    "jres"
   ]
  },
  {
   "cell_type": "code",
   "execution_count": 128,
   "id": "6785478b",
   "metadata": {},
   "outputs": [
    {
     "data": {
      "text/plain": [
       "(10000,)"
      ]
     },
     "execution_count": 128,
     "metadata": {},
     "output_type": "execute_result"
    }
   ],
   "source": [
    "jres.shape"
   ]
  },
  {
   "cell_type": "markdown",
   "id": "44d77b53",
   "metadata": {},
   "source": [
    "#### verification"
   ]
  },
  {
   "cell_type": "code",
   "execution_count": 129,
   "id": "5d3b0361",
   "metadata": {},
   "outputs": [
    {
     "data": {
      "text/plain": [
       "True"
      ]
     },
     "execution_count": 129,
     "metadata": {},
     "output_type": "execute_result"
    }
   ],
   "source": [
    "np.array_equal(res, sflux)"
   ]
  },
  {
   "cell_type": "markdown",
   "id": "fc6c4383",
   "metadata": {},
   "source": [
    "### system design matrix function (core.OpsSystem.X)"
   ]
  },
  {
   "cell_type": "markdown",
   "id": "6173de2d",
   "metadata": {},
   "source": [
    "#### get relative positions (input)"
   ]
  },
  {
   "cell_type": "code",
   "execution_count": 41,
   "id": "a6629069",
   "metadata": {},
   "outputs": [],
   "source": [
    "# todo: need to understand how to get this value\n",
    "sec_iorb = 1.57079633"
   ]
  },
  {
   "cell_type": "code",
   "execution_count": 42,
   "id": "c8a3ce06",
   "metadata": {},
   "outputs": [],
   "source": [
    "# todo: need to understand how to calculate omega and Omega\n",
    "orbit = exoplanet.orbits.KeplerianOrbit(\n",
    "period=sec_porb,\n",
    "t0=sec_t0,\n",
    "incl=sec_iorb,\n",
    "ecc=sec_ecc,\n",
    "omega=0.52359878,\n",
    "Omega=0.52359878,\n",
    "m_planet=sec_m,\n",
    "m_star=pri_m,\n",
    "r_star=pri_r)"
   ]
  },
  {
   "cell_type": "code",
   "execution_count": 132,
   "id": "75a283f7",
   "metadata": {},
   "outputs": [
    {
     "name": "stdout",
     "output_type": "stream",
     "text": [
      "1.0 0 1.57079633 0.3 30 30 0 1.0 1.0\n"
     ]
    }
   ],
   "source": [
    "print(sec_porb, sec_t0, sec_iorb, sec_ecc, sec_w, sec_omega, sec_m, pri_m, pri_r)"
   ]
  },
  {
   "cell_type": "code",
   "execution_count": 43,
   "id": "40dd9427",
   "metadata": {},
   "outputs": [],
   "source": [
    "x, y, z = orbit.get_relative_position(time)"
   ]
  },
  {
   "cell_type": "code",
   "execution_count": 44,
   "id": "e7d8e451",
   "metadata": {},
   "outputs": [],
   "source": [
    "xv = x.eval()\n",
    "yv = y.eval()\n",
    "zv = z.eval()"
   ]
  },
  {
   "cell_type": "code",
   "execution_count": 135,
   "id": "c2f94600",
   "metadata": {},
   "outputs": [
    {
     "data": {
      "text/plain": [
       "array([-1.64475377, -1.65078852, -1.6568127 , ...,  4.41457845,\n",
       "        4.41634656,  4.41810274])"
      ]
     },
     "execution_count": 135,
     "metadata": {},
     "output_type": "execute_result"
    }
   ],
   "source": [
    "xv"
   ]
  },
  {
   "cell_type": "code",
   "execution_count": 136,
   "id": "ede03230",
   "metadata": {},
   "outputs": [],
   "source": [
    "x_starry = np.load(fixtures + \"/x.npy\")\n",
    "y_starry = np.load(fixtures + \"/y.npy\")\n",
    "z_starry = np.load(fixtures + \"/z.npy\")"
   ]
  },
  {
   "cell_type": "code",
   "execution_count": 137,
   "id": "07b8a27d",
   "metadata": {},
   "outputs": [],
   "source": [
    "def _get_xyz():\n",
    "    orbit = exoplanet.orbits.KeplerianOrbit(\n",
    "    period=sec_porb,\n",
    "    t0=sec_t0,\n",
    "    incl=sec_iorb,\n",
    "    ecc=sec_ecc,\n",
    "    omega=0.52359878,\n",
    "    Omega=0.52359878,\n",
    "    m_planet=sec_m,\n",
    "    m_star=pri_m,\n",
    "    r_star=pri_r)\n",
    "    x, y, z = orbit.get_relative_position(time)\n",
    "    xv = x.eval()\n",
    "    yv = y.eval()\n",
    "    zv = z.eval()\n",
    "    return xv, yv, zv"
   ]
  },
  {
   "cell_type": "code",
   "execution_count": 138,
   "id": "43064793",
   "metadata": {},
   "outputs": [],
   "source": [
    "xx,yy,zz = _get_xyz()"
   ]
  },
  {
   "cell_type": "markdown",
   "id": "861f5b7a",
   "metadata": {},
   "source": [
    "##### verification"
   ]
  },
  {
   "cell_type": "code",
   "execution_count": 139,
   "id": "6b4a1ea7",
   "metadata": {},
   "outputs": [
    {
     "data": {
      "text/plain": [
       "True"
      ]
     },
     "execution_count": 139,
     "metadata": {},
     "output_type": "execute_result"
    }
   ],
   "source": [
    "np.allclose(xx, x_starry.flatten())"
   ]
  },
  {
   "cell_type": "code",
   "execution_count": 140,
   "id": "934cff4d",
   "metadata": {},
   "outputs": [
    {
     "data": {
      "text/plain": [
       "True"
      ]
     },
     "execution_count": 140,
     "metadata": {},
     "output_type": "execute_result"
    }
   ],
   "source": [
    "np.allclose(yy, y_starry.flatten(), atol=1.e-7)"
   ]
  },
  {
   "cell_type": "code",
   "execution_count": 141,
   "id": "cee6c292",
   "metadata": {},
   "outputs": [
    {
     "data": {
      "text/plain": [
       "array([-0.94959905, -0.95308322, -0.95656128, ...,  2.54875808,\n",
       "        2.5497789 ,  2.55079283])"
      ]
     },
     "execution_count": 141,
     "metadata": {},
     "output_type": "execute_result"
    }
   ],
   "source": [
    "yv"
   ]
  },
  {
   "cell_type": "code",
   "execution_count": 142,
   "id": "abe92400",
   "metadata": {},
   "outputs": [
    {
     "data": {
      "text/plain": [
       "True"
      ]
     },
     "execution_count": 142,
     "metadata": {},
     "output_type": "execute_result"
    }
   ],
   "source": [
    "np.allclose(zz, z_starry.flatten())"
   ]
  },
  {
   "cell_type": "markdown",
   "id": "2dcba628",
   "metadata": {},
   "source": [
    "#### get theta of primary"
   ]
  },
  {
   "cell_type": "code",
   "execution_count": 143,
   "id": "7e720cbf",
   "metadata": {},
   "outputs": [],
   "source": [
    "def _get_theta_pri(pri_prot, pri_t0, pri_theta0, time):\n",
    "    return (2 * np.pi) / pri_prot * (time - pri_t0) + pri_theta0"
   ]
  },
  {
   "cell_type": "markdown",
   "id": "7f4241b0",
   "metadata": {},
   "source": [
    "##### jax version"
   ]
  },
  {
   "cell_type": "code",
   "execution_count": 144,
   "id": "57348a47",
   "metadata": {},
   "outputs": [],
   "source": [
    "@jax.jit\n",
    "def _get_theta_pri_j(pri_prot, pri_t0, pri_theta0, time):\n",
    "    return (2 * jnp.pi) / pri_prot * (time - pri_t0) + pri_theta0"
   ]
  },
  {
   "cell_type": "code",
   "execution_count": 145,
   "id": "fa2d540a",
   "metadata": {},
   "outputs": [],
   "source": [
    "pri_t0 = 0\n",
    "pri_theta0 = 0"
   ]
  },
  {
   "cell_type": "code",
   "execution_count": 146,
   "id": "dca909bb",
   "metadata": {},
   "outputs": [],
   "source": [
    "res = _get_theta_pri(pri_prot, pri_t0, pri_theta0, time)"
   ]
  },
  {
   "cell_type": "code",
   "execution_count": 147,
   "id": "0a42dd99",
   "metadata": {},
   "outputs": [],
   "source": [
    "jres = _get_theta_pri_j(pri_prot, pri_t0, pri_theta0, time)"
   ]
  },
  {
   "cell_type": "code",
   "execution_count": 148,
   "id": "b14cdaf2",
   "metadata": {},
   "outputs": [
    {
     "data": {
      "text/plain": [
       "DeviceArray([-1.5707964, -1.5685971, -1.5663977, ..., 20.415955 ,\n",
       "             20.418154 , 20.420353 ], dtype=float32)"
      ]
     },
     "execution_count": 148,
     "metadata": {},
     "output_type": "execute_result"
    }
   ],
   "source": [
    "jres"
   ]
  },
  {
   "cell_type": "code",
   "execution_count": 149,
   "id": "935cdad2",
   "metadata": {},
   "outputs": [],
   "source": [
    "theta_pri = np.load(fixtures + \"/\" + \"theta_pri.npy\")"
   ]
  },
  {
   "cell_type": "code",
   "execution_count": 150,
   "id": "bc13630c",
   "metadata": {},
   "outputs": [
    {
     "data": {
      "text/plain": [
       "array([-1.57079633, -1.56859699, -1.56639766, ..., 20.41595358,\n",
       "       20.41815291, 20.42035225])"
      ]
     },
     "execution_count": 150,
     "metadata": {},
     "output_type": "execute_result"
    }
   ],
   "source": [
    "theta_pri"
   ]
  },
  {
   "cell_type": "markdown",
   "id": "1aae71da",
   "metadata": {},
   "source": [
    "##### verification"
   ]
  },
  {
   "cell_type": "code",
   "execution_count": 151,
   "id": "00ecc52c",
   "metadata": {},
   "outputs": [
    {
     "data": {
      "text/plain": [
       "True"
      ]
     },
     "execution_count": 151,
     "metadata": {},
     "output_type": "execute_result"
    }
   ],
   "source": [
    "np.array_equal(res, theta_pri)"
   ]
  },
  {
   "cell_type": "markdown",
   "id": "6018777c",
   "metadata": {},
   "source": [
    "#### get theta of secondary"
   ]
  },
  {
   "cell_type": "code",
   "execution_count": 152,
   "id": "ac88e6d0",
   "metadata": {},
   "outputs": [],
   "source": [
    "sec_theta0 = 0"
   ]
  },
  {
   "cell_type": "code",
   "execution_count": 153,
   "id": "7a3b779c",
   "metadata": {},
   "outputs": [],
   "source": [
    "def _get_theta_sec(sec_prot, sec_t0, sec_theta0, time):\n",
    "    theta_sec = (2 * np.pi) / sec_prot * (time - sec_t0\n",
    "        ) + sec_theta0\n",
    "    theta_sec = np.expand_dims(theta_sec, axis=0)\n",
    "    return theta_sec"
   ]
  },
  {
   "cell_type": "code",
   "execution_count": 154,
   "id": "f13ae40b",
   "metadata": {},
   "outputs": [],
   "source": [
    "res_theta_sec = _get_theta_sec(sec_prot, sec_t0, sec_theta0, time)"
   ]
  },
  {
   "cell_type": "code",
   "execution_count": 155,
   "id": "cd49888a",
   "metadata": {},
   "outputs": [
    {
     "data": {
      "text/plain": [
       "(10000,)"
      ]
     },
     "execution_count": 155,
     "metadata": {},
     "output_type": "execute_result"
    }
   ],
   "source": [
    "res_theta_sec[0].shape"
   ]
  },
  {
   "cell_type": "code",
   "execution_count": 156,
   "id": "4cfd7dcf",
   "metadata": {},
   "outputs": [],
   "source": [
    "theta_sec = np.load(fixtures + \"/\" + \"theta_sec.npy\")"
   ]
  },
  {
   "cell_type": "markdown",
   "id": "aa3eba7f",
   "metadata": {},
   "source": [
    "##### verification"
   ]
  },
  {
   "cell_type": "code",
   "execution_count": 157,
   "id": "7a99ed92",
   "metadata": {},
   "outputs": [
    {
     "data": {
      "text/plain": [
       "True"
      ]
     },
     "execution_count": 157,
     "metadata": {},
     "output_type": "execute_result"
    }
   ],
   "source": [
    "np.array_equal(res_theta_sec, theta_sec)"
   ]
  },
  {
   "cell_type": "markdown",
   "id": "24612e59",
   "metadata": {},
   "source": [
    "#### get phase primary"
   ]
  },
  {
   "cell_type": "code",
   "execution_count": 158,
   "id": "c851b4cc",
   "metadata": {},
   "outputs": [],
   "source": [
    "phase_pri = np.load(fixtures + \"/\" + \"phase_pri.npy\")"
   ]
  },
  {
   "cell_type": "code",
   "execution_count": 159,
   "id": "3cf1841a",
   "metadata": {},
   "outputs": [
    {
     "data": {
      "text/plain": [
       "1.0"
      ]
     },
     "execution_count": 159,
     "metadata": {},
     "output_type": "execute_result"
    }
   ],
   "source": [
    "phase_pri.min()"
   ]
  },
  {
   "cell_type": "markdown",
   "id": "0e688c26",
   "metadata": {},
   "source": [
    "#### get phase secondary"
   ]
  },
  {
   "cell_type": "code",
   "execution_count": 160,
   "id": "4e3d4f6a",
   "metadata": {},
   "outputs": [],
   "source": [
    "phase_sec = np.load(fixtures + \"/\" + \"phase_sec.npy\")"
   ]
  },
  {
   "cell_type": "code",
   "execution_count": 161,
   "id": "cb9a376b",
   "metadata": {},
   "outputs": [
    {
     "data": {
      "text/plain": [
       "(1, 10000, 36)"
      ]
     },
     "execution_count": 161,
     "metadata": {},
     "output_type": "execute_result"
    }
   ],
   "source": [
    "phase_sec.shape"
   ]
  },
  {
   "cell_type": "code",
   "execution_count": 162,
   "id": "cf21c8be",
   "metadata": {},
   "outputs": [
    {
     "data": {
      "text/plain": [
       "array([[[ 1.00000000e+00,  6.40987562e-17,  7.07050159e-17, ...,\n",
       "          2.60012009e-16, -8.11440028e-32, -4.89276055e-16],\n",
       "        [ 1.00000000e+00,  6.39577817e-17,  2.53957102e-03, ...,\n",
       "          2.59995385e-16, -2.91448744e-18, -4.89270987e-16],\n",
       "        [ 1.00000000e+00,  6.38168079e-17,  5.07912976e-03, ...,\n",
       "          2.59945517e-16, -5.82878453e-18, -4.89255785e-16],\n",
       "        ...,\n",
       "        [ 1.00000000e+00,  6.38168079e-17,  5.07912976e-03, ...,\n",
       "         -2.59945517e-16, -5.82878453e-18,  4.89255785e-16],\n",
       "        [ 1.00000000e+00,  6.39577817e-17,  2.53957102e-03, ...,\n",
       "         -2.59995385e-16, -2.91448744e-18,  4.89270987e-16],\n",
       "        [ 1.00000000e+00,  6.40987562e-17, -1.13199499e-15, ...,\n",
       "         -2.60012009e-16,  1.29912431e-30,  4.89276055e-16]]])"
      ]
     },
     "execution_count": 162,
     "metadata": {},
     "output_type": "execute_result"
    }
   ],
   "source": [
    "phase_sec"
   ]
  },
  {
   "cell_type": "markdown",
   "id": "d1283a54",
   "metadata": {},
   "source": [
    "#### get transits across the primary (idx)"
   ]
  },
  {
   "cell_type": "code",
   "execution_count": 163,
   "id": "3c4fe2cd",
   "metadata": {},
   "outputs": [],
   "source": [
    "occ_pri = np.zeros((phase_pri.shape))\n",
    "occ_sec = np.zeros((phase_sec.shape))"
   ]
  },
  {
   "cell_type": "code",
   "execution_count": 46,
   "id": "9ef92b17",
   "metadata": {},
   "outputs": [],
   "source": [
    "def _get_occ_idx(x,y,z,pri_r, sec_r):\n",
    "    xo = x/pri_r\n",
    "    yo = y/pri_r\n",
    "    zo = z/pri_r\n",
    "    ro = sec_r/pri_r\n",
    "    b = np.sqrt(xo**2 + yo**2)\n",
    "    cond_1 = b >= ro + 1.\n",
    "    cond_2 = zo <=0.\n",
    "    cond_3 = ro == 0.\n",
    "    conds = cond_1 | cond_2 | cond_3\n",
    "    b_occ = ~conds\n",
    "    idx = np.arange(b.shape[0])[b_occ]\n",
    "    return idx\n",
    "    "
   ]
  },
  {
   "cell_type": "markdown",
   "id": "1978966e",
   "metadata": {},
   "source": [
    "##### verification"
   ]
  },
  {
   "cell_type": "code",
   "execution_count": 47,
   "id": "8aaf0c48",
   "metadata": {},
   "outputs": [],
   "source": [
    "res_idx = _get_occ_idx(xv,yv,zv,pri_r,sec_r)"
   ]
  },
  {
   "cell_type": "code",
   "execution_count": 166,
   "id": "9bced19c",
   "metadata": {},
   "outputs": [],
   "source": [
    "occ_idx = np.load(fixtures + \"/occ_idx.npy\")"
   ]
  },
  {
   "cell_type": "code",
   "execution_count": 167,
   "id": "2e260820",
   "metadata": {},
   "outputs": [
    {
     "data": {
      "text/plain": [
       "True"
      ]
     },
     "execution_count": 167,
     "metadata": {},
     "output_type": "execute_result"
    }
   ],
   "source": [
    "np.array_equal(res_idx, occ_idx)"
   ]
  },
  {
   "cell_type": "markdown",
   "id": "8b926239",
   "metadata": {},
   "source": [
    "#### get transit across primary"
   ]
  },
  {
   "cell_type": "code",
   "execution_count": 168,
   "id": "d6b59d7f",
   "metadata": {},
   "outputs": [],
   "source": [
    "primary_x = np.load(fixtures + \"/primary_x.npy\")"
   ]
  },
  {
   "cell_type": "code",
   "execution_count": 169,
   "id": "196201ae",
   "metadata": {},
   "outputs": [
    {
     "data": {
      "text/plain": [
       "(802, 1)"
      ]
     },
     "execution_count": 169,
     "metadata": {},
     "output_type": "execute_result"
    }
   ],
   "source": [
    "primary_x.shape"
   ]
  },
  {
   "cell_type": "code",
   "execution_count": 170,
   "id": "60f9f507",
   "metadata": {},
   "outputs": [],
   "source": [
    "def _get_occ_pri(occ_pri, idx, pri_amp, pri_x, phase_pri):\n",
    "    occ_pri[idx] = occ_pri[idx] + pri_amp*pri_x - phase_pri[idx]\n",
    "    return occ_pri"
   ]
  },
  {
   "cell_type": "code",
   "execution_count": 171,
   "id": "c5a65483",
   "metadata": {},
   "outputs": [],
   "source": [
    "res_occ_prif = _get_occ_pri(occ_pri, res_idx, pri_amp, primary_x, phase_pri)"
   ]
  },
  {
   "cell_type": "code",
   "execution_count": 172,
   "id": "8d9a9551",
   "metadata": {},
   "outputs": [
    {
     "data": {
      "text/plain": [
       "(10000, 1)"
      ]
     },
     "execution_count": 172,
     "metadata": {},
     "output_type": "execute_result"
    }
   ],
   "source": [
    "res_occ_prif.shape"
   ]
  },
  {
   "cell_type": "code",
   "execution_count": 173,
   "id": "ec38406e",
   "metadata": {},
   "outputs": [
    {
     "data": {
      "text/plain": [
       "-0.012133554943887792"
      ]
     },
     "execution_count": 173,
     "metadata": {},
     "output_type": "execute_result"
    }
   ],
   "source": [
    "res_occ_prif.min()"
   ]
  },
  {
   "cell_type": "markdown",
   "id": "5d8f528d",
   "metadata": {},
   "source": [
    "##### verification"
   ]
  },
  {
   "cell_type": "code",
   "execution_count": 174,
   "id": "35a6800a",
   "metadata": {},
   "outputs": [],
   "source": [
    "occ_pri_f = np.load(fixtures +\"/occ_pri_f.npy\")"
   ]
  },
  {
   "cell_type": "code",
   "execution_count": 175,
   "id": "336472dd",
   "metadata": {},
   "outputs": [
    {
     "data": {
      "text/plain": [
       "(10000, 1)"
      ]
     },
     "execution_count": 175,
     "metadata": {},
     "output_type": "execute_result"
    }
   ],
   "source": [
    "occ_pri_f.shape"
   ]
  },
  {
   "cell_type": "code",
   "execution_count": 176,
   "id": "90a5b87e",
   "metadata": {},
   "outputs": [
    {
     "data": {
      "text/plain": [
       "-0.012133554943887792"
      ]
     },
     "execution_count": 176,
     "metadata": {},
     "output_type": "execute_result"
    }
   ],
   "source": [
    "occ_pri_f.min()"
   ]
  },
  {
   "cell_type": "code",
   "execution_count": 177,
   "id": "126195ca",
   "metadata": {},
   "outputs": [
    {
     "data": {
      "text/plain": [
       "True"
      ]
     },
     "execution_count": 177,
     "metadata": {},
     "output_type": "execute_result"
    }
   ],
   "source": [
    "np.array_equal(res_occ_prif, occ_pri_f)"
   ]
  },
  {
   "cell_type": "markdown",
   "id": "157cde71",
   "metadata": {},
   "source": [
    "#### get occultations by the primary (idx)"
   ]
  },
  {
   "cell_type": "code",
   "execution_count": 178,
   "id": "d4ef9e3c",
   "metadata": {},
   "outputs": [],
   "source": [
    "def _get_sec_occ_idx(x,y,z,sec_r,pri_r):\n",
    "    xo = -x/sec_r\n",
    "    yo = -y/sec_r\n",
    "    zo = -z/sec_r\n",
    "    ro = pri_r/sec_r\n",
    "    b = np.sqrt(xo**2 + yo**2)\n",
    "    cond1 = b >= ro + 1.\n",
    "    cond2 = zo <= 0.\n",
    "    cond3 = ro == 0.\n",
    "    conds = cond1 | cond2 | cond3\n",
    "    b_occ = ~conds\n",
    "    idx = np.arange(b.shape[0])[b_occ]\n",
    "    return idx"
   ]
  },
  {
   "cell_type": "code",
   "execution_count": 179,
   "id": "c335b8e5",
   "metadata": {},
   "outputs": [],
   "source": [
    "res_socc_idx = _get_sec_occ_idx(xv,yv,zv,sec_r,pri_r)"
   ]
  },
  {
   "cell_type": "markdown",
   "id": "13dbc1b0",
   "metadata": {},
   "source": [
    "##### verification"
   ]
  },
  {
   "cell_type": "code",
   "execution_count": 180,
   "id": "905efa89",
   "metadata": {},
   "outputs": [],
   "source": [
    "socc_idx = np.load(fixtures + \"/sec_occ_idx.npy\")"
   ]
  },
  {
   "cell_type": "code",
   "execution_count": 181,
   "id": "046fa7b3",
   "metadata": {},
   "outputs": [
    {
     "data": {
      "text/plain": [
       "(810,)"
      ]
     },
     "execution_count": 181,
     "metadata": {},
     "output_type": "execute_result"
    }
   ],
   "source": [
    "socc_idx.shape"
   ]
  },
  {
   "cell_type": "code",
   "execution_count": 182,
   "id": "3d6506bb",
   "metadata": {},
   "outputs": [
    {
     "data": {
      "text/plain": [
       "(810,)"
      ]
     },
     "execution_count": 182,
     "metadata": {},
     "output_type": "execute_result"
    }
   ],
   "source": [
    "res_socc_idx.shape"
   ]
  },
  {
   "cell_type": "code",
   "execution_count": 183,
   "id": "1c80db2f",
   "metadata": {},
   "outputs": [
    {
     "data": {
      "text/plain": [
       "True"
      ]
     },
     "execution_count": 183,
     "metadata": {},
     "output_type": "execute_result"
    }
   ],
   "source": [
    "np.array_equal(res_socc_idx, socc_idx)"
   ]
  },
  {
   "cell_type": "markdown",
   "id": "9b12a051",
   "metadata": {},
   "source": [
    "#### get occultations by the primary"
   ]
  },
  {
   "cell_type": "code",
   "execution_count": 184,
   "id": "cea3b613",
   "metadata": {},
   "outputs": [],
   "source": [
    "secondary_x = np.load(fixtures +\"/secondary_x.npy\")"
   ]
  },
  {
   "cell_type": "code",
   "execution_count": 185,
   "id": "100b4177",
   "metadata": {},
   "outputs": [
    {
     "data": {
      "text/plain": [
       "(810, 36)"
      ]
     },
     "execution_count": 185,
     "metadata": {},
     "output_type": "execute_result"
    }
   ],
   "source": [
    "secondary_x.shape"
   ]
  },
  {
   "cell_type": "code",
   "execution_count": 186,
   "id": "bef84a95",
   "metadata": {},
   "outputs": [],
   "source": [
    "def _get_sec_occ(occ_sec, idx, sec_amp, sec_x, phase_sec):\n",
    "    occ_sec[0][idx] = occ_sec[0][idx] + sec_amp*sec_x-phase_sec[0][idx]\n",
    "    return occ_sec"
   ]
  },
  {
   "cell_type": "code",
   "execution_count": 187,
   "id": "459cec90",
   "metadata": {},
   "outputs": [],
   "source": [
    "sec_amp_here = 1.0 # need to understand why set the value to 1.0 why given sec_amp"
   ]
  },
  {
   "cell_type": "code",
   "execution_count": 188,
   "id": "c4e8e087",
   "metadata": {},
   "outputs": [],
   "source": [
    "res_sec_occf = _get_sec_occ(occ_sec, res_socc_idx, sec_amp_here, secondary_x, phase_sec)"
   ]
  },
  {
   "cell_type": "code",
   "execution_count": 189,
   "id": "d00305c2",
   "metadata": {},
   "outputs": [
    {
     "ename": "NameError",
     "evalue": "name 'res_occ_secf' is not defined",
     "output_type": "error",
     "traceback": [
      "\u001b[0;31m---------------------------------------------------------------------------\u001b[0m",
      "\u001b[0;31mNameError\u001b[0m                                 Traceback (most recent call last)",
      "\u001b[0;32m/var/folders/nb/wym_qb_d4pxc93dj_c7l3wlr0000gn/T/ipykernel_70150/3002070252.py\u001b[0m in \u001b[0;36m<module>\u001b[0;34m\u001b[0m\n\u001b[0;32m----> 1\u001b[0;31m \u001b[0mres_occ_secf\u001b[0m\u001b[0;34m.\u001b[0m\u001b[0mshape\u001b[0m\u001b[0;34m\u001b[0m\u001b[0;34m\u001b[0m\u001b[0m\n\u001b[0m",
      "\u001b[0;31mNameError\u001b[0m: name 'res_occ_secf' is not defined"
     ]
    }
   ],
   "source": [
    "res_occ_secf.shape"
   ]
  },
  {
   "cell_type": "markdown",
   "id": "b3534484",
   "metadata": {},
   "source": [
    "##### verification"
   ]
  },
  {
   "cell_type": "code",
   "execution_count": 190,
   "id": "f57b41e3",
   "metadata": {},
   "outputs": [],
   "source": [
    "occ_secf = np.load(fixtures +\"/occ_sec_f.npy\")"
   ]
  },
  {
   "cell_type": "code",
   "execution_count": 191,
   "id": "a4c11c26",
   "metadata": {},
   "outputs": [
    {
     "data": {
      "text/plain": [
       "(1, 10000, 36)"
      ]
     },
     "execution_count": 191,
     "metadata": {},
     "output_type": "execute_result"
    }
   ],
   "source": [
    "occ_secf.shape"
   ]
  },
  {
   "cell_type": "code",
   "execution_count": 192,
   "id": "9aa69e87",
   "metadata": {},
   "outputs": [
    {
     "data": {
      "text/plain": [
       "True"
      ]
     },
     "execution_count": 192,
     "metadata": {},
     "output_type": "execute_result"
    }
   ],
   "source": [
    "np.array_equal(res_sec_occf, occ_secf)"
   ]
  },
  {
   "cell_type": "markdown",
   "id": "66e3d19d",
   "metadata": {},
   "source": [
    "#### get the design matrix"
   ]
  },
  {
   "cell_type": "code",
   "execution_count": 193,
   "id": "a50a541b",
   "metadata": {},
   "outputs": [],
   "source": [
    "def _get_design_matrix(phase_pri, occ_pri, phase_sec, occ_sec):\n",
    "    x_pri = phase_pri + occ_pri\n",
    "    x_sec = (phase_sec + occ_sec)[0]\n",
    "    x = np.hstack((x_pri,x_sec))\n",
    "    return x"
   ]
  },
  {
   "cell_type": "code",
   "execution_count": 194,
   "id": "82240256",
   "metadata": {},
   "outputs": [],
   "source": [
    "res_x = _get_design_matrix(phase_pri, res_occ_prif, phase_sec, res_sec_occf)"
   ]
  },
  {
   "cell_type": "code",
   "execution_count": 195,
   "id": "7e1ac771",
   "metadata": {},
   "outputs": [
    {
     "data": {
      "text/plain": [
       "(10000, 37)"
      ]
     },
     "execution_count": 195,
     "metadata": {},
     "output_type": "execute_result"
    }
   ],
   "source": [
    "res_x.shape"
   ]
  },
  {
   "cell_type": "markdown",
   "id": "387ea4df",
   "metadata": {},
   "source": [
    "##### verification"
   ]
  },
  {
   "cell_type": "code",
   "execution_count": 196,
   "id": "50e7c731",
   "metadata": {},
   "outputs": [
    {
     "data": {
      "text/plain": [
       "False"
      ]
     },
     "execution_count": 196,
     "metadata": {},
     "output_type": "execute_result"
    }
   ],
   "source": [
    "np.array_equal(res_x,x)"
   ]
  },
  {
   "cell_type": "markdown",
   "id": "ec874e93",
   "metadata": {},
   "source": [
    "#### summary function"
   ]
  },
  {
   "cell_type": "code",
   "execution_count": 197,
   "id": "815581e1",
   "metadata": {},
   "outputs": [],
   "source": [
    "def system_x():\n",
    "    # get positions\n",
    "    xv, yv, zv = _get_xyz()\n",
    "    # get theta pri\n",
    "    theta_pri = _get_theta_pri(pri_prot, pri_t0, pri_theta0, time)\n",
    "    # get theta sec\n",
    "    theta_sec = _get_theta_sec(sec_prot, sec_t0, sec_theta0, time)\n",
    "    # get empty arrays for occ\n",
    "    occ_pri = np.zeros((phase_pri.shape))\n",
    "    occ_sec = np.zeros((phase_sec.shape))\n",
    "    # get occ pri idx\n",
    "    occ_pri_idx = _get_occ_idx(xv,yv,zv,pri_r,sec_r)\n",
    "    # get occ pri\n",
    "    occ_pri_f = _get_occ_pri(occ_pri, occ_pri_idx, pri_amp, primary_x, phase_pri)\n",
    "    # get occ sec idx\n",
    "    occ_sec_idx = _get_sec_occ_idx(xv,yv,zv,sec_r,pri_r)\n",
    "    # get occ sec\n",
    "    occ_sec_f = _get_sec_occ(occ_sec, occ_sec_idx, sec_amp_here, secondary_x, phase_sec)\n",
    "    # get x\n",
    "    x = _get_design_matrix(phase_pri, occ_pri_f, phase_sec, occ_sec_f)\n",
    "    return x\n",
    "    \n",
    "    "
   ]
  },
  {
   "cell_type": "code",
   "execution_count": 198,
   "id": "61dc6c8f",
   "metadata": {},
   "outputs": [],
   "source": [
    "sf_x = system_x()"
   ]
  },
  {
   "cell_type": "code",
   "execution_count": 199,
   "id": "89ede250",
   "metadata": {},
   "outputs": [
    {
     "data": {
      "text/plain": [
       "(10000, 37)"
      ]
     },
     "execution_count": 199,
     "metadata": {},
     "output_type": "execute_result"
    }
   ],
   "source": [
    "sf_x.shape"
   ]
  },
  {
   "cell_type": "code",
   "execution_count": 200,
   "id": "3aaba351",
   "metadata": {},
   "outputs": [
    {
     "data": {
      "text/plain": [
       "False"
      ]
     },
     "execution_count": 200,
     "metadata": {},
     "output_type": "execute_result"
    }
   ],
   "source": [
    "np.array_equal(sf_x,x)"
   ]
  },
  {
   "cell_type": "markdown",
   "id": "26a538fc",
   "metadata": {},
   "source": [
    "### phase curve of primary object (core.OpsLD.X)"
   ]
  },
  {
   "cell_type": "code",
   "execution_count": 13,
   "id": "02bb2111",
   "metadata": {},
   "outputs": [],
   "source": [
    "inp_xo = np.zeros(len(time))\n",
    "inp_yo = np.zeros(len(time))\n",
    "inp_zo = np.zeros(len(time))"
   ]
  },
  {
   "cell_type": "markdown",
   "id": "fd89ce4c",
   "metadata": {},
   "source": [
    "#### init flat light curve"
   ]
  },
  {
   "cell_type": "code",
   "execution_count": 14,
   "id": "e02ef2df",
   "metadata": {},
   "outputs": [],
   "source": [
    "def _ld_init_light_curve(x_list_len):\n",
    "    flux_init = np.ones(x_list_len)\n",
    "    return flux_init"
   ]
  },
  {
   "cell_type": "code",
   "execution_count": 15,
   "id": "793fd826",
   "metadata": {},
   "outputs": [],
   "source": [
    "flux_init = _ld_init_light_curve(len(time))"
   ]
  },
  {
   "cell_type": "code",
   "execution_count": 16,
   "id": "136b848e",
   "metadata": {},
   "outputs": [
    {
     "data": {
      "text/plain": [
       "array([1., 1., 1., ..., 1., 1., 1.])"
      ]
     },
     "execution_count": 16,
     "metadata": {},
     "output_type": "execute_result"
    }
   ],
   "source": [
    "flux_init"
   ]
  },
  {
   "cell_type": "markdown",
   "id": "91f34263",
   "metadata": {},
   "source": [
    "#### get occultation mask"
   ]
  },
  {
   "cell_type": "code",
   "execution_count": 17,
   "id": "06936b00",
   "metadata": {},
   "outputs": [],
   "source": [
    "def _ld_get_occ_mask(xo,yo,zo, ro):\n",
    "    b = np.sqrt(xo**2 + yo**2)\n",
    "    cond1 = b >=ro + 1.\n",
    "    cond2 = zo <= 0.\n",
    "    cond3 = ro == 0.\n",
    "    conds = cond1 | cond2 | cond3\n",
    "    b_occ = ~conds\n",
    "    i_occ = np.arange(b.size)[b_occ]\n",
    "    return i_occ"
   ]
  },
  {
   "cell_type": "code",
   "execution_count": 18,
   "id": "67a4fea6",
   "metadata": {},
   "outputs": [],
   "source": [
    "ld_i_occ = _ld_get_occ_mask(inp_xo,inp_yo,inp_zo,0)"
   ]
  },
  {
   "cell_type": "code",
   "execution_count": 19,
   "id": "bd79f63f",
   "metadata": {},
   "outputs": [
    {
     "data": {
      "text/plain": [
       "array([], dtype=int64)"
      ]
     },
     "execution_count": 19,
     "metadata": {},
     "output_type": "execute_result"
    }
   ],
   "source": [
    "ld_i_occ"
   ]
  },
  {
   "cell_type": "markdown",
   "id": "b8186819",
   "metadata": {},
   "source": [
    "#### get Agol 'c' coefficients"
   ]
  },
  {
   "cell_type": "code",
   "execution_count": 20,
   "id": "1fc34806",
   "metadata": {},
   "outputs": [],
   "source": [
    "# todo: understand how c is calculated from u\n",
    "# u = [-1, 0.4, 0.26] as input\n",
    "c = np.array([0.21, 0.92,-0.065])"
   ]
  },
  {
   "cell_type": "code",
   "execution_count": 21,
   "id": "b7da7e68",
   "metadata": {},
   "outputs": [],
   "source": [
    "u1 = 0.4\n",
    "u2 = 0.26"
   ]
  },
  {
   "cell_type": "code",
   "execution_count": 22,
   "id": "54c37182",
   "metadata": {},
   "outputs": [],
   "source": [
    "c0 = 1- u1 -1.5*u2\n",
    "c1 = u1 + 2*u2\n",
    "c2 = -0.25*u2"
   ]
  },
  {
   "cell_type": "code",
   "execution_count": 23,
   "id": "1040a873",
   "metadata": {},
   "outputs": [
    {
     "name": "stdout",
     "output_type": "stream",
     "text": [
      "0.20999999999999996 0.92 -0.065\n"
     ]
    }
   ],
   "source": [
    "print(c0,c1,c2)"
   ]
  },
  {
   "cell_type": "code",
   "execution_count": 24,
   "id": "9dfbb9cf",
   "metadata": {},
   "outputs": [],
   "source": [
    "@jit\n",
    "def get_cl(u1, u2):\n",
    "    c0 = 1- u1 -1.5*u2\n",
    "    c1 = u1 + 2*u2\n",
    "    c2 = -0.25*u2\n",
    "    return jnp.array([c0,c1,c2])"
   ]
  },
  {
   "cell_type": "code",
   "execution_count": 25,
   "id": "2acc93d0",
   "metadata": {},
   "outputs": [
    {
     "data": {
      "text/plain": [
       "DeviceArray([ 0.21000004,  0.91999996, -0.065     ], dtype=float32)"
      ]
     },
     "execution_count": 25,
     "metadata": {},
     "output_type": "execute_result"
    }
   ],
   "source": [
    "get_cl(0.4, 0.26)"
   ]
  },
  {
   "cell_type": "code",
   "execution_count": 26,
   "id": "9cd69f00",
   "metadata": {},
   "outputs": [],
   "source": [
    "c_norm = c/(np.pi * (c[0] + 2 * c[1] / 3))"
   ]
  },
  {
   "cell_type": "code",
   "execution_count": 27,
   "id": "2df8965a",
   "metadata": {},
   "outputs": [
    {
     "data": {
      "text/plain": [
       "array([ 0.08118835,  0.3556823 , -0.02512973])"
      ]
     },
     "execution_count": 27,
     "metadata": {},
     "output_type": "execute_result"
    }
   ],
   "source": [
    "c_norm"
   ]
  },
  {
   "cell_type": "code",
   "execution_count": 28,
   "id": "e5b308cf",
   "metadata": {},
   "outputs": [],
   "source": [
    "from scipy.special import binom"
   ]
  },
  {
   "cell_type": "code",
   "execution_count": 29,
   "id": "bf8f5f89",
   "metadata": {},
   "outputs": [],
   "source": [
    "from typing import Any\n",
    "\n",
    "Scalar = Any\n",
    "Array = Any\n",
    "PyTree = Any"
   ]
  },
  {
   "cell_type": "code",
   "execution_count": 30,
   "id": "f802b493",
   "metadata": {},
   "outputs": [],
   "source": [
    "@jit\n",
    "def greens_basis_transform(u: Array) -> Array:\n",
    "    u = jnp.append(-1, u)\n",
    "    size = len(u)\n",
    "    i = np.arange(size)\n",
    "    arg = binom(i[None, :], i[:, None]) @ u\n",
    "    p = (-1) ** (i + 1) * arg\n",
    "    g = [0 for _ in range(size + 2)]\n",
    "    for n in range(size - 1, 1, -1):\n",
    "        g[n] = p[n] / (n + 2) + g[n + 2]\n",
    "    g[1] = p[1] + 3 * g[3]\n",
    "    g[0] = p[0] + 2 * g[2]\n",
    "    return jnp.stack(g[:-2])"
   ]
  },
  {
   "cell_type": "code",
   "execution_count": 31,
   "id": "c777ac5e",
   "metadata": {},
   "outputs": [
    {
     "data": {
      "text/plain": [
       "DeviceArray([ 0.21000004,  0.91999996, -0.065     ], dtype=float32)"
      ]
     },
     "execution_count": 31,
     "metadata": {},
     "output_type": "execute_result"
    }
   ],
   "source": [
    "greens_basis_transform(jnp.array([0.4, 0.26]))"
   ]
  },
  {
   "cell_type": "markdown",
   "id": "3a29fa63",
   "metadata": {},
   "source": [
    "#### get occultation flux"
   ]
  },
  {
   "cell_type": "code",
   "execution_count": 32,
   "id": "3e3d4abe",
   "metadata": {},
   "outputs": [],
   "source": [
    "limbdark_arr = np.array([])"
   ]
  },
  {
   "cell_type": "code",
   "execution_count": 33,
   "id": "4c23d712",
   "metadata": {},
   "outputs": [
    {
     "data": {
      "text/plain": [
       "array([], dtype=float64)"
      ]
     },
     "execution_count": 33,
     "metadata": {},
     "output_type": "execute_result"
    }
   ],
   "source": [
    "limbdark_arr"
   ]
  },
  {
   "cell_type": "code",
   "execution_count": 34,
   "id": "b41c3817",
   "metadata": {},
   "outputs": [],
   "source": [
    "def _ld_get_occ_flux(zo, ro, i_occ, flux, limbdark_arr):\n",
    "    los = zo[i_occ]\n",
    "    print(los.shape)\n",
    "    r = ro * np.ones(len(los))\n",
    "    flux[i_occ] = limbdark_arr\n",
    "    return flux"
   ]
  },
  {
   "cell_type": "code",
   "execution_count": 35,
   "id": "4d05bbea",
   "metadata": {},
   "outputs": [
    {
     "name": "stdout",
     "output_type": "stream",
     "text": [
      "(0,)\n"
     ]
    }
   ],
   "source": [
    "ld_occ_flux = _ld_get_occ_flux(inp_zo, 0, ld_i_occ, flux_init, limbdark_arr)"
   ]
  },
  {
   "cell_type": "code",
   "execution_count": 36,
   "id": "03ce3fa8",
   "metadata": {},
   "outputs": [
    {
     "data": {
      "text/plain": [
       "1.0"
      ]
     },
     "execution_count": 36,
     "metadata": {},
     "output_type": "execute_result"
    }
   ],
   "source": [
    "ld_occ_flux.min()"
   ]
  },
  {
   "cell_type": "code",
   "execution_count": 37,
   "id": "6755b1b7",
   "metadata": {},
   "outputs": [
    {
     "data": {
      "text/plain": [
       "(10000,)"
      ]
     },
     "execution_count": 37,
     "metadata": {},
     "output_type": "execute_result"
    }
   ],
   "source": [
    "ld_occ_flux.shape"
   ]
  },
  {
   "cell_type": "markdown",
   "id": "8bcbe420",
   "metadata": {},
   "source": [
    "#### verification"
   ]
  },
  {
   "cell_type": "code",
   "execution_count": 64,
   "id": "ece39af4",
   "metadata": {},
   "outputs": [],
   "source": [
    "ld_x = np.load(fixtures + \"/ld_x.npy\")"
   ]
  },
  {
   "cell_type": "code",
   "execution_count": 39,
   "id": "f7049141",
   "metadata": {},
   "outputs": [
    {
     "data": {
      "text/plain": [
       "(802, 1)"
      ]
     },
     "execution_count": 39,
     "metadata": {},
     "output_type": "execute_result"
    }
   ],
   "source": [
    "ld_x.shape"
   ]
  },
  {
   "cell_type": "code",
   "execution_count": 48,
   "id": "da535280",
   "metadata": {},
   "outputs": [],
   "source": [
    "inp_xo_f = (xv/pri_r)[res_idx]\n",
    "inp_yo_f = (yv/pri_r)[res_idx]\n",
    "inp_zo_f = (zv/pri_r)[res_idx]\n",
    "ro = sec_r/pri_r"
   ]
  },
  {
   "cell_type": "code",
   "execution_count": 100,
   "id": "10b55f7f",
   "metadata": {},
   "outputs": [
    {
     "data": {
      "text/plain": [
       "0.1"
      ]
     },
     "execution_count": 100,
     "metadata": {},
     "output_type": "execute_result"
    }
   ],
   "source": [
    "ro"
   ]
  },
  {
   "cell_type": "code",
   "execution_count": 49,
   "id": "eb69719f",
   "metadata": {},
   "outputs": [
    {
     "data": {
      "text/plain": [
       "(802,)"
      ]
     },
     "execution_count": 49,
     "metadata": {},
     "output_type": "execute_result"
    }
   ],
   "source": [
    "inp_xo_f.shape"
   ]
  },
  {
   "cell_type": "code",
   "execution_count": 50,
   "id": "dc82398c",
   "metadata": {},
   "outputs": [],
   "source": [
    "flux_init_2 = _ld_init_light_curve(len(inp_xo_f))"
   ]
  },
  {
   "cell_type": "code",
   "execution_count": 51,
   "id": "74ee77d6",
   "metadata": {},
   "outputs": [
    {
     "data": {
      "text/plain": [
       "(802,)"
      ]
     },
     "execution_count": 51,
     "metadata": {},
     "output_type": "execute_result"
    }
   ],
   "source": [
    "flux_init_2.shape"
   ]
  },
  {
   "cell_type": "code",
   "execution_count": 52,
   "id": "7bea8ae3",
   "metadata": {},
   "outputs": [],
   "source": [
    "ld_i_occ_2 = _ld_get_occ_mask(inp_xo_f,inp_yo_f,inp_zo_f,ro)"
   ]
  },
  {
   "cell_type": "code",
   "execution_count": 53,
   "id": "c17552de",
   "metadata": {},
   "outputs": [
    {
     "data": {
      "text/plain": [
       "(802,)"
      ]
     },
     "execution_count": 53,
     "metadata": {},
     "output_type": "execute_result"
    }
   ],
   "source": [
    "ld_i_occ_2.shape"
   ]
  },
  {
   "cell_type": "code",
   "execution_count": 54,
   "id": "baa78025",
   "metadata": {},
   "outputs": [],
   "source": [
    "limbdark_arr_2 = np.load(fixtures + \"/ld_limbdark.npy\")"
   ]
  },
  {
   "cell_type": "code",
   "execution_count": 55,
   "id": "7c913b80",
   "metadata": {},
   "outputs": [
    {
     "data": {
      "text/plain": [
       "(802,)"
      ]
     },
     "execution_count": 55,
     "metadata": {},
     "output_type": "execute_result"
    }
   ],
   "source": [
    "limbdark_arr_2.shape"
   ]
  },
  {
   "cell_type": "code",
   "execution_count": 227,
   "id": "7d2d4806",
   "metadata": {},
   "outputs": [
    {
     "name": "stdout",
     "output_type": "stream",
     "text": [
      "(802,)\n"
     ]
    }
   ],
   "source": [
    "ld_occ_flux_2 = _ld_get_occ_flux(inp_zo_f, ro, ld_i_occ_2, flux_init_2, limbdark_arr_2)"
   ]
  },
  {
   "cell_type": "code",
   "execution_count": 228,
   "id": "5310c71b",
   "metadata": {},
   "outputs": [
    {
     "data": {
      "text/plain": [
       "(802,)"
      ]
     },
     "execution_count": 228,
     "metadata": {},
     "output_type": "execute_result"
    }
   ],
   "source": [
    "ld_occ_flux_2.shape"
   ]
  },
  {
   "cell_type": "code",
   "execution_count": 229,
   "id": "b4c583b1",
   "metadata": {},
   "outputs": [
    {
     "data": {
      "text/plain": [
       "True"
      ]
     },
     "execution_count": 229,
     "metadata": {},
     "output_type": "execute_result"
    }
   ],
   "source": [
    "np.array_equal(ld_occ_flux_2, ld_x.flatten())"
   ]
  },
  {
   "cell_type": "markdown",
   "id": "3a661830",
   "metadata": {},
   "source": [
    "#### summary"
   ]
  },
  {
   "cell_type": "code",
   "execution_count": 56,
   "id": "b96457bf",
   "metadata": {},
   "outputs": [],
   "source": [
    "def ld_x(xo, yo, zo, ro, limbdark_arr):\n",
    "    flux_init = np.ones(len(xo))\n",
    "    b = np.sqrt(xo**2 + yo**2)\n",
    "    return b\n",
    "#     cond1 = b >=ro + 1.\n",
    "#     cond2 = zo <= 0.\n",
    "#     cond3 = ro == 0.\n",
    "#     conds = cond1 | cond2 | cond3\n",
    "#     b_occ = ~conds\n",
    "#     i_occ = np.arange(b.size)[b_occ]\n",
    "#     los = zo[i_occ]\n",
    "#     r = ro * np.ones(len(los))\n",
    "#     flux_init[i_occ] = limbdark_arr\n",
    "#     return flux_init"
   ]
  },
  {
   "cell_type": "code",
   "execution_count": 57,
   "id": "a83f1686",
   "metadata": {},
   "outputs": [],
   "source": [
    "ld_b = ld_x(inp_xo_f, inp_yo_f, inp_zo_f, ro, limbdark_arr_2)"
   ]
  },
  {
   "cell_type": "code",
   "execution_count": 59,
   "id": "4b8c2e65",
   "metadata": {},
   "outputs": [
    {
     "data": {
      "text/plain": [
       "(802,)"
      ]
     },
     "execution_count": 59,
     "metadata": {},
     "output_type": "execute_result"
    }
   ],
   "source": [
    "ld_b.shape"
   ]
  },
  {
   "cell_type": "code",
   "execution_count": 231,
   "id": "97561d85",
   "metadata": {},
   "outputs": [],
   "source": [
    "ldx = ld_x(inp_xo, inp_yo, inp_zo, 0, limbdark_arr)"
   ]
  },
  {
   "cell_type": "code",
   "execution_count": 232,
   "id": "649df673",
   "metadata": {},
   "outputs": [
    {
     "data": {
      "text/plain": [
       "1.0"
      ]
     },
     "execution_count": 232,
     "metadata": {},
     "output_type": "execute_result"
    }
   ],
   "source": [
    "ldx.min()"
   ]
  },
  {
   "cell_type": "code",
   "execution_count": 233,
   "id": "93a4b78c",
   "metadata": {},
   "outputs": [],
   "source": [
    "ldx_2 = ld_x(inp_xo_f, inp_yo_f, inp_zo_f, ro, limbdark_arr_2)"
   ]
  },
  {
   "cell_type": "code",
   "execution_count": 234,
   "id": "887a6802",
   "metadata": {},
   "outputs": [
    {
     "data": {
      "text/plain": [
       "(802,)"
      ]
     },
     "execution_count": 234,
     "metadata": {},
     "output_type": "execute_result"
    }
   ],
   "source": [
    "ldx_2.shape"
   ]
  },
  {
   "cell_type": "code",
   "execution_count": 236,
   "id": "7d6bbe05",
   "metadata": {},
   "outputs": [
    {
     "data": {
      "text/plain": [
       "True"
      ]
     },
     "execution_count": 236,
     "metadata": {},
     "output_type": "execute_result"
    }
   ],
   "source": [
    "np.array_equal(ldx_2, ld_x.flatten())"
   ]
  },
  {
   "cell_type": "markdown",
   "id": "80e0b479",
   "metadata": {},
   "source": [
    "##### jax version"
   ]
  },
  {
   "cell_type": "code",
   "execution_count": 400,
   "id": "f230193d",
   "metadata": {},
   "outputs": [],
   "source": [
    "@jax.jit\n",
    "def j_cond(xo, yo, zo, ro):\n",
    "    b = jnp.sqrt(xo**2 + yo**2)\n",
    "    cond1 = b >=ro + 1.\n",
    "    cond2 = zo <= 0.\n",
    "    cond3 = ro == 0.\n",
    "    conds = cond1 | cond2 | cond3\n",
    "    b_occ = ~conds\n",
    "    return jnp.where(b_occ == 1, b_occ, 0)"
   ]
  },
  {
   "cell_type": "code",
   "execution_count": 404,
   "id": "86da7d89",
   "metadata": {},
   "outputs": [],
   "source": [
    "b_idx = j_cond(inp_xo_f, inp_yo_f, inp_zo_f, ro)"
   ]
  },
  {
   "cell_type": "code",
   "execution_count": 405,
   "id": "9a96d5b6",
   "metadata": {},
   "outputs": [
    {
     "data": {
      "text/plain": [
       "(802,)"
      ]
     },
     "execution_count": 405,
     "metadata": {},
     "output_type": "execute_result"
    }
   ],
   "source": []
  },
  {
   "cell_type": "code",
   "execution_count": 406,
   "id": "32e1407b",
   "metadata": {},
   "outputs": [],
   "source": [
    "@jax.jit\n",
    "def jld_x(xo, yo, zo, ro, limbdark_arr):\n",
    "    flux_init = jnp.ones(len(xo))\n",
    "#     b = jnp.sqrt(xo**2 + yo**2)\n",
    "#     cond1 = b >=ro + 1.\n",
    "#     cond2 = zo <= 0.\n",
    "#     cond3 = ro == 0.\n",
    "#     conds = cond1 | cond2 | cond3\n",
    "#     b_occ = ~conds\n",
    "# #     i_occ = jnp.arange(b.size)[b_occ]\n",
    "#     val_idx = jnp.where(b_occ == 1, b_occ, 0)\n",
    "    val_idx = j_cond(xo, yo, zo, ro)\n",
    "#     return val_idx\n",
    "#     i_occ = jnp.arange(b.size)*b_occ\n",
    "#     return i_occ\n",
    "    flux = jax.lax.select(val_idx, limbdark_arr, flux_init)\n",
    "#     flux = flux_init.at[i_occ].set(limbdark_arr)\n",
    "    return flux"
   ]
  },
  {
   "cell_type": "code",
   "execution_count": 293,
   "id": "ceedef7e",
   "metadata": {},
   "outputs": [],
   "source": [
    "b_occ = jld_x(inp_xo_f, inp_yo_f, inp_zo_f, ro, limbdark_arr_2)"
   ]
  },
  {
   "cell_type": "code",
   "execution_count": 352,
   "id": "c7fb9240",
   "metadata": {},
   "outputs": [],
   "source": [
    "i_occ = jld_x(inp_xo_f, inp_yo_f, inp_zo_f, ro, limbdark_arr_2)"
   ]
  },
  {
   "cell_type": "code",
   "execution_count": 407,
   "id": "19ef17db",
   "metadata": {},
   "outputs": [],
   "source": [
    "jldx2 = jld_x(inp_xo_f, inp_yo_f, inp_zo_f, ro, limbdark_arr_2)"
   ]
  },
  {
   "cell_type": "code",
   "execution_count": 408,
   "id": "4ce110d0",
   "metadata": {},
   "outputs": [
    {
     "data": {
      "text/plain": [
       "DeviceArray([0.999992  , 0.9998695 , 0.99965906, 0.9993814 , 0.9990474 ,\n",
       "             0.9986648 , 0.99823993, 0.9977787 , 0.9972865 , 0.9967686 ,\n",
       "             0.9962304 , 0.9956774 , 0.99511564, 0.9945515 , 0.9939924 ,\n",
       "             0.9934469 , 0.99292576, 0.9924435 , 0.992024  , 0.99173427,\n",
       "             0.99152464, 0.99133736, 0.9911666 , 0.99100906, 0.99086255,\n",
       "             0.9907256 , 0.9905969 , 0.9904756 , 0.99036086, 0.99025214,\n",
       "             0.99014884, 0.99005055, 0.98995686, 0.98986745, 0.989782  ,\n",
       "             0.98970014, 0.9896218 , 0.9895467 , 0.98947465, 0.9894055 ,\n",
       "             0.98933905, 0.98927516, 0.9892137 , 0.9891546 , 0.9890977 ,\n",
       "             0.9890429 , 0.9889901 , 0.9889393 , 0.98889023, 0.988843  ,\n",
       "             0.9887974 , 0.98875356, 0.9887112 , 0.98867035, 0.98863095,\n",
       "             0.988593  , 0.9885563 , 0.98852104, 0.988487  , 0.98845416,\n",
       "             0.9884225 , 0.98839206, 0.98836267, 0.98833436, 0.9883071 ,\n",
       "             0.98828095, 0.98825574, 0.9882315 , 0.9882082 , 0.9881858 ,\n",
       "             0.98816437, 0.98814374, 0.988124  , 0.9881051 , 0.98808706,\n",
       "             0.98806983, 0.9880533 , 0.98803765, 0.9880227 , 0.9880085 ,\n",
       "             0.9879951 , 0.98798233, 0.9879703 , 0.98795897, 0.98794836,\n",
       "             0.9879384 , 0.9879291 , 0.9879205 , 0.98791254, 0.98790526,\n",
       "             0.9878986 , 0.98789257, 0.9878872 , 0.98788244, 0.98787826,\n",
       "             0.9878748 , 0.9878719 , 0.9878696 , 0.98786795, 0.9878669 ,\n",
       "             0.98786646, 0.98786664, 0.9878674 , 0.98786885, 0.9878708 ,\n",
       "             0.98787344, 0.9878767 , 0.9878806 , 0.98788506, 0.9878902 ,\n",
       "             0.9878959 , 0.98790234, 0.9879094 , 0.987917  , 0.98792535,\n",
       "             0.98793435, 0.987944  , 0.9879543 , 0.98796535, 0.9879771 ,\n",
       "             0.98798954, 0.98800266, 0.98801655, 0.98803115, 0.9880465 ,\n",
       "             0.9880627 , 0.9880796 , 0.9880973 , 0.98811585, 0.9881353 ,\n",
       "             0.9881555 , 0.9881766 , 0.9881986 , 0.98822147, 0.98824537,\n",
       "             0.98827016, 0.988296  , 0.9883228 , 0.98835063, 0.98837954,\n",
       "             0.9884096 , 0.9884408 , 0.9884731 , 0.98850673, 0.98854154,\n",
       "             0.98857766, 0.98861516, 0.988654  , 0.9886943 , 0.9887361 ,\n",
       "             0.9887794 , 0.9888244 , 0.98887104, 0.98891944, 0.9889697 ,\n",
       "             0.98902184, 0.98907596, 0.98913217, 0.9891906 , 0.98925126,\n",
       "             0.98931444, 0.98938006, 0.9894485 , 0.98951966, 0.9895939 ,\n",
       "             0.98967135, 0.98975223, 0.98983675, 0.98992515, 0.9900178 ,\n",
       "             0.9901149 , 0.99021703, 0.9903245 , 0.9904378 , 0.9905577 ,\n",
       "             0.9906847 , 0.99081993, 0.99096435, 0.99111956, 0.99128747,\n",
       "             0.99147105, 0.9916754 , 0.9919311 , 0.99233097, 0.99280465,\n",
       "             0.9933228 , 0.9938689 , 0.9944313 , 0.9950008 , 0.9955695 ,\n",
       "             0.9961307 , 0.99667805, 0.9972058 , 0.9977083 , 0.9981801 ,\n",
       "             0.9986154 , 0.99900836, 0.99935234, 0.9996393 , 0.99985826,\n",
       "             0.99998873, 0.99998164, 0.9998442 , 0.99962324, 0.99933696,\n",
       "             0.99899554, 0.9986065 , 0.99817616, 0.99771017, 0.99721396,\n",
       "             0.99669284, 0.99615216, 0.9955976 , 0.99503505, 0.99447113,\n",
       "             0.9939134 , 0.99337065, 0.99285406, 0.99237895, 0.9919718 ,\n",
       "             0.99170256, 0.9914967 , 0.991312  , 0.99114335, 0.9909875 ,\n",
       "             0.99084246, 0.9907067 , 0.9905791 , 0.9904588 , 0.990345  ,\n",
       "             0.99023706, 0.99013454, 0.9900369 , 0.98994386, 0.989855  ,\n",
       "             0.98977005, 0.98968875, 0.9896109 , 0.9895362 , 0.98946464,\n",
       "             0.98939586, 0.98932976, 0.9892662 , 0.9892051 , 0.98914635,\n",
       "             0.9890897 , 0.98903525, 0.98898274, 0.98893213, 0.9888834 ,\n",
       "             0.9888364 , 0.9887911 , 0.9887474 , 0.9887053 , 0.9886646 ,\n",
       "             0.98862547, 0.9885877 , 0.98855126, 0.9885161 , 0.98848224,\n",
       "             0.9884496 , 0.9884181 , 0.98838776, 0.98835856, 0.9883304 ,\n",
       "             0.98830336, 0.98827726, 0.9882522 , 0.9882281 , 0.98820496,\n",
       "             0.9881827 , 0.9881614 , 0.9881409 , 0.9881213 , 0.9881025 ,\n",
       "             0.98808455, 0.9880674 , 0.98805106, 0.98803544, 0.98802066,\n",
       "             0.98800653, 0.9879932 , 0.98798054, 0.9879686 , 0.9879574 ,\n",
       "             0.98794687, 0.98793703, 0.98792785, 0.98791933, 0.98791146,\n",
       "             0.98790425, 0.9878977 , 0.98789173, 0.9878865 , 0.9878818 ,\n",
       "             0.9878777 , 0.9878743 , 0.9878715 , 0.9878693 , 0.9878678 ,\n",
       "             0.9878668 , 0.98786646, 0.9878667 , 0.9878676 , 0.9878691 ,\n",
       "             0.98787117, 0.9878739 , 0.98787725, 0.9878812 , 0.9878858 ,\n",
       "             0.98789096, 0.9878968 , 0.9879033 , 0.9879104 , 0.9879182 ,\n",
       "             0.9879266 , 0.98793566, 0.98794544, 0.98795587, 0.987967  ,\n",
       "             0.9879788 , 0.98799133, 0.9880046 , 0.9880186 , 0.9880333 ,\n",
       "             0.9880488 , 0.98806506, 0.9880821 , 0.98809993, 0.9881186 ,\n",
       "             0.9881381 , 0.98815846, 0.9881797 , 0.9882018 , 0.98822486,\n",
       "             0.9882488 , 0.9882738 , 0.9882997 , 0.98832667, 0.9883547 ,\n",
       "             0.98838377, 0.988414  , 0.98844534, 0.9884779 , 0.9885116 ,\n",
       "             0.9885466 , 0.9885829 , 0.9886206 , 0.9886597 , 0.98870015,\n",
       "             0.9887422 , 0.98878574, 0.988831  , 0.98887783, 0.98892653,\n",
       "             0.988977  , 0.9890294 , 0.9890838 , 0.9891404 , 0.9891991 ,\n",
       "             0.98926014, 0.9893236 , 0.9893897 , 0.98945844, 0.9895301 ,\n",
       "             0.9896048 , 0.98968273, 0.9897641 , 0.98984915, 0.98993814,\n",
       "             0.99003136, 0.99012923, 0.99023205, 0.9903403 , 0.99045455,\n",
       "             0.9905754 , 0.9907035 , 0.99083996, 0.9909858 , 0.9911427 ,\n",
       "             0.9913127 , 0.9914988 , 0.9917067 , 0.99198157, 0.99239504,\n",
       "             0.9928764 , 0.9933994 , 0.99394846, 0.99451244, 0.99508226,\n",
       "             0.99565035, 0.9962099 , 0.9967548 , 0.9972793 , 0.9977777 ,\n",
       "             0.99824464, 0.9986743 , 0.9990607 , 0.99939704, 0.99967504,\n",
       "             0.99988306, 0.999997  , 0.9999684 , 0.99981713, 0.99958605,\n",
       "             0.99929136, 0.99894273, 0.99854743, 0.99811167, 0.997641  ,\n",
       "             0.99714094, 0.99661666, 0.99607366, 0.99551755, 0.9949544 ,\n",
       "             0.9943909 , 0.99383473, 0.99329495, 0.9927832 , 0.99231577,\n",
       "             0.99192226, 0.9916715 , 0.9914692 , 0.99128705, 0.99112034,\n",
       "             0.99096614, 0.9908225 , 0.990688  , 0.9905615 , 0.99044216,\n",
       "             0.9903292 , 0.9902221 , 0.9901203 , 0.9900234 , 0.9899309 ,\n",
       "             0.98984265, 0.98975825, 0.9896774 , 0.98960006, 0.98952585,\n",
       "             0.9894546 , 0.98938626, 0.9893205 , 0.98925734, 0.9891966 ,\n",
       "             0.9891381 , 0.9890818 , 0.9890276 , 0.9889754 , 0.98892504,\n",
       "             0.9888766 , 0.9888298 , 0.98878473, 0.9887413 , 0.9886994 ,\n",
       "             0.98865896, 0.98862   , 0.9885824 , 0.98854613, 0.9885112 ,\n",
       "             0.98847747, 0.988445  , 0.9884137 , 0.98838353, 0.98835444,\n",
       "             0.9883265 , 0.98829955, 0.9882736 , 0.9882487 , 0.98822474,\n",
       "             0.98820174, 0.9881796 , 0.9881584 , 0.988138  , 0.9881185 ,\n",
       "             0.9880999 , 0.98808205, 0.988065  , 0.9880488 , 0.9880333 ,\n",
       "             0.9880186 , 0.9880046 , 0.98799133, 0.9879788 , 0.987967  ,\n",
       "             0.98795587, 0.98794544, 0.98793566, 0.9879266 , 0.9879182 ,\n",
       "             0.9879104 , 0.9879033 , 0.9878968 , 0.98789096, 0.9878858 ,\n",
       "             0.9878812 , 0.98787725, 0.9878739 , 0.98787117, 0.9878691 ,\n",
       "             0.9878676 , 0.9878667 , 0.98786646, 0.9878668 , 0.9878678 ,\n",
       "             0.9878693 , 0.9878715 , 0.9878743 , 0.9878777 , 0.9878818 ,\n",
       "             0.9878865 , 0.98789173, 0.9878977 , 0.98790425, 0.98791146,\n",
       "             0.98791933, 0.98792785, 0.98793703, 0.98794687, 0.9879574 ,\n",
       "             0.9879686 , 0.9879806 , 0.9879932 , 0.98800653, 0.98802066,\n",
       "             0.9880355 , 0.98805106, 0.98806745, 0.9880846 , 0.98810256,\n",
       "             0.98812133, 0.98814094, 0.98816144, 0.9881828 , 0.988205  ,\n",
       "             0.9882282 , 0.98825234, 0.98827744, 0.9883035 , 0.9883306 ,\n",
       "             0.9883588 , 0.988388  , 0.9884184 , 0.98844993, 0.9884826 ,\n",
       "             0.9885165 , 0.98855174, 0.9885882 , 0.9886261 , 0.98866534,\n",
       "             0.9887061 , 0.9887483 , 0.9887921 , 0.98883754, 0.9888847 ,\n",
       "             0.9889336 , 0.98898435, 0.9890371 , 0.9890918 , 0.9891486 ,\n",
       "             0.9892077 , 0.9892691 , 0.9893329 , 0.9893994 , 0.9894685 ,\n",
       "             0.9895406 , 0.98961574, 0.9896941 , 0.989776  , 0.9898616 ,\n",
       "             0.9899512 , 0.9900451 , 0.9901436 , 0.9902472 , 0.99035627,\n",
       "             0.99047136, 0.9905932 , 0.9907225 , 0.99086016, 0.9910075 ,\n",
       "             0.9911661 , 0.9913382 , 0.991527  , 0.9917388 , 0.99203473,\n",
       "             0.9924605 , 0.992949  , 0.9934765 , 0.9940284 , 0.9945937 ,\n",
       "             0.9951637 , 0.99573094, 0.9962888 , 0.9968311 , 0.9973522 ,\n",
       "             0.9978465 , 0.9983084 , 0.99873227, 0.99911195, 0.99944055,\n",
       "             0.99970937, 0.999906  , 0.9999528 , 0.9997885 , 0.9995476 ,\n",
       "             0.9992447 , 0.99888897, 0.99848753, 0.99804646, 0.9975713 ,\n",
       "             0.9970674 , 0.9965401 , 0.99599487, 0.9954374 , 0.99487376,\n",
       "             0.9943108 , 0.99375635, 0.99321985, 0.9927132 , 0.992254  ,\n",
       "             0.99187607, 0.99164104, 0.9914421 , 0.9912624 , 0.99109757,\n",
       "             0.99094504, 0.99080276, 0.9906695 , 0.990544  , 0.99042565,\n",
       "             0.9903136 , 0.99020725, 0.99010617, 0.9900099 , 0.98991805,\n",
       "             0.9898303 , 0.98974645, 0.98966616, 0.9895893 , 0.9895155 ,\n",
       "             0.9894447 , 0.98937666, 0.98931134, 0.9892485 , 0.9891881 ,\n",
       "             0.98912996, 0.98907393, 0.98902005, 0.9889681 , 0.988918  ,\n",
       "             0.9888698 , 0.9888233 , 0.9887784 , 0.9887352 , 0.9886935 ,\n",
       "             0.9886533 , 0.9886145 , 0.9885771 , 0.98854107, 0.9885063 ,\n",
       "             0.98847276, 0.98844045, 0.98840934, 0.9883793 , 0.9883504 ,\n",
       "             0.98832256, 0.9882958 , 0.98827   , 0.98824525, 0.9882214 ,\n",
       "             0.9881985 , 0.9881765 , 0.9881554 , 0.9881352 , 0.98811585,\n",
       "             0.9880973 , 0.9880796 , 0.9880627 , 0.9880465 , 0.98803115,\n",
       "             0.98801655, 0.98800266, 0.98798954, 0.9879771 , 0.98796535,\n",
       "             0.9879543 , 0.987944  , 0.98793435, 0.98792535, 0.987917  ,\n",
       "             0.9879094 , 0.98790234, 0.9878959 , 0.9878902 , 0.98788506,\n",
       "             0.9878806 , 0.9878767 , 0.98787344, 0.9878708 , 0.98786885,\n",
       "             0.9878674 , 0.98786664, 0.98786646, 0.9878669 , 0.98786795,\n",
       "             0.9878696 , 0.9878719 , 0.9878748 , 0.98787826, 0.98788244,\n",
       "             0.9878872 , 0.98789257, 0.9878986 , 0.98790526, 0.98791254,\n",
       "             0.9879205 , 0.9879291 , 0.9879384 , 0.98794836, 0.98795897,\n",
       "             0.9879703 , 0.98798233, 0.9879951 , 0.98800856, 0.98802274,\n",
       "             0.98803765, 0.9880534 , 0.98806983, 0.9880871 , 0.9881052 ,\n",
       "             0.9881241 , 0.9881438 , 0.9881644 , 0.9881859 , 0.9882083 ,\n",
       "             0.9882316 , 0.98825586, 0.9882811 , 0.9883073 , 0.9883346 ,\n",
       "             0.9883629 , 0.9883923 , 0.9884228 , 0.9884545 , 0.98848736,\n",
       "             0.98852146, 0.98855686, 0.9885936 , 0.9886316 , 0.98867106,\n",
       "             0.988712  , 0.98875445, 0.9887985 , 0.9888442 , 0.9888916 ,\n",
       "             0.9889408 , 0.9889918 , 0.9890448 , 0.9890998 , 0.9891569 ,\n",
       "             0.9892163 , 0.989278  , 0.9893422 , 0.989409  , 0.98947865,\n",
       "             0.9895511 , 0.9896267 , 0.98970556, 0.989788  , 0.9898741 ,\n",
       "             0.9899643 , 0.99005884, 0.9901581 , 0.9902624 , 0.9903723 ,\n",
       "             0.99048835, 0.9906112 , 0.9907416 , 0.9908806 , 0.99102944,\n",
       "             0.99118984, 0.991364  , 0.9915557 , 0.99177164, 0.9920902 ,\n",
       "             0.9925271 , 0.9930224 , 0.9935542 , 0.9941085 , 0.994675  ,\n",
       "             0.99524504, 0.99581134, 0.99636734, 0.996907  , 0.9974246 ,\n",
       "             0.9979146 , 0.9983714 , 0.99878937, 0.9991622 , 0.9994828 ,\n",
       "             0.99974227, 0.99992704], dtype=float32)"
      ]
     },
     "execution_count": 408,
     "metadata": {},
     "output_type": "execute_result"
    }
   ],
   "source": [
    "jldx2"
   ]
  },
  {
   "cell_type": "code",
   "execution_count": 354,
   "id": "c2ab0ba5",
   "metadata": {},
   "outputs": [
    {
     "data": {
      "text/plain": [
       "(802,)"
      ]
     },
     "execution_count": 354,
     "metadata": {},
     "output_type": "execute_result"
    }
   ],
   "source": [
    "i_occ.shape"
   ]
  },
  {
   "cell_type": "code",
   "execution_count": 343,
   "id": "d8a5842b",
   "metadata": {},
   "outputs": [],
   "source": [
    "ta = jnp.array([True,False,True, True, False])"
   ]
  },
  {
   "cell_type": "code",
   "execution_count": 348,
   "id": "64cc87ce",
   "metadata": {},
   "outputs": [
    {
     "data": {
      "text/plain": [
       "DeviceArray([ True, False,  True,  True, False], dtype=bool)"
      ]
     },
     "execution_count": 348,
     "metadata": {},
     "output_type": "execute_result"
    }
   ],
   "source": [
    "ta"
   ]
  },
  {
   "cell_type": "code",
   "execution_count": 392,
   "id": "3a5e938a",
   "metadata": {},
   "outputs": [
    {
     "name": "stdout",
     "output_type": "stream",
     "text": [
      "[-10 -20  30  40  50]\n"
     ]
    }
   ],
   "source": [
    "import jax.numpy as jnp\n",
    "from jax import lax\n",
    "\n",
    "# Define a boolean mask\n",
    "x = jnp.array([1, 2, 3, 4, 5])\n",
    "mask = jnp.where(x>2, x, 0)\n",
    "\n",
    "# Define two arrays to select from\n",
    "a = jnp.array([10, 20, 30, 40, 50])\n",
    "b = jnp.array([-10, -20, -30, -40, -50])\n",
    "\n",
    "# Use jax.lax.select to conditionally select values\n",
    "result = lax.select(mask, a, b)\n",
    "\n",
    "# Print the result\n",
    "print(result)  # [ -10  -20  30  40  50]\n"
   ]
  },
  {
   "cell_type": "code",
   "execution_count": 370,
   "id": "f475f381",
   "metadata": {},
   "outputs": [
    {
     "data": {
      "text/plain": [
       "DeviceArray([0, 2, 3], dtype=int32)"
      ]
     },
     "execution_count": 370,
     "metadata": {},
     "output_type": "execute_result"
    }
   ],
   "source": [
    "fn(ta)"
   ]
  },
  {
   "cell_type": "code",
   "execution_count": 287,
   "id": "5f175d07",
   "metadata": {},
   "outputs": [],
   "source": [
    "jldx_2 = jld_x(inp_xo_f, inp_yo_f, inp_zo_f, ro, limbdark_arr_2)"
   ]
  },
  {
   "cell_type": "code",
   "execution_count": 387,
   "id": "174bb188",
   "metadata": {},
   "outputs": [],
   "source": [
    "x = jnp.array([1, 2, 3, 4, 5])\n",
    "mask = x > 2\n"
   ]
  },
  {
   "cell_type": "code",
   "execution_count": 389,
   "id": "b640b2d9",
   "metadata": {},
   "outputs": [
    {
     "data": {
      "text/plain": [
       "DeviceArray(True, dtype=bool)"
      ]
     },
     "execution_count": 389,
     "metadata": {},
     "output_type": "execute_result"
    }
   ],
   "source": [
    "mask.any()"
   ]
  },
  {
   "cell_type": "code",
   "execution_count": 277,
   "id": "ef8c5158",
   "metadata": {},
   "outputs": [],
   "source": [
    "jldx_2_np = jax.device_get(jldx_2)"
   ]
  },
  {
   "cell_type": "code",
   "execution_count": 409,
   "id": "338a0e0b",
   "metadata": {},
   "outputs": [
    {
     "data": {
      "text/plain": [
       "True"
      ]
     },
     "execution_count": 409,
     "metadata": {},
     "output_type": "execute_result"
    }
   ],
   "source": [
    "np.allclose(jldx2, ld_x.flatten())"
   ]
  },
  {
   "cell_type": "code",
   "execution_count": 77,
   "id": "f6b7b82b",
   "metadata": {},
   "outputs": [],
   "source": [
    "from jaxoplanet._src.core.limb_dark import light_curve as limb_dark_light_curve"
   ]
  },
  {
   "cell_type": "code",
   "execution_count": 80,
   "id": "8f18840c",
   "metadata": {},
   "outputs": [],
   "source": [
    "from functools import partial"
   ]
  },
  {
   "cell_type": "code",
   "execution_count": 93,
   "id": "d80f58bc",
   "metadata": {},
   "outputs": [],
   "source": [
    "lc_func = partial(limb_dark_light_curve, u)"
   ]
  },
  {
   "cell_type": "code",
   "execution_count": 94,
   "id": "89ce7a3c",
   "metadata": {},
   "outputs": [
    {
     "data": {
      "text/plain": [
       "['__call__',\n",
       " '__class__',\n",
       " '__delattr__',\n",
       " '__dict__',\n",
       " '__dir__',\n",
       " '__doc__',\n",
       " '__eq__',\n",
       " '__format__',\n",
       " '__ge__',\n",
       " '__getattribute__',\n",
       " '__gt__',\n",
       " '__hash__',\n",
       " '__init__',\n",
       " '__init_subclass__',\n",
       " '__le__',\n",
       " '__lt__',\n",
       " '__ne__',\n",
       " '__new__',\n",
       " '__reduce__',\n",
       " '__reduce_ex__',\n",
       " '__repr__',\n",
       " '__setattr__',\n",
       " '__setstate__',\n",
       " '__sizeof__',\n",
       " '__str__',\n",
       " '__subclasshook__',\n",
       " 'args',\n",
       " 'func',\n",
       " 'keywords']"
      ]
     },
     "execution_count": 94,
     "metadata": {},
     "output_type": "execute_result"
    }
   ],
   "source": [
    "dir(lc_func)"
   ]
  },
  {
   "cell_type": "code",
   "execution_count": 96,
   "id": "176bd08a",
   "metadata": {},
   "outputs": [
    {
     "data": {
      "text/plain": [
       "(array([0.4 , 0.26]),)"
      ]
     },
     "execution_count": 96,
     "metadata": {},
     "output_type": "execute_result"
    }
   ],
   "source": [
    "lc_func.args"
   ]
  },
  {
   "cell_type": "code",
   "execution_count": 97,
   "id": "3350f5dc",
   "metadata": {},
   "outputs": [],
   "source": [
    "res_2 = lc_func(ld_b, ro)"
   ]
  },
  {
   "cell_type": "code",
   "execution_count": 98,
   "id": "bc63c223",
   "metadata": {},
   "outputs": [
    {
     "data": {
      "text/plain": [
       "DeviceArray([-8.04662704e-06, -1.30474567e-04, -3.40938568e-04,\n",
       "             -6.18517399e-04, -9.52601433e-04, -1.33520365e-03,\n",
       "             -1.76006556e-03, -2.22122669e-03, -2.71350145e-03,\n",
       "             -3.23140621e-03, -3.76969576e-03, -4.32258844e-03,\n",
       "             -4.88442183e-03, -5.44846058e-03, -6.00761175e-03,\n",
       "             -6.55311346e-03, -7.07429647e-03, -7.55655766e-03,\n",
       "             -7.97599554e-03, -8.26579332e-03, -8.47542286e-03,\n",
       "             -8.66264105e-03, -8.83340836e-03, -8.99094343e-03,\n",
       "             -9.13739204e-03, -9.27442312e-03, -9.40316916e-03,\n",
       "             -9.52440500e-03, -9.63914394e-03, -9.74786282e-03,\n",
       "             -9.85115767e-03, -9.94944572e-03, -1.00432038e-02,\n",
       "             -1.01326108e-02, -1.02180243e-02, -1.02998614e-02,\n",
       "             -1.03781223e-02, -1.04533434e-02, -1.05253458e-02,\n",
       "             -1.05945468e-02, -1.06610060e-02, -1.07249022e-02,\n",
       "             -1.07862353e-02, -1.08453631e-02, -1.09022856e-02,\n",
       "             -1.09571218e-02, -1.10098720e-02, -1.10607743e-02,\n",
       "             -1.11097693e-02, -1.11570358e-02, -1.12026334e-02,\n",
       "             -1.12465024e-02, -1.12888217e-02, -1.13296509e-02,\n",
       "             -1.13690495e-02, -1.14070177e-02, -1.14437342e-02,\n",
       "             -1.14789605e-02, -1.15130544e-02, -1.15458369e-02,\n",
       "             -1.15774274e-02, -1.16079450e-02, -1.16373897e-02,\n",
       "             -1.16655827e-02, -1.16928816e-02, -1.17190480e-02,\n",
       "             -1.17443204e-02, -1.17685795e-02, -1.17917657e-02,\n",
       "             -1.18141770e-02, -1.18355751e-02, -1.18562579e-02,\n",
       "             -1.18760467e-02, -1.18948817e-02, -1.19130015e-02,\n",
       "             -1.19301677e-02, -1.19466782e-02, -1.19624138e-02,\n",
       "             -1.19773149e-02, -1.19914412e-02, -1.20049119e-02,\n",
       "             -1.20177269e-02, -1.20297074e-02, -1.20410323e-02,\n",
       "             -1.20516419e-02, -1.20615959e-02, -1.20708346e-02,\n",
       "             -1.20795369e-02, -1.20874643e-02, -1.20947361e-02,\n",
       "             -1.21014118e-02, -1.21074319e-02, -1.21128559e-02,\n",
       "             -1.21176243e-02, -1.21217370e-02, -1.21251941e-02,\n",
       "             -1.21281147e-02, -1.21303797e-02, -1.21320486e-02,\n",
       "             -1.21331215e-02, -1.21335387e-02, -1.21334195e-02,\n",
       "             -1.21325850e-02, -1.21312141e-02, -1.21291280e-02,\n",
       "             -1.21266246e-02, -1.21233463e-02, -1.21194720e-02,\n",
       "             -1.21149421e-02, -1.21098161e-02, -1.21040940e-02,\n",
       "             -1.20977163e-02, -1.20906234e-02, -1.20829940e-02,\n",
       "             -1.20745897e-02, -1.20657086e-02, -1.20560527e-02,\n",
       "             -1.20456219e-02, -1.20346546e-02, -1.20229721e-02,\n",
       "             -1.20105147e-02, -1.19973421e-02, -1.19834542e-02,\n",
       "             -1.19687915e-02, -1.19534731e-02, -1.19373202e-02,\n",
       "             -1.19203925e-02, -1.19026303e-02, -1.18841529e-02,\n",
       "             -1.18647218e-02, -1.18445754e-02, -1.18234754e-02,\n",
       "             -1.18014216e-02, -1.17785335e-02, -1.17546916e-02,\n",
       "             -1.17299557e-02, -1.17040873e-02, -1.16772652e-02,\n",
       "             -1.16493702e-02, -1.16204023e-02, -1.15904212e-02,\n",
       "             -1.15592480e-02, -1.15268230e-02, -1.14932656e-02,\n",
       "             -1.14584565e-02, -1.14223957e-02, -1.13848448e-02,\n",
       "             -1.13459826e-02, -1.13057494e-02, -1.12639070e-02,\n",
       "             -1.12206340e-02, -1.11755729e-02, -1.11289620e-02,\n",
       "             -1.10805631e-02, -1.10303164e-02, -1.09782219e-02,\n",
       "             -1.09241009e-02, -1.08678341e-02, -1.08094811e-02,\n",
       "             -1.07486844e-02, -1.06856227e-02, -1.06199384e-02,\n",
       "             -1.05515718e-02, -1.04802847e-02, -1.04060769e-02,\n",
       "             -1.03286505e-02, -1.02477670e-02, -1.01632476e-02,\n",
       "             -1.00748539e-02, -9.98228788e-03, -9.88507271e-03,\n",
       "             -9.78296995e-03, -9.67550278e-03, -9.56219435e-03,\n",
       "             -9.44238901e-03, -9.31525230e-03, -9.18006897e-03,\n",
       "             -9.03564692e-03, -8.88043642e-03, -8.71258974e-03,\n",
       "             -8.52894783e-03, -8.32468271e-03, -8.06891918e-03,\n",
       "             -7.66915083e-03, -7.19541311e-03, -6.67726994e-03,\n",
       "             -6.13123178e-03, -5.56874275e-03, -4.99922037e-03,\n",
       "             -4.43047285e-03, -3.86929512e-03, -3.32194567e-03,\n",
       "             -2.79426575e-03, -2.29167938e-03, -1.82002783e-03,\n",
       "             -1.38461590e-03, -9.91582870e-04, -6.47723675e-04,\n",
       "             -3.60727310e-04, -1.41859055e-04, -1.13248825e-05,\n",
       "             -1.84178352e-05, -1.55866146e-04, -3.76820564e-04,\n",
       "             -6.63042068e-04, -1.00445747e-03, -1.39349699e-03,\n",
       "             -1.82390213e-03, -2.28989124e-03, -2.78609991e-03,\n",
       "             -3.30716372e-03, -3.84789705e-03, -4.40245867e-03,\n",
       "             -4.96506691e-03, -5.52892685e-03, -6.08658791e-03,\n",
       "             -6.62934780e-03, -7.14594126e-03, -7.62099028e-03,\n",
       "             -8.02826881e-03, -8.29744339e-03, -8.50337744e-03,\n",
       "             -8.68797302e-03, -8.85665417e-03, -9.01257992e-03,\n",
       "             -9.15759802e-03, -9.29325819e-03, -9.42087173e-03,\n",
       "             -9.54121351e-03, -9.65499878e-03, -9.76294279e-03,\n",
       "             -9.86540318e-03, -9.96303558e-03, -1.00561976e-02,\n",
       "             -1.01450682e-02, -1.02299452e-02, -1.03112459e-02,\n",
       "             -1.03891492e-02, -1.04637742e-02, -1.05353594e-02,\n",
       "             -1.06041431e-02, -1.06702447e-02, -1.07337236e-02,\n",
       "             -1.07948780e-02, -1.08537078e-02, -1.09103322e-02,\n",
       "             -1.09648705e-02, -1.10172629e-02, -1.10679269e-02,\n",
       "             -1.11166835e-02, -1.11635923e-02, -1.12089515e-02,\n",
       "             -1.12526417e-02, -1.12947822e-02, -1.13353729e-02,\n",
       "             -1.13745332e-02, -1.14122629e-02, -1.14488602e-02,\n",
       "             -1.14839077e-02, -1.15178227e-02, -1.15504861e-02,\n",
       "             -1.15819573e-02, -1.16122365e-02, -1.16415024e-02,\n",
       "             -1.16696358e-02, -1.16966963e-02, -1.17227435e-02,\n",
       "             -1.17477775e-02, -1.17719173e-02, -1.17950439e-02,\n",
       "             -1.18173361e-02, -1.18386149e-02, -1.18590593e-02,\n",
       "             -1.18787289e-02, -1.18975043e-02, -1.19155049e-02,\n",
       "             -1.19326115e-02, -1.19490027e-02, -1.19645000e-02,\n",
       "             -1.19794011e-02, -1.19934678e-02, -1.20068192e-02,\n",
       "             -1.20195150e-02, -1.20313168e-02, -1.20425820e-02,\n",
       "             -1.20531917e-02, -1.20630264e-02, -1.20721459e-02,\n",
       "             -1.20806694e-02, -1.20884776e-02, -1.20958090e-02,\n",
       "             -1.21023059e-02, -1.21082664e-02, -1.21135712e-02,\n",
       "             -1.21182203e-02, -1.21222734e-02, -1.21256113e-02,\n",
       "             -1.21285319e-02, -1.21306777e-02, -1.21322274e-02,\n",
       "             -1.21331811e-02, -1.21335983e-02, -1.21333003e-02,\n",
       "             -1.21324062e-02, -1.21309161e-02, -1.21287704e-02,\n",
       "             -1.21260881e-02, -1.21228099e-02, -1.21188164e-02,\n",
       "             -1.21142864e-02, -1.21090412e-02, -1.21032000e-02,\n",
       "             -1.20967627e-02, -1.20896101e-02, -1.20818019e-02,\n",
       "             -1.20733380e-02, -1.20643377e-02, -1.20546222e-02,\n",
       "             -1.20441318e-02, -1.20329857e-02, -1.20211840e-02,\n",
       "             -1.20086670e-02, -1.19954348e-02, -1.19814277e-02,\n",
       "             -1.19667053e-02, -1.19512081e-02, -1.19349360e-02,\n",
       "             -1.19179487e-02, -1.19000077e-02, -1.18814111e-02,\n",
       "             -1.18619204e-02, -1.18415952e-02, -1.18203759e-02,\n",
       "             -1.17982030e-02, -1.17751956e-02, -1.17511749e-02,\n",
       "             -1.17262602e-02, -1.17002726e-02, -1.16733313e-02,\n",
       "             -1.16453767e-02, -1.16162896e-02, -1.15860105e-02,\n",
       "             -1.15547180e-02, -1.15221739e-02, -1.14883780e-02,\n",
       "             -1.14533901e-02, -1.14170909e-02, -1.13794208e-02,\n",
       "             -1.13403201e-02, -1.12998486e-02, -1.12578869e-02,\n",
       "             -1.12141967e-02, -1.11690760e-02, -1.11222267e-02,\n",
       "             -1.10735297e-02, -1.10229850e-02, -1.09706521e-02,\n",
       "             -1.09161735e-02, -1.08596683e-02, -1.08009577e-02,\n",
       "             -1.07398629e-02, -1.06763244e-02, -1.06102824e-02,\n",
       "             -1.05415583e-02, -1.04699135e-02, -1.03952289e-02,\n",
       "             -1.03172660e-02, -1.02359653e-02, -1.01509094e-02,\n",
       "             -1.00619197e-02, -9.96863842e-03, -9.87076759e-03,\n",
       "             -9.76800919e-03, -9.65964794e-03, -9.54544544e-03,\n",
       "             -9.42462683e-03, -9.29647684e-03, -9.16010141e-03,\n",
       "             -9.01424885e-03, -8.85736942e-03, -8.68737698e-03,\n",
       "             -8.50123167e-03, -8.29327106e-03, -8.01855326e-03,\n",
       "             -7.60501623e-03, -7.12358952e-03, -6.60061836e-03,\n",
       "             -6.05159998e-03, -5.48756123e-03, -4.91780043e-03,\n",
       "             -4.34970856e-03, -3.79014015e-03, -3.24523449e-03,\n",
       "             -2.72071362e-03, -2.22229958e-03, -1.75541639e-03,\n",
       "             -1.32578611e-03, -9.39309597e-04, -6.03020191e-04,\n",
       "             -3.25024128e-04, -1.17003918e-04, -2.98023224e-06,\n",
       "             -3.15904617e-05, -1.82926655e-04, -4.14013863e-04,\n",
       "             -7.08580017e-04, -1.05732679e-03, -1.45256519e-03,\n",
       "             -1.88833475e-03, -2.35897303e-03, -2.85905600e-03,\n",
       "             -3.38327885e-03, -3.92633677e-03, -4.48244810e-03,\n",
       "             -5.04565239e-03, -5.60915470e-03, -6.16532564e-03,\n",
       "             -6.70510530e-03, -7.21687078e-03, -7.68429041e-03,\n",
       "             -8.07774067e-03, -8.32849741e-03, -8.53079557e-03,\n",
       "             -8.71294737e-03, -8.87960196e-03, -9.03391838e-03,\n",
       "             -9.17750597e-03, -9.31203365e-03, -9.43851471e-03,\n",
       "             -9.55778360e-03, -9.67079401e-03, -9.77784395e-03,\n",
       "             -9.87970829e-03, -9.97668505e-03, -1.00691319e-02,\n",
       "             -1.01573467e-02, -1.02417469e-02, -1.03225708e-02,\n",
       "             -1.03999972e-02, -1.04742646e-02, -1.05453730e-02,\n",
       "             -1.06137991e-02, -1.06794834e-02, -1.07426643e-02,\n",
       "             -1.08034611e-02, -1.08618736e-02, -1.09182000e-02,\n",
       "             -1.09724402e-02, -1.10246539e-02, -1.10749602e-02,\n",
       "             -1.11234784e-02, -1.11702085e-02, -1.12152696e-02,\n",
       "             -1.12587214e-02, -1.13006830e-02, -1.13410354e-02,\n",
       "             -1.13800764e-02, -1.14176869e-02, -1.14538670e-02,\n",
       "             -1.14887953e-02, -1.15225911e-02, -1.15549564e-02,\n",
       "             -1.15863085e-02, -1.16165280e-02, -1.16455555e-02,\n",
       "             -1.16735697e-02, -1.17005110e-02, -1.17263198e-02,\n",
       "             -1.17513537e-02, -1.17752552e-02, -1.17982626e-02,\n",
       "             -1.18203759e-02, -1.18416548e-02, -1.18619800e-02,\n",
       "             -1.18814707e-02, -1.19001269e-02, -1.19179487e-02,\n",
       "             -1.19349957e-02, -1.19512081e-02, -1.19667053e-02,\n",
       "             -1.19814277e-02, -1.19954348e-02, -1.20086670e-02,\n",
       "             -1.20211840e-02, -1.20329857e-02, -1.20441318e-02,\n",
       "             -1.20546222e-02, -1.20643377e-02, -1.20734572e-02,\n",
       "             -1.20818019e-02, -1.20896101e-02, -1.20967627e-02,\n",
       "             -1.21032000e-02, -1.21090412e-02, -1.21142864e-02,\n",
       "             -1.21188164e-02, -1.21228099e-02, -1.21260881e-02,\n",
       "             -1.21287704e-02, -1.21309161e-02, -1.21324062e-02,\n",
       "             -1.21333003e-02, -1.21335983e-02, -1.21331811e-02,\n",
       "             -1.21322274e-02, -1.21306777e-02, -1.21285319e-02,\n",
       "             -1.21256113e-02, -1.21222734e-02, -1.21182203e-02,\n",
       "             -1.21135712e-02, -1.21082664e-02, -1.21023059e-02,\n",
       "             -1.20958090e-02, -1.20884776e-02, -1.20806694e-02,\n",
       "             -1.20721459e-02, -1.20630264e-02, -1.20531917e-02,\n",
       "             -1.20425820e-02, -1.20313168e-02, -1.20195150e-02,\n",
       "             -1.20068192e-02, -1.19934678e-02, -1.19793415e-02,\n",
       "             -1.19645596e-02, -1.19488835e-02, -1.19325519e-02,\n",
       "             -1.19154453e-02, -1.18975043e-02, -1.18786693e-02,\n",
       "             -1.18590593e-02, -1.18386149e-02, -1.18172169e-02,\n",
       "             -1.17949843e-02, -1.17718577e-02, -1.17477179e-02,\n",
       "             -1.17225647e-02, -1.16965175e-02, -1.16693974e-02,\n",
       "             -1.16412640e-02, -1.16119981e-02, -1.15816593e-02,\n",
       "             -1.15501285e-02, -1.15174055e-02, -1.14835501e-02,\n",
       "             -1.14483237e-02, -1.14117265e-02, -1.13739371e-02,\n",
       "             -1.13346577e-02, -1.12938881e-02, -1.12516880e-02,\n",
       "             -1.12078786e-02, -1.11625195e-02, -1.11153126e-02,\n",
       "             -1.10663772e-02, -1.10156536e-02, -1.09629631e-02,\n",
       "             -1.09081864e-02, -1.08513832e-02, -1.07923746e-02,\n",
       "             -1.07309818e-02, -1.06670856e-02, -1.06006861e-02,\n",
       "             -1.05314851e-02, -1.04594231e-02, -1.03842616e-02,\n",
       "             -1.03059411e-02, -1.02240443e-02, -1.01383924e-02,\n",
       "             -1.00488663e-02, -9.95498896e-03, -9.85646248e-03,\n",
       "             -9.75281000e-03, -9.64379311e-03, -9.52863693e-03,\n",
       "             -9.40680504e-03, -9.27752256e-03, -9.13983583e-03,\n",
       "             -8.99249315e-03, -8.83394480e-03, -8.66180658e-03,\n",
       "             -8.47297907e-03, -8.26120377e-03, -7.96532631e-03,\n",
       "             -7.53957033e-03, -7.05099106e-03, -6.52354956e-03,\n",
       "             -5.97167015e-03, -5.40643930e-03, -4.83632088e-03,\n",
       "             -4.26918268e-03, -3.71122360e-03, -3.16894054e-03,\n",
       "             -2.64787674e-03, -2.15357542e-03, -1.69157982e-03,\n",
       "             -1.26779079e-03, -8.88049603e-04, -5.59508801e-04,\n",
       "             -2.90691853e-04, -9.39965248e-05, -4.72068787e-05,\n",
       "             -2.11536884e-04, -4.52458858e-04, -7.55369663e-04,\n",
       "             -1.11109018e-03, -1.51252747e-03, -1.95354223e-03,\n",
       "             -2.42871046e-03, -2.93260813e-03, -3.45993042e-03,\n",
       "             -4.00519371e-03, -4.56273556e-03, -5.12629747e-03,\n",
       "             -5.68914413e-03, -6.24364614e-03, -6.78020716e-03,\n",
       "             -7.28690624e-03, -7.74604082e-03, -8.12393427e-03,\n",
       "             -8.35889578e-03, -8.55791569e-03, -8.73762369e-03,\n",
       "             -8.90243053e-03, -9.05501842e-03, -9.19723511e-03,\n",
       "             -9.33057070e-03, -9.45591927e-03, -9.57435369e-03,\n",
       "             -9.68647003e-03, -9.79280472e-03, -9.89389420e-03,\n",
       "             -9.99015570e-03, -1.00820065e-02, -1.01696849e-02,\n",
       "             -1.02535486e-02, -1.03338361e-02, -1.04107261e-02,\n",
       "             -1.04845762e-02, -1.05552673e-02, -1.06232762e-02,\n",
       "             -1.06886029e-02, -1.07514262e-02, -1.08119845e-02,\n",
       "             -1.08700991e-02, -1.09260678e-02, -1.09799504e-02,\n",
       "             -1.10319257e-02, -1.10819340e-02, -1.11302733e-02,\n",
       "             -1.11767650e-02, -1.12215877e-02, -1.12648010e-02,\n",
       "             -1.13064647e-02, -1.13466978e-02, -1.13854408e-02,\n",
       "             -1.14228725e-02, -1.14589334e-02, -1.14937425e-02,\n",
       "             -1.15272403e-02, -1.15596056e-02, -1.15907192e-02,\n",
       "             -1.16206408e-02, -1.16496086e-02, -1.16774440e-02,\n",
       "             -1.17042661e-02, -1.17300153e-02, -1.17548108e-02,\n",
       "             -1.17786527e-02, -1.18015409e-02, -1.18234754e-02,\n",
       "             -1.18445754e-02, -1.18648410e-02, -1.18842125e-02,\n",
       "             -1.19026899e-02, -1.19204521e-02, -1.19373798e-02,\n",
       "             -1.19534731e-02, -1.19689107e-02, -1.19834542e-02,\n",
       "             -1.19973421e-02, -1.20105147e-02, -1.20229125e-02,\n",
       "             -1.20346546e-02, -1.20456219e-02, -1.20560527e-02,\n",
       "             -1.20656490e-02, -1.20747089e-02, -1.20829940e-02,\n",
       "             -1.20906234e-02, -1.20975971e-02, -1.21040940e-02,\n",
       "             -1.21098161e-02, -1.21149421e-02, -1.21194720e-02,\n",
       "             -1.21232271e-02, -1.21266246e-02, -1.21291280e-02,\n",
       "             -1.21312141e-02, -1.21325850e-02, -1.21334195e-02,\n",
       "             -1.21335387e-02, -1.21331215e-02, -1.21320486e-02,\n",
       "             -1.21303797e-02, -1.21281147e-02, -1.21251941e-02,\n",
       "             -1.21217370e-02, -1.21176243e-02, -1.21128559e-02,\n",
       "             -1.21074319e-02, -1.21014714e-02, -1.20947361e-02,\n",
       "             -1.20874643e-02, -1.20795369e-02, -1.20708346e-02,\n",
       "             -1.20615959e-02, -1.20516419e-02, -1.20410323e-02,\n",
       "             -1.20296478e-02, -1.20177269e-02, -1.20049119e-02,\n",
       "             -1.19915009e-02, -1.19773149e-02, -1.19624138e-02,\n",
       "             -1.19466186e-02, -1.19301677e-02, -1.19129419e-02,\n",
       "             -1.18948221e-02, -1.18759274e-02, -1.18562579e-02,\n",
       "             -1.18356347e-02, -1.18140578e-02, -1.17917061e-02,\n",
       "             -1.17684603e-02, -1.17442012e-02, -1.17189884e-02,\n",
       "             -1.16927028e-02, -1.16654634e-02, -1.16371512e-02,\n",
       "             -1.16077662e-02, -1.15771890e-02, -1.15455389e-02,\n",
       "             -1.15126371e-02, -1.14785433e-02, -1.14431977e-02,\n",
       "             -1.14065409e-02, -1.13683939e-02, -1.13288760e-02,\n",
       "             -1.12879872e-02, -1.12455487e-02, -1.12015009e-02,\n",
       "             -1.11558437e-02, -1.11084580e-02, -1.10592842e-02,\n",
       "             -1.10082030e-02, -1.09552145e-02, -1.09002590e-02,\n",
       "             -1.08430982e-02, -1.07836723e-02, -1.07219815e-02,\n",
       "             -1.06577873e-02, -1.05909109e-02, -1.05214119e-02,\n",
       "             -1.04488730e-02, -1.03733540e-02, -1.02943778e-02,\n",
       "             -1.02120042e-02, -1.01258755e-02, -1.00356340e-02,\n",
       "             -9.94116068e-03, -9.84191895e-03, -9.73761082e-03,\n",
       "             -9.62769985e-03, -9.51170921e-03, -9.38886404e-03,\n",
       "             -9.25838947e-03, -9.11939144e-03, -8.97055864e-03,\n",
       "             -8.81016254e-03, -8.63593817e-03, -8.44436884e-03,\n",
       "             -8.22842121e-03, -7.90989399e-03, -7.47299194e-03,\n",
       "             -6.97761774e-03, -6.44588470e-03, -5.89150190e-03,\n",
       "             -5.32501936e-03, -4.75490093e-03, -4.18871641e-03,\n",
       "             -3.63266468e-03, -3.09306383e-03, -2.57539749e-03,\n",
       "             -2.08544731e-03, -1.62863731e-03, -1.21068954e-03,\n",
       "             -8.37743282e-04, -5.17249107e-04, -2.57730484e-04,\n",
       "             -7.29560852e-05], dtype=float32)"
      ]
     },
     "execution_count": 98,
     "metadata": {},
     "output_type": "execute_result"
    }
   ],
   "source": [
    "res_2"
   ]
  },
  {
   "cell_type": "code",
   "execution_count": 78,
   "id": "4e1fb737",
   "metadata": {},
   "outputs": [],
   "source": [
    "u = np.array([0.4,0.26])"
   ]
  },
  {
   "cell_type": "code",
   "execution_count": 61,
   "id": "de166b5d",
   "metadata": {},
   "outputs": [],
   "source": [
    "res = light_curve(u, ld_b, ro)"
   ]
  },
  {
   "cell_type": "code",
   "execution_count": 66,
   "id": "7f984d41",
   "metadata": {},
   "outputs": [],
   "source": [
    "res = np.array(res)"
   ]
  },
  {
   "cell_type": "code",
   "execution_count": 76,
   "id": "c0e25e8e",
   "metadata": {},
   "outputs": [
    {
     "data": {
      "text/plain": [
       "True"
      ]
     },
     "execution_count": 76,
     "metadata": {},
     "output_type": "execute_result"
    }
   ],
   "source": [
    "np.allclose(quad_res, ld_x.flatten())"
   ]
  },
  {
   "cell_type": "code",
   "execution_count": 73,
   "id": "6b59f23c",
   "metadata": {},
   "outputs": [],
   "source": [
    "from jaxoplanet._src.core.quad import light_curve"
   ]
  },
  {
   "cell_type": "code",
   "execution_count": 74,
   "id": "90ebc1f1",
   "metadata": {},
   "outputs": [],
   "source": [
    "quad_res = light_curve(0.4, 0.26, ld_b, ro)"
   ]
  },
  {
   "cell_type": "code",
   "execution_count": 75,
   "id": "4b46f40b",
   "metadata": {},
   "outputs": [],
   "source": [
    "quad_res = np.array(quad_res) + 1"
   ]
  },
  {
   "cell_type": "code",
   "execution_count": 69,
   "id": "920b7769",
   "metadata": {},
   "outputs": [
    {
     "data": {
      "text/plain": [
       "array([[0.999992  ],\n",
       "       [0.99986955],\n",
       "       [0.99965909],\n",
       "       [0.99938145],\n",
       "       [0.99904741],\n",
       "       [0.99866477],\n",
       "       [0.99823996],\n",
       "       [0.99777874],\n",
       "       [0.99728652],\n",
       "       [0.99676862],\n",
       "       [0.99623041],\n",
       "       [0.99567743],\n",
       "       [0.99511564],\n",
       "       [0.99455151],\n",
       "       [0.99399238],\n",
       "       [0.99344689],\n",
       "       [0.99292574],\n",
       "       [0.99244351],\n",
       "       [0.99202402],\n",
       "       [0.99173426],\n",
       "       [0.99152462],\n",
       "       [0.99133737],\n",
       "       [0.99116659],\n",
       "       [0.99100905],\n",
       "       [0.99086256],\n",
       "       [0.99072557],\n",
       "       [0.99059689],\n",
       "       [0.99047558],\n",
       "       [0.99036088],\n",
       "       [0.99025215],\n",
       "       [0.99014887],\n",
       "       [0.99005058],\n",
       "       [0.98995688],\n",
       "       [0.98986744],\n",
       "       [0.98978196],\n",
       "       [0.98970017],\n",
       "       [0.98962182],\n",
       "       [0.98954672],\n",
       "       [0.98947467],\n",
       "       [0.98940549],\n",
       "       [0.98933904],\n",
       "       [0.98927515],\n",
       "       [0.98921371],\n",
       "       [0.9891546 ],\n",
       "       [0.98909769],\n",
       "       [0.98904289],\n",
       "       [0.98899011],\n",
       "       [0.98893926],\n",
       "       [0.98889024],\n",
       "       [0.988843  ],\n",
       "       [0.98879745],\n",
       "       [0.98875354],\n",
       "       [0.98871119],\n",
       "       [0.98867035],\n",
       "       [0.98863096],\n",
       "       [0.98859298],\n",
       "       [0.98855635],\n",
       "       [0.98852104],\n",
       "       [0.98848699],\n",
       "       [0.98845416],\n",
       "       [0.98842252],\n",
       "       [0.98839203],\n",
       "       [0.98836266],\n",
       "       [0.98833438],\n",
       "       [0.98830715],\n",
       "       [0.98828094],\n",
       "       [0.98825573],\n",
       "       [0.98823149],\n",
       "       [0.98820819],\n",
       "       [0.98818582],\n",
       "       [0.98816435],\n",
       "       [0.98814376],\n",
       "       [0.98812403],\n",
       "       [0.98810514],\n",
       "       [0.98808707],\n",
       "       [0.98806981],\n",
       "       [0.98805334],\n",
       "       [0.98803764],\n",
       "       [0.98802271],\n",
       "       [0.98800852],\n",
       "       [0.98799506],\n",
       "       [0.98798233],\n",
       "       [0.98797031],\n",
       "       [0.98795899],\n",
       "       [0.98794835],\n",
       "       [0.9879384 ],\n",
       "       [0.98792913],\n",
       "       [0.98792051],\n",
       "       [0.98791256],\n",
       "       [0.98790525],\n",
       "       [0.98789859],\n",
       "       [0.98789257],\n",
       "       [0.98788718],\n",
       "       [0.98788242],\n",
       "       [0.98787829],\n",
       "       [0.98787478],\n",
       "       [0.98787188],\n",
       "       [0.98786961],\n",
       "       [0.98786794],\n",
       "       [0.98786689],\n",
       "       [0.98786646],\n",
       "       [0.98786663],\n",
       "       [0.98786742],\n",
       "       [0.98786882],\n",
       "       [0.98787083],\n",
       "       [0.98787346],\n",
       "       [0.98787671],\n",
       "       [0.98788057],\n",
       "       [0.98788507],\n",
       "       [0.98789018],\n",
       "       [0.98789593],\n",
       "       [0.98790232],\n",
       "       [0.98790935],\n",
       "       [0.98791702],\n",
       "       [0.98792536],\n",
       "       [0.98793435],\n",
       "       [0.98794401],\n",
       "       [0.98795435],\n",
       "       [0.98796537],\n",
       "       [0.9879771 ],\n",
       "       [0.98798953],\n",
       "       [0.98800267],\n",
       "       [0.98801655],\n",
       "       [0.98803117],\n",
       "       [0.98804654],\n",
       "       [0.98806268],\n",
       "       [0.98807961],\n",
       "       [0.98809733],\n",
       "       [0.98811588],\n",
       "       [0.98813525],\n",
       "       [0.98815548],\n",
       "       [0.98817658],\n",
       "       [0.98819858],\n",
       "       [0.98822149],\n",
       "       [0.98824534],\n",
       "       [0.98827015],\n",
       "       [0.98829595],\n",
       "       [0.98832277],\n",
       "       [0.98835063],\n",
       "       [0.98837956],\n",
       "       [0.9884096 ],\n",
       "       [0.98844078],\n",
       "       [0.98847314],\n",
       "       [0.98850672],\n",
       "       [0.98854154],\n",
       "       [0.98857767],\n",
       "       [0.98861514],\n",
       "       [0.988654  ],\n",
       "       [0.9886943 ],\n",
       "       [0.98873609],\n",
       "       [0.98877944],\n",
       "       [0.98882441],\n",
       "       [0.98887105],\n",
       "       [0.98891945],\n",
       "       [0.98896968],\n",
       "       [0.98902181],\n",
       "       [0.98907594],\n",
       "       [0.98913216],\n",
       "       [0.98919057],\n",
       "       [0.98925128],\n",
       "       [0.98931441],\n",
       "       [0.98938009],\n",
       "       [0.98944846],\n",
       "       [0.98951968],\n",
       "       [0.98959392],\n",
       "       [0.98967137],\n",
       "       [0.98975223],\n",
       "       [0.98983674],\n",
       "       [0.98992516],\n",
       "       [0.99001779],\n",
       "       [0.99011495],\n",
       "       [0.99021704],\n",
       "       [0.99032449],\n",
       "       [0.99043783],\n",
       "       [0.99055766],\n",
       "       [0.99068472],\n",
       "       [0.99081991],\n",
       "       [0.99096436],\n",
       "       [0.99111955],\n",
       "       [0.99128747],\n",
       "       [0.99147108],\n",
       "       [0.99167535],\n",
       "       [0.99193107],\n",
       "       [0.99233094],\n",
       "       [0.99280465],\n",
       "       [0.99332278],\n",
       "       [0.99386889],\n",
       "       [0.99443131],\n",
       "       [0.99500079],\n",
       "       [0.99556954],\n",
       "       [0.99613071],\n",
       "       [0.99667808],\n",
       "       [0.99720582],\n",
       "       [0.99770832],\n",
       "       [0.99818007],\n",
       "       [0.99861541],\n",
       "       [0.99900839],\n",
       "       [0.99935234],\n",
       "       [0.99963927],\n",
       "       [0.99985824],\n",
       "       [0.99998875],\n",
       "       [0.99998163],\n",
       "       [0.99984417],\n",
       "       [0.99962324],\n",
       "       [0.99933698],\n",
       "       [0.99899557],\n",
       "       [0.99860653],\n",
       "       [0.99817617],\n",
       "       [0.99771019],\n",
       "       [0.99721398],\n",
       "       [0.99669285],\n",
       "       [0.99615218],\n",
       "       [0.99559757],\n",
       "       [0.99503503],\n",
       "       [0.99447114],\n",
       "       [0.9939134 ],\n",
       "       [0.99337066],\n",
       "       [0.99285406],\n",
       "       [0.99237897],\n",
       "       [0.99197178],\n",
       "       [0.99170255],\n",
       "       [0.99149669],\n",
       "       [0.99131205],\n",
       "       [0.99114334],\n",
       "       [0.99098748],\n",
       "       [0.99084244],\n",
       "       [0.9907067 ],\n",
       "       [0.99057913],\n",
       "       [0.99045881],\n",
       "       [0.99034499],\n",
       "       [0.99023708],\n",
       "       [0.99013453],\n",
       "       [0.99003692],\n",
       "       [0.98994385],\n",
       "       [0.989855  ],\n",
       "       [0.98977005],\n",
       "       [0.98968877],\n",
       "       [0.9896109 ],\n",
       "       [0.98953625],\n",
       "       [0.98946462],\n",
       "       [0.98939584],\n",
       "       [0.98932976],\n",
       "       [0.98926623],\n",
       "       [0.98920513],\n",
       "       [0.98914633],\n",
       "       [0.98908974],\n",
       "       [0.98903523],\n",
       "       [0.98898273],\n",
       "       [0.98893214],\n",
       "       [0.98888339],\n",
       "       [0.98883639],\n",
       "       [0.98879108],\n",
       "       [0.98874739],\n",
       "       [0.98870526],\n",
       "       [0.98866463],\n",
       "       [0.98862545],\n",
       "       [0.98858767],\n",
       "       [0.98855123],\n",
       "       [0.9885161 ],\n",
       "       [0.98848222],\n",
       "       [0.98844957],\n",
       "       [0.9884181 ],\n",
       "       [0.98838777],\n",
       "       [0.98835856],\n",
       "       [0.98833042],\n",
       "       [0.98830334],\n",
       "       [0.98827728],\n",
       "       [0.98825221],\n",
       "       [0.9882281 ],\n",
       "       [0.98820494],\n",
       "       [0.9881827 ],\n",
       "       [0.98816136],\n",
       "       [0.98814089],\n",
       "       [0.98812128],\n",
       "       [0.98810251],\n",
       "       [0.98808456],\n",
       "       [0.98806741],\n",
       "       [0.98805105],\n",
       "       [0.98803546],\n",
       "       [0.98802064],\n",
       "       [0.98800655],\n",
       "       [0.9879932 ],\n",
       "       [0.98798057],\n",
       "       [0.98796865],\n",
       "       [0.98795742],\n",
       "       [0.98794689],\n",
       "       [0.98793704],\n",
       "       [0.98792786],\n",
       "       [0.98791934],\n",
       "       [0.98791147],\n",
       "       [0.98790426],\n",
       "       [0.98789769],\n",
       "       [0.98789176],\n",
       "       [0.98788646],\n",
       "       [0.98788179],\n",
       "       [0.98787775],\n",
       "       [0.98787433],\n",
       "       [0.98787152],\n",
       "       [0.98786933],\n",
       "       [0.98786776],\n",
       "       [0.98786679],\n",
       "       [0.98786645],\n",
       "       [0.98786671],\n",
       "       [0.98786758],\n",
       "       [0.98786907],\n",
       "       [0.98787117],\n",
       "       [0.98787389],\n",
       "       [0.98787722],\n",
       "       [0.98788118],\n",
       "       [0.98788576],\n",
       "       [0.98789097],\n",
       "       [0.98789681],\n",
       "       [0.98790328],\n",
       "       [0.9879104 ],\n",
       "       [0.98791817],\n",
       "       [0.9879266 ],\n",
       "       [0.98793569],\n",
       "       [0.98794544],\n",
       "       [0.98795588],\n",
       "       [0.98796701],\n",
       "       [0.98797883],\n",
       "       [0.98799136],\n",
       "       [0.98800461],\n",
       "       [0.98801859],\n",
       "       [0.98803332],\n",
       "       [0.9880488 ],\n",
       "       [0.98806505],\n",
       "       [0.98808209],\n",
       "       [0.98809993],\n",
       "       [0.98811859],\n",
       "       [0.98813809],\n",
       "       [0.98815844],\n",
       "       [0.98817967],\n",
       "       [0.9882018 ],\n",
       "       [0.98822484],\n",
       "       [0.98824882],\n",
       "       [0.98827377],\n",
       "       [0.98829972],\n",
       "       [0.98832668],\n",
       "       [0.98835469],\n",
       "       [0.98838378],\n",
       "       [0.98841399],\n",
       "       [0.98844533],\n",
       "       [0.98847786],\n",
       "       [0.98851161],\n",
       "       [0.98854662],\n",
       "       [0.98858294],\n",
       "       [0.9886206 ],\n",
       "       [0.98865966],\n",
       "       [0.98870017],\n",
       "       [0.98874219],\n",
       "       [0.98878577],\n",
       "       [0.98883097],\n",
       "       [0.98887786],\n",
       "       [0.98892651],\n",
       "       [0.98897701],\n",
       "       [0.98902942],\n",
       "       [0.98908384],\n",
       "       [0.98914037],\n",
       "       [0.9891991 ],\n",
       "       [0.98926015],\n",
       "       [0.98932363],\n",
       "       [0.98938969],\n",
       "       [0.98945846],\n",
       "       [0.9895301 ],\n",
       "       [0.98960479],\n",
       "       [0.98968271],\n",
       "       [0.98976407],\n",
       "       [0.98984913],\n",
       "       [0.98993813],\n",
       "       [0.99003138],\n",
       "       [0.99012922],\n",
       "       [0.99023205],\n",
       "       [0.99034031],\n",
       "       [0.99045453],\n",
       "       [0.99057535],\n",
       "       [0.99070351],\n",
       "       [0.99083995],\n",
       "       [0.99098583],\n",
       "       [0.9911427 ],\n",
       "       [0.99131266],\n",
       "       [0.99149884],\n",
       "       [0.99170673],\n",
       "       [0.99198155],\n",
       "       [0.99239504],\n",
       "       [0.99287641],\n",
       "       [0.99339939],\n",
       "       [0.99394848],\n",
       "       [0.99451243],\n",
       "       [0.99508226],\n",
       "       [0.99565032],\n",
       "       [0.99620989],\n",
       "       [0.99675481],\n",
       "       [0.99727928],\n",
       "       [0.99777773],\n",
       "       [0.99824462],\n",
       "       [0.99867429],\n",
       "       [0.99906069],\n",
       "       [0.99939703],\n",
       "       [0.99967503],\n",
       "       [0.99988303],\n",
       "       [0.99999703],\n",
       "       [0.99996844],\n",
       "       [0.99981713],\n",
       "       [0.99958606],\n",
       "       [0.99929139],\n",
       "       [0.99894275],\n",
       "       [0.99854744],\n",
       "       [0.99811166],\n",
       "       [0.99764103],\n",
       "       [0.99714094],\n",
       "       [0.99661668],\n",
       "       [0.99607367],\n",
       "       [0.99551755],\n",
       "       [0.99495439],\n",
       "       [0.9943909 ],\n",
       "       [0.99383472],\n",
       "       [0.99329497],\n",
       "       [0.9927832 ],\n",
       "       [0.99231577],\n",
       "       [0.99192226],\n",
       "       [0.99167151],\n",
       "       [0.99146918],\n",
       "       [0.99128706],\n",
       "       [0.99112034],\n",
       "       [0.99096614],\n",
       "       [0.99082251],\n",
       "       [0.990688  ],\n",
       "       [0.99056151],\n",
       "       [0.99044216],\n",
       "       [0.99032923],\n",
       "       [0.99022211],\n",
       "       [0.9901203 ],\n",
       "       [0.99002335],\n",
       "       [0.98993091],\n",
       "       [0.98984263],\n",
       "       [0.98975822],\n",
       "       [0.98967744],\n",
       "       [0.98960004],\n",
       "       [0.98952583],\n",
       "       [0.98945462],\n",
       "       [0.98938624],\n",
       "       [0.98932053],\n",
       "       [0.98925735],\n",
       "       [0.98919659],\n",
       "       [0.98913812],\n",
       "       [0.98908182],\n",
       "       [0.98902761],\n",
       "       [0.98897539],\n",
       "       [0.98892507],\n",
       "       [0.98887657],\n",
       "       [0.98882982],\n",
       "       [0.98878474],\n",
       "       [0.98874128],\n",
       "       [0.98869937],\n",
       "       [0.98865895],\n",
       "       [0.98861997],\n",
       "       [0.98858238],\n",
       "       [0.98854613],\n",
       "       [0.98851118],\n",
       "       [0.98847748],\n",
       "       [0.988445  ],\n",
       "       [0.9884137 ],\n",
       "       [0.98838353],\n",
       "       [0.98835447],\n",
       "       [0.98832649],\n",
       "       [0.98829955],\n",
       "       [0.98827363],\n",
       "       [0.9882487 ],\n",
       "       [0.98822474],\n",
       "       [0.98820171],\n",
       "       [0.9881796 ],\n",
       "       [0.98815838],\n",
       "       [0.98813804],\n",
       "       [0.98811855],\n",
       "       [0.9880999 ],\n",
       "       [0.98808206],\n",
       "       [0.98806503],\n",
       "       [0.98804878],\n",
       "       [0.9880333 ],\n",
       "       [0.98801858],\n",
       "       [0.9880046 ],\n",
       "       [0.98799135],\n",
       "       [0.98797882],\n",
       "       [0.987967  ],\n",
       "       [0.98795588],\n",
       "       [0.98794544],\n",
       "       [0.98793568],\n",
       "       [0.9879266 ],\n",
       "       [0.98791817],\n",
       "       [0.9879104 ],\n",
       "       [0.98790328],\n",
       "       [0.98789681],\n",
       "       [0.98789097],\n",
       "       [0.98788576],\n",
       "       [0.98788118],\n",
       "       [0.98787722],\n",
       "       [0.98787389],\n",
       "       [0.98787117],\n",
       "       [0.98786907],\n",
       "       [0.98786758],\n",
       "       [0.98786671],\n",
       "       [0.98786645],\n",
       "       [0.98786679],\n",
       "       [0.98786776],\n",
       "       [0.98786933],\n",
       "       [0.98787152],\n",
       "       [0.98787433],\n",
       "       [0.98787775],\n",
       "       [0.98788179],\n",
       "       [0.98788646],\n",
       "       [0.98789176],\n",
       "       [0.98789769],\n",
       "       [0.98790426],\n",
       "       [0.98791147],\n",
       "       [0.98791934],\n",
       "       [0.98792786],\n",
       "       [0.98793704],\n",
       "       [0.98794689],\n",
       "       [0.98795743],\n",
       "       [0.98796865],\n",
       "       [0.98798058],\n",
       "       [0.98799321],\n",
       "       [0.98800656],\n",
       "       [0.98802065],\n",
       "       [0.98803548],\n",
       "       [0.98805107],\n",
       "       [0.98806744],\n",
       "       [0.98808459],\n",
       "       [0.98810255],\n",
       "       [0.98812133],\n",
       "       [0.98814094],\n",
       "       [0.98816142],\n",
       "       [0.98818278],\n",
       "       [0.98820503],\n",
       "       [0.98822821],\n",
       "       [0.98825233],\n",
       "       [0.98827742],\n",
       "       [0.98830351],\n",
       "       [0.98833062],\n",
       "       [0.98835878],\n",
       "       [0.98838803],\n",
       "       [0.98841839],\n",
       "       [0.98844991],\n",
       "       [0.98848261],\n",
       "       [0.98851654],\n",
       "       [0.98855173],\n",
       "       [0.98858824],\n",
       "       [0.9886261 ],\n",
       "       [0.98866536],\n",
       "       [0.98870608],\n",
       "       [0.98874832],\n",
       "       [0.98879212],\n",
       "       [0.98883756],\n",
       "       [0.9888847 ],\n",
       "       [0.98893361],\n",
       "       [0.98898437],\n",
       "       [0.98903707],\n",
       "       [0.98909178],\n",
       "       [0.98914862],\n",
       "       [0.98920767],\n",
       "       [0.98926906],\n",
       "       [0.98933291],\n",
       "       [0.98939934],\n",
       "       [0.98946852],\n",
       "       [0.98954058],\n",
       "       [0.98961571],\n",
       "       [0.98969411],\n",
       "       [0.98977599],\n",
       "       [0.98986159],\n",
       "       [0.98995118],\n",
       "       [0.99004507],\n",
       "       [0.9901436 ],\n",
       "       [0.99024717],\n",
       "       [0.99035625],\n",
       "       [0.99047137],\n",
       "       [0.99059319],\n",
       "       [0.99072247],\n",
       "       [0.99086018],\n",
       "       [0.99100753],\n",
       "       [0.99116612],\n",
       "       [0.99133817],\n",
       "       [0.99152703],\n",
       "       [0.9917388 ],\n",
       "       [0.99203472],\n",
       "       [0.99246047],\n",
       "       [0.992949  ],\n",
       "       [0.99347653],\n",
       "       [0.99402836],\n",
       "       [0.99459366],\n",
       "       [0.99516368],\n",
       "       [0.99573093],\n",
       "       [0.99628877],\n",
       "       [0.99683111],\n",
       "       [0.99735221],\n",
       "       [0.99784649],\n",
       "       [0.99830842],\n",
       "       [0.99873229],\n",
       "       [0.99911198],\n",
       "       [0.99944054],\n",
       "       [0.99970937],\n",
       "       [0.999906  ],\n",
       "       [0.99995279],\n",
       "       [0.9997885 ],\n",
       "       [0.9995476 ],\n",
       "       [0.9992447 ],\n",
       "       [0.99888898],\n",
       "       [0.99848753],\n",
       "       [0.99804643],\n",
       "       [0.99757127],\n",
       "       [0.9970674 ],\n",
       "       [0.99654013],\n",
       "       [0.99599489],\n",
       "       [0.99543738],\n",
       "       [0.99487375],\n",
       "       [0.9943108 ],\n",
       "       [0.99375637],\n",
       "       [0.99321983],\n",
       "       [0.99271324],\n",
       "       [0.99225399],\n",
       "       [0.99187607],\n",
       "       [0.99164107],\n",
       "       [0.99144207],\n",
       "       [0.99126238],\n",
       "       [0.9910976 ],\n",
       "       [0.99094501],\n",
       "       [0.99080276],\n",
       "       [0.99066946],\n",
       "       [0.99054405],\n",
       "       [0.99042565],\n",
       "       [0.99031358],\n",
       "       [0.99020725],\n",
       "       [0.99010616],\n",
       "       [0.99000988],\n",
       "       [0.98991805],\n",
       "       [0.98983034],\n",
       "       [0.98974647],\n",
       "       [0.98966618],\n",
       "       [0.98958925],\n",
       "       [0.98951548],\n",
       "       [0.98944468],\n",
       "       [0.98937669],\n",
       "       [0.98931135],\n",
       "       [0.98924853],\n",
       "       [0.9891881 ],\n",
       "       [0.98912994],\n",
       "       [0.98907395],\n",
       "       [0.98902003],\n",
       "       [0.98896809],\n",
       "       [0.98891803],\n",
       "       [0.98886978],\n",
       "       [0.98882328],\n",
       "       [0.98877843],\n",
       "       [0.9887352 ],\n",
       "       [0.9886935 ],\n",
       "       [0.98865329],\n",
       "       [0.98861452],\n",
       "       [0.98857712],\n",
       "       [0.98854106],\n",
       "       [0.98850629],\n",
       "       [0.98847277],\n",
       "       [0.98844046],\n",
       "       [0.98840932],\n",
       "       [0.98837931],\n",
       "       [0.98835041],\n",
       "       [0.98832258],\n",
       "       [0.98829579],\n",
       "       [0.98827001],\n",
       "       [0.98824522],\n",
       "       [0.98822139],\n",
       "       [0.98819849],\n",
       "       [0.98817651],\n",
       "       [0.98815542],\n",
       "       [0.9881352 ],\n",
       "       [0.98811583],\n",
       "       [0.9880973 ],\n",
       "       [0.98807958],\n",
       "       [0.98806266],\n",
       "       [0.98804652],\n",
       "       [0.98803115],\n",
       "       [0.98801654],\n",
       "       [0.98800266],\n",
       "       [0.98798952],\n",
       "       [0.98797709],\n",
       "       [0.98796537],\n",
       "       [0.98795435],\n",
       "       [0.98794401],\n",
       "       [0.98793435],\n",
       "       [0.98792535],\n",
       "       [0.98791702],\n",
       "       [0.98790935],\n",
       "       [0.98790232],\n",
       "       [0.98789593],\n",
       "       [0.98789018],\n",
       "       [0.98788507],\n",
       "       [0.98788057],\n",
       "       [0.98787671],\n",
       "       [0.98787346],\n",
       "       [0.98787083],\n",
       "       [0.98786882],\n",
       "       [0.98786742],\n",
       "       [0.98786663],\n",
       "       [0.98786646],\n",
       "       [0.98786689],\n",
       "       [0.98786794],\n",
       "       [0.98786961],\n",
       "       [0.98787188],\n",
       "       [0.98787478],\n",
       "       [0.98787829],\n",
       "       [0.98788242],\n",
       "       [0.98788718],\n",
       "       [0.98789257],\n",
       "       [0.98789859],\n",
       "       [0.98790525],\n",
       "       [0.98791256],\n",
       "       [0.98792051],\n",
       "       [0.98792913],\n",
       "       [0.98793841],\n",
       "       [0.98794836],\n",
       "       [0.98795899],\n",
       "       [0.98797031],\n",
       "       [0.98798234],\n",
       "       [0.98799507],\n",
       "       [0.98800853],\n",
       "       [0.98802272],\n",
       "       [0.98803766],\n",
       "       [0.98805336],\n",
       "       [0.98806984],\n",
       "       [0.98808711],\n",
       "       [0.98810518],\n",
       "       [0.98812408],\n",
       "       [0.98814382],\n",
       "       [0.98816442],\n",
       "       [0.9881859 ],\n",
       "       [0.98820828],\n",
       "       [0.98823159],\n",
       "       [0.98825585],\n",
       "       [0.98828108],\n",
       "       [0.98830732],\n",
       "       [0.98833458],\n",
       "       [0.98836289],\n",
       "       [0.9883923 ],\n",
       "       [0.98842282],\n",
       "       [0.98845451],\n",
       "       [0.98848738],\n",
       "       [0.98852149],\n",
       "       [0.98855686],\n",
       "       [0.98859356],\n",
       "       [0.98863162],\n",
       "       [0.98867109],\n",
       "       [0.98871202],\n",
       "       [0.98875448],\n",
       "       [0.98879851],\n",
       "       [0.98884419],\n",
       "       [0.98889158],\n",
       "       [0.98894075],\n",
       "       [0.98899178],\n",
       "       [0.98904476],\n",
       "       [0.98909977],\n",
       "       [0.98915692],\n",
       "       [0.9892163 ],\n",
       "       [0.98927803],\n",
       "       [0.98934224],\n",
       "       [0.98940906],\n",
       "       [0.98947863],\n",
       "       [0.98955112],\n",
       "       [0.98962671],\n",
       "       [0.98970559],\n",
       "       [0.98978799],\n",
       "       [0.98987414],\n",
       "       [0.98996432],\n",
       "       [0.99005885],\n",
       "       [0.99015808],\n",
       "       [0.99026241],\n",
       "       [0.99037231],\n",
       "       [0.99048835],\n",
       "       [0.99061118],\n",
       "       [0.9907416 ],\n",
       "       [0.9908806 ],\n",
       "       [0.99102945],\n",
       "       [0.99118981],\n",
       "       [0.99136402],\n",
       "       [0.99155567],\n",
       "       [0.99177164],\n",
       "       [0.99209021],\n",
       "       [0.99252713],\n",
       "       [0.99302238],\n",
       "       [0.99355415],\n",
       "       [0.99410852],\n",
       "       [0.99467499],\n",
       "       [0.99524505],\n",
       "       [0.99581135],\n",
       "       [0.99636734],\n",
       "       [0.99690699],\n",
       "       [0.99742459],\n",
       "       [0.99791459],\n",
       "       [0.99837144],\n",
       "       [0.99878938],\n",
       "       [0.99916222],\n",
       "       [0.99948283],\n",
       "       [0.99974226],\n",
       "       [0.99992704]])"
      ]
     },
     "execution_count": 69,
     "metadata": {},
     "output_type": "execute_result"
    }
   ],
   "source": [
    "ld_x"
   ]
  },
  {
   "cell_type": "markdown",
   "id": "2435407d",
   "metadata": {},
   "source": [
    "### phase curve of secondary object (core.OpsYlm.X)"
   ]
  },
  {
   "cell_type": "code",
   "execution_count": null,
   "id": "6c9bf55d",
   "metadata": {},
   "outputs": [],
   "source": []
  },
  {
   "cell_type": "code",
   "execution_count": 407,
   "id": "4adb0b73",
   "metadata": {},
   "outputs": [],
   "source": [
    "# inputs\n",
    "sec_inc = 1.57079633\n",
    "sec_obl = 0.\n",
    "sec_u = -1.\n",
    "sec_f = 3.14159265\n",
    "n_col = 36 # from rTA1"
   ]
  },
  {
   "cell_type": "markdown",
   "id": "dfe80611",
   "metadata": {},
   "source": [
    "#### get x shape"
   ]
  },
  {
   "cell_type": "code",
   "execution_count": 408,
   "id": "0faff354",
   "metadata": {},
   "outputs": [],
   "source": [
    "def _ylm_get_x_shape(theta, n_col):\n",
    "    rows = theta.shape[0]\n",
    "    cols = n_col\n",
    "    x = np.zeros((rows, cols))\n",
    "    return x"
   ]
  },
  {
   "cell_type": "code",
   "execution_count": 432,
   "id": "990c133b",
   "metadata": {},
   "outputs": [
    {
     "data": {
      "text/plain": [
       "10000"
      ]
     },
     "execution_count": 432,
     "metadata": {},
     "output_type": "execute_result"
    }
   ],
   "source": [
    "res_theta_sec[0].shape[0]"
   ]
  },
  {
   "cell_type": "code",
   "execution_count": 434,
   "id": "1e3841a4",
   "metadata": {},
   "outputs": [],
   "source": [
    "res_ylm_x = _ylm_get_x_shape(res_theta_sec[0], n_col)"
   ]
  },
  {
   "cell_type": "code",
   "execution_count": 435,
   "id": "2b0d41b8",
   "metadata": {},
   "outputs": [
    {
     "data": {
      "text/plain": [
       "(10000, 36)"
      ]
     },
     "execution_count": 435,
     "metadata": {},
     "output_type": "execute_result"
    }
   ],
   "source": [
    "res_ylm_x.shape"
   ]
  },
  {
   "cell_type": "code",
   "execution_count": 436,
   "id": "0622a2f8",
   "metadata": {},
   "outputs": [
    {
     "data": {
      "text/plain": [
       "array([[0., 0., 0., ..., 0., 0., 0.],\n",
       "       [0., 0., 0., ..., 0., 0., 0.],\n",
       "       [0., 0., 0., ..., 0., 0., 0.],\n",
       "       ...,\n",
       "       [0., 0., 0., ..., 0., 0., 0.],\n",
       "       [0., 0., 0., ..., 0., 0., 0.],\n",
       "       [0., 0., 0., ..., 0., 0., 0.]])"
      ]
     },
     "execution_count": 436,
     "metadata": {},
     "output_type": "execute_result"
    }
   ],
   "source": [
    "res_ylm_x"
   ]
  },
  {
   "cell_type": "markdown",
   "id": "7dcb6c4b",
   "metadata": {},
   "source": [
    "#### get occultation mask"
   ]
  },
  {
   "cell_type": "code",
   "execution_count": 437,
   "id": "238cea57",
   "metadata": {},
   "outputs": [],
   "source": [
    "def _ylm_get_occ_mask(xo,yo,zo, ro):\n",
    "    b = np.sqrt(xo**2 + yo**2)\n",
    "    cond1 = b >=ro + 1.0\n",
    "    cond2 = zo <= 0.\n",
    "    cond3 = ro == 0.\n",
    "    conds = cond1| cond2| cond3\n",
    "    b_occ = ~conds\n",
    "    i_rot = np.arange(b.size)[conds]\n",
    "    i_occ = np.arange(b.size)[b_occ]\n",
    "    return i_rot, i_occ"
   ]
  },
  {
   "cell_type": "code",
   "execution_count": 456,
   "id": "8d904bbe",
   "metadata": {},
   "outputs": [],
   "source": [
    "inp_xo_sec = -xv\n",
    "inp_yo_sec = -yv\n",
    "inp_zo_sec = -zv\n",
    "ro_sec = 0."
   ]
  },
  {
   "cell_type": "markdown",
   "id": "f34c95ef",
   "metadata": {},
   "source": [
    "##### verification"
   ]
  },
  {
   "cell_type": "code",
   "execution_count": 457,
   "id": "3a33c276",
   "metadata": {},
   "outputs": [],
   "source": [
    "res_ylm_irot, res_ylm_iocc = _ylm_get_occ_mask(inp_xo_sec,inp_yo_sec,inp_zo_sec,ro_sec)"
   ]
  },
  {
   "cell_type": "code",
   "execution_count": 458,
   "id": "6191ad35",
   "metadata": {},
   "outputs": [
    {
     "data": {
      "text/plain": [
       "(10000,)"
      ]
     },
     "execution_count": 458,
     "metadata": {},
     "output_type": "execute_result"
    }
   ],
   "source": [
    "res_ylm_irot.shape"
   ]
  },
  {
   "cell_type": "code",
   "execution_count": 441,
   "id": "f32d17d8",
   "metadata": {},
   "outputs": [],
   "source": [
    "ylm_irot = np.load(fixtures + \"/ylm_irot.npy\")"
   ]
  },
  {
   "cell_type": "code",
   "execution_count": 459,
   "id": "05a8585f",
   "metadata": {},
   "outputs": [
    {
     "data": {
      "text/plain": [
       "(10000,)"
      ]
     },
     "execution_count": 459,
     "metadata": {},
     "output_type": "execute_result"
    }
   ],
   "source": [
    "ylm_irot.shape"
   ]
  },
  {
   "cell_type": "code",
   "execution_count": 460,
   "id": "95f9ca72",
   "metadata": {},
   "outputs": [
    {
     "data": {
      "text/plain": [
       "True"
      ]
     },
     "execution_count": 460,
     "metadata": {},
     "output_type": "execute_result"
    }
   ],
   "source": [
    "np.array_equal(res_ylm_irot, ylm_irot)"
   ]
  },
  {
   "cell_type": "code",
   "execution_count": 461,
   "id": "1a700f46",
   "metadata": {},
   "outputs": [
    {
     "data": {
      "text/plain": [
       "array([], dtype=int64)"
      ]
     },
     "execution_count": 461,
     "metadata": {},
     "output_type": "execute_result"
    }
   ],
   "source": [
    "res_ylm_iocc"
   ]
  },
  {
   "cell_type": "markdown",
   "id": "d88ae459",
   "metadata": {},
   "source": [
    "#### get rotation operator"
   ]
  },
  {
   "cell_type": "code",
   "execution_count": 462,
   "id": "9f95be2a",
   "metadata": {},
   "outputs": [],
   "source": [
    "ylm_rta1 = np.load(fixtures + \"/ylm_rta1.npy\")"
   ]
  },
  {
   "cell_type": "code",
   "execution_count": 463,
   "id": "244a9267",
   "metadata": {},
   "outputs": [
    {
     "data": {
      "text/plain": [
       "(1, 36)"
      ]
     },
     "execution_count": 463,
     "metadata": {},
     "output_type": "execute_result"
    }
   ],
   "source": [
    "ylm_rta1.shape"
   ]
  },
  {
   "cell_type": "code",
   "execution_count": 464,
   "id": "66316ac5",
   "metadata": {},
   "outputs": [
    {
     "data": {
      "text/plain": [
       "array([[ 1.00000000e+00,  0.00000000e+00,  1.15470054e+00,\n",
       "         0.00000000e+00,  0.00000000e+00,  0.00000000e+00,\n",
       "         5.59016994e-01,  0.00000000e+00,  0.00000000e+00,\n",
       "         0.00000000e+00,  0.00000000e+00,  0.00000000e+00,\n",
       "         0.00000000e+00,  0.00000000e+00,  0.00000000e+00,\n",
       "         0.00000000e+00,  0.00000000e+00,  0.00000000e+00,\n",
       "         0.00000000e+00,  0.00000000e+00, -1.25000000e-01,\n",
       "         0.00000000e+00,  0.00000000e+00,  0.00000000e+00,\n",
       "         1.11022302e-16,  0.00000000e+00,  0.00000000e+00,\n",
       "         0.00000000e+00,  0.00000000e+00,  0.00000000e+00,\n",
       "        -6.66133815e-16,  0.00000000e+00,  0.00000000e+00,\n",
       "         0.00000000e+00, -1.11022302e-16,  0.00000000e+00]])"
      ]
     },
     "execution_count": 464,
     "metadata": {},
     "output_type": "execute_result"
    }
   ],
   "source": [
    "ylm_rta1"
   ]
  },
  {
   "cell_type": "code",
   "execution_count": 468,
   "id": "dcc069f7",
   "metadata": {},
   "outputs": [],
   "source": [
    "def _ylm_get_rta1_f(rta1, theta, irot):\n",
    "    res = np.tile(rta1, (theta[irot].shape[0], 1))\n",
    "    return res"
   ]
  },
  {
   "cell_type": "markdown",
   "id": "1d5986d5",
   "metadata": {},
   "source": [
    "##### verification"
   ]
  },
  {
   "cell_type": "code",
   "execution_count": 469,
   "id": "fd00c3e8",
   "metadata": {},
   "outputs": [],
   "source": [
    "res_ylm_rta1_2 = _ylm_get_rta1_f(ylm_rta1, res_theta_sec[0],res_ylm_irot)"
   ]
  },
  {
   "cell_type": "code",
   "execution_count": 465,
   "id": "428f2a14",
   "metadata": {},
   "outputs": [],
   "source": [
    "ylm_rta1_2 = np.load(fixtures + \"/ylm_rta1_2.npy\")"
   ]
  },
  {
   "cell_type": "code",
   "execution_count": 467,
   "id": "368950f4",
   "metadata": {},
   "outputs": [
    {
     "data": {
      "text/plain": [
       "(10000, 36)"
      ]
     },
     "execution_count": 467,
     "metadata": {},
     "output_type": "execute_result"
    }
   ],
   "source": [
    "ylm_rta1_2.shape"
   ]
  },
  {
   "cell_type": "code",
   "execution_count": 472,
   "id": "f16905dd",
   "metadata": {},
   "outputs": [
    {
     "data": {
      "text/plain": [
       "True"
      ]
     },
     "execution_count": 472,
     "metadata": {},
     "output_type": "execute_result"
    }
   ],
   "source": [
    "np.array_equal(res_ylm_rta1_2, ylm_rta1_2)"
   ]
  },
  {
   "cell_type": "markdown",
   "id": "94c5f3ab",
   "metadata": {},
   "source": [
    "#### get rotation x"
   ]
  },
  {
   "cell_type": "code",
   "execution_count": 478,
   "id": "a90db693",
   "metadata": {},
   "outputs": [],
   "source": [
    "def _ylm_get_rta1_x(x,right_project, irot):\n",
    "    x[irot] = right_project\n",
    "    return x"
   ]
  },
  {
   "cell_type": "code",
   "execution_count": 481,
   "id": "7b505344",
   "metadata": {},
   "outputs": [],
   "source": [
    "# todo: understand how to get right project\n",
    "ylm_right_project = np.load(fixtures + \"/ylm_right_project.npy\")"
   ]
  },
  {
   "cell_type": "markdown",
   "id": "957443da",
   "metadata": {},
   "source": [
    "##### verification"
   ]
  },
  {
   "cell_type": "code",
   "execution_count": 479,
   "id": "d2da721b",
   "metadata": {},
   "outputs": [],
   "source": [
    "res_ylm_rta1_x = _ylm_get_rta1_x(res_ylm_x, ylm_right_project, res_ylm_irot)"
   ]
  },
  {
   "cell_type": "code",
   "execution_count": 473,
   "id": "dd1e12b2",
   "metadata": {},
   "outputs": [],
   "source": [
    "ylm_rta1_x = np.load(fixtures + \"/ylm_rta1_x.npy\")"
   ]
  },
  {
   "cell_type": "code",
   "execution_count": 474,
   "id": "ace97573",
   "metadata": {},
   "outputs": [
    {
     "data": {
      "text/plain": [
       "(10000, 36)"
      ]
     },
     "execution_count": 474,
     "metadata": {},
     "output_type": "execute_result"
    }
   ],
   "source": [
    "ylm_rta1_x.shape"
   ]
  },
  {
   "cell_type": "code",
   "execution_count": 480,
   "id": "8eebe1fa",
   "metadata": {},
   "outputs": [
    {
     "data": {
      "text/plain": [
       "True"
      ]
     },
     "execution_count": 480,
     "metadata": {},
     "output_type": "execute_result"
    }
   ],
   "source": [
    "np.array_equal(res_ylm_rta1_x, res_ylm_rta1_x)"
   ]
  },
  {
   "cell_type": "markdown",
   "id": "eb171f14",
   "metadata": {},
   "source": [
    "#### verification"
   ]
  },
  {
   "cell_type": "code",
   "execution_count": 494,
   "id": "85f661cc",
   "metadata": {},
   "outputs": [],
   "source": [
    "# inputs (additional)\n",
    "ylm_idx = res_socc_idx\n",
    "ylm_xo_f = (-xv/sec_r)[ylm_idx]\n",
    "ylm_yo_f = (-yv/sec_r)[ylm_idx]\n",
    "ylm_zo_f = (-zv/sec_r)[ylm_idx]\n",
    "ylm_ro = pri_r/sec_r"
   ]
  },
  {
   "cell_type": "code",
   "execution_count": 492,
   "id": "d489e633",
   "metadata": {},
   "outputs": [],
   "source": [
    "res_ylm_x_fi = _ylm_get_x_shape(res_theta_sec[0,ylm_idx], n_col)"
   ]
  },
  {
   "cell_type": "code",
   "execution_count": 493,
   "id": "455882ea",
   "metadata": {},
   "outputs": [
    {
     "data": {
      "text/plain": [
       "(810, 36)"
      ]
     },
     "execution_count": 493,
     "metadata": {},
     "output_type": "execute_result"
    }
   ],
   "source": [
    "res_ylm_x_fi.shape"
   ]
  },
  {
   "cell_type": "code",
   "execution_count": 495,
   "id": "32729417",
   "metadata": {},
   "outputs": [],
   "source": [
    "res_ylm_irot_f, res_ylm_iocc_f = _ylm_get_occ_mask(ylm_xo_f,ylm_yo_f,ylm_zo_f,ylm_ro)"
   ]
  },
  {
   "cell_type": "code",
   "execution_count": 499,
   "id": "23a57a36",
   "metadata": {},
   "outputs": [],
   "source": [
    "res_ylm_rta1_2_f = _ylm_get_rta1_f(ylm_rta1, res_theta_sec[0,ylm_idx],res_ylm_irot_f)"
   ]
  },
  {
   "cell_type": "code",
   "execution_count": 500,
   "id": "67cb883b",
   "metadata": {},
   "outputs": [
    {
     "data": {
      "text/plain": [
       "(0, 36)"
      ]
     },
     "execution_count": 500,
     "metadata": {},
     "output_type": "execute_result"
    }
   ],
   "source": [
    "res_ylm_rta1_2_f.shape"
   ]
  },
  {
   "cell_type": "code",
   "execution_count": 501,
   "id": "f1488064",
   "metadata": {},
   "outputs": [],
   "source": [
    "ylm_st_f = np.load(fixtures + \"/ylm_st_f.npy\")"
   ]
  },
  {
   "cell_type": "code",
   "execution_count": 502,
   "id": "457dcb09",
   "metadata": {},
   "outputs": [
    {
     "data": {
      "text/plain": [
       "(810, 36)"
      ]
     },
     "execution_count": 502,
     "metadata": {},
     "output_type": "execute_result"
    }
   ],
   "source": [
    "ylm_st_f.shape"
   ]
  },
  {
   "cell_type": "markdown",
   "id": "bfdf3a9a",
   "metadata": {},
   "source": [
    "##### core.OpsYlm.A"
   ]
  },
  {
   "cell_type": "code",
   "execution_count": 504,
   "id": "df627a2f",
   "metadata": {},
   "outputs": [],
   "source": [
    "import scipy"
   ]
  },
  {
   "cell_type": "code",
   "execution_count": 505,
   "id": "855b5235",
   "metadata": {},
   "outputs": [],
   "source": [
    "ylm_a_f = scipy.sparse.load_npz(fixtures + \"/ylm_A_f.npz\")"
   ]
  },
  {
   "cell_type": "code",
   "execution_count": 558,
   "id": "6072123b",
   "metadata": {},
   "outputs": [],
   "source": [
    "av = ylm_a_f.toarray()"
   ]
  },
  {
   "cell_type": "code",
   "execution_count": 560,
   "id": "951e41be",
   "metadata": {},
   "outputs": [
    {
     "data": {
      "text/plain": [
       "array([[ 3.18309886e-01,  0.00000000e+00,  0.00000000e+00, ...,\n",
       "         0.00000000e+00,  0.00000000e+00,  0.00000000e+00],\n",
       "       [ 0.00000000e+00,  0.00000000e+00,  0.00000000e+00, ...,\n",
       "         0.00000000e+00,  0.00000000e+00,  0.00000000e+00],\n",
       "       [ 0.00000000e+00,  0.00000000e+00,  5.51328895e-01, ...,\n",
       "         0.00000000e+00,  1.11022302e-16,  0.00000000e+00],\n",
       "       ...,\n",
       "       [ 0.00000000e+00,  0.00000000e+00,  0.00000000e+00, ...,\n",
       "         7.45262512e+00,  0.00000000e+00,  1.85161960e+00],\n",
       "       [ 0.00000000e+00,  0.00000000e+00,  0.00000000e+00, ...,\n",
       "         0.00000000e+00, -7.02640234e+00,  0.00000000e+00],\n",
       "       [ 0.00000000e+00,  0.00000000e+00,  0.00000000e+00, ...,\n",
       "         0.00000000e+00,  0.00000000e+00,  0.00000000e+00]])"
      ]
     },
     "execution_count": 560,
     "metadata": {},
     "output_type": "execute_result"
    }
   ],
   "source": [
    "av"
   ]
  },
  {
   "cell_type": "code",
   "execution_count": 516,
   "id": "0ea238c9",
   "metadata": {},
   "outputs": [],
   "source": [
    "def _ylm_get_sta(st,a):\n",
    "    if scipy.sparse.issparse(a):\n",
    "        a = a.toarray()\n",
    "    return np.dot(st,a)"
   ]
  },
  {
   "cell_type": "code",
   "execution_count": 517,
   "id": "c8d94748",
   "metadata": {},
   "outputs": [],
   "source": [
    "res_ylm_sta_f = _ylm_get_sta(ylm_st_f, ylm_a_f)"
   ]
  },
  {
   "cell_type": "code",
   "execution_count": 512,
   "id": "303a9ccf",
   "metadata": {},
   "outputs": [],
   "source": [
    "ylm_sta_f = np.load(fixtures + \"/ylm_sta_f.npy\")"
   ]
  },
  {
   "cell_type": "code",
   "execution_count": 520,
   "id": "24ad1705",
   "metadata": {},
   "outputs": [
    {
     "data": {
      "text/plain": [
       "True"
      ]
     },
     "execution_count": 520,
     "metadata": {},
     "output_type": "execute_result"
    }
   ],
   "source": [
    "np.allclose(res_ylm_sta_f, ylm_sta_f)"
   ]
  },
  {
   "cell_type": "code",
   "execution_count": 526,
   "id": "0f267ffa",
   "metadata": {},
   "outputs": [],
   "source": [
    "def _ylm_get_theta_z(xo, yo, iocc):\n",
    "    return np.arctan2(xo[iocc], yo[iocc])"
   ]
  },
  {
   "cell_type": "code",
   "execution_count": 527,
   "id": "a9eec503",
   "metadata": {},
   "outputs": [],
   "source": [
    "res_ylm_tz_f = _ylm_get_theta_z(ylm_xo_f, ylm_yo_f,res_ylm_iocc_f)"
   ]
  },
  {
   "cell_type": "code",
   "execution_count": 529,
   "id": "a2f47a6c",
   "metadata": {},
   "outputs": [
    {
     "data": {
      "text/plain": [
       "(810,)"
      ]
     },
     "execution_count": 529,
     "metadata": {},
     "output_type": "execute_result"
    }
   ],
   "source": [
    "res_ylm_tz_f.shape"
   ]
  },
  {
   "cell_type": "code",
   "execution_count": 521,
   "id": "07c2b13a",
   "metadata": {},
   "outputs": [],
   "source": [
    "ylm_theta_z_f = np.load(fixtures + \"/ylm_theta_z_f.npy\")"
   ]
  },
  {
   "cell_type": "code",
   "execution_count": 523,
   "id": "54a38d5c",
   "metadata": {},
   "outputs": [
    {
     "data": {
      "text/plain": [
       "(810,)"
      ]
     },
     "execution_count": 523,
     "metadata": {},
     "output_type": "execute_result"
    }
   ],
   "source": [
    "ylm_theta_z_f.shape"
   ]
  },
  {
   "cell_type": "code",
   "execution_count": 536,
   "id": "354cd477",
   "metadata": {},
   "outputs": [
    {
     "data": {
      "text/plain": [
       "False"
      ]
     },
     "execution_count": 536,
     "metadata": {},
     "output_type": "execute_result"
    }
   ],
   "source": [
    "np.allclose(res_ylm_tz_f, ylm_theta_z_f, atol=1.e-5)"
   ]
  },
  {
   "cell_type": "code",
   "execution_count": 537,
   "id": "c650f093",
   "metadata": {},
   "outputs": [],
   "source": [
    "diff = res_ylm_tz_f - ylm_theta_z_f"
   ]
  },
  {
   "cell_type": "code",
   "execution_count": 539,
   "id": "eb77028c",
   "metadata": {},
   "outputs": [
    {
     "data": {
      "text/plain": [
       "-1.3345817678978023e-05"
      ]
     },
     "execution_count": 539,
     "metadata": {},
     "output_type": "execute_result"
    }
   ],
   "source": [
    "diff.min()"
   ]
  },
  {
   "cell_type": "code",
   "execution_count": 541,
   "id": "71ba546d",
   "metadata": {},
   "outputs": [],
   "source": [
    "res_ylm_xo_bcc = ylm_xo_f[res_ylm_iocc_f]"
   ]
  },
  {
   "cell_type": "code",
   "execution_count": 540,
   "id": "35304a1f",
   "metadata": {},
   "outputs": [],
   "source": [
    "ylm_xo_bcc = np.load(fixtures + \"/ylm_x_occ.npy\")"
   ]
  },
  {
   "cell_type": "code",
   "execution_count": 547,
   "id": "295d5b65",
   "metadata": {},
   "outputs": [
    {
     "data": {
      "text/plain": [
       "True"
      ]
     },
     "execution_count": 547,
     "metadata": {},
     "output_type": "execute_result"
    }
   ],
   "source": [
    "np.allclose(res_ylm_xo_bcc, ylm_xo_bcc)"
   ]
  },
  {
   "cell_type": "code",
   "execution_count": 549,
   "id": "718f0dcb",
   "metadata": {},
   "outputs": [],
   "source": [
    "res_ylm_yo_bcc = ylm_yo_f[res_ylm_iocc_f]"
   ]
  },
  {
   "cell_type": "code",
   "execution_count": 548,
   "id": "e20acf28",
   "metadata": {},
   "outputs": [],
   "source": [
    "ylm_yo_bcc = np.load(fixtures + \"/ylm_y_occ.npy\")"
   ]
  },
  {
   "cell_type": "code",
   "execution_count": 552,
   "id": "03c8d50d",
   "metadata": {},
   "outputs": [
    {
     "data": {
      "text/plain": [
       "True"
      ]
     },
     "execution_count": 552,
     "metadata": {},
     "output_type": "execute_result"
    }
   ],
   "source": [
    "np.allclose(res_ylm_yo_bcc, ylm_yo_bcc, atol=1.e-6)"
   ]
  },
  {
   "cell_type": "code",
   "execution_count": 553,
   "id": "b44b3f44",
   "metadata": {},
   "outputs": [],
   "source": [
    "ylm_rp_occ = np.load(fixtures + \"/ylm_right_project_occ.npy\")"
   ]
  },
  {
   "cell_type": "code",
   "execution_count": 555,
   "id": "c8e20ffa",
   "metadata": {},
   "outputs": [],
   "source": [
    "def _ylm_get_f_x(x,right_project, iocc):\n",
    "    x[iocc] = right_project\n",
    "    return x"
   ]
  },
  {
   "cell_type": "code",
   "execution_count": 556,
   "id": "8b786955",
   "metadata": {},
   "outputs": [],
   "source": [
    "res_ylm_x_f = _ylm_get_f_x(res_ylm_x_fi, ylm_rp_occ,res_ylm_iocc_f)"
   ]
  },
  {
   "cell_type": "code",
   "execution_count": 482,
   "id": "88f61b37",
   "metadata": {},
   "outputs": [],
   "source": [
    "ylm_x_f = np.load(fixtures + \"/ylm_x_f.npy\")"
   ]
  },
  {
   "cell_type": "code",
   "execution_count": 491,
   "id": "e8a5dff0",
   "metadata": {},
   "outputs": [
    {
     "data": {
      "text/plain": [
       "(810, 36)"
      ]
     },
     "execution_count": 491,
     "metadata": {},
     "output_type": "execute_result"
    }
   ],
   "source": [
    "ylm_x_f.shape"
   ]
  },
  {
   "cell_type": "code",
   "execution_count": 557,
   "id": "898b707d",
   "metadata": {},
   "outputs": [
    {
     "data": {
      "text/plain": [
       "True"
      ]
     },
     "execution_count": 557,
     "metadata": {},
     "output_type": "execute_result"
    }
   ],
   "source": [
    "np.array_equal(res_ylm_x_f, ylm_x_f)"
   ]
  },
  {
   "cell_type": "markdown",
   "id": "6e47cd06",
   "metadata": {},
   "source": [
    "### properties of surface map"
   ]
  },
  {
   "cell_type": "code",
   "execution_count": 561,
   "id": "0ba464f9",
   "metadata": {},
   "outputs": [],
   "source": [
    "import starry"
   ]
  },
  {
   "cell_type": "code",
   "execution_count": 562,
   "id": "2cd8cd6e",
   "metadata": {},
   "outputs": [
    {
     "name": "stderr",
     "output_type": "stream",
     "text": [
      "Pre-computing some matrices... Done.\n"
     ]
    }
   ],
   "source": [
    "map1 = starry.Map(ydeg=5)"
   ]
  },
  {
   "cell_type": "code",
   "execution_count": 593,
   "id": "f0d208a0",
   "metadata": {},
   "outputs": [
    {
     "data": {
      "text/plain": [
       "['A',\n",
       " 'A1',\n",
       " 'A1Big',\n",
       " 'A1Inv',\n",
       " 'A2',\n",
       " 'F',\n",
       " 'N',\n",
       " 'Nf',\n",
       " 'Nu',\n",
       " 'Ny',\n",
       " 'OrenNayarPolynomial',\n",
       " '__class__',\n",
       " '__delattr__',\n",
       " '__dir__',\n",
       " '__doc__',\n",
       " '__eq__',\n",
       " '__format__',\n",
       " '__ge__',\n",
       " '__getattribute__',\n",
       " '__getstate__',\n",
       " '__gt__',\n",
       " '__hash__',\n",
       " '__init__',\n",
       " '__init_subclass__',\n",
       " '__le__',\n",
       " '__lt__',\n",
       " '__module__',\n",
       " '__ne__',\n",
       " '__new__',\n",
       " '__reduce__',\n",
       " '__reduce_ex__',\n",
       " '__repr__',\n",
       " '__setattr__',\n",
       " '__setstate__',\n",
       " '__sizeof__',\n",
       " '__str__',\n",
       " '__subclasshook__',\n",
       " 'deg',\n",
       " 'dotR',\n",
       " 'fdeg',\n",
       " 'pT',\n",
       " 'rT',\n",
       " 'rTA1',\n",
       " 'rTReflected',\n",
       " 'sT',\n",
       " 'sTOblate',\n",
       " 'sTReflected',\n",
       " 'spotYlm',\n",
       " 'tensordotRz',\n",
       " 'udeg',\n",
       " 'ydeg']"
      ]
     },
     "execution_count": 593,
     "metadata": {},
     "output_type": "execute_result"
    }
   ],
   "source": [
    "dir(map1.ops._c_ops)"
   ]
  },
  {
   "cell_type": "code",
   "execution_count": 608,
   "id": "a7635084",
   "metadata": {},
   "outputs": [
    {
     "data": {
      "text/plain": [
       "<36x36 sparse matrix of type '<class 'numpy.float64'>'\n",
       "\twith 104 stored elements in Compressed Sparse Column format>"
      ]
     },
     "execution_count": 608,
     "metadata": {},
     "output_type": "execute_result"
    }
   ],
   "source": [
    "map1.ops._c_ops.A1"
   ]
  },
  {
   "cell_type": "code",
   "execution_count": 609,
   "id": "18c733b2",
   "metadata": {},
   "outputs": [],
   "source": [
    "map2 = starry.Map(udeg=2)"
   ]
  },
  {
   "cell_type": "code",
   "execution_count": 611,
   "id": "24cbd7fe",
   "metadata": {},
   "outputs": [
    {
     "data": {
      "text/plain": [
       "['X',\n",
       " '_LimbDarkIsPhysical',\n",
       " '__class__',\n",
       " '__delattr__',\n",
       " '__dict__',\n",
       " '__dir__',\n",
       " '__doc__',\n",
       " '__eq__',\n",
       " '__format__',\n",
       " '__ge__',\n",
       " '__getattribute__',\n",
       " '__gt__',\n",
       " '__hash__',\n",
       " '__init__',\n",
       " '__init_subclass__',\n",
       " '__le__',\n",
       " '__lt__',\n",
       " '__module__',\n",
       " '__ne__',\n",
       " '__new__',\n",
       " '__reduce__',\n",
       " '__reduce_ex__',\n",
       " '__repr__',\n",
       " '__setattr__',\n",
       " '__sizeof__',\n",
       " '__str__',\n",
       " '__subclasshook__',\n",
       " '__weakref__',\n",
       " '_get_cl',\n",
       " '_limbdark',\n",
       " 'flux',\n",
       " 'intensity',\n",
       " 'limbdark_is_physical',\n",
       " 'nw',\n",
       " 'render',\n",
       " 'render_ld',\n",
       " 'set_vector',\n",
       " 'udeg']"
      ]
     },
     "execution_count": 611,
     "metadata": {},
     "output_type": "execute_result"
    }
   ],
   "source": [
    "dir(map2.ops)"
   ]
  },
  {
   "cell_type": "code",
   "execution_count": null,
   "id": "cc72fb5d",
   "metadata": {},
   "outputs": [],
   "source": []
  }
 ],
 "metadata": {
  "kernelspec": {
   "display_name": "bpope",
   "language": "python",
   "name": "bpope"
  },
  "language_info": {
   "codemirror_mode": {
    "name": "ipython",
    "version": 3
   },
   "file_extension": ".py",
   "mimetype": "text/x-python",
   "name": "python",
   "nbconvert_exporter": "python",
   "pygments_lexer": "ipython3",
   "version": "3.7.4"
  },
  "toc": {
   "base_numbering": 1,
   "nav_menu": {},
   "number_sections": true,
   "sideBar": true,
   "skip_h1_title": false,
   "title_cell": "Table of Contents",
   "title_sidebar": "Contents",
   "toc_cell": false,
   "toc_position": {
    "height": "calc(100% - 180px)",
    "left": "10px",
    "top": "150px",
    "width": "160px"
   },
   "toc_section_display": true,
   "toc_window_display": true
  },
  "toc-autonumbering": false,
  "toc-showcode": false,
  "toc-showmarkdowntxt": true
 },
 "nbformat": 4,
 "nbformat_minor": 5
}
