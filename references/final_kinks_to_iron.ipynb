{
 "cells": [
  {
   "cell_type": "code",
   "execution_count": null,
   "id": "64841732",
   "metadata": {},
   "outputs": [],
   "source": [
    "import starry\n",
    "import jax\n",
    "import jax.numpy as jnp\n",
    "import numpy as np"
   ]
  },
  {
   "cell_type": "code",
   "execution_count": null,
   "id": "6894b769",
   "metadata": {},
   "outputs": [],
   "source": [
    "from jaxoplanet.experimental.starry.light_curve.ylm import light_curve\n",
    "from jaxoplanet.experimental.starry.light_curve.inference import (\n",
    "    design_matrix,\n",
    "    cast,\n",
    "    set_data,\n",
    "    set_prior,\n",
    "    map_solve,\n",
    "    solve,\n",
    "    get_lnlike,\n",
    "    get_lnlike_woodbury,\n",
    "    lnlike,\n",
    ")\n",
    "from jaxoplanet.test_utils import assert_allclose"
   ]
  },
  {
   "cell_type": "code",
   "execution_count": null,
   "id": "509bab5e",
   "metadata": {},
   "outputs": [],
   "source": [
    "starry.config.lazy = False"
   ]
  },
  {
   "cell_type": "markdown",
   "id": "bedba112",
   "metadata": {},
   "source": [
    "# light_curve() test has no occultations."
   ]
  },
  {
   "cell_type": "markdown",
   "id": "b5231ec4",
   "metadata": {},
   "source": [
    "With the given values of zo, the light curve is invariant for all theta (the condition of zo<=0 results in no occultations being computed). Perhaps we can set zo = xo, giving some occultations for the test."
   ]
  },
  {
   "cell_type": "code",
   "execution_count": null,
   "id": "35eee348",
   "metadata": {},
   "outputs": [],
   "source": [
    "# current test\n",
    "\n",
    "l_max = 5\n",
    "ro = 0.1\n",
    "xo = jnp.linspace(0, ro + 2, 500)\n",
    "yo = jnp.zeros(500)\n",
    "zo = jnp.zeros(500)\n",
    "inc = 0\n",
    "obl = np.pi / 2\n",
    "theta = jnp.linspace(0, np.pi, 500)\n",
    "n_max = (l_max + 1) ** 2\n",
    "y = np.random.uniform(0, 1, n_max)\n",
    "y[0] = 1.0\n",
    "\n",
    "m = starry.Map(l_max)\n",
    "expect = m.ops.flux(theta, xo, yo, zo, ro, inc, obl, y, m._u, m._f) * (\n",
    "    0.5 * np.sqrt(np.pi)\n",
    ")\n",
    "\n",
    "calc = light_curve(l_max, inc, obl, y, xo, yo, zo, ro, theta)\n",
    "\n",
    "assert_allclose(calc, expect)"
   ]
  },
  {
   "cell_type": "code",
   "execution_count": null,
   "id": "abf776eb",
   "metadata": {},
   "outputs": [],
   "source": [
    "calc[0:30]  # All values are the same."
   ]
  },
  {
   "cell_type": "code",
   "execution_count": null,
   "id": "c2ff46c6",
   "metadata": {},
   "outputs": [],
   "source": [
    "# Since all of zo == 0 ...\n",
    "\n",
    "zo[0:30]"
   ]
  },
  {
   "cell_type": "code",
   "execution_count": null,
   "id": "110f8dd4",
   "metadata": {},
   "outputs": [],
   "source": [
    "# all points are masked out, and none are occulted.\n",
    "\n",
    "b = jnp.sqrt(xo**2 + yo**2)\n",
    "\n",
    "# occultation mask\n",
    "cond_rot = (b >= (1.0 + ro)) | (zo <= 0.0) | (ro == 0.0)\n",
    "cond_rot[0:30]"
   ]
  },
  {
   "cell_type": "code",
   "execution_count": null,
   "id": "ee8308e3",
   "metadata": {},
   "outputs": [],
   "source": [
    "# propsed change: (zo == xo)\n",
    "\n",
    "l_max = 5\n",
    "\n",
    "ro = 0.1\n",
    "xo = jnp.linspace(0, ro + 2, 500)\n",
    "yo = jnp.zeros(500)\n",
    "zo = jnp.linspace(0, ro + 2, 500)\n",
    "inc = 0\n",
    "obl = np.pi / 2\n",
    "theta = jnp.linspace(0, np.pi, 500)\n",
    "n_max = (l_max + 1) ** 2\n",
    "y = np.random.uniform(0, 1, n_max)\n",
    "y[0] = 1.0\n",
    "\n",
    "m = starry.Map(l_max)\n",
    "expect = m.ops.flux(theta, xo, yo, zo, ro, inc, obl, y, m._u, m._f) * (\n",
    "    0.5 * np.sqrt(np.pi)\n",
    ")\n",
    "\n",
    "calc = light_curve(l_max, inc, obl, y, xo, yo, zo, ro, theta)\n",
    "\n",
    "np.testing.assert_allclose(expect, calc, atol=1e-5)"
   ]
  },
  {
   "cell_type": "code",
   "execution_count": null,
   "id": "1e3550b2",
   "metadata": {},
   "outputs": [],
   "source": [
    "calc[0:30]  # occultations occur"
   ]
  },
  {
   "cell_type": "code",
   "execution_count": null,
   "id": "4125ccb2",
   "metadata": {},
   "outputs": [],
   "source": [
    "# With zo == xo, not all points are masked out -> some occultations computed.\n",
    "\n",
    "b = jnp.sqrt(xo**2 + yo**2)\n",
    "\n",
    "# occultation mask\n",
    "cond_rot = (b >= (1.0 + ro)) | (zo <= 0.0) | (ro == 0.0)\n",
    "cond_rot[0:30]"
   ]
  },
  {
   "cell_type": "markdown",
   "id": "1561653e",
   "metadata": {},
   "source": [
    "### NOTE: angle unit for inc, obl"
   ]
  },
  {
   "cell_type": "markdown",
   "id": "c8c6ed0f",
   "metadata": {},
   "source": [
    "If the angle unit is set to degrees, and obl=pi/2 is giving the correct result, is jaxoplanet also in degrees?"
   ]
  },
  {
   "cell_type": "code",
   "execution_count": null,
   "id": "bcf4916d",
   "metadata": {},
   "outputs": [],
   "source": [
    "m.inc, m.obl, m._angle_unit, obl"
   ]
  },
  {
   "cell_type": "markdown",
   "id": "8435b43a",
   "metadata": {},
   "source": [
    "# Design matrix test"
   ]
  },
  {
   "cell_type": "markdown",
   "id": "5d45d9f5",
   "metadata": {},
   "source": [
    "- I can't figure out how to create a jaxoplanet design matrix that matches starry's design matrix.\n",
    "- I can't figure out how to compute equivalent starry design matrices using m.design_matrix() and m.ops.X()."
   ]
  },
  {
   "cell_type": "code",
   "execution_count": null,
   "id": "2344587e",
   "metadata": {},
   "outputs": [],
   "source": [
    "l_max = 5\n",
    "ro = 0.1\n",
    "xo = jnp.linspace(0, ro + 2, 500)\n",
    "yo = jnp.zeros(500)\n",
    "zo = jnp.linspace(0, ro + 2, 500)\n",
    "inc = 0\n",
    "obl = np.pi / 2\n",
    "theta = jnp.linspace(0, np.pi, 500)\n",
    "n_max = (l_max + 1) ** 2\n",
    "y = np.random.uniform(0, 1, n_max)\n",
    "y[0] = 1.0\n",
    "\n",
    "m = starry.Map(l_max)\n",
    "m.y[:] = y"
   ]
  },
  {
   "cell_type": "markdown",
   "id": "d20cf466",
   "metadata": {},
   "source": [
    "First I see how m.flux() compares with m.ops.flux()."
   ]
  },
  {
   "cell_type": "code",
   "execution_count": null,
   "id": "986bd162",
   "metadata": {},
   "outputs": [],
   "source": [
    "expect_A = m.flux(xo=xo, yo=yo, zo=zo, ro=ro)\n",
    "expect_B = m.ops.flux(theta, xo, yo, zo, ro, inc, obl, y, m._u, m._f)"
   ]
  },
  {
   "cell_type": "code",
   "execution_count": null,
   "id": "a9bab346",
   "metadata": {},
   "outputs": [],
   "source": [
    "np.testing.assert_allclose(expect_A, expect_B)"
   ]
  },
  {
   "cell_type": "code",
   "execution_count": null,
   "id": "9bd7f2a1",
   "metadata": {},
   "outputs": [],
   "source": [
    "expect_ops = m.ops.flux(theta, xo, yo, zo, ro, inc, obl, y, m._u, m._f) * (\n",
    "    0.5 * np.sqrt(np.pi)\n",
    ")\n",
    "calc = light_curve(l_max, inc, obl, y, xo, yo, zo, ro, theta)"
   ]
  },
  {
   "cell_type": "code",
   "execution_count": null,
   "id": "4963d5b4",
   "metadata": {},
   "outputs": [],
   "source": [
    "np.testing.assert_allclose(calc, expect_ops, atol=1e-5)  # passes only at atol=1e-5"
   ]
  },
  {
   "cell_type": "markdown",
   "id": "8d7a9aa1",
   "metadata": {},
   "source": [
    "Now, check if m.design_matrix() can be equivalent to m.ops.X()."
   ]
  },
  {
   "cell_type": "code",
   "execution_count": null,
   "id": "0acb46b2",
   "metadata": {},
   "outputs": [],
   "source": [
    "st_X = m.design_matrix(xo=xo, yo=yo, zo=zo, ro=ro)\n",
    "st_X_theta = m.design_matrix(xo=xo, yo=yo, zo=zo, ro=ro, theta=theta)\n",
    "st_X_ops = m.ops.X(theta, xo, yo, zo, ro, inc, obl, m._u, m._f)"
   ]
  },
  {
   "cell_type": "code",
   "execution_count": null,
   "id": "8aa49e4c",
   "metadata": {},
   "outputs": [],
   "source": [
    "np.testing.assert_allclose(st_X, st_X_theta)"
   ]
  },
  {
   "cell_type": "code",
   "execution_count": null,
   "id": "ec0e3d2d",
   "metadata": {},
   "outputs": [],
   "source": [
    "np.testing.assert_allclose(st_X, st_X_ops)"
   ]
  },
  {
   "cell_type": "code",
   "execution_count": null,
   "id": "ce559a70",
   "metadata": {},
   "outputs": [],
   "source": [
    "np.testing.assert_allclose(st_X_ops, st_X_theta)"
   ]
  },
  {
   "cell_type": "markdown",
   "id": "01b26b1a",
   "metadata": {},
   "source": [
    "Compare against jaxoplanet implementation."
   ]
  },
  {
   "cell_type": "code",
   "execution_count": null,
   "id": "f11e742d",
   "metadata": {},
   "outputs": [],
   "source": [
    "j_X = design_matrix(l_max, inc, obl, y, xo, yo, zo, ro, theta)"
   ]
  },
  {
   "cell_type": "code",
   "execution_count": null,
   "id": "e309baf5",
   "metadata": {},
   "outputs": [],
   "source": [
    "np.testing.assert_allclose(j_X, st_X)"
   ]
  },
  {
   "cell_type": "code",
   "execution_count": null,
   "id": "d7056df9",
   "metadata": {},
   "outputs": [],
   "source": [
    "np.testing.assert_allclose(j_X, st_X_theta)"
   ]
  },
  {
   "cell_type": "code",
   "execution_count": null,
   "id": "6ca68afa",
   "metadata": {},
   "outputs": [],
   "source": [
    "np.testing.assert_allclose(j_X, st_X_ops)"
   ]
  },
  {
   "cell_type": "markdown",
   "id": "9ac8e3ff",
   "metadata": {},
   "source": [
    "# Tests in the style of test_solve_greedy.py"
   ]
  },
  {
   "cell_type": "markdown",
   "id": "20013024",
   "metadata": {},
   "source": [
    "## test_solve()"
   ]
  },
  {
   "cell_type": "code",
   "execution_count": null,
   "id": "0c606e04",
   "metadata": {},
   "outputs": [],
   "source": [
    "from scipy.stats import multivariate_normal"
   ]
  },
  {
   "cell_type": "markdown",
   "id": "50d45252",
   "metadata": {},
   "source": [
    "Original code from test_solve_greedy()"
   ]
  },
  {
   "cell_type": "code",
   "execution_count": null,
   "id": "1c219380",
   "metadata": {},
   "outputs": [],
   "source": [
    "def data():\n",
    "    # Instantiate a dipole map\n",
    "    map = starry.Map(ydeg=1, reflected=True)\n",
    "    amp_true = 0.75\n",
    "    inc_true = 60\n",
    "    y_true = np.array([1, 0.1, 0.2, 0.3])\n",
    "    map.amp = amp_true\n",
    "    map[1, :] = y_true[1:]\n",
    "    map.inc = inc_true\n",
    "\n",
    "    # Generate a synthetic light curve with just a little noise\n",
    "    theta = np.linspace(0, 360, 100)\n",
    "    phi = 3.5 * theta\n",
    "    xs = np.cos(phi * np.pi / 180)\n",
    "    ys = 0.1 * np.cos(phi * np.pi / 180)\n",
    "    zs = np.sin(phi * np.pi / 180)\n",
    "    kwargs = dict(theta=theta, xs=xs, ys=ys, zs=zs)\n",
    "    flux = map.flux(**kwargs)\n",
    "    sigma = 1e-5\n",
    "    np.random.seed(1)\n",
    "    flux += np.random.randn(len(theta)) * sigma\n",
    "\n",
    "    return (map, kwargs, amp_true, inc_true, y_true, sigma, flux)\n",
    "\n",
    "\n",
    "map, kwargs, amp_true, inc_true, y_true, sigma, flux = data()\n",
    "\n",
    "# Place a generous prior on the map coefficients\n",
    "map.set_prior(L=1)\n",
    "\n",
    "# Provide the dataset\n",
    "map.set_data(flux, C=sigma**2)\n",
    "\n",
    "# Solve the linear problem\n",
    "map.inc = inc_true\n",
    "mu, cho_cov = map.solve(**kwargs)\n",
    "\n",
    "# Ensure the likelihood of the true value is close to that of the MAP solution\n",
    "cov = cho_cov.dot(cho_cov.T)\n",
    "LnL0 = multivariate_normal.logpdf(mu, mean=mu, cov=cov)\n",
    "LnL = multivariate_normal.logpdf(amp_true * y_true, mean=mu, cov=cov)\n",
    "assert LnL0 - LnL < 5.00"
   ]
  },
  {
   "cell_type": "code",
   "execution_count": null,
   "id": "058a1aac",
   "metadata": {},
   "outputs": [],
   "source": [
    "LnL0, LnL"
   ]
  },
  {
   "cell_type": "markdown",
   "id": "418d491b",
   "metadata": {},
   "source": [
    "Modify above test slightly to be suitable for jaxoplanet testing."
   ]
  },
  {
   "cell_type": "code",
   "execution_count": null,
   "id": "a8e1ab47",
   "metadata": {},
   "outputs": [],
   "source": [
    "# starry version of test\n",
    "\n",
    "\n",
    "def data():\n",
    "    l_max = 1\n",
    "    ro = 0.1\n",
    "    xo = np.linspace(0, ro + 2, 500)\n",
    "    yo = np.zeros(500)\n",
    "    zo = np.linspace(0, ro + 2, 500)\n",
    "    inc = 0\n",
    "    obl = np.pi / 2\n",
    "    theta = np.linspace(0, np.pi, 500)\n",
    "    n_max = (l_max + 1) ** 2\n",
    "    y = np.random.uniform(0, 1, n_max)\n",
    "    y[0] = 1.0\n",
    "\n",
    "    # Instantiate a dipole map\n",
    "    map = starry.Map(ydeg=l_max)\n",
    "    map[1, :] = y[1:]\n",
    "    # map.inc = inc\n",
    "    # map.obl = obl\n",
    "\n",
    "    # Generate a synthetic light curve with just a little noise\n",
    "    kwargs = dict(theta=theta, xo=xo, yo=yo, zo=zo, ro=ro)\n",
    "    true_flux = map.flux(**kwargs)\n",
    "    sigma = 1e-5\n",
    "    np.random.seed(1)\n",
    "    syn_flux = true_flux + np.random.randn(len(theta)) * sigma\n",
    "\n",
    "    return (map, kwargs, inc, obl, y, sigma, syn_flux)\n",
    "\n",
    "\n",
    "map, kwargs, inc, obl, y, sigma, syn_flux = data()\n",
    "\n",
    "map.set_prior(L=1)\n",
    "map.set_data(syn_flux, C=sigma**2)\n",
    "\n",
    "# Solve the linear problem\n",
    "mu, cho_cov = map.solve(**kwargs)\n",
    "\n",
    "# Ensure the likelihood of the true value is close to that of\n",
    "# the MAP solution\n",
    "cov = cho_cov.dot(cho_cov.T)\n",
    "LnL0 = multivariate_normal.logpdf(mu, mean=mu, cov=cov, allow_singular=True)\n",
    "LnL = multivariate_normal.logpdf(y, mean=mu, cov=cov, allow_singular=True)\n",
    "assert LnL0 - LnL < 5.00"
   ]
  },
  {
   "cell_type": "code",
   "execution_count": null,
   "id": "e1a63ded",
   "metadata": {},
   "outputs": [],
   "source": [
    "LnL0, LnL"
   ]
  },
  {
   "cell_type": "markdown",
   "id": "8b519089",
   "metadata": {},
   "source": [
    "Jaxoplanet version of map_solve()"
   ]
  },
  {
   "cell_type": "code",
   "execution_count": null,
   "id": "d65a29dc",
   "metadata": {},
   "outputs": [],
   "source": [
    "# ..."
   ]
  },
  {
   "cell_type": "markdown",
   "id": "f38678f4",
   "metadata": {},
   "source": [
    "## test_map_solve()"
   ]
  },
  {
   "cell_type": "markdown",
   "id": "3c32638f",
   "metadata": {},
   "source": [
    "Now, a jaxoplanet version of a similar test (testing map_solve() rather than solve())."
   ]
  },
  {
   "cell_type": "code",
   "execution_count": null,
   "id": "c7d8bf66",
   "metadata": {},
   "outputs": [],
   "source": [
    "def data():\n",
    "    # Generate a synthetic light curve with just a little noise\n",
    "    l_max = 1\n",
    "    ro = 0.1\n",
    "    xo = np.linspace(0, ro + 2, 500)\n",
    "    yo = np.zeros(500)\n",
    "    zo = np.linspace(0, ro + 2, 500)\n",
    "    inc = 0\n",
    "    obl = np.pi / 2\n",
    "    theta = np.linspace(0, np.pi, 500)\n",
    "    n_max = (l_max + 1) ** 2\n",
    "    y = np.random.uniform(0, 1, n_max)\n",
    "    y[0] = 1.0\n",
    "    # kwargs = dict(theta=theta, xo=xo, yo=yo, zo=zo)\n",
    "\n",
    "    true_flux = light_curve(l_max, inc, obl, y, xo, yo, zo, ro, theta)\n",
    "\n",
    "    sigma = 1e-5\n",
    "    np.random.seed(1)\n",
    "    syn_flux = true_flux + np.random.randn(len(theta)) * sigma\n",
    "\n",
    "    X = design_matrix(l_max, inc, obl, y, xo, yo, zo, ro, theta)\n",
    "\n",
    "    return (l_max, true_flux, syn_flux, sigma, y, X)\n",
    "\n",
    "\n",
    "l_max, true_flux, syn_flux, sigma, y, X = data()\n",
    "\n",
    "# Place a generous prior on the map coefficients\n",
    "(calc_mu, calc_L) = set_prior(l_max, L=1)\n",
    "\n",
    "# Provide the dataset\n",
    "(calc_flux, calc_C) = set_data(syn_flux, C=sigma**2)\n",
    "\n",
    "# Solve the linear problem\n",
    "mu, cho_cov = map_solve(X, syn_flux, calc_C[1], calc_mu, calc_L[2])\n",
    "\n",
    "# Ensure the likelihood of the true value is close to that of the MAP solution\n",
    "cov = np.dot(cho_cov, np.transpose(cho_cov))\n",
    "LnL0 = multivariate_normal.logpdf(mu, mean=mu, cov=cov)\n",
    "LnL = multivariate_normal.logpdf(y, mean=mu, cov=cov)\n",
    "assert LnL0 - LnL < 5.00"
   ]
  },
  {
   "cell_type": "code",
   "execution_count": null,
   "id": "a0e19818",
   "metadata": {},
   "outputs": [],
   "source": [
    "LnL0, LnL"
   ]
  },
  {
   "cell_type": "markdown",
   "id": "a9aa6401",
   "metadata": {},
   "source": [
    "## test_lnlike()"
   ]
  },
  {
   "cell_type": "markdown",
   "id": "543b12bd",
   "metadata": {},
   "source": [
    "original starry test"
   ]
  },
  {
   "cell_type": "code",
   "execution_count": null,
   "id": "cc3778ab",
   "metadata": {},
   "outputs": [],
   "source": [
    "def data():\n",
    "    # Instantiate a dipole map\n",
    "    map = starry.Map(ydeg=1, reflected=True)\n",
    "    amp_true = 0.75\n",
    "    inc_true = 60\n",
    "    y_true = np.array([1, 0.1, 0.2, 0.3])\n",
    "    map.amp = amp_true\n",
    "    map[1, :] = y_true[1:]\n",
    "    map.inc = inc_true\n",
    "\n",
    "    # Generate a synthetic light curve with just a little noise\n",
    "    theta = np.linspace(0, 360, 100)\n",
    "    phi = 3.5 * theta\n",
    "    xs = np.cos(phi * np.pi / 180)\n",
    "    ys = 0.1 * np.cos(phi * np.pi / 180)\n",
    "    zs = np.sin(phi * np.pi / 180)\n",
    "    kwargs = dict(theta=theta, xs=xs, ys=ys, zs=zs)\n",
    "    flux = map.flux(**kwargs)\n",
    "    sigma = 1e-5\n",
    "    np.random.seed(1)\n",
    "    flux += np.random.randn(len(theta)) * sigma\n",
    "\n",
    "    return (map, kwargs, amp_true, inc_true, y_true, sigma, flux)\n",
    "\n",
    "\n",
    "map, kwargs, amp_true, inc_true, y_true, sigma, flux = data()\n",
    "\n",
    "# Place a generous prior on the map coefficients\n",
    "map.set_prior(L=1)\n",
    "\n",
    "# Provide the dataset\n",
    "map.set_data(flux, C=sigma**2)\n",
    "\n",
    "# Compute the marginal log likelihood for different inclinations\n",
    "incs = [15, 30, 45, 60, 75, 90]\n",
    "ll = np.zeros_like(incs, dtype=float)\n",
    "for i, inc in enumerate(incs):\n",
    "    map.inc = inc\n",
    "    ll[i] = map.lnlike(woodbury=True, **kwargs)\n",
    "\n",
    "# Verify that we get the correct inclination\n",
    "assert incs[np.argmax(ll)] == 60\n",
    "assert np.allclose(ll[np.argmax(ll)], 974.221605)  # benchmarked"
   ]
  },
  {
   "cell_type": "markdown",
   "id": "dda34b82",
   "metadata": {},
   "source": [
    "Can we create a starry version of our jaxoplanet test to get the benchmark?"
   ]
  },
  {
   "cell_type": "code",
   "execution_count": null,
   "id": "6bd6301f",
   "metadata": {},
   "outputs": [],
   "source": [
    "def data():\n",
    "    l_max = 1\n",
    "    ro = 0.1\n",
    "    xo = np.linspace(0, ro + 2, 500)\n",
    "    yo = np.zeros(500)\n",
    "    zo = np.linspace(0, ro + 2, 500)\n",
    "    inc = 60\n",
    "    obl = 90\n",
    "    theta = np.linspace(0, np.pi, 500)\n",
    "    n_max = (l_max + 1) ** 2\n",
    "    y = np.random.uniform(0, 1, n_max)\n",
    "    y[0] = 1.0\n",
    "\n",
    "    # Instantiate a dipole map\n",
    "    map = starry.Map(ydeg=l_max)\n",
    "    map[1, :] = y[1:]\n",
    "    map.inc = inc\n",
    "\n",
    "    # Generate a synthetic light curve with just a little noise\n",
    "    kwargs = dict(theta=theta, xo=xo, yo=yo, zo=zo, ro=ro)\n",
    "    true_flux = map.flux(**kwargs)\n",
    "    sigma = 1e-5\n",
    "    np.random.seed(1)\n",
    "    syn_flux = true_flux + np.random.randn(len(theta)) * sigma\n",
    "\n",
    "    return (map, kwargs, inc, obl, y, sigma, syn_flux)\n",
    "\n",
    "\n",
    "map, kwargs, inc, obl, y, sigma, syn_flux = data()\n",
    "\n",
    "# Place a generous prior on the map coefficients\n",
    "map.set_prior(L=1)\n",
    "\n",
    "# Provide the dataset\n",
    "map.set_data(syn_flux, C=sigma**2)\n",
    "\n",
    "# Compute the marginal log likelihood for different inclinations\n",
    "incs = [0, 15, 30, 45, 60, 75, 90]\n",
    "ll = np.zeros_like(incs, dtype=float)\n",
    "for i, inc in enumerate(incs):\n",
    "    map.inc = inc\n",
    "    ll[i] = map.lnlike(woodbury=False, **kwargs)\n",
    "\n",
    "# Verify that we get the correct inclination\n",
    "assert incs[np.argmax(ll)] == 60\n",
    "assert np.allclose(ll[np.argmax(ll)], 5015)  # benchmarked"
   ]
  },
  {
   "cell_type": "markdown",
   "id": "2f64d70d",
   "metadata": {},
   "source": [
    "Now, a jaxoplanet version of the test."
   ]
  },
  {
   "cell_type": "code",
   "execution_count": null,
   "id": "e400dc4a",
   "metadata": {},
   "outputs": [],
   "source": [
    "def data():\n",
    "    # Generate a synthetic light curve with just a little noise\n",
    "    l_max = 1\n",
    "    ro = 0.1\n",
    "    xo = jnp.linspace(0, ro + 2, 500)\n",
    "    yo = jnp.zeros(500)\n",
    "    zo = jnp.linspace(0, ro + 2, 500)\n",
    "    inc = np.pi / 3\n",
    "    obl = np.pi / 2\n",
    "    theta = jnp.linspace(0, np.pi, 500)\n",
    "    n_max = (l_max + 1) ** 2\n",
    "    y = np.random.uniform(0, 1, n_max)\n",
    "    y[0] = 1.0\n",
    "    kwargs = dict(l_max=l_max, obl=obl, y=y, xo=xo, yo=yo, zo=zo, ro=ro, theta=theta)\n",
    "\n",
    "    true_flux = light_curve(l_max, inc, obl, y, xo, yo, zo, ro, theta)\n",
    "\n",
    "    sigma = 1e-5\n",
    "    np.random.seed(1)\n",
    "    syn_flux = true_flux + np.random.randn(len(theta)) * sigma\n",
    "\n",
    "    return (l_max, n_max, syn_flux, sigma, y, kwargs)\n",
    "\n",
    "\n",
    "l_max, n_max, syn_flux, sigma, y, kwargs = data()\n",
    "\n",
    "# Place a generous prior on the map coefficients\n",
    "(calc_mu, calc_L) = set_prior(l_max, L=1)\n",
    "L = calc_L[0] * jnp.ones(n_max)\n",
    "LInv = calc_L[2] * jnp.ones(n_max)\n",
    "lndetL = cast([calc_L[3]])\n",
    "\n",
    "# Provide the dataset\n",
    "(calc_flux, calc_C) = set_data(syn_flux, C=sigma**2)\n",
    "\n",
    "# Compute the marginal log likelihood for different inclinations\n",
    "# incs = [0, 15, 30, 45, 60, 75, 90]\n",
    "# incs = [0, jnp.pi/12, jnp.pi/6, jnp.pi/4, jnp.pi/3, jnp.pi/2]\n",
    "incs = [0, np.pi / 12, np.pi / 6, np.pi / 4, np.pi / 3, np.pi / 2]\n",
    "ll = np.zeros_like(incs, dtype=float)\n",
    "for i, inc in enumerate(incs):\n",
    "    X = design_matrix(inc=inc, **kwargs)\n",
    "    # ll[i] = get_lnlike(X, syn_flux, calc_C[0], calc_mu, L)\n",
    "    ll[i] = get_lnlike_woodbury(\n",
    "        X, syn_flux, calc_C[2], calc_mu, LInv, calc_C[3], lndetL\n",
    "    )\n",
    "\n",
    "# Verify that we get the correct inclination\n",
    "assert incs[jnp.argmax(ll)] == jnp.pi / 3\n",
    "assert_allclose(ll[jnp.argmax(ll)], 5002.211, rtol=1e-5)  # benchmarked\n",
    "# assert np.allclose(ll[jnp.argmax(ll)], 5002.211)"
   ]
  },
  {
   "cell_type": "code",
   "execution_count": null,
   "id": "874c590d",
   "metadata": {},
   "outputs": [],
   "source": []
  }
 ],
 "metadata": {
  "kernelspec": {
   "display_name": "bpope",
   "language": "python",
   "name": "bpope"
  },
  "language_info": {
   "codemirror_mode": {
    "name": "ipython",
    "version": 3
   },
   "file_extension": ".py",
   "mimetype": "text/x-python",
   "name": "python",
   "nbconvert_exporter": "python",
   "pygments_lexer": "ipython3",
   "version": "3.10.12"
  }
 },
 "nbformat": 4,
 "nbformat_minor": 5
}
