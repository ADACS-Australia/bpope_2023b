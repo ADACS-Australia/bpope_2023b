{
 "cells": [
  {
   "cell_type": "code",
   "execution_count": null,
   "id": "4e86ab61-6b86-4acb-ac9b-be870ff30bfa",
   "metadata": {
    "tags": []
   },
   "outputs": [],
   "source": [
    "import jax.numpy as jnp\n",
    "import jax\n",
    "import numpy as np\n",
    "import matplotlib.pyplot as plt\n",
    "from jax import grad, jit, vmap\n",
    "import numpyro\n",
    "from numpyro import distributions as dist\n",
    "from numpyro import infer\n",
    "\n",
    "from numpyro_ext import distributions as distx\n",
    "from numpyro_ext import info, optim\n",
    "\n",
    "numpyro.set_host_device_count(2)\n",
    "jax.config.update(\"jax_enable_x64\", True)\n",
    "\n",
    "\n",
    "from jaxoplanet import light_curves, orbits\n",
    "import arviz as az\n",
    "import corner"
   ]
  },
  {
   "cell_type": "code",
   "execution_count": null,
   "id": "ec5b20ff-91bf-4560-a97d-5b8b056c349d",
   "metadata": {
    "tags": []
   },
   "outputs": [],
   "source": [
    "jax.local_device_count()"
   ]
  },
  {
   "cell_type": "code",
   "execution_count": null,
   "id": "76dd8d3e-085f-4773-b52a-e66b91735108",
   "metadata": {
    "tags": []
   },
   "outputs": [],
   "source": [
    "import jax.numpy as jnp\n",
    "import jax\n",
    "import numpy as np\n",
    "import matplotlib.pyplot as plt\n",
    "from jax import grad, jit, vmap\n",
    "from functools import partial\n",
    "\n",
    "import numpyro\n",
    "from numpyro import distributions as dist\n",
    "from numpyro import infer\n",
    "\n",
    "from numpyro_ext import distributions as distx\n",
    "from numpyro_ext import info, optim\n",
    "\n",
    "import arviz as az"
   ]
  },
  {
   "cell_type": "code",
   "execution_count": null,
   "id": "e45e1c91-3b99-4769-8328-6098bc40cfc9",
   "metadata": {
    "tags": []
   },
   "outputs": [],
   "source": [
    "from jax.config import config\n",
    "\n",
    "config.update(\"jax_debug_nans\", True)\n",
    "config.update(\"jax_debug_infs\", True)\n",
    "config.update(\"jax_enable_x64\", True)\n",
    "\n",
    "numpyro.set_host_device_count(2)\n",
    "numpyro.enable_x64()"
   ]
  },
  {
   "cell_type": "code",
   "execution_count": null,
   "id": "2916b7b4-fb86-4f75-90b7-673d3df7948d",
   "metadata": {
    "tags": []
   },
   "outputs": [],
   "source": [
    "from jaxoplanet.experimental.starry import YlmLightCurve, RotationPhase\n",
    "from jaxoplanet.orbits import KeplerianOrbit"
   ]
  },
  {
   "cell_type": "markdown",
   "id": "0ad173b3-03f3-442b-8ade-50b0c203f49b",
   "metadata": {},
   "source": [
    "# rotation phase"
   ]
  },
  {
   "cell_type": "code",
   "execution_count": null,
   "id": "6132f590-c43c-46c8-aeca-c123f150ba81",
   "metadata": {
    "tags": []
   },
   "outputs": [],
   "source": [
    "# use default values\n",
    "phase = RotationPhase.init(period=10.0)\n",
    "print(phase)"
   ]
  },
  {
   "cell_type": "code",
   "execution_count": null,
   "id": "43939f4b-2639-436b-9eba-5528c6182292",
   "metadata": {
    "tags": []
   },
   "outputs": [],
   "source": [
    "# user define\n",
    "phase = RotationPhase.init(period=10.0, t_0=0.1, theta_0=0.1)\n",
    "print(phase)"
   ]
  },
  {
   "cell_type": "markdown",
   "id": "759ad677-62aa-493e-b365-4dbdf09fbfb6",
   "metadata": {},
   "source": [
    "# Ylm light curve"
   ]
  },
  {
   "cell_type": "code",
   "execution_count": null,
   "id": "8dd3d24e-2cc1-4213-b61c-5c688ff314f7",
   "metadata": {
    "tags": []
   },
   "outputs": [],
   "source": [
    "# use default values\n",
    "LY = YlmLightCurve.init(l_max=5)\n",
    "print(LY)"
   ]
  },
  {
   "cell_type": "code",
   "execution_count": null,
   "id": "5296fd96-1dbb-4d86-bbb2-f3f35a33a221",
   "metadata": {
    "tags": []
   },
   "outputs": [],
   "source": [
    "# user define\n",
    "y_coeff = np.random.uniform(0, 1, 36)\n",
    "inc = jnp.pi / 4\n",
    "obl = 0.1\n",
    "LY = YlmLightCurve.init(l_max=5, inc=inc, obl=obl, y=y_coeff)\n",
    "print(LY)"
   ]
  },
  {
   "cell_type": "markdown",
   "id": "c2c68e56-b96d-4c59-834a-28a61115874e",
   "metadata": {},
   "source": [
    "# Example"
   ]
  },
  {
   "cell_type": "code",
   "execution_count": null,
   "id": "30752474-1e38-431d-9c65-c5078cede815",
   "metadata": {
    "tags": []
   },
   "outputs": [],
   "source": [
    "orbit = KeplerianOrbit.init(period=1.0, radius=0.1)\n",
    "phase = RotationPhase.init(period=10.0)\n",
    "\n",
    "# Compute a Ylm light curve\n",
    "t = jnp.linspace(-0.1, 1, 1000)\n",
    "\n",
    "LY = YlmLightCurve.init(5)\n",
    "lc = LY.light_curve(orbit=orbit, phase=phase, t=t)\n",
    "\n",
    "\n",
    "plt.plot(t, lc, color=\"C0\", lw=2)\n",
    "# plt.plot(t, expect2, color=\"C0\", lw=2)\n",
    "plt.ylabel(\"relative flux\")\n",
    "plt.xlabel(\"time [days]\")\n",
    "_ = plt.xlim(t.min(), t.max())"
   ]
  },
  {
   "cell_type": "code",
   "execution_count": null,
   "id": "64c78417-70ef-4900-a68e-822944794882",
   "metadata": {},
   "outputs": [],
   "source": [
    "%time jax.jacfwd(LY.light_curve, argnums=2)(orbit, phase, t)"
   ]
  },
  {
   "cell_type": "code",
   "execution_count": null,
   "id": "7f410fba-b161-4204-a26f-4b700cec6aac",
   "metadata": {
    "tags": []
   },
   "outputs": [],
   "source": [
    "def fold(period, t0, time, flux):\n",
    "    phase = ((time - (t0 - 0.5 * period)) % period) / period - 0.5\n",
    "    sorted_indices = np.argsort(phase)\n",
    "    phase_sorted = phase[sorted_indices]\n",
    "    flux_sorted = flux[sorted_indices]\n",
    "\n",
    "    return phase_sorted, flux_sorted\n",
    "\n",
    "\n",
    "def light_curve(params, t):\n",
    "    # The light curve calculation requires an orbit\n",
    "    orbit = KeplerianOrbit.init(\n",
    "        period=params[\"period\"], radius=params[\"radius\"], time_transit=params[\"t0\"]\n",
    "    )\n",
    "    # Compute a Ylm light curve\n",
    "    phase = RotationPhase.init(period=params[\"rot_period\"])\n",
    "    LY = YlmLightCurve.init(5)\n",
    "    lc = LY.light_curve(orbit, phase, t)\n",
    "    return lc"
   ]
  },
  {
   "cell_type": "code",
   "execution_count": null,
   "id": "07ff0569-e7a6-45c5-b292-3c060bc7c5d1",
   "metadata": {
    "tags": []
   },
   "outputs": [],
   "source": [
    "np.random.seed(11)\n",
    "period_true = np.random.uniform(5, 20)\n",
    "t0_true = np.random.uniform(low=0, high=5.0)\n",
    "rot_period_true = 10.0\n",
    "t = np.arange(0, 80, 0.02)\n",
    "yerr = 5e-4\n",
    "\n",
    "true_params = {\n",
    "    \"period\": period_true,\n",
    "    \"t0\": t0_true,\n",
    "    \"radius\": 0.1,\n",
    "    \"rot_period\": rot_period_true,\n",
    "}\n",
    "\n",
    "print(true_params)\n",
    "\n",
    "# Compute a Ylm light curve\n",
    "lc_true = light_curve(true_params, t)\n",
    "\n",
    "lc = lc_true + yerr * np.random.normal(size=len(t))\n",
    "\n",
    "phase, flux = fold(period_true, t0_true, t, lc)\n",
    "_, flux_true = fold(period_true, t0_true, t, lc_true)\n",
    "\n",
    "fig = plt.figure()\n",
    "ax, ax1 = fig.subplots(2, 1)\n",
    "ax.plot(t, lc, \"C0.\")\n",
    "ax.plot(t, lc_true, color=\"k\")\n",
    "ax1.plot(phase, flux, \"C0.\")\n",
    "ax1.plot(phase, flux_true, color=\"k\")\n",
    "ax1.set_ylabel(\"relative flux\")\n",
    "ax1.set_xlabel(\"phase\")\n",
    "_ = plt.xlim(-0.05, 0.05)"
   ]
  },
  {
   "cell_type": "markdown",
   "id": "169e9f68-eb5f-4dae-a617-48c4f42e2454",
   "metadata": {},
   "source": [
    "## numpyro model"
   ]
  },
  {
   "cell_type": "code",
   "execution_count": null,
   "id": "2ce2eff5-57a4-413f-b38b-f31713d63c21",
   "metadata": {
    "tags": []
   },
   "outputs": [],
   "source": [
    "def model(t, yerr, y=None):\n",
    "    # If we wanted to fit for all the parameters, we could use the following,\n",
    "    # but we'll keep these fixed for simplicity.\n",
    "\n",
    "    log_jitter = numpyro.sample(\"log_jitter\", dist.Normal(jnp.log(yerr), 1.0))\n",
    "    period = numpyro.sample(\"period\", dist.Normal(period_true, 0.001))\n",
    "    t0 = numpyro.sample(\"t0\", dist.Normal(t0_true, 0.01))\n",
    "    numpyro.deterministic(\"t0_minutes\", t0 * 24 * 60)\n",
    "    log_r = numpyro.sample(\"log_r\", dist.Normal(jnp.log(0.1), 2.0))\n",
    "    r = numpyro.deterministic(\"r\", jnp.exp(log_r))\n",
    "    rot_period = numpyro.sample(\"rot_period\", dist.Normal(rot_period_true, 0.001))\n",
    "    params = {\n",
    "        \"t0\": t0,\n",
    "        \"radius\": r,\n",
    "        \"period\": period,\n",
    "        \"rot_period\": rot_period,\n",
    "    }\n",
    "\n",
    "    numpyro.sample(\n",
    "        \"flux\",\n",
    "        dist.Normal(\n",
    "            light_curve(params, t), jnp.sqrt(yerr**2 + jnp.exp(2 * log_jitter))\n",
    "        ),\n",
    "        obs=y,\n",
    "    )"
   ]
  },
  {
   "cell_type": "code",
   "execution_count": null,
   "id": "ccfc920d-b4df-4a15-8fce-be297a361f4d",
   "metadata": {
    "tags": []
   },
   "outputs": [],
   "source": [
    "init_params = {\n",
    "    \"period\": period_true,\n",
    "    \"t0\": t0_true,\n",
    "    \"log_r\": jnp.log(0.1),\n",
    "    \"rot_period\": rot_period_true,\n",
    "}"
   ]
  },
  {
   "cell_type": "code",
   "execution_count": null,
   "id": "bc99b417-3eda-41ad-9efc-dcd300123b58",
   "metadata": {
    "tags": []
   },
   "outputs": [],
   "source": [
    "jax.config.update(\"jax_log_compiles\", False)"
   ]
  },
  {
   "cell_type": "code",
   "execution_count": null,
   "id": "5e1948ef-7f80-44b7-b747-9e54457d272e",
   "metadata": {
    "tags": []
   },
   "outputs": [],
   "source": [
    "sampler_wn = infer.MCMC(\n",
    "    infer.NUTS(\n",
    "        model,\n",
    "        target_accept_prob=0.9,\n",
    "        dense_mass=False,\n",
    "        init_strategy=infer.init_to_value(values=init_params),\n",
    "        regularize_mass_matrix=False,\n",
    "    ),\n",
    "    num_warmup=2,\n",
    "    num_samples=3,\n",
    "    num_chains=2,\n",
    "    progress_bar=True,\n",
    ")\n",
    "%time sampler_wn.run(jax.random.PRNGKey(11), t, yerr, lc)"
   ]
  },
  {
   "cell_type": "code",
   "execution_count": null,
   "id": "bbd87d4a-fa9d-487d-ba87-6b31f1db6dd4",
   "metadata": {
    "tags": []
   },
   "outputs": [],
   "source": [
    "sampler = infer.NUTS(\n",
    "    model,\n",
    "    target_accept_prob=0.9,\n",
    "    dense_mass=False,\n",
    "    init_strategy=infer.init_to_value(values=init_params),\n",
    "    regularize_mass_matrix=False,\n",
    ")"
   ]
  },
  {
   "cell_type": "code",
   "execution_count": null,
   "id": "e3800779-78c1-49ea-9476-9ca285bc660f",
   "metadata": {
    "tags": []
   },
   "outputs": [],
   "source": [
    "dir(sampler)"
   ]
  },
  {
   "cell_type": "code",
   "execution_count": null,
   "id": "85f0418c-ee4a-44c7-ab02-39ad173d616b",
   "metadata": {
    "tags": []
   },
   "outputs": [],
   "source": [
    "for key in dir(sampler):\n",
    "    print(key, getattr(sampler, key))"
   ]
  },
  {
   "cell_type": "code",
   "execution_count": null,
   "id": "d1cc28fe-9896-4ed1-a989-d146d008b609",
   "metadata": {
    "tags": []
   },
   "outputs": [],
   "source": [
    "inf_data_wn = az.from_numpyro(sampler_wn)\n",
    "az.summary(inf_data_wn, var_names=[\"t0\", \"r\", \"period\", \"rot_period\", \"log_jitter\"])"
   ]
  },
  {
   "cell_type": "code",
   "execution_count": null,
   "id": "0d99918c-a49f-4df3-8cf3-0a288717f9e8",
   "metadata": {},
   "outputs": [],
   "source": []
  }
 ],
 "metadata": {
  "kernelspec": {
   "display_name": "Python [conda env:bpope_new]",
   "language": "python",
   "name": "conda-env-bpope_new-py"
  },
  "language_info": {
   "codemirror_mode": {
    "name": "ipython",
    "version": 3
   },
   "file_extension": ".py",
   "mimetype": "text/x-python",
   "name": "python",
   "nbconvert_exporter": "python",
   "pygments_lexer": "ipython3",
   "version": "3.10.12"
  }
 },
 "nbformat": 4,
 "nbformat_minor": 5
}
