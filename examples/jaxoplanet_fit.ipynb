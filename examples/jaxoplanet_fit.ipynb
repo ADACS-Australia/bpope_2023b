{
 "cells": [
  {
   "cell_type": "code",
   "execution_count": null,
   "id": "f4ecb49a",
   "metadata": {
    "tags": []
   },
   "outputs": [],
   "source": [
    "import jax.numpy as jnp\n",
    "import jax\n",
    "import numpy as np\n",
    "import matplotlib.pyplot as plt\n",
    "from jax import grad, jit, vmap\n",
    "import numpyro\n",
    "from numpyro import distributions as dist\n",
    "from numpyro import infer\n",
    "\n",
    "from numpyro_ext import distributions as distx\n",
    "from numpyro_ext import info, optim\n",
    "\n",
    "jax.config.update(\"jax_enable_x64\", True)\n",
    "numpyro.set_host_device_count(2)\n",
    "\n",
    "from jaxoplanet import light_curves, orbits\n",
    "import arviz as az\n",
    "import corner"
   ]
  },
  {
   "cell_type": "markdown",
   "id": "06f76174",
   "metadata": {},
   "source": [
    "# Transit fitting tutorial in jaxoplanet:\n",
    "\n",
    "In this tutorial, I will attempt to reproduce the transit fitting example code in exoplanet (https://gallery.exoplanet.codes/tutorials/transit/) using the package jaxoplanet. Jaxoplanet is built on the Jax autodiff package, so it allows us to do gradient based inference. I will be using Numpyro for the sampling and also will demonstrate the ability to switch between Hamiltonian Monte Carlo and Nested Sampling with jaxns.\n",
    "\n",
    "Warning, this code is meant to reproduce the exoplanet docs as exactly as possible! Plagiarism is the point (with [attribution](https://gallery.exoplanet.codes/tutorials/transit/) of course)."
   ]
  },
  {
   "cell_type": "markdown",
   "id": "fd071131",
   "metadata": {},
   "source": [
    "*jaxoplanet* includes methods for computing the light curves transiting planets. In its simplest form this can be used to evaluate a light curve like you would do with [batman](https://github.com/lkreidberg/batman), for example:"
   ]
  },
  {
   "cell_type": "code",
   "execution_count": null,
   "id": "3f9d09df",
   "metadata": {
    "tags": []
   },
   "outputs": [],
   "source": [
    "from jaxoplanet.light_curves import LimbDarkLightCurve\n",
    "\n",
    "# The light curve calculation requires an orbit\n",
    "orbit = orbits.KeplerianOrbit.init(period=3.456, radius=0.1)\n",
    "\n",
    "# Compute a limb-darkened light curve using starry\n",
    "t = jnp.linspace(-0.1, 0.1, 1000)\n",
    "u = [0.3, 0.2]\n",
    "lc = LimbDarkLightCurve(u).light_curve(orbit, t=t)\n",
    "\n",
    "plt.plot(t, lc[0], color=\"C0\", lw=2)\n",
    "plt.ylabel(\"relative flux\")\n",
    "plt.xlabel(\"time [days]\")\n",
    "_ = plt.xlim(t.min(), t.max())"
   ]
  },
  {
   "cell_type": "code",
   "execution_count": null,
   "id": "11ec1d0f-c74f-4044-a33e-5aad35862ace",
   "metadata": {
    "tags": []
   },
   "outputs": [],
   "source": [
    "jax.jacfwd(LimbDarkLightCurve(u).light_curve, argnums=1)(orbit, t)"
   ]
  },
  {
   "cell_type": "markdown",
   "id": "460d5ec0",
   "metadata": {},
   "source": [
    "But the real power comes from being able to do gradient based inference with jax"
   ]
  },
  {
   "cell_type": "markdown",
   "id": "ef67daeb",
   "metadata": {},
   "source": [
    "# The transit model in NumPyro:\n",
    "\n",
    "In this section, we will construct a simple transit fit model using NumPyro and then we will fit a two planet model to simulated data. To start, let’s randomly sample some periods and phases and then create a test light curve:"
   ]
  },
  {
   "cell_type": "code",
   "execution_count": null,
   "id": "75484c67",
   "metadata": {
    "tags": []
   },
   "outputs": [],
   "source": [
    "import numpy as np\n",
    "\n",
    "\n",
    "def fold(period, t0, time, flux):\n",
    "    phase = ((time - (t0 - 0.5 * period)) % period) / period - 0.5\n",
    "    sorted_indices = np.argsort(phase)\n",
    "    phase_sorted = phase[sorted_indices]\n",
    "    flux_sorted = flux[sorted_indices]\n",
    "\n",
    "    return phase_sorted, flux_sorted\n",
    "\n",
    "\n",
    "def light_curve(params, t):\n",
    "    # The light curve calculation requires an orbit\n",
    "    orbit = orbits.KeplerianOrbit.init(\n",
    "        period=params[\"period\"], radius=params[\"radius\"], time_transit=params[\"t0\"]\n",
    "    )\n",
    "    # Compute a limb-darkened light curve using starry\n",
    "    lc = LimbDarkLightCurve(params[\"u\"]).light_curve(orbit, t=t)\n",
    "    return lc[0]"
   ]
  },
  {
   "cell_type": "code",
   "execution_count": null,
   "id": "3d6ec4b3",
   "metadata": {
    "tags": []
   },
   "outputs": [],
   "source": [
    "np.random.seed(11)\n",
    "period_true = np.random.uniform(5, 20)\n",
    "t0_true = np.random.uniform(low=0, high=5.0)\n",
    "t = np.arange(0, 80, 0.02)\n",
    "yerr = 5e-4\n",
    "\n",
    "true_params = {\n",
    "    \"period\": period_true,\n",
    "    \"t0\": t0_true,\n",
    "    \"radius\": 0.1,\n",
    "    \"u\": jnp.array([0.3, 0.2]),\n",
    "}\n",
    "\n",
    "print(true_params)\n",
    "\n",
    "# Compute a limb-darkened light curve using starry\n",
    "lc_true = light_curve(true_params, t)\n",
    "\n",
    "lc = lc_true + yerr * np.random.normal(size=len(t))\n",
    "\n",
    "phase, flux = fold(period_true, t0_true, t, lc)\n",
    "_, flux_true = fold(period_true, t0_true, t, lc_true)\n",
    "\n",
    "fig = plt.figure()\n",
    "ax, ax1 = fig.subplots(2, 1)\n",
    "ax.plot(t, lc, \"C0.\")\n",
    "ax.plot(t, lc_true, color=\"k\")\n",
    "ax1.plot(phase, flux, \"C0.\")\n",
    "ax1.plot(phase, flux_true, color=\"k\")\n",
    "ax1.set_ylabel(\"relative flux\")\n",
    "ax1.set_xlabel(\"phase\")\n",
    "_ = plt.xlim(-0.05, 0.05)"
   ]
  },
  {
   "cell_type": "code",
   "execution_count": null,
   "id": "8b8ee69e-8a84-4a39-8843-3d9d1a0745b3",
   "metadata": {
    "tags": []
   },
   "outputs": [],
   "source": [
    "ph = ((t - (t0_true - 0.5 * period_true)) % period_true) / period_true - 0.5"
   ]
  },
  {
   "cell_type": "code",
   "execution_count": null,
   "id": "5e068f5a-fc41-41cf-8fa6-9f9253257d43",
   "metadata": {
    "tags": []
   },
   "outputs": [],
   "source": [
    "plt.plot(phase, flux)"
   ]
  },
  {
   "cell_type": "code",
   "execution_count": null,
   "id": "51896413",
   "metadata": {
    "tags": []
   },
   "outputs": [],
   "source": [
    "numpyro.enable_x64()\n",
    "\n",
    "\n",
    "def model(t, yerr, y=None):\n",
    "    # If we wanted to fit for all the parameters, we could use the following,\n",
    "    # but we'll keep these fixed for simplicity.\n",
    "\n",
    "    # log_duration = numpyro.sample(\"log_duration\", dist.Uniform(jnp.log(0.08), jnp.log(0.2)))\n",
    "    # b = numpyro.sample(\"b\", dist.Uniform(0.0, 1.0))\n",
    "\n",
    "    log_jitter = numpyro.sample(\"log_jitter\", dist.Normal(jnp.log(yerr), 1.0))\n",
    "    u = numpyro.sample(\"u\", distx.QuadLDParams())\n",
    "    period = numpyro.sample(\"period\", dist.Normal(period_true, 0.001))\n",
    "    t0 = numpyro.sample(\"t0\", dist.Normal(t0_true, 0.01))\n",
    "    numpyro.deterministic(\"t0_minutes\", t0 * 24 * 60)\n",
    "    log_r = numpyro.sample(\"log_r\", dist.Normal(jnp.log(0.1), 2.0))\n",
    "    r = numpyro.deterministic(\"r\", jnp.exp(log_r))\n",
    "    params = {\n",
    "        \"u\": u,\n",
    "        \"t0\": t0,\n",
    "        \"radius\": r,\n",
    "        \"period\": period,\n",
    "    }\n",
    "\n",
    "    numpyro.sample(\n",
    "        \"flux\",\n",
    "        dist.Normal(\n",
    "            light_curve(params, t), jnp.sqrt(yerr**2 + jnp.exp(2 * log_jitter))\n",
    "        ),\n",
    "        obs=y,\n",
    "    )"
   ]
  },
  {
   "cell_type": "code",
   "execution_count": null,
   "id": "02e3e02c",
   "metadata": {
    "tags": []
   },
   "outputs": [],
   "source": [
    "init_params = {\n",
    "    \"period\": period_true,\n",
    "    \"t0\": t0_true,\n",
    "    \"log_r\": jnp.log(0.1),\n",
    "    \"u\": jnp.array([0.3, 0.2]),\n",
    "}"
   ]
  },
  {
   "cell_type": "code",
   "execution_count": null,
   "id": "62c73f1f-56cb-4334-bb58-0d3d70d127b9",
   "metadata": {
    "tags": []
   },
   "outputs": [],
   "source": [
    "%timeit light_curve(true_params, t)"
   ]
  },
  {
   "cell_type": "code",
   "execution_count": null,
   "id": "89433bde",
   "metadata": {
    "tags": []
   },
   "outputs": [],
   "source": [
    "sampler_wn = infer.MCMC(\n",
    "    infer.NUTS(\n",
    "        model,\n",
    "        target_accept_prob=0.9,\n",
    "        dense_mass=False,\n",
    "        init_strategy=infer.init_to_value(values=init_params),\n",
    "        regularize_mass_matrix=False,\n",
    "    ),\n",
    "    num_warmup=1000,\n",
    "    num_samples=2000,\n",
    "    num_chains=2,\n",
    "    progress_bar=True,\n",
    ")\n",
    "%time sampler_wn.run(jax.random.PRNGKey(11), t, yerr, lc)"
   ]
  },
  {
   "cell_type": "code",
   "execution_count": null,
   "id": "3b7ba90b-6d58-4bb7-a373-f91f4732d8f8",
   "metadata": {
    "tags": []
   },
   "outputs": [],
   "source": [
    "jax.local_device_count()"
   ]
  },
  {
   "cell_type": "code",
   "execution_count": null,
   "id": "6fc4c209",
   "metadata": {
    "tags": []
   },
   "outputs": [],
   "source": [
    "inf_data_wn = az.from_numpyro(sampler_wn)\n",
    "az.summary(inf_data_wn, var_names=[\"t0\", \"r\", \"period\", \"u\", \"log_jitter\"])"
   ]
  },
  {
   "cell_type": "code",
   "execution_count": null,
   "id": "ee3a5a8e",
   "metadata": {
    "tags": []
   },
   "outputs": [],
   "source": [
    "corner_params = true_params\n",
    "corner_params[\"r\"] = true_params[\"radius\"]\n",
    "fig = corner.corner(\n",
    "    inf_data_wn,\n",
    "    bins=30,\n",
    "    var_names=[\"t0\", \"r\", \"period\", \"u\"],\n",
    "    color=\"k\",\n",
    "    truths=corner_params,\n",
    ")"
   ]
  },
  {
   "cell_type": "markdown",
   "id": "6c9bcfaf",
   "metadata": {},
   "source": [
    "## Nested Sampling Tests:\n",
    "\n",
    "Using the package jaxns, we should be able to use the same numpyro model to run a fit using nested sampling instead of NUTS/HMC. Here's some code to do this, although I will need to further document this and how to get jaxns working alongside numpyro in the near future"
   ]
  },
  {
   "cell_type": "code",
   "execution_count": null,
   "id": "0f45d2cb",
   "metadata": {},
   "outputs": [],
   "source": [
    "from numpyro.contrib.nested_sampling import NestedSampler\n",
    "from jaxns.prior_transforms.prior import UniformBase"
   ]
  },
  {
   "cell_type": "code",
   "execution_count": null,
   "id": "d688b724",
   "metadata": {},
   "outputs": [],
   "source": [
    "ns = NestedSampler(model)\n",
    "ns.run(jax.random.PRNGKey(2), t, yerr, lc)\n",
    "\n",
    "ns_samples = ns.get_samples(jax.random.PRNGKey(121), num_samples=10000)"
   ]
  },
  {
   "cell_type": "code",
   "execution_count": null,
   "id": "7847b92b",
   "metadata": {},
   "outputs": [],
   "source": [
    "inf_data = az.from_dict(ns_samples, dropna=True)"
   ]
  },
  {
   "cell_type": "code",
   "execution_count": null,
   "id": "093a4735",
   "metadata": {},
   "outputs": [],
   "source": [
    "az.summary(inf_data, var_names=[\"t0\", \"r\", \"period\", \"u\"])"
   ]
  },
  {
   "cell_type": "code",
   "execution_count": null,
   "id": "00e46594",
   "metadata": {},
   "outputs": [],
   "source": [
    "import pandas as pd\n",
    "\n",
    "df = inf_data.to_dataframe().dropna()"
   ]
  },
  {
   "cell_type": "code",
   "execution_count": null,
   "id": "7bdd0543",
   "metadata": {},
   "outputs": [],
   "source": [
    "corner_params = true_params\n",
    "corner_params[\"r\"] = true_params[\"radius\"]\n",
    "fig = corner.corner(\n",
    "    df, bins=30, var_names=[\"t0\", \"r\", \"period\", \"u\"], color=\"k\", truths=corner_params\n",
    ")"
   ]
  },
  {
   "cell_type": "code",
   "execution_count": null,
   "id": "a1429458",
   "metadata": {},
   "outputs": [],
   "source": []
  }
 ],
 "metadata": {
  "kernelspec": {
   "display_name": "Python [conda env:bpope_new]",
   "language": "python",
   "name": "conda-env-bpope_new-py"
  },
  "language_info": {
   "codemirror_mode": {
    "name": "ipython",
    "version": 3
   },
   "file_extension": ".py",
   "mimetype": "text/x-python",
   "name": "python",
   "nbconvert_exporter": "python",
   "pygments_lexer": "ipython3",
   "version": "3.10.12"
  }
 },
 "nbformat": 4,
 "nbformat_minor": 5
}
